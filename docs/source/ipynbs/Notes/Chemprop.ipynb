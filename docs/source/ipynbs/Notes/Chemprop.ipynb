{
 "cells": [
  {
   "attachments": {},
   "cell_type": "markdown",
   "id": "4c473227-ec6e-42a5-8c7b-99e4b7bbe22c",
   "metadata": {},
   "source": [
    "# Chemprop\n",
    "\n",
    "[github](https://github.com/chemprop/chemprop)\n",
    "\n",
    "## Molecular Property Prediction\n",
    "\n",
    "neural networks for molecular property prediction as described in the paper Analyzing Learned Molecular Representations for Property Prediction and as used in the paper A Deep Learning Approach to Antibiotic Discovery for molecules and Machine Learning of Reaction Properties via Learned Representations of the Condensed Graph of Reaction for reactions."
   ]
  },
  {
   "attachments": {},
   "cell_type": "markdown",
   "id": "279997e3-8739-4404-8ebf-20bf169de16b",
   "metadata": {},
   "source": [
    "## Analyzing Learned Molecular Representations for Property Prediction\n",
    "\n",
    "* [paper](https://pubs.acs.org/doi/full/10.1021/acs.jcim.9b00237)\n",
    "\n",
    "### Takeaways\n",
    "\n",
    "The model is characterized by two unique features: (1) It employs a hybrid representation that integrates both convolutions and descriptors. This structure enables the model to learn task-specific encodings with flexibility, while also benefiting from the robust prior provided by fixed descriptors. (2) The model learns to build molecular encodings through the use of convolutions centered on bonds rather than atoms, which eliminates the need for redundant loops during the message-passing stage of the algorithm.\n",
    "\n",
    "Additionally, we demonstrate that using a scaffold-based division of training and testing data is an effective approximation of the industry-standard temporal split, as measured by relevant metrics.\n",
    "\n",
    "The selection of hyperparameters is critical to the performance of the model. Depending on the choice, performance improvements can range from a modest 2-5% to a substantial 37%.\n",
    "\n",
    "Across the seven public datasets, there is no single baseline model that consistently outperforms the others.\n",
    "\n",
    "The direction in which messages are passed is significant. The model uses one-hot encodings for both atom and bond features.\n",
    "\n",
    "Hyperparameter tuning is performed using Bayesian Optimization through the Hyperopt Python package.\n",
    "\n",
    "Incorporating additional features results in varying performance across different datasets. Some datasets exhibit significant improvements, while others show a decline in performance. This could be attributed to the additional features either enhancing the model's understanding or causing confusion and distraction in certain tasks.\n",
    "\n",
    "One limitation of the model is that it does not make use of 3D structural information."
   ]
  },
  {
   "attachments": {},
   "cell_type": "markdown",
   "id": "63e7f7d8-2526-407b-968b-95edf6fbad90",
   "metadata": {},
   "source": [
    "![chemprop_01](../../images/posts/chemprop/ci9b00237_0021.webp)\n",
    "\n",
    "![chemprop_02](../../images/posts/chemprop/ci9b00237_0001.webp)"
   ]
  },
  {
   "attachments": {},
   "cell_type": "markdown",
   "id": "1d5750dd-d1c1-4592-a22e-93b753b21e86",
   "metadata": {},
   "source": [
    "## A Deep Learning Approach to Antibiotic Discovery\n",
    "\n",
    "[paper](https://www.cell.com/cell/fulltext/S0092-8674(20)30102-1)\n",
    "\n",
    "Using chemprop model."
   ]
  },
  {
   "attachments": {},
   "cell_type": "markdown",
   "id": "2f1737ae-245e-4226-919b-fb6470226503",
   "metadata": {},
   "source": [
    "### Features\n",
    "\n",
    "1. Atom features: atomic number, number of bonds for each atom, formal charge, chirality, number of bonded hydrogens, hybridization, aromaticity, atomic mass.\n",
    "2. Bond features: bond type (single/double/triple/aromatic), conjugation, ring membership, stereochemistry.\n",
    "\n",
    "### Additional molecule-level features\n",
    "\n",
    "200 additional molecule-level features computed with RDKit.\n",
    "\n",
    "### Ensembling\n",
    "\n",
    "ensemble of 20 models, with each model trained on a different random split of the data.\n",
    "\n",
    "four phases\n",
    "\n",
    "* (1a) a training phase to evaluate the optimized but non-ensembled model\n",
    "* (1b) training the ensemble of optimized models \n",
    "* (2) a prediction phase\n",
    "* (3) a retraining phase \n",
    "* (4) a final prediction phase.    "
   ]
  },
  {
   "attachments": {},
   "cell_type": "markdown",
   "id": "bfff13ad-674a-4440-a5fa-bffea200cdca",
   "metadata": {},
   "source": [
    "\n",
    "Tanimoto similarity: quantify the chemical relationship between molecules\n",
    "\n"
   ]
  },
  {
   "attachments": {},
   "cell_type": "markdown",
   "id": "ae75cce1",
   "metadata": {},
   "source": [
    "![chemprop_03](../../images/posts/chemprop/fx1_lrg.jpg)"
   ]
  },
  {
   "attachments": {},
   "cell_type": "markdown",
   "id": "6a2740af-ef5e-4db6-8bbc-5ae7ae713767",
   "metadata": {},
   "source": [
    "## Machine Learning of Reaction Properties via Learned Representations of the Condensed Graph of Reaction\n",
    "\n",
    "[paper](https://pubs.acs.org/doi/10.1021/acs.jcim.1c00975)"
   ]
  },
  {
   "attachments": {},
   "cell_type": "markdown",
   "id": "41969205-fc2b-487c-abad-09ebb9ea7a6a",
   "metadata": {},
   "source": [
    "In the case of D-MPNNs, messages are associated with \n",
    "directed edges instead of vertices, in contrast to regular MPN \n",
    "architectur\n",
    "\n",
    "atom features : one-hot encoding of the atomic number, degree, formal charge, \n",
    "chirality, number of hydrogens, hybridization, and aromaticity o \n",
    "the atom, as well as the scaled atomic mass, resulting in vectors  f\n",
    "length 133.\n",
    "bond features : the bond type, whether the bond is conjugated, in a \n",
    "ring, and contains stereochemical information, resulting i \n",
    "vectors of leng.\n",
    "\n",
    "The reliability of the imputed data can be \n",
    "learned by comparing the features with the structure of th \n",
    "graphth 283es"
   ]
  },
  {
   "attachments": {},
   "cell_type": "markdown",
   "id": "0978aaa1-a29c-4a7e-bb36-5318c5f9272c",
   "metadata": {},
   "source": [
    "![chemprop_05](../../images/posts/chemprop/ci1c00975_0001.webp)\n",
    "\n",
    "![chemprop_06](../../images/posts/chemprop/ci1c00975_0002.webp)"
   ]
  },
  {
   "attachments": {},
   "cell_type": "markdown",
   "id": "cd2c0ba3",
   "metadata": {},
   "source": []
  }
 ],
 "metadata": {
  "kernelspec": {
   "display_name": "Python 3 (ipykernel)",
   "language": "python",
   "name": "python3"
  },
  "language_info": {
   "codemirror_mode": {
    "name": "ipython",
    "version": 3
   },
   "file_extension": ".py",
   "mimetype": "text/x-python",
   "name": "python",
   "nbconvert_exporter": "python",
   "pygments_lexer": "ipython3",
   "version": "3.8.16"
  }
 },
 "nbformat": 4,
 "nbformat_minor": 5
}
