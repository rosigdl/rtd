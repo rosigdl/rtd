{
 "cells": [
  {
   "attachments": {},
   "cell_type": "markdown",
   "id": "5f3cc89e",
   "metadata": {},
   "source": [
    "# Lie algebras and Lie groups"
   ]
  },
  {
   "cell_type": "markdown",
   "id": "9e207803",
   "metadata": {},
   "source": [
    "https://ethaneade.com/lie.pdf\n",
    "\n",
    "https://ingmec.ual.es/~jlblanco/papers/jlblanco2010geometry3D_techrep.pdf\n",
    "\n"
   ]
  },
  {
   "cell_type": "markdown",
   "id": "6f9469a7",
   "metadata": {},
   "source": [
    "Lie algebras and Lie groups are two closely related mathematical structures that have important applications in physics, mathematics, and engineering.\n",
    "\n",
    "A Lie algebra is a vector space equipped with a bilinear operation called the Lie bracket, which satisfies certain properties. Specifically, the Lie bracket is anti-symmetric, meaning that [x, y] = -[y, x] for any vectors x and y in the vector space, and it satisfies the Jacobi identity, which states that [x, [y, z]] + [y, [z, x]] + [z, [x, y]] = 0 for any vectors x, y, and z in the vector space. Examples of Lie algebras include the space of 2x2 skew-symmetric matrices, the space of vector fields on a manifold, and the space of infinitesimal generators of a Lie group.\n",
    "\n",
    "A Lie group is a group that is also a differentiable manifold, meaning that it is equipped with a smooth structure that allows one to differentiate functions on the group. The group operation is required to be compatible with the smooth structure in a certain sense, and every element of the group has an inverse and an identity element. Examples of Lie groups include the special linear group, the unitary group, and the orthogonal group.\n",
    "\n",
    "The connection between Lie algebras and Lie groups is that every Lie group has an associated Lie algebra, which consists of the tangent vectors at the identity element of the group. Conversely, every Lie algebra can be exponentiated to obtain a Lie group. The Lie bracket operation on the Lie algebra corresponds to the commutator operation on the Lie group, and many properties of Lie groups can be understood in terms of their associated Lie algebras. This connection between Lie algebras and Lie groups is an important tool in many areas of mathematics and physics, including group theory, representation theory, and quantum mechanics."
   ]
  },
  {
   "cell_type": "markdown",
   "id": "86923dc5",
   "metadata": {},
   "source": [
    "Lie 대수와 Lie 그룹은 물리학, 수학, 공학에서 중요한 응용 분야를 가진 밀접하게 관련된 두 가지 수학적 구조입니다.\n",
    "\n",
    "Lie 대수는 특정 속성을 만족하는 Lie 괄호라는 2선 연산을 갖춘 벡터 공간입니다. 특히, Lie 대괄호는 벡터 공간의 모든 벡터 x와 y에 대해 [x, y] = -[y, x]라는 반대칭성을 가지며, [x, [y, z]] + [y, z]]라는 자코비 아이덴티티를 만족합니다. + [y, [z, x]] + [z, [x, y]] = 0이라는 자코비 동일성을 만족합니다. 벡터 공간의 모든 벡터 x, y, z에 대해. Lie 대수의 예로는 2x2 스큐 대칭 행렬의 공간, 다양체의 벡터장 공간, Lie 군의 무한소 생성기 공간 등이 있습니다.\n",
    "\n",
    "Lie 군이란 미분 가능한 다양체이기도 한 군으로, 군에서 함수를 미분할 수 있는 부드러운 구조를 갖추고 있다는 의미입니다. 그룹 연산은 어떤 의미에서 평활 구조와 호환되어야 하며, 그룹의 모든 원소는 역과 동일 원소를 갖습니다. Lie 군의 예로는 특수 선형 군, 유니타리 군, 직교 군 등이 있습니다.\n",
    "\n",
    "거짓말 대수와 거짓말 군의 관계는 모든 거짓말 군에는 그룹의 동일성 원소의 접선 벡터로 구성된 관련 거짓말 대수가 있다는 것입니다. 반대로 모든 Lie 대수는 지수화하여 Lie 군을 구할 수 있습니다. Lie 대괄호 연산은 Lie 군의 정류자 연산에 해당하며, Lie 군의 많은 성질은 연관된 Lie 대수의 관점에서 이해할 수 있습니다. 이러한 Lie 대수와 Lie 군 사이의 연결은 군 이론, 표상 이론, 양자역학 등 수학 및 물리학의 여러 분야에서 중요한 도구로 사용됩니다."
   ]
  },
  {
   "cell_type": "code",
   "execution_count": null,
   "id": "dab6da2a",
   "metadata": {},
   "outputs": [],
   "source": []
  }
 ],
 "metadata": {
  "kernelspec": {
   "display_name": "Python 3 (ipykernel)",
   "language": "python",
   "name": "python3"
  },
  "language_info": {
   "codemirror_mode": {
    "name": "ipython",
    "version": 3
   },
   "file_extension": ".py",
   "mimetype": "text/x-python",
   "name": "python",
   "nbconvert_exporter": "python",
   "pygments_lexer": "ipython3",
   "version": "3.7.13"
  }
 },
 "nbformat": 4,
 "nbformat_minor": 5
}
