{
 "cells": [
  {
   "cell_type": "markdown",
   "id": "c31a589f",
   "metadata": {},
   "source": [
    "# One label per class"
   ]
  },
  {
   "cell_type": "markdown",
   "id": "a56a4d86",
   "metadata": {},
   "source": [
    "Why If we know all the symmetries of L, we only need one label per class?\n",
    "\n",
    "In representation theory, a group is said to act on a vector space if each group element induces a linear transformation on the vector space. Given a representation of a group on a vector space V, we can decompose V into a direct sum of irreducible subspaces. Each of these subspaces corresponds to a distinct representation of the group, and the irreducible representations are characterized by their dimensions and the properties of the corresponding group actions.\n",
    "\n",
    "If we know all the symmetries of a Lie algebra L, we can use them to construct its representations and determine their irreducible subspaces. Specifically, each representation of L corresponds to a weight space decomposition of a vector space, where the weights are the eigenvalues of the Cartan subalgebra of L. The irreducible subspaces correspond to the weight spaces that are invariant under the action of the group.\n",
    "\n",
    "If we know all the symmetries of L, we can use them to identify the distinct weight spaces and their associated irreducible representations. Because the irreducible representations are characterized by their dimensions and the properties of the corresponding group actions, we only need to specify one label per class to uniquely identify each irreducible representation. This label is typically chosen to be the highest weight of the representation, which determines its dimension and the properties of its action on the vector space.\n",
    "\n",
    "In summary, if we know all the symmetries of a Lie algebra L, we can use them to identify its irreducible representations and determine their highest weights, which uniquely specify their dimensions and properties. Therefore, we only need one label per class to describe the irreducible representations of L.\n"
   ]
  },
  {
   "cell_type": "markdown",
   "id": "3c505cc3",
   "metadata": {},
   "source": [
    "왜 L의 모든 대칭을 알고 있다면 클래스당 하나의 레이블만 필요할까요?\n",
    "\n",
    "표현 이론에서 각 그룹 요소가 벡터 공간에서 선형 변환을 유도하면 그룹이 벡터 공간에 작용한다고 합니다. 벡터 공간 V에 대한 그룹의 표현이 주어지면 V를 환원 불가능한 하위 공간의 직접 합으로 분해할 수 있습니다. 이러한 각 부분공간은 그룹의 고유한 표현에 해당하며, 환원 불가능한 표현은 그 차원과 해당 그룹 동작의 속성에 따라 특징지어집니다.\n",
    "\n",
    "리(lie) 대수 L의 모든 대칭을 알고 있다면, 이를 사용해 그 표현을 구성하고 환원 불가능한 부분공간을 결정할 수 있습니다. 구체적으로, L의 각 표현은 벡터 공간의 가중치 공간 분해에 해당하며, 가중치는 L의 카르탄 대수의 고유값입니다. 환원 불가능한 부분공간은 그룹의 작용에 따라 불변하는 가중치 공간에 해당합니다.\n",
    "\n",
    "L의 모든 대칭을 알고 있다면 이를 사용하여 고유한 가중치 공간과 관련된 환원 불가능한 표현을 식별할 수 있습니다. 환원 불가능한 표현은 차원과 해당 그룹 액션의 속성으로 특징지어지기 때문에 각 환원 불가능한 표현을 고유하게 식별하기 위해 클래스당 하나의 레이블만 지정하면 됩니다. 이 레이블은 일반적으로 표현의 가장 높은 가중치로 선택되며, 이는 차원과 벡터 공간에 대한 액션의 속성을 결정합니다.\n",
    "\n",
    "요약하면, 리(lie) 대수 L의 모든 대칭을 알고 있다면, 이를 사용해 환원 불가능한 표현을 식별하고 그 차원과 속성을 고유하게 지정하는 가장 높은 가중치를 결정할 수 있습니다. 따라서 L의 환원 불가능한 표현을 설명하기 위해 클래스당 하나의 레이블만 필요합니다."
   ]
  }
 ],
 "metadata": {
  "kernelspec": {
   "display_name": "rtd",
   "language": "python",
   "name": "python3"
  },
  "language_info": {
   "codemirror_mode": {
    "name": "ipython",
    "version": 3
   },
   "file_extension": ".py",
   "mimetype": "text/x-python",
   "name": "python",
   "nbconvert_exporter": "python",
   "pygments_lexer": "ipython3",
   "version": "3.8.13"
  },
  "vscode": {
   "interpreter": {
    "hash": "bcfaf3da971f87b91721743b1e9712a94e5baf8041af4e0a049618a6443e430e"
   }
  }
 },
 "nbformat": 4,
 "nbformat_minor": 5
}
