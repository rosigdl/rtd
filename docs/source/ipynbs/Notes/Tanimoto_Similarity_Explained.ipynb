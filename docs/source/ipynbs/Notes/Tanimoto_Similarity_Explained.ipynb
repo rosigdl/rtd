{
 "cells": [
  {
   "attachments": {},
   "cell_type": "markdown",
   "id": "61ac3159-c1f8-4b21-ad08-c3b4d5d07011",
   "metadata": {
    "noteable": {
     "cell_type": "markdown"
    }
   },
   "source": [
    "# Tanimoto Similarity Explained\n",
    "\n",
    "Tanimoto similarity, also known as the Jaccard index or Jaccard similarity coefficient, is a statistic used for comparing the similarity and diversity of sample sets. In cheminformatics, Tanimoto similarity is often used to measure the similarity between two molecules based on their structural features.\n",
    "\n",
    "When comparing two molecules, their structures can be represented as bit vectors, where each bit represents the presence or absence of a particular structural feature (e.g., a certain chemical bond or functional group). These bit vectors are also known as fingerprints.\n",
    "\n",
    "The Tanimoto similarity coefficient (T) between two molecules A and B is calculated using the following formula:\n",
    "\n",
    "$$ T(A, B) = \\frac{|A \\cap B|}{|A| + |B| - |A \\cap B|} $$\n",
    "\n",
    "Where:\n",
    "- $( |A \\cap B| )$ is the number of features common to both A and B (i.e., the number of bits that are set to 1 in both fingerprints).\n",
    "- $( |A| )$ is the number of features in A (i.e., the number of bits set to 1 in the fingerprint of A).\n",
    "- $( |B| )$ is the number of features in B (i.e., the number of bits set to 1 in the fingerprint of B).\n",
    "\n",
    "The Tanimoto similarity ranges from 0 to 1, where 0 indicates no similarity and 1 indicates that the molecules are identical in terms of the features considered. In drug discovery and cheminformatics, Tanimoto similarity is widely used to compare the structural similarity of different chemical compounds and to search chemical databases for compounds that are structurally similar to a query molecule."
   ]
  },
  {
   "cell_type": "code",
   "execution_count": 1,
   "id": "b64f4d67-6e60-4630-b1b1-a1e455d7740a",
   "metadata": {
    "noteable": {
     "cell_type": "code"
    }
   },
   "outputs": [
    {
     "data": {
      "text/plain": [
       "0.5357142857142857"
      ]
     },
     "execution_count": 1,
     "metadata": {},
     "output_type": "execute_result"
    }
   ],
   "source": [
    "from rdkit import Chem\n",
    "from rdkit import DataStructs\n",
    "from rdkit.Chem import AllChem\n",
    "\n",
    "# Example SMILES representation of two molecules\n",
    "mol1_smiles = 'CC(=O)OC1=CC=CC=C1C(=O)O'\n",
    "mol2_smiles = 'CC(=O)OC1=CC=CC=C1'\n",
    "\n",
    "# Convert SMILES to RDKit molecule objects\n",
    "mol1 = Chem.MolFromSmiles(mol1_smiles)\n",
    "mol2 = Chem.MolFromSmiles(mol2_smiles)\n",
    "\n",
    "# Calculate fingerprints for each molecule\n",
    "fp1 = AllChem.GetMorganFingerprintAsBitVect(mol1, 2, nBits=1024)\n",
    "fp2 = AllChem.GetMorganFingerprintAsBitVect(mol2, 2, nBits=1024)\n",
    "\n",
    "# Calculate Tanimoto similarity\n",
    "tanimoto_similarity = DataStructs.TanimotoSimilarity(fp1, fp2)\n",
    "tanimoto_similarity"
   ]
  }
 ],
 "metadata": {
  "kernelspec": {
   "display_name": "Python 3 (ipykernel)",
   "language": "python",
   "name": "python3"
  },
  "language_info": {
   "codemirror_mode": {
    "name": "ipython",
    "version": 3
   },
   "file_extension": ".py",
   "mimetype": "text/x-python",
   "name": "python",
   "nbconvert_exporter": "python",
   "pygments_lexer": "ipython3",
   "version": "3.8.16"
  },
  "noteable": {
   "last_transaction_id": "152c9bc2-a1e2-4085-8a71-95431e7f828f"
  },
  "noteable-chatgpt": {
   "create_notebook": {
    "openai_conversation_id": "0b649a65-770a-5fb8-9ae7-6ac379d4dd7a",
    "openai_ephemeral_user_id": "92eb41cf-5bef-5eb9-9877-5aa400494a32",
    "openai_subdivision1_iso_code": "KR-49"
   }
  },
  "selected_hardware_size": "small"
 },
 "nbformat": 4,
 "nbformat_minor": 5
}
