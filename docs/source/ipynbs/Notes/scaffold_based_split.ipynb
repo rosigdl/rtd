{
 "cells": [
  {
   "attachments": {},
   "cell_type": "markdown",
   "id": "4ab1a89b-2eed-4b5c-bc93-cec59d30b743",
   "metadata": {
    "noteable": {
     "cell_type": "markdown"
    }
   },
   "source": [
    "# Scaffold-based Split\n",
    "\n",
    "In the field of cheminformatics, scaffold-based split is a method used to divide a dataset of molecules into training and test sets. This method is often used in the context of machine learning where the goal is to train a model to predict certain properties of molecules.\n",
    "\n",
    "## Definition\n",
    "\n",
    "The 'scaffold' in scaffold-based split refers to the core structure of a molecule. In this method, molecules are grouped based on their scaffold. That is, molecules sharing the same core structure are put into the same group. The dataset is then split into training and test sets such that all molecules of the same group belong to the same set. This ensures that the training and test sets are diverse and that the model is not simply memorizing the data.\n",
    "\n",
    "## Pros\n",
    "\n",
    "1. **Diversity**: Since molecules with the same scaffold are grouped together, the training and test sets are likely to be diverse, which is beneficial for model generalization.\n",
    "2. **Avoidance of information leakage**: In traditional random splits, molecules with the same scaffold can end up in both the training and test sets. This can lead to overly optimistic performance estimates, as the model may simply be memorizing specific scaffolds. Scaffold splitting avoids this issue.\n",
    "\n",
    "## Cons\n",
    "\n",
    "1. **Imbalanced splits**: Depending on the distribution of scaffolds, scaffold splitting can lead to imbalanced splits. For example, if a few scaffolds dominate the dataset, these will form a large part of one of the sets.\n",
    "2. **Harder task**: Since the test set scaffolds are not seen during training, the prediction task is harder compared to random splitting. This can lead to lower performance estimates.\n",
    "\n",
    "## Comparison to Other Methods\n",
    "\n",
    "Scaffold-based split is one of many methods to split a dataset into training and test sets. Other methods include random split, stratified split, and time-based split. The best method depends on the specific task and data at hand. Compared to these methods, scaffold-based split is specifically designed for molecular data and aims to provide a more realistic estimate of model performance on unseen data."
   ]
  },
  {
   "attachments": {},
   "cell_type": "markdown",
   "id": "bec0d664-36c4-4d20-a3d6-eab6518e737b",
   "metadata": {
    "noteable": {
     "cell_type": "markdown"
    }
   },
   "source": [
    "## Example in Python\n",
    "\n",
    "In this example, we will use the RDKit library to perform a scaffold-based split. RDKit is a collection of cheminformatics and machine learning tools. It includes functionality for generating and manipulating molecular scaffolds.\n",
    "\n",
    "First, we need to install the necessary library. If you haven't installed RDKit, you can do so by running the following command:\n",
    "\n",
    "```\n",
    "!pip install rdkit-pypi\n",
    "```\n",
    "\n",
    "Please note that this example assumes you have a dataset of molecules in the form of SMILES strings. SMILES (Simplified Molecular Input Line Entry System) is a specification for unambiguously describing the structure of chemical molecules using short ASCII strings."
   ]
  },
  {
   "cell_type": "code",
   "execution_count": 1,
   "id": "fe655b87-9216-415a-83f0-e5a1cd7186ce",
   "metadata": {
    "noteable": {
     "cell_type": "code"
    }
   },
   "outputs": [
    {
     "data": {
      "text/plain": [
       "(['CC(=O)OC1=CC=CC=C1C(=O)O',\n",
       "  'CC(C)CC1=CC=C(C=C1)C(C)C(=O)O',\n",
       "  'C1=CC=C(C=C1)CO',\n",
       "  'C1=CC=C2C(=C1)C(=CN2)C3=CC=CC=C3'],\n",
       " ['C1=CC=C2C(=C1)C(=O)OC2=O'])"
      ]
     },
     "execution_count": 1,
     "metadata": {},
     "output_type": "execute_result"
    }
   ],
   "source": [
    "# Import necessary libraries\n",
    "from rdkit import Chem\n",
    "from rdkit.Chem.Scaffolds import MurckoScaffold\n",
    "\n",
    "import random\n",
    "import numpy as np\n",
    "\n",
    "# Let's assume we have a list of SMILES strings\n",
    "smiles_list = ['CC(=O)OC1=CC=CC=C1C(=O)O', 'CC(C)CC1=CC=C(C=C1)C(C)C(=O)O', 'C1=CC=C(C=C1)CO', 'C1=CC=C2C(=C1)C(=CN2)C3=CC=CC=C3', 'C1=CC=C2C(=C1)C(=O)OC2=O']\n",
    "\n",
    "# Create a dictionary to hold the scaffolds and the molecules they correspond to\n",
    "scaffolds_to_molecules = {}\n",
    "\n",
    "for smiles in smiles_list:\n",
    "    mol = Chem.MolFromSmiles(smiles)\n",
    "    scaffold = MurckoScaffold.GetScaffoldForMol(mol)\n",
    "    scaffold_smiles = Chem.MolToSmiles(scaffold)\n",
    "\n",
    "    if scaffold_smiles not in scaffolds_to_molecules:\n",
    "        scaffolds_to_molecules[scaffold_smiles] = [smiles]\n",
    "    else:\n",
    "        scaffolds_to_molecules[scaffold_smiles].append(smiles)\n",
    "\n",
    "# Now we have a dictionary where each key is a scaffold, and the value is a list of molecules (SMILES strings) that have that scaffold\n",
    "# We can now split the data based on these scaffolds\n",
    "\n",
    "# First, we shuffle the scaffolds\n",
    "scaffold_list = list(scaffolds_to_molecules.keys())\n",
    "random.shuffle(scaffold_list)\n",
    "\n",
    "# Decide on a split, e.g., 80% of the data for training\n",
    "train_cutoff = int(0.8 * len(scaffold_list))\n",
    "\n",
    "# Split the scaffolds into training and test sets\n",
    "train_scaffolds = scaffold_list[:train_cutoff]\n",
    "test_scaffolds = scaffold_list[train_cutoff:]\n",
    "\n",
    "# Now we can create our training and test sets\n",
    "train_smiles = [smiles for scaffold in train_scaffolds for smiles in scaffolds_to_molecules[scaffold]]\n",
    "test_smiles = [smiles for scaffold in test_scaffolds for smiles in scaffolds_to_molecules[scaffold]]\n",
    "\n",
    "train_smiles, test_smiles"
   ]
  },
  {
   "cell_type": "code",
   "execution_count": 2,
   "id": "7d20655b-9d4f-4525-af50-28eecfb20409",
   "metadata": {},
   "outputs": [
    {
     "data": {
      "text/plain": [
       "['CC(=O)OC1=CC=CC=C1C(=O)O',\n",
       " 'CC(C)CC1=CC=C(C=C1)C(C)C(=O)O',\n",
       " 'C1=CC=C(C=C1)CO',\n",
       " 'C1=CC=C2C(=C1)C(=CN2)C3=CC=CC=C3']"
      ]
     },
     "execution_count": 2,
     "metadata": {},
     "output_type": "execute_result"
    }
   ],
   "source": [
    "train_smiles"
   ]
  },
  {
   "cell_type": "code",
   "execution_count": 3,
   "id": "9ab050d6-f4e9-4272-87e7-6b10533e11c9",
   "metadata": {},
   "outputs": [
    {
     "data": {
      "text/plain": [
       "['C1=CC=C2C(=C1)C(=O)OC2=O']"
      ]
     },
     "execution_count": 3,
     "metadata": {},
     "output_type": "execute_result"
    }
   ],
   "source": [
    "test_smiles"
   ]
  },
  {
   "cell_type": "code",
   "execution_count": 4,
   "id": "fead3c36-9bf9-4cc2-9a0b-01c055547865",
   "metadata": {},
   "outputs": [
    {
     "data": {
      "text/plain": [
       "'O=C1OC(=O)c2ccccc21'"
      ]
     },
     "execution_count": 4,
     "metadata": {},
     "output_type": "execute_result"
    }
   ],
   "source": [
    "scaffold_smiles"
   ]
  }
 ],
 "metadata": {
  "kernelspec": {
   "display_name": "Python 3 (ipykernel)",
   "language": "python",
   "name": "python3"
  },
  "language_info": {
   "codemirror_mode": {
    "name": "ipython",
    "version": 3
   },
   "file_extension": ".py",
   "mimetype": "text/x-python",
   "name": "python",
   "nbconvert_exporter": "python",
   "pygments_lexer": "ipython3",
   "version": "3.8.16"
  },
  "noteable": {
   "last_transaction_id": "35665900-9341-4355-946f-145c8c891245"
  },
  "noteable-chatgpt": {
   "create_notebook": {
    "openai_conversation_id": "f1a9b688-9c62-5ae9-8501-c4dac3e023a1",
    "openai_ephemeral_user_id": "294d3498-ae0a-5637-96a0-e1670f2632c9",
    "openai_subdivision1_iso_code": "KR-49"
   }
  },
  "selected_hardware_size": "small"
 },
 "nbformat": 4,
 "nbformat_minor": 5
}
