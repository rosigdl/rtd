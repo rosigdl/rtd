{
 "cells": [
  {
   "attachments": {},
   "cell_type": "markdown",
   "id": "ff693e24",
   "metadata": {},
   "source": [
    "# Lec_7_23 Shift operator"
   ]
  },
  {
   "attachments": {},
   "cell_type": "markdown",
   "id": "683a49b7",
   "metadata": {},
   "source": [
    "![lec_3_ex_1](../../images/AMMI_2022_ex/AIMS2022-Lecture7-Grids-23.png)"
   ]
  },
  {
   "cell_type": "markdown",
   "id": "c2df8e05",
   "metadata": {},
   "source": [
    "Let G be a group acting on a set X, and let g, h be elements of G and x be an element of X. We want to show that the group action is commutative, i.e., (gh)x = g(hx).\n",
    "\n",
    "To prove this, we will use the shift operator. Let Sg denote the shift operator corresponding to the element g of G, i.e., Sg(x) = gx for any x in X. Then, we have:\n",
    "\n",
    "(gh)x = Sgh(x) = (Sg o Sh)(x) [by definition of group action]\n",
    "               = Sg(Sh(x)) [by associativity of group operation]\n",
    "               = g(hx) [by definition of group action]\n",
    "\n",
    "Therefore, we can see that (gh)x = g(hx), and the group action is commutative."
   ]
  },
  {
   "cell_type": "markdown",
   "id": "a7309009",
   "metadata": {},
   "source": [
    "Let G be a group and let X be a set. Let g and h be elements of G and let x be an element of X. We want to show that the group action is commutative, i.e., that g(h(x)) = h(g(x)).\n",
    "\n",
    "To prove this, we will use the shift operator. Let Sg denote the shift operator corresponding to the element g of G, i.e., Sg(x) = gx for any x in X. Similarly, let Sh denote the shift operator corresponding to the element h of G, i.e., Sh(x) = hx for any x in X. Then, we have:\n",
    "\n",
    "g(h(x)) = Sg(Sh(x)) = (Sg o Sh)(x) [by definition of group action]\n",
    "= Sh(Sg(x)) = h(g(x)) [by definition of group action]\n",
    "\n",
    "Therefore, we can see that g(h(x)) = h(g(x)), and the group action is commutative."
   ]
  },
  {
   "cell_type": "code",
   "execution_count": 1,
   "id": "94f4b097",
   "metadata": {},
   "outputs": [],
   "source": [
    "import numpy as np"
   ]
  },
  {
   "cell_type": "code",
   "execution_count": 3,
   "id": "7b90ef60",
   "metadata": {},
   "outputs": [],
   "source": [
    "shift_op = np.array(\n",
    "          [[0, 1, 0, 0, 0],\n",
    "           [0, 0, 1, 0, 0],\n",
    "           [0, 0, 0, 1, 0],\n",
    "           [0, 0, 0, 0, 1],\n",
    "           [1, 0, 0, 0, 0],\n",
    "           ])"
   ]
  },
  {
   "cell_type": "code",
   "execution_count": 6,
   "id": "43cbeed1",
   "metadata": {},
   "outputs": [],
   "source": [
    "data = np.arange(25).reshape([5,5])"
   ]
  },
  {
   "cell_type": "code",
   "execution_count": 7,
   "id": "cb2a35fc",
   "metadata": {},
   "outputs": [
    {
     "data": {
      "text/plain": [
       "array([[ 0,  1,  2,  3,  4],\n",
       "       [ 5,  6,  7,  8,  9],\n",
       "       [10, 11, 12, 13, 14],\n",
       "       [15, 16, 17, 18, 19],\n",
       "       [20, 21, 22, 23, 24]])"
      ]
     },
     "execution_count": 7,
     "metadata": {},
     "output_type": "execute_result"
    }
   ],
   "source": [
    "data"
   ]
  },
  {
   "cell_type": "code",
   "execution_count": 9,
   "id": "430695fe",
   "metadata": {},
   "outputs": [
    {
     "data": {
      "text/plain": [
       "array([[ 4,  0,  1,  2,  3],\n",
       "       [ 9,  5,  6,  7,  8],\n",
       "       [14, 10, 11, 12, 13],\n",
       "       [19, 15, 16, 17, 18],\n",
       "       [24, 20, 21, 22, 23]])"
      ]
     },
     "execution_count": 9,
     "metadata": {},
     "output_type": "execute_result"
    }
   ],
   "source": [
    "np.matmul(data, shift_op)"
   ]
  },
  {
   "cell_type": "code",
   "execution_count": 10,
   "id": "f35f7eb8",
   "metadata": {},
   "outputs": [
    {
     "data": {
      "text/plain": [
       "array([[ 5,  6,  7,  8,  9],\n",
       "       [10, 11, 12, 13, 14],\n",
       "       [15, 16, 17, 18, 19],\n",
       "       [20, 21, 22, 23, 24],\n",
       "       [ 0,  1,  2,  3,  4]])"
      ]
     },
     "execution_count": 10,
     "metadata": {},
     "output_type": "execute_result"
    }
   ],
   "source": [
    "np.matmul(shift_op, data)"
   ]
  },
  {
   "cell_type": "code",
   "execution_count": 13,
   "id": "a5f99e81",
   "metadata": {},
   "outputs": [
    {
     "data": {
      "text/plain": [
       "array([[ 3,  4,  0,  1,  2],\n",
       "       [ 8,  9,  5,  6,  7],\n",
       "       [13, 14, 10, 11, 12],\n",
       "       [18, 19, 15, 16, 17],\n",
       "       [23, 24, 20, 21, 22]])"
      ]
     },
     "execution_count": 13,
     "metadata": {},
     "output_type": "execute_result"
    }
   ],
   "source": [
    "np.matmul(data, np.matmul(shift_op, shift_op))"
   ]
  }
 ],
 "metadata": {
  "kernelspec": {
   "display_name": "Python 3",
   "language": "python",
   "name": "python3"
  },
  "language_info": {
   "codemirror_mode": {
    "name": "ipython",
    "version": 3
   },
   "file_extension": ".py",
   "mimetype": "text/x-python",
   "name": "python",
   "nbconvert_exporter": "python",
   "pygments_lexer": "ipython3",
   "version": "3.8.9"
  },
  "vscode": {
   "interpreter": {
    "hash": "31f2aee4e71d21fbe5cf8b01ff0e069b9275f58929596ceb00d14d90e3e16cd6"
   }
  }
 },
 "nbformat": 4,
 "nbformat_minor": 5
}
