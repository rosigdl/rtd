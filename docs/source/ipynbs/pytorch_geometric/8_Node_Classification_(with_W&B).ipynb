{
 "cells": [
  {
   "cell_type": "markdown",
   "metadata": {
    "id": "_Fyc7x4-1GKK"
   },
   "source": [
    "# 8. Node Classification with W&B\n",
    "<img src=\"http://wandb.me/logo-im-png\" width=\"400\" alt=\"Weights & Biases\" />\n",
    "<!--- @wandbcode{pytorch_geometric_example} -->"
   ]
  },
  {
   "cell_type": "code",
   "execution_count": null,
   "metadata": {
    "id": "c3r4FlykM0d9"
   },
   "outputs": [],
   "source": [
    "enable_wandb = True\n",
    "\n",
    "if enable_wandb:\n",
    "  !pip install -qqq wandb\n",
    "  import wandb\n",
    "  wandb.login()"
   ]
  },
  {
   "cell_type": "code",
   "execution_count": 4,
   "metadata": {
    "id": "F1op-CbyLuN4"
   },
   "outputs": [
    {
     "name": "stdout",
     "output_type": "stream",
     "text": [
      "1.11.0\n"
     ]
    }
   ],
   "source": [
    "# Install required packages.\n",
    "import os\n",
    "import pdb\n",
    "import torch\n",
    "import pandas\n",
    "\n",
    "os.environ['TORCH'] = torch.__version__\n",
    "print(torch.__version__)\n",
    "\n",
    "# !pip install -q torch-scatter -f https://data.pyg.org/whl/torch-${TORCH}.html\n",
    "# !pip install -q torch-sparse -f https://data.pyg.org/whl/torch-${TORCH}.html\n",
    "# !pip install -q git+https://github.com/pyg-team/pytorch_geometric.git\n",
    "\n",
    "# Helper function for visualization.\n",
    "%matplotlib inline\n",
    "import matplotlib.pyplot as plt\n",
    "from sklearn.manifold import TSNE\n",
    "\n",
    "def visualize(h, color):\n",
    "    z = TSNE(n_components=2).fit_transform(h.detach().cpu().numpy())\n",
    "    plt.figure(figsize=(10,10))\n",
    "    plt.xticks([])\n",
    "    plt.yticks([])\n",
    "    plt.scatter(z[:, 0], z[:, 1], s=70, c=color, cmap=\"Set2\")\n",
    "    plt.show()\n",
    "\n",
    "def embedding_to_wandb(h, color, key=\"embedding\"):\n",
    "    num_components = h.shape[-1]\n",
    "    df = pandas.DataFrame(data=h.detach().cpu().numpy(),\n",
    "                        columns=[f\"c_{i}\" for i in range(num_components)])\n",
    "    df[\"target\"] = color.detach().cpu().numpy().astype(\"str\")\n",
    "    cols = df.columns.tolist()\n",
    "    df = df[cols[-1:] + cols[:-1]]\n",
    "    wandb.log({key: df})"
   ]
  },
  {
   "cell_type": "markdown",
   "metadata": {
    "id": "dszt2RUHE7lW"
   },
   "source": [
    "## Node Classification with Graph Neural Networks\n",
    "\n",
    "[Previous: Introduction: Hands-on Graph Neural Networks](https://colab.research.google.com/drive/1h3-vJGRVloF5zStxL5I0rSy4ZUPNsjy8)\n",
    "\n",
    "This tutorial will teach you how to apply **Graph Neural Networks (GNNs) to the task of node classification**.\n",
    "Here, we are given the ground-truth labels of only a small subset of nodes, and want to infer the labels for all the remaining nodes (*transductive learning*).\n",
    "\n",
    "To demonstrate, we make use of the `Cora` dataset, which is a **citation network** where nodes represent documents.\n",
    "Each node is described by a 1433-dimensional bag-of-words feature vector.\n",
    "Two documents are connected if there exists a citation link between them.\n",
    "The task is to infer the category of each document (7 in total).\n",
    "\n",
    "This dataset was first introduced by [Yang et al. (2016)](https://arxiv.org/abs/1603.08861) as one of the datasets of the `Planetoid` benchmark suite.\n",
    "We again can make use [PyTorch Geometric](https://github.com/rusty1s/pytorch_geometric) for an easy access to this dataset via [`torch_geometric.datasets.Planetoid`](https://pytorch-geometric.readthedocs.io/en/latest/modules/datasets.html#torch_geometric.datasets.Planetoid):"
   ]
  },
  {
   "cell_type": "code",
   "execution_count": 5,
   "metadata": {
    "id": "imGrKO5YH11-"
   },
   "outputs": [
    {
     "name": "stderr",
     "output_type": "stream",
     "text": [
      "Downloading https://github.com/kimiyoung/planetoid/raw/master/data/ind.cora.x\n",
      "Downloading https://github.com/kimiyoung/planetoid/raw/master/data/ind.cora.tx\n",
      "Downloading https://github.com/kimiyoung/planetoid/raw/master/data/ind.cora.allx\n",
      "Downloading https://github.com/kimiyoung/planetoid/raw/master/data/ind.cora.y\n",
      "Downloading https://github.com/kimiyoung/planetoid/raw/master/data/ind.cora.ty\n",
      "Downloading https://github.com/kimiyoung/planetoid/raw/master/data/ind.cora.ally\n",
      "Downloading https://github.com/kimiyoung/planetoid/raw/master/data/ind.cora.graph\n",
      "Downloading https://github.com/kimiyoung/planetoid/raw/master/data/ind.cora.test.index\n"
     ]
    },
    {
     "name": "stdout",
     "output_type": "stream",
     "text": [
      "\n",
      "Dataset: Cora():\n",
      "======================\n",
      "Number of graphs: 1\n",
      "Number of features: 1433\n",
      "Number of classes: 7\n",
      "\n",
      "Data(x=[2708, 1433], edge_index=[2, 10556], y=[2708], train_mask=[2708], val_mask=[2708], test_mask=[2708])\n",
      "===========================================================================================================\n",
      "Number of nodes: 2708\n",
      "Number of edges: 10556\n",
      "Average node degree: 3.90\n",
      "Number of training nodes: 140\n",
      "Training node label rate: 0.05\n",
      "Has isolated nodes: False\n",
      "Has self-loops: False\n",
      "Is undirected: True\n"
     ]
    },
    {
     "name": "stderr",
     "output_type": "stream",
     "text": [
      "Processing...\n",
      "Done!\n"
     ]
    }
   ],
   "source": [
    "from torch_geometric.datasets import Planetoid\n",
    "from torch_geometric.transforms import NormalizeFeatures\n",
    "\n",
    "\n",
    "\n",
    "dataset = Planetoid(root='data/Planetoid', name='Cora', transform=NormalizeFeatures())\n",
    "\n",
    "print()\n",
    "print(f'Dataset: {dataset}:')\n",
    "print('======================')\n",
    "print(f'Number of graphs: {len(dataset)}')\n",
    "print(f'Number of features: {dataset.num_features}')\n",
    "print(f'Number of classes: {dataset.num_classes}')\n",
    "\n",
    "data = dataset[0]  # Get the first graph object.\n",
    "\n",
    "print()\n",
    "print(data)\n",
    "print('===========================================================================================================')\n",
    "\n",
    "# Gather some statistics about the graph.\n",
    "print(f'Number of nodes: {data.num_nodes}')\n",
    "print(f'Number of edges: {data.num_edges}')\n",
    "print(f'Average node degree: {data.num_edges / data.num_nodes:.2f}')\n",
    "print(f'Number of training nodes: {data.train_mask.sum()}')\n",
    "print(f'Training node label rate: {int(data.train_mask.sum()) / data.num_nodes:.2f}')\n",
    "print(f'Has isolated nodes: {data.has_isolated_nodes()}')\n",
    "print(f'Has self-loops: {data.has_self_loops()}')\n",
    "print(f'Is undirected: {data.is_undirected()}')"
   ]
  },
  {
   "cell_type": "markdown",
   "metadata": {
    "id": "eqWR0j_kIx67"
   },
   "source": [
    "Overall, this dataset is quite similar to the previously used [`KarateClub`](https://pytorch-geometric.readthedocs.io/en/latest/modules/datasets.html#torch_geometric.datasets.KarateClub) network.\n",
    "We can see that the `Cora` network holds 2,708 nodes and 10,556 edges, resulting in an average node degree of 3.9.\n",
    "For training this dataset, we are given the ground-truth categories of 140 nodes (20 for each class).\n",
    "This results in a training node label rate of only 5%.\n",
    "\n",
    "In contrast to `KarateClub`, this graph holds the additional attributes `val_mask` and `test_mask`, which denotes which nodes should be used for validation and testing.\n",
    "Furthermore, we make use of **[data transformations](https://pytorch-geometric.readthedocs.io/en/latest/notes/introduction.html#data-transforms) via `transform=NormalizeFeatures()`**.\n",
    "Transforms can be used to modify your input data before inputting them into a neural network, *e.g.*, for normalization or data augmentation.\n",
    "Here, we [row-normalize](https://pytorch-geometric.readthedocs.io/en/latest/modules/transforms.html#torch_geometric.transforms.NormalizeFeatures) the bag-of-words input feature vectors.\n",
    "\n",
    "We can further see that this network is undirected, and that there exists no isolated nodes (each document has at least one citation)."
   ]
  },
  {
   "cell_type": "markdown",
   "metadata": {
    "id": "5IRdAELVKOl6"
   },
   "source": [
    "## Training a Multi-layer Perception Network (MLP)\n",
    "\n",
    "In theory, we should be able to infer the category of a document solely based on its content, *i.e.* its bag-of-words feature representation, without taking any relational information into account.\n",
    "\n",
    "Let's verify that by constructing a simple MLP that solely operates on input node features (using shared weights across all nodes):"
   ]
  },
  {
   "cell_type": "code",
   "execution_count": 6,
   "metadata": {
    "id": "afXwPCA3KNoC"
   },
   "outputs": [
    {
     "name": "stdout",
     "output_type": "stream",
     "text": [
      "MLP(\n",
      "  (lin1): Linear(in_features=1433, out_features=16, bias=True)\n",
      "  (lin2): Linear(in_features=16, out_features=7, bias=True)\n",
      ")\n"
     ]
    }
   ],
   "source": [
    "import torch\n",
    "from torch.nn import Linear\n",
    "import torch.nn.functional as F\n",
    "\n",
    "\n",
    "class MLP(torch.nn.Module):\n",
    "    def __init__(self, hidden_channels):\n",
    "        super().__init__()\n",
    "        torch.manual_seed(12345)\n",
    "        self.lin1 = Linear(dataset.num_features, hidden_channels)\n",
    "        self.lin2 = Linear(hidden_channels, dataset.num_classes)\n",
    "\n",
    "    def forward(self, x):\n",
    "        x = self.lin1(x)\n",
    "        x = x.relu()\n",
    "        x = F.dropout(x, p=0.5, training=self.training)\n",
    "        x = self.lin2(x)\n",
    "        return x\n",
    "\n",
    "model = MLP(hidden_channels=16)\n",
    "print(model)"
   ]
  },
  {
   "cell_type": "markdown",
   "metadata": {
    "id": "mfl7xqV-6JvL"
   },
   "source": [
    "(optionally) logging the data attributes to W&B summary."
   ]
  },
  {
   "cell_type": "code",
   "execution_count": null,
   "metadata": {
    "id": "HB0ZS80vhWPD"
   },
   "outputs": [],
   "source": [
    "if enable_wandb:\n",
    "    wandb.init(project='node-classification')\n",
    "    summary = dict()\n",
    "    summary[\"data\"] = dict()\n",
    "    summary[\"data\"][\"num_features\"] = dataset.num_features\n",
    "    summary[\"data\"][\"num_classes\"] = dataset.num_classes\n",
    "    summary[\"data\"][\"num_nodes\"] = data.num_nodes\n",
    "    summary[\"data\"][\"num_edges\"] = data.num_edges \n",
    "    summary[\"data\"][\"has_isolated_nodes\"] = data.has_isolated_nodes()\n",
    "    summary[\"data\"][\"has_self_nodes\"] = data.has_self_loops()\n",
    "    summary[\"data\"][\"is_undirected\"] = data.is_undirected()\n",
    "    summary[\"data\"][\"num_training_nodes\"] = data.train_mask.sum()\n",
    "    wandb.summary = summary"
   ]
  },
  {
   "cell_type": "markdown",
   "metadata": {
    "id": "L_PO9EEHL7J6"
   },
   "source": [
    "Our MLP is defined by two linear layers and enhanced by [ReLU](https://pytorch.org/docs/stable/generated/torch.nn.ReLU.html?highlight=relu#torch.nn.ReLU) non-linearity and [dropout](https://pytorch.org/docs/stable/generated/torch.nn.Dropout.html?highlight=dropout#torch.nn.Dropout).\n",
    "Here, we first reduce the 1433-dimensional feature vector to a low-dimensional embedding (`hidden_channels=16`), while the second linear layer acts as a classifier that should map each low-dimensional node embedding to one of the 7 classes.\n",
    "\n",
    "Let's train our simple MLP by following a similar procedure as described in [the first part of this tutorial](https://colab.research.google.com/drive/1h3-vJGRVloF5zStxL5I0rSy4ZUPNsjy8).\n",
    "We again make use of the **cross entropy loss** and **Adam optimizer**.\n",
    "This time, we also define a **`test` function** to evaluate how well our final model performs on the test node set (which labels have not been observed during training).\n",
    "\n",
    "We also visualize the embeddings of the untrained model to in visually comparing the progress made by the training process below.\n",
    "\n",
    "\n",
    "**NOTE**: *For W&B mode, please set up the embedding projector from the setting panel of the logged table. More information can be found here: https://docs.wandb.ai/ref/app/features/panels/weave/embedding-projector*"
   ]
  },
  {
   "cell_type": "code",
   "execution_count": 8,
   "metadata": {
    "id": "0YgHcLXMLk4o"
   },
   "outputs": [
    {
     "name": "stdout",
     "output_type": "stream",
     "text": [
      "Epoch: 001, Loss: 1.9617\n",
      "Epoch: 002, Loss: 1.9562\n",
      "Epoch: 003, Loss: 1.9499\n",
      "Epoch: 004, Loss: 1.9401\n",
      "Epoch: 005, Loss: 1.9357\n",
      "Epoch: 006, Loss: 1.9253\n",
      "Epoch: 007, Loss: 1.9144\n",
      "Epoch: 008, Loss: 1.9104\n",
      "Epoch: 009, Loss: 1.8983\n",
      "Epoch: 010, Loss: 1.8885\n",
      "Epoch: 011, Loss: 1.8817\n",
      "Epoch: 012, Loss: 1.8627\n",
      "Epoch: 013, Loss: 1.8596\n",
      "Epoch: 014, Loss: 1.8287\n",
      "Epoch: 015, Loss: 1.8293\n",
      "Epoch: 016, Loss: 1.8043\n",
      "Epoch: 017, Loss: 1.8166\n",
      "Epoch: 018, Loss: 1.7803\n",
      "Epoch: 019, Loss: 1.7525\n",
      "Epoch: 020, Loss: 1.7318\n",
      "Epoch: 021, Loss: 1.7636\n",
      "Epoch: 022, Loss: 1.7090\n",
      "Epoch: 023, Loss: 1.7026\n",
      "Epoch: 024, Loss: 1.6821\n",
      "Epoch: 025, Loss: 1.6637\n",
      "Epoch: 026, Loss: 1.6404\n",
      "Epoch: 027, Loss: 1.6124\n",
      "Epoch: 028, Loss: 1.5674\n",
      "Epoch: 029, Loss: 1.5422\n",
      "Epoch: 030, Loss: 1.5519\n",
      "Epoch: 031, Loss: 1.5399\n",
      "Epoch: 032, Loss: 1.4822\n",
      "Epoch: 033, Loss: 1.4956\n",
      "Epoch: 034, Loss: 1.4479\n",
      "Epoch: 035, Loss: 1.4063\n",
      "Epoch: 036, Loss: 1.4378\n",
      "Epoch: 037, Loss: 1.3867\n",
      "Epoch: 038, Loss: 1.3802\n",
      "Epoch: 039, Loss: 1.3393\n",
      "Epoch: 040, Loss: 1.2952\n",
      "Epoch: 041, Loss: 1.2643\n",
      "Epoch: 042, Loss: 1.2424\n",
      "Epoch: 043, Loss: 1.2596\n",
      "Epoch: 044, Loss: 1.1963\n",
      "Epoch: 045, Loss: 1.2004\n",
      "Epoch: 046, Loss: 1.1599\n",
      "Epoch: 047, Loss: 1.1141\n",
      "Epoch: 048, Loss: 1.1428\n",
      "Epoch: 049, Loss: 1.0960\n",
      "Epoch: 050, Loss: 1.0473\n",
      "Epoch: 051, Loss: 1.0538\n",
      "Epoch: 052, Loss: 1.0431\n",
      "Epoch: 053, Loss: 1.0650\n",
      "Epoch: 054, Loss: 0.9798\n",
      "Epoch: 055, Loss: 0.9571\n",
      "Epoch: 056, Loss: 0.8945\n",
      "Epoch: 057, Loss: 0.9230\n",
      "Epoch: 058, Loss: 0.9363\n",
      "Epoch: 059, Loss: 0.9066\n",
      "Epoch: 060, Loss: 0.8500\n",
      "Epoch: 061, Loss: 0.8906\n",
      "Epoch: 062, Loss: 0.8880\n",
      "Epoch: 063, Loss: 0.8962\n",
      "Epoch: 064, Loss: 0.8728\n",
      "Epoch: 065, Loss: 0.8039\n",
      "Epoch: 066, Loss: 0.8037\n",
      "Epoch: 067, Loss: 0.7401\n",
      "Epoch: 068, Loss: 0.7795\n",
      "Epoch: 069, Loss: 0.7854\n",
      "Epoch: 070, Loss: 0.7001\n",
      "Epoch: 071, Loss: 0.7158\n",
      "Epoch: 072, Loss: 0.8123\n",
      "Epoch: 073, Loss: 0.7777\n",
      "Epoch: 074, Loss: 0.7148\n",
      "Epoch: 075, Loss: 0.7087\n",
      "Epoch: 076, Loss: 0.7172\n",
      "Epoch: 077, Loss: 0.7077\n",
      "Epoch: 078, Loss: 0.6799\n",
      "Epoch: 079, Loss: 0.6721\n",
      "Epoch: 080, Loss: 0.6176\n",
      "Epoch: 081, Loss: 0.7527\n",
      "Epoch: 082, Loss: 0.7109\n",
      "Epoch: 083, Loss: 0.6338\n",
      "Epoch: 084, Loss: 0.6398\n",
      "Epoch: 085, Loss: 0.5915\n",
      "Epoch: 086, Loss: 0.5672\n",
      "Epoch: 087, Loss: 0.5731\n",
      "Epoch: 088, Loss: 0.5745\n",
      "Epoch: 089, Loss: 0.6553\n",
      "Epoch: 090, Loss: 0.5983\n",
      "Epoch: 091, Loss: 0.6254\n",
      "Epoch: 092, Loss: 0.6545\n",
      "Epoch: 093, Loss: 0.6582\n",
      "Epoch: 094, Loss: 0.5903\n",
      "Epoch: 095, Loss: 0.5522\n",
      "Epoch: 096, Loss: 0.5503\n",
      "Epoch: 097, Loss: 0.6268\n",
      "Epoch: 098, Loss: 0.5739\n",
      "Epoch: 099, Loss: 0.5782\n",
      "Epoch: 100, Loss: 0.5927\n",
      "Epoch: 101, Loss: 0.5283\n",
      "Epoch: 102, Loss: 0.5436\n",
      "Epoch: 103, Loss: 0.6349\n",
      "Epoch: 104, Loss: 0.5427\n",
      "Epoch: 105, Loss: 0.5791\n",
      "Epoch: 106, Loss: 0.5296\n",
      "Epoch: 107, Loss: 0.6114\n",
      "Epoch: 108, Loss: 0.5577\n",
      "Epoch: 109, Loss: 0.5630\n",
      "Epoch: 110, Loss: 0.5164\n",
      "Epoch: 111, Loss: 0.5256\n",
      "Epoch: 112, Loss: 0.5677\n",
      "Epoch: 113, Loss: 0.5432\n",
      "Epoch: 114, Loss: 0.4872\n",
      "Epoch: 115, Loss: 0.5720\n",
      "Epoch: 116, Loss: 0.4607\n",
      "Epoch: 117, Loss: 0.4998\n",
      "Epoch: 118, Loss: 0.4805\n",
      "Epoch: 119, Loss: 0.5122\n",
      "Epoch: 120, Loss: 0.5538\n",
      "Epoch: 121, Loss: 0.4706\n",
      "Epoch: 122, Loss: 0.5497\n",
      "Epoch: 123, Loss: 0.5311\n",
      "Epoch: 124, Loss: 0.5336\n",
      "Epoch: 125, Loss: 0.5322\n",
      "Epoch: 126, Loss: 0.5197\n",
      "Epoch: 127, Loss: 0.4824\n",
      "Epoch: 128, Loss: 0.4711\n",
      "Epoch: 129, Loss: 0.4659\n",
      "Epoch: 130, Loss: 0.5088\n",
      "Epoch: 131, Loss: 0.4876\n",
      "Epoch: 132, Loss: 0.4886\n",
      "Epoch: 133, Loss: 0.5317\n",
      "Epoch: 134, Loss: 0.4520\n",
      "Epoch: 135, Loss: 0.4595\n",
      "Epoch: 136, Loss: 0.4849\n",
      "Epoch: 137, Loss: 0.5109\n",
      "Epoch: 138, Loss: 0.4608\n",
      "Epoch: 139, Loss: 0.5431\n",
      "Epoch: 140, Loss: 0.5599\n",
      "Epoch: 141, Loss: 0.5580\n",
      "Epoch: 142, Loss: 0.4482\n",
      "Epoch: 143, Loss: 0.4705\n",
      "Epoch: 144, Loss: 0.5860\n",
      "Epoch: 145, Loss: 0.5049\n",
      "Epoch: 146, Loss: 0.4410\n",
      "Epoch: 147, Loss: 0.4657\n",
      "Epoch: 148, Loss: 0.5248\n",
      "Epoch: 149, Loss: 0.4939\n",
      "Epoch: 150, Loss: 0.4237\n",
      "Epoch: 151, Loss: 0.4926\n",
      "Epoch: 152, Loss: 0.4278\n",
      "Epoch: 153, Loss: 0.4470\n",
      "Epoch: 154, Loss: 0.4876\n",
      "Epoch: 155, Loss: 0.4651\n",
      "Epoch: 156, Loss: 0.4594\n",
      "Epoch: 157, Loss: 0.4317\n",
      "Epoch: 158, Loss: 0.4761\n",
      "Epoch: 159, Loss: 0.3911\n",
      "Epoch: 160, Loss: 0.4328\n",
      "Epoch: 161, Loss: 0.4612\n",
      "Epoch: 162, Loss: 0.4156\n",
      "Epoch: 163, Loss: 0.3770\n",
      "Epoch: 164, Loss: 0.4313\n",
      "Epoch: 165, Loss: 0.4490\n",
      "Epoch: 166, Loss: 0.4709\n",
      "Epoch: 167, Loss: 0.4525\n",
      "Epoch: 168, Loss: 0.4173\n",
      "Epoch: 169, Loss: 0.4336\n",
      "Epoch: 170, Loss: 0.4264\n",
      "Epoch: 171, Loss: 0.4419\n",
      "Epoch: 172, Loss: 0.3597\n",
      "Epoch: 173, Loss: 0.3726\n",
      "Epoch: 174, Loss: 0.4015\n",
      "Epoch: 175, Loss: 0.4227\n",
      "Epoch: 176, Loss: 0.4425\n",
      "Epoch: 177, Loss: 0.4166\n",
      "Epoch: 178, Loss: 0.3845\n",
      "Epoch: 179, Loss: 0.4365\n",
      "Epoch: 180, Loss: 0.4116\n",
      "Epoch: 181, Loss: 0.3971\n",
      "Epoch: 182, Loss: 0.3818\n",
      "Epoch: 183, Loss: 0.4135\n",
      "Epoch: 184, Loss: 0.3317\n",
      "Epoch: 185, Loss: 0.4355\n",
      "Epoch: 186, Loss: 0.4069\n",
      "Epoch: 187, Loss: 0.4238\n",
      "Epoch: 188, Loss: 0.4251\n",
      "Epoch: 189, Loss: 0.4337\n",
      "Epoch: 190, Loss: 0.3434\n",
      "Epoch: 191, Loss: 0.3861\n",
      "Epoch: 192, Loss: 0.4183\n",
      "Epoch: 193, Loss: 0.3450\n",
      "Epoch: 194, Loss: 0.3702\n",
      "Epoch: 195, Loss: 0.4222\n",
      "Epoch: 196, Loss: 0.4183\n",
      "Epoch: 197, Loss: 0.3655\n",
      "Epoch: 198, Loss: 0.4121\n",
      "Epoch: 199, Loss: 0.4245\n",
      "Epoch: 200, Loss: 0.3709\n"
     ]
    }
   ],
   "source": [
    "# from IPython.display import Javascript  # Restrict height of output cell.\n",
    "# display(Javascript('''google.colab.output.setIframeHeight(0, true, {maxHeight: 300})'''))\n",
    "\n",
    "model = MLP(hidden_channels=16)\n",
    "\n",
    "with torch.no_grad():\n",
    "  out = model(data.x)\n",
    "\n",
    "# def embedding_to_wandb(h, color, key=\"embedding\"):\n",
    "#     num_components = h.shape[-1]\n",
    "#     df = pandas.DataFrame(data=h.detach().cpu().numpy(),\n",
    "#                         columns=[f\"c_{i}\" for i in range(num_components)])\n",
    "#     df[\"target\"] = color.detach().cpu().numpy().astype(\"str\")\n",
    "#     cols = df.columns.tolist()\n",
    "#     df = df[cols[-1:] + cols[:-1]]\n",
    "#     wandb.log({key: df})\n",
    "\n",
    "if enable_wandb:\n",
    "    embedding_to_wandb(out, color=data.y, key=\"mlp/embedding/init\")\n",
    "else:\n",
    "    visualize(out, data.y)\n",
    "\n",
    "criterion = torch.nn.CrossEntropyLoss()  # Define loss criterion.\n",
    "optimizer = torch.optim.Adam(model.parameters(), lr=0.01, weight_decay=5e-4)  # Define optimizer.\n",
    "\n",
    "def train():\n",
    "      model.train()\n",
    "      optimizer.zero_grad()  # Clear gradients.\n",
    "      out = model(data.x)  # Perform a single forward pass.\n",
    "      loss = criterion(out[data.train_mask], data.y[data.train_mask])  # Compute the loss solely based on the training nodes.\n",
    "      loss.backward()  # Derive gradients.\n",
    "      optimizer.step()  # Update parameters based on gradients.\n",
    "      return loss\n",
    "\n",
    "def test():\n",
    "      model.eval()\n",
    "      out = model(data.x)\n",
    "      pred = out.argmax(dim=1)  # Use the class with highest probability.\n",
    "      test_correct = pred[data.test_mask] == data.y[data.test_mask]  # Check against ground-truth labels.\n",
    "      test_acc = int(test_correct.sum()) / int(data.test_mask.sum())  # Derive ratio of correct predictions.\n",
    "      return test_acc\n",
    "\n",
    "for epoch in range(1, 201):\n",
    "    loss = train()\n",
    "    if enable_wandb:\n",
    "        wandb.log({\"mlp/loss\": loss})\n",
    "    print(f'Epoch: {epoch:03d}, Loss: {loss:.4f}')"
   ]
  },
  {
   "cell_type": "markdown",
   "metadata": {
    "id": "kG4IKy9YOLGF"
   },
   "source": [
    "After training the model, we can call the `test` function to see how well our model performs on unseen labels.\n",
    "Here, we are interested in the accuracy of the model, *i.e.*, the ratio of correctly classified nodes:\n",
    "\n",
    "We also visualize the embeddings of the output. This will give us a visual hint as to how good the model is performing, when compared to the embeddings of the geometric models defined below."
   ]
  },
  {
   "cell_type": "code",
   "execution_count": 9,
   "metadata": {
    "id": "dBBCeLlAL0oL"
   },
   "outputs": [
    {
     "name": "stdout",
     "output_type": "stream",
     "text": [
      "Test Accuracy: 0.5920\n"
     ]
    }
   ],
   "source": [
    "test_acc = test()\n",
    "\n",
    "out = model(data.x)\n",
    "if enable_wandb:\n",
    "    embedding_to_wandb(out, color=data.y, key=\"mlp/embedding/trained\")\n",
    "    wandb.summary[\"mlp/accuracy\"] = test_acc\n",
    "    wandb.log({\"mlp/accuracy\": test_acc})\n",
    "else:\n",
    "  visualize(out, data.y)\n",
    "\n",
    "print(f'Test Accuracy: {test_acc:.4f}')"
   ]
  },
  {
   "cell_type": "markdown",
   "metadata": {
    "id": "_jjJOB-VO-cw"
   },
   "source": [
    "As one can see, our MLP performs rather bad with only about 59% test accuracy.\n",
    "But why does the MLP do not perform better?\n",
    "The main reason for that is that this model suffers from heavy overfitting due to only having access to a **small amount of training nodes**, and therefore generalizes poorly to unseen node representations.\n",
    "\n",
    "It also fails to incorporate an important bias into the model: **Cited papers are very likely related to the category of a document**.\n",
    "That is exactly where Graph Neural Networks come into play and can help to boost the performance of our model.\n",
    "\n"
   ]
  },
  {
   "cell_type": "markdown",
   "metadata": {
    "id": "_OWGw54wRd98"
   },
   "source": [
    "## Training a Graph Neural Network (GNN)\n",
    "\n",
    "We can easily convert our MLP to a GNN by swapping the `torch.nn.Linear` layers with PyG's GNN operators.\n",
    "\n",
    "Following-up on [the first part of this tutorial](https://colab.research.google.com/drive/1h3-vJGRVloF5zStxL5I0rSy4ZUPNsjy8), we replace the linear layers by the [`GCNConv`](https://pytorch-geometric.readthedocs.io/en/latest/modules/nn.html#torch_geometric.nn.conv.GCNConv) module.\n",
    "To recap, the **GCN layer** ([Kipf et al. (2017)](https://arxiv.org/abs/1609.02907)) is defined as\n",
    "\n",
    "$$\n",
    "\\mathbf{x}_v^{(\\ell + 1)} = \\mathbf{W}^{(\\ell + 1)} \\sum_{w \\in \\mathcal{N}(v) \\, \\cup \\, \\{ v \\}} \\frac{1}{c_{w,v}} \\cdot \\mathbf{x}_w^{(\\ell)}\n",
    "$$\n",
    "\n",
    "where $\\mathbf{W}^{(\\ell + 1)}$ denotes a trainable weight matrix of shape `[num_output_features, num_input_features]` and $c_{w,v}$ refers to a fixed normalization coefficient for each edge.\n",
    "In contrast, a single `Linear` layer is defined as\n",
    "\n",
    "$$\n",
    "\\mathbf{x}_v^{(\\ell + 1)} = \\mathbf{W}^{(\\ell + 1)} \\mathbf{x}_v^{(\\ell)}\n",
    "$$\n",
    "\n",
    "which does not make use of neighboring node information."
   ]
  },
  {
   "cell_type": "code",
   "execution_count": 10,
   "metadata": {
    "id": "fmXWs1dKIzD8"
   },
   "outputs": [
    {
     "name": "stdout",
     "output_type": "stream",
     "text": [
      "GCN(\n",
      "  (conv1): GCNConv(1433, 16)\n",
      "  (conv2): GCNConv(16, 7)\n",
      ")\n"
     ]
    }
   ],
   "source": [
    "from torch_geometric.nn import GCNConv\n",
    "\n",
    "\n",
    "class GCN(torch.nn.Module):\n",
    "    def __init__(self, hidden_channels):\n",
    "        super().__init__()\n",
    "        torch.manual_seed(1234567)\n",
    "        self.conv1 = GCNConv(dataset.num_features, hidden_channels)\n",
    "        self.conv2 = GCNConv(hidden_channels, dataset.num_classes)\n",
    "\n",
    "    def forward(self, x, edge_index):\n",
    "        x = self.conv1(x, edge_index)\n",
    "        x = x.relu()\n",
    "        x = F.dropout(x, p=0.5, training=self.training)\n",
    "        x = self.conv2(x, edge_index)\n",
    "        return x\n",
    "\n",
    "model = GCN(hidden_channels=16)\n",
    "print(model)"
   ]
  },
  {
   "cell_type": "markdown",
   "metadata": {
    "id": "XhO8QDgYf_Q8"
   },
   "source": [
    "Let's visualize the node embeddings of our **untrained** GCN network.\n",
    "For visualization, we make use of [**TSNE**](https://scikit-learn.org/stable/modules/generated/sklearn.manifold.TSNE.html) to embed our 7-dimensional node embeddings onto a 2D plane."
   ]
  },
  {
   "cell_type": "code",
   "execution_count": 11,
   "metadata": {
    "id": "ntt9qVFXlk6A"
   },
   "outputs": [],
   "source": [
    "model = GCN(hidden_channels=16)\n",
    "model.eval()\n",
    "\n",
    "out = model(data.x, data.edge_index)\n",
    "\n",
    "if enable_wandb:\n",
    "    embedding_to_wandb(out, color=data.y, key=\"gcn/embedding/init\")\n",
    "else:\n",
    "    visualize(out, data.y)"
   ]
  },
  {
   "cell_type": "markdown",
   "metadata": {
    "id": "Fpdscco5g6kG"
   },
   "source": [
    "We certainly can do better by training our model.\n",
    "The training and testing procedure is once again the same, but this time we make use of the node features `x` **and** the graph connectivity `edge_index` as input to our GCN model."
   ]
  },
  {
   "cell_type": "code",
   "execution_count": 12,
   "metadata": {
    "id": "p3TAi69zI1bO"
   },
   "outputs": [
    {
     "name": "stdout",
     "output_type": "stream",
     "text": [
      "Epoch: 001, Loss: 1.9465\n",
      "Epoch: 002, Loss: 1.9419\n",
      "Epoch: 003, Loss: 1.9363\n",
      "Epoch: 004, Loss: 1.9290\n",
      "Epoch: 005, Loss: 1.9199\n",
      "Epoch: 006, Loss: 1.9140\n",
      "Epoch: 007, Loss: 1.9079\n",
      "Epoch: 008, Loss: 1.8992\n",
      "Epoch: 009, Loss: 1.8876\n",
      "Epoch: 010, Loss: 1.8764\n",
      "Epoch: 011, Loss: 1.8656\n",
      "Epoch: 012, Loss: 1.8626\n",
      "Epoch: 013, Loss: 1.8460\n",
      "Epoch: 014, Loss: 1.8329\n",
      "Epoch: 015, Loss: 1.8225\n",
      "Epoch: 016, Loss: 1.8167\n",
      "Epoch: 017, Loss: 1.7995\n",
      "Epoch: 018, Loss: 1.7878\n",
      "Epoch: 019, Loss: 1.7716\n",
      "Epoch: 020, Loss: 1.7568\n",
      "Epoch: 021, Loss: 1.7563\n",
      "Epoch: 022, Loss: 1.7342\n",
      "Epoch: 023, Loss: 1.7092\n",
      "Epoch: 024, Loss: 1.7015\n",
      "Epoch: 025, Loss: 1.6671\n",
      "Epoch: 026, Loss: 1.6757\n",
      "Epoch: 027, Loss: 1.6609\n",
      "Epoch: 028, Loss: 1.6355\n",
      "Epoch: 029, Loss: 1.6339\n",
      "Epoch: 030, Loss: 1.6102\n",
      "Epoch: 031, Loss: 1.5964\n",
      "Epoch: 032, Loss: 1.5721\n",
      "Epoch: 033, Loss: 1.5570\n",
      "Epoch: 034, Loss: 1.5445\n",
      "Epoch: 035, Loss: 1.5093\n",
      "Epoch: 036, Loss: 1.4889\n",
      "Epoch: 037, Loss: 1.4776\n",
      "Epoch: 038, Loss: 1.4704\n",
      "Epoch: 039, Loss: 1.4263\n",
      "Epoch: 040, Loss: 1.3972\n",
      "Epoch: 041, Loss: 1.3873\n",
      "Epoch: 042, Loss: 1.3479\n",
      "Epoch: 043, Loss: 1.3485\n",
      "Epoch: 044, Loss: 1.3739\n",
      "Epoch: 045, Loss: 1.3343\n",
      "Epoch: 046, Loss: 1.3277\n",
      "Epoch: 047, Loss: 1.2770\n",
      "Epoch: 048, Loss: 1.2651\n",
      "Epoch: 049, Loss: 1.2347\n",
      "Epoch: 050, Loss: 1.2543\n",
      "Epoch: 051, Loss: 1.1622\n",
      "Epoch: 052, Loss: 1.1483\n",
      "Epoch: 053, Loss: 1.1535\n",
      "Epoch: 054, Loss: 1.1912\n",
      "Epoch: 055, Loss: 1.0880\n",
      "Epoch: 056, Loss: 1.1374\n",
      "Epoch: 057, Loss: 1.0657\n",
      "Epoch: 058, Loss: 1.0748\n",
      "Epoch: 059, Loss: 1.0654\n",
      "Epoch: 060, Loss: 1.0201\n",
      "Epoch: 061, Loss: 0.9967\n",
      "Epoch: 062, Loss: 1.0499\n",
      "Epoch: 063, Loss: 1.0116\n",
      "Epoch: 064, Loss: 0.9945\n",
      "Epoch: 065, Loss: 0.9499\n",
      "Epoch: 066, Loss: 0.9465\n",
      "Epoch: 067, Loss: 0.9633\n",
      "Epoch: 068, Loss: 0.9137\n",
      "Epoch: 069, Loss: 0.9168\n",
      "Epoch: 070, Loss: 0.8818\n",
      "Epoch: 071, Loss: 0.8984\n",
      "Epoch: 072, Loss: 0.8301\n",
      "Epoch: 073, Loss: 0.8664\n",
      "Epoch: 074, Loss: 0.8560\n",
      "Epoch: 075, Loss: 0.8457\n",
      "Epoch: 076, Loss: 0.8306\n",
      "Epoch: 077, Loss: 0.8333\n",
      "Epoch: 078, Loss: 0.8155\n",
      "Epoch: 079, Loss: 0.7878\n",
      "Epoch: 080, Loss: 0.8277\n",
      "Epoch: 081, Loss: 0.7880\n",
      "Epoch: 082, Loss: 0.7829\n",
      "Epoch: 083, Loss: 0.7829\n",
      "Epoch: 084, Loss: 0.7633\n",
      "Epoch: 085, Loss: 0.7862\n",
      "Epoch: 086, Loss: 0.7497\n",
      "Epoch: 087, Loss: 0.7760\n",
      "Epoch: 088, Loss: 0.7419\n",
      "Epoch: 089, Loss: 0.6595\n",
      "Epoch: 090, Loss: 0.6746\n",
      "Epoch: 091, Loss: 0.7432\n",
      "Epoch: 092, Loss: 0.6609\n",
      "Epoch: 093, Loss: 0.6607\n",
      "Epoch: 094, Loss: 0.6884\n",
      "Epoch: 095, Loss: 0.6596\n",
      "Epoch: 096, Loss: 0.6456\n",
      "Epoch: 097, Loss: 0.6383\n",
      "Epoch: 098, Loss: 0.7031\n",
      "Epoch: 099, Loss: 0.6437\n",
      "Epoch: 100, Loss: 0.6375\n"
     ]
    }
   ],
   "source": [
    "# from IPython.display import Javascript  # Restrict height of output cell.\n",
    "# display(Javascript('''google.colab.output.setIframeHeight(0, true, {maxHeight: 300})'''))\n",
    "\n",
    "model = GCN(hidden_channels=16)\n",
    "if enable_wandb:\n",
    "    wandb.watch(model)\n",
    "\n",
    "optimizer = torch.optim.Adam(model.parameters(), lr=0.01, weight_decay=5e-4)\n",
    "criterion = torch.nn.CrossEntropyLoss()\n",
    "\n",
    "def train():\n",
    "      model.train()\n",
    "      optimizer.zero_grad()  # Clear gradients.\n",
    "      out = model(data.x, data.edge_index)  # Perform a single forward pass.\n",
    "      loss = criterion(out[data.train_mask], data.y[data.train_mask])  # Compute the loss solely based on the training nodes.\n",
    "      loss.backward()  # Derive gradients.\n",
    "      optimizer.step()  # Update parameters based on gradients.\n",
    "      return loss\n",
    "\n",
    "def test():\n",
    "      model.eval()\n",
    "      out = model(data.x, data.edge_index)\n",
    "      pred = out.argmax(dim=1)  # Use the class with highest probability.\n",
    "      test_correct = pred[data.test_mask] == data.y[data.test_mask]  # Check against ground-truth labels.\n",
    "      test_acc = int(test_correct.sum()) / int(data.test_mask.sum())  # Derive ratio of correct predictions.\n",
    "      return test_acc\n",
    "\n",
    "\n",
    "for epoch in range(1, 101):\n",
    "    loss = train()\n",
    "    if enable_wandb:\n",
    "        wandb.log({\"gcn/loss\": loss})\n",
    "    print(f'Epoch: {epoch:03d}, Loss: {loss:.4f}')"
   ]
  },
  {
   "cell_type": "markdown",
   "metadata": {
    "id": "opBBGQHqg5ZO"
   },
   "source": [
    "After training the model, we can check its test accuracy:"
   ]
  },
  {
   "cell_type": "code",
   "execution_count": 13,
   "metadata": {
    "id": "8zOh6IIeI3Op"
   },
   "outputs": [
    {
     "name": "stdout",
     "output_type": "stream",
     "text": [
      "Test Accuracy: 0.8110\n"
     ]
    }
   ],
   "source": [
    "test_acc = test()\n",
    "print(f'Test Accuracy: {test_acc:.4f}')"
   ]
  },
  {
   "cell_type": "markdown",
   "metadata": {
    "id": "yhofzjaqhfY2"
   },
   "source": [
    "**There it is!**\n",
    "By simply swapping the linear layers with GNN layers, we can reach **81.5% of test accuracy**!\n",
    "This is in stark contrast to the 59% of test accuracy obtained by our MLP, indicating that relational information plays a crucial role in obtaining better performance.\n",
    "\n",
    "We can also verify that once again by looking at the output embeddings of our **trained** model, which now produces a far better clustering of nodes of the same category."
   ]
  },
  {
   "cell_type": "code",
   "execution_count": null,
   "metadata": {
    "id": "9r_VmGMukf5R"
   },
   "outputs": [],
   "source": [
    "model.eval()\n",
    "\n",
    "out = model(data.x, data.edge_index)\n",
    "\n",
    "if enable_wandb:\n",
    "    wandb.summary[\"gcn/accuracy\"] = test_acc\n",
    "    wandb.log({\"gcn/accuracy\": test_acc})\n",
    "    embedding_to_wandb(out, color=data.y, key=\"gcn/embedding/trained\")\n",
    "    wandb.finish()\n",
    "else:\n",
    "    visualize(out, data.y)"
   ]
  },
  {
   "cell_type": "markdown",
   "metadata": {
    "id": "Yu9rzEj0FvZc"
   },
   "source": [
    "## Using W&B Sweeps"
   ]
  },
  {
   "cell_type": "markdown",
   "metadata": {
    "id": "--LiS1ZNzvh1"
   },
   "source": [
    "In this section, we'll look into how we can use [W&B Sweeps](https://wandb.ai/site/sweeps/) to perform a hyper-parameter search for the GCN. For this to work, it is essential for wandb to be enabled, i.e., `enable_wandb` should be set to `True`."
   ]
  },
  {
   "cell_type": "code",
   "execution_count": 15,
   "metadata": {
    "id": "rxECXr5pziBI"
   },
   "outputs": [],
   "source": [
    "assert enable_wandb, \"W&B not enabled. Please, enable W&B and restart the notebook\""
   ]
  },
  {
   "cell_type": "code",
   "execution_count": 16,
   "metadata": {
    "id": "fP4SmcJaFu_h"
   },
   "outputs": [],
   "source": [
    "import tqdm\n",
    "\n",
    "def agent_fn():\n",
    "    wandb.init()\n",
    "    model = GCN(hidden_channels=wandb.config.hidden_channels)\n",
    "    wandb.watch(model)\n",
    "\n",
    "    with torch.no_grad():\n",
    "      out = model(data.x, data.edge_index)\n",
    "      embedding_to_wandb(out, color=data.y, key=\"gcn/embedding/init\")\n",
    "\n",
    "    optimizer = torch.optim.Adam(model.parameters(), \n",
    "                                 lr=wandb.config.lr, \n",
    "                                 weight_decay=wandb.config.weight_decay)\n",
    "    criterion = torch.nn.CrossEntropyLoss()\n",
    "\n",
    "    def train():\n",
    "          model.train()\n",
    "          optimizer.zero_grad()  # Clear gradients.\n",
    "          out = model(data.x, data.edge_index)  # Perform a single forward pass.\n",
    "          loss = criterion(out[data.train_mask], data.y[data.train_mask])  # Compute the loss solely based on the training nodes.\n",
    "          loss.backward()  # Derive gradients.\n",
    "          optimizer.step()  # Update parameters based on gradients.\n",
    "          return loss\n",
    "\n",
    "    def test():\n",
    "          model.eval()\n",
    "          out = model(data.x, data.edge_index)\n",
    "          pred = out.argmax(dim=1)  # Use the class with highest probability.\n",
    "          test_correct = pred[data.test_mask] == data.y[data.test_mask]  # Check against ground-truth labels.\n",
    "          test_acc = int(test_correct.sum()) / int(data.test_mask.sum())  # Derive ratio of correct predictions.\n",
    "          return test_acc\n",
    "\n",
    "\n",
    "    for epoch in tqdm.tqdm(range(1, 101)):\n",
    "        loss = train()\n",
    "        wandb.log({\"gcn/loss\": loss})\n",
    "\n",
    "\n",
    "    model.eval()\n",
    "\n",
    "    out = model(data.x, data.edge_index)\n",
    "    test_acc = test()\n",
    "    wandb.summary[\"gcn/accuracy\"] = test_acc\n",
    "    wandb.log({\"gcn/accuracy\": test_acc})\n",
    "    embedding_to_wandb(out, color=data.y, key=\"gcn/embedding/trained\")\n",
    "    wandb.finish()"
   ]
  },
  {
   "cell_type": "code",
   "execution_count": null,
   "metadata": {
    "id": "NkPiY3OkGH-W"
   },
   "outputs": [],
   "source": [
    "sweep_config = {\n",
    "    \"name\": \"gcn-sweep\",\n",
    "    \"method\": \"bayes\",\n",
    "    \"metric\": {\n",
    "        \"name\": \"gcn/accuracy\",\n",
    "        \"goal\": \"maximize\",\n",
    "    },\n",
    "    \"parameters\": {\n",
    "        \"hidden_channels\": {\n",
    "            \"values\": [8, 16, 32]\n",
    "        },\n",
    "        \"weight_decay\": {\n",
    "            \"distribution\": \"normal\",\n",
    "            \"mu\": 5e-4,\n",
    "            \"sigma\": 1e-5,\n",
    "        },\n",
    "        \"lr\": {\n",
    "            \"min\": 1e-4,\n",
    "            \"max\": 1e-3\n",
    "        }\n",
    "    }\n",
    "}\n",
    "\n",
    "# Register the Sweep with W&B\n",
    "sweep_id = wandb.sweep(sweep_config, project=\"node-classification\")"
   ]
  },
  {
   "cell_type": "code",
   "execution_count": null,
   "metadata": {
    "id": "srGUZVbUNqMx"
   },
   "outputs": [],
   "source": [
    "# Run the Sweeps agent\n",
    "wandb.agent(sweep_id, project=\"node-classification\", function=agent_fn, count=50)"
   ]
  },
  {
   "cell_type": "markdown",
   "metadata": {
    "id": "paMH3_7ejSg4"
   },
   "source": [
    "## Conclusion\n",
    "\n",
    "In this chapter, you have seen how to apply GNNs to real-world problems, and, in particular, how they can effectively be used for boosting a model's performance.\n",
    "In the next section, we will look into how GNNs can be used for the task of graph classification.\n",
    "\n",
    "[Next: Graph Classification with Graph Neural Networks](https://colab.research.google.com/drive/1I8a0DfQ3fI7Njc62__mVXUlcAleUclnb)"
   ]
  },
  {
   "cell_type": "markdown",
   "metadata": {
    "id": "S-q6Do4INLET"
   },
   "source": [
    "## (Optional) Exercises\n",
    "\n",
    "1. To achieve better model performance and to avoid overfitting, it is usually a good idea to select the best model based on an additional validation set.\n",
    "The `Cora` dataset provides a validation node set as `data.val_mask`, but we haven't used it yet.\n",
    "Can you modify the code to select and test the model with the highest validation performance?\n",
    "This should bring test performance to **82% accuracy**.\n",
    "\n",
    "2. How does `GCN` behave when increasing the hidden feature dimensionality or the number of layers?\n",
    "Does increasing the number of layers help at all?\n",
    "\n",
    "3. You can try to use different GNN layers to see how model performance changes. What happens if you swap out all `GCNConv` instances with [`GATConv`](https://pytorch-geometric.readthedocs.io/en/latest/modules/nn.html#torch_geometric.nn.conv.GATConv) layers that make use of attention? Try to write a 2-layer `GAT` model that makes use of 8 attention heads in the first layer and 1 attention head in the second layer, uses a `dropout` ratio of `0.6` inside and outside each `GATConv` call, and uses a `hidden_channels` dimensions of `8` per head."
   ]
  },
  {
   "cell_type": "code",
   "execution_count": 32,
   "metadata": {
    "id": "pcr9joFQ6Mri"
   },
   "outputs": [
    {
     "name": "stdout",
     "output_type": "stream",
     "text": [
      "GAT(\n",
      "  (conv1): GATConv(1433, 8, heads=8)\n",
      "  (conv2): GATConv(64, 7, heads=1)\n",
      ")\n",
      "Epoch: 001, Loss: 1.9442, Val: 0.2680, Test: 0.2660\n",
      "Epoch: 002, Loss: 1.9398, Val: 0.2860, Test: 0.2720\n",
      "Epoch: 003, Loss: 1.9282, Val: 0.3740, Test: 0.3620\n",
      "Epoch: 004, Loss: 1.9240, Val: 0.4820, Test: 0.4830\n",
      "Epoch: 005, Loss: 1.9211, Val: 0.4620, Test: 0.4640\n",
      "Epoch: 006, Loss: 1.9166, Val: 0.5820, Test: 0.6000\n",
      "Epoch: 007, Loss: 1.9032, Val: 0.6820, Test: 0.6870\n",
      "Epoch: 008, Loss: 1.8941, Val: 0.7080, Test: 0.7190\n",
      "Epoch: 009, Loss: 1.8846, Val: 0.7160, Test: 0.7310\n",
      "Epoch: 010, Loss: 1.8877, Val: 0.7380, Test: 0.7500\n",
      "Epoch: 011, Loss: 1.8799, Val: 0.7400, Test: 0.7530\n",
      "Epoch: 012, Loss: 1.8698, Val: 0.7480, Test: 0.7610\n",
      "Epoch: 013, Loss: 1.8729, Val: 0.7520, Test: 0.7880\n",
      "Epoch: 014, Loss: 1.8471, Val: 0.7700, Test: 0.7990\n",
      "Epoch: 015, Loss: 1.8432, Val: 0.7680, Test: 0.7920\n",
      "Epoch: 016, Loss: 1.8459, Val: 0.7680, Test: 0.7900\n",
      "Epoch: 017, Loss: 1.8252, Val: 0.7820, Test: 0.7890\n",
      "Epoch: 018, Loss: 1.8128, Val: 0.7800, Test: 0.7870\n",
      "Epoch: 019, Loss: 1.8182, Val: 0.7880, Test: 0.7880\n",
      "Epoch: 020, Loss: 1.7892, Val: 0.7920, Test: 0.7930\n",
      "Epoch: 021, Loss: 1.7974, Val: 0.7840, Test: 0.8000\n",
      "Epoch: 022, Loss: 1.7842, Val: 0.7780, Test: 0.8030\n",
      "Epoch: 023, Loss: 1.7564, Val: 0.7660, Test: 0.7920\n",
      "Epoch: 024, Loss: 1.7729, Val: 0.7720, Test: 0.7840\n",
      "Epoch: 025, Loss: 1.7247, Val: 0.7740, Test: 0.7780\n",
      "Epoch: 026, Loss: 1.7577, Val: 0.7580, Test: 0.7650\n",
      "Epoch: 027, Loss: 1.7140, Val: 0.7560, Test: 0.7460\n",
      "Epoch: 028, Loss: 1.7291, Val: 0.7580, Test: 0.7430\n",
      "Epoch: 029, Loss: 1.7042, Val: 0.7580, Test: 0.7370\n",
      "Epoch: 030, Loss: 1.6777, Val: 0.7580, Test: 0.7320\n",
      "Epoch: 031, Loss: 1.7013, Val: 0.7640, Test: 0.7400\n",
      "Epoch: 032, Loss: 1.6875, Val: 0.7700, Test: 0.7480\n",
      "Epoch: 033, Loss: 1.6333, Val: 0.7760, Test: 0.7580\n",
      "Epoch: 034, Loss: 1.6270, Val: 0.7820, Test: 0.7780\n",
      "Epoch: 035, Loss: 1.5962, Val: 0.7820, Test: 0.7790\n",
      "Epoch: 036, Loss: 1.6522, Val: 0.7920, Test: 0.7880\n",
      "Epoch: 037, Loss: 1.5936, Val: 0.7940, Test: 0.7930\n",
      "Epoch: 038, Loss: 1.6122, Val: 0.8020, Test: 0.8030\n",
      "Epoch: 039, Loss: 1.5352, Val: 0.8060, Test: 0.8080\n",
      "Epoch: 040, Loss: 1.5734, Val: 0.8080, Test: 0.8150\n",
      "Epoch: 041, Loss: 1.4901, Val: 0.8080, Test: 0.8180\n",
      "Epoch: 042, Loss: 1.5120, Val: 0.8040, Test: 0.8190\n",
      "Epoch: 043, Loss: 1.4829, Val: 0.8000, Test: 0.8230\n",
      "Epoch: 044, Loss: 1.5125, Val: 0.8020, Test: 0.8230\n",
      "Epoch: 045, Loss: 1.5164, Val: 0.8040, Test: 0.8230\n",
      "Epoch: 046, Loss: 1.4329, Val: 0.8100, Test: 0.8210\n",
      "Epoch: 047, Loss: 1.4720, Val: 0.8080, Test: 0.8200\n",
      "Epoch: 048, Loss: 1.4141, Val: 0.8020, Test: 0.8160\n",
      "Epoch: 049, Loss: 1.4266, Val: 0.8020, Test: 0.8170\n",
      "Epoch: 050, Loss: 1.4410, Val: 0.7980, Test: 0.8170\n",
      "Epoch: 051, Loss: 1.4411, Val: 0.7980, Test: 0.8160\n",
      "Epoch: 052, Loss: 1.3638, Val: 0.7960, Test: 0.8170\n",
      "Epoch: 053, Loss: 1.4005, Val: 0.7920, Test: 0.8130\n",
      "Epoch: 054, Loss: 1.3491, Val: 0.7900, Test: 0.8090\n",
      "Epoch: 055, Loss: 1.3265, Val: 0.7920, Test: 0.8110\n",
      "Epoch: 056, Loss: 1.4307, Val: 0.7940, Test: 0.8020\n",
      "Epoch: 057, Loss: 1.2772, Val: 0.7920, Test: 0.8040\n",
      "Epoch: 058, Loss: 1.3646, Val: 0.7880, Test: 0.8020\n",
      "Epoch: 059, Loss: 1.2733, Val: 0.7880, Test: 0.8010\n",
      "Epoch: 060, Loss: 1.2890, Val: 0.7860, Test: 0.7990\n",
      "Epoch: 061, Loss: 1.2712, Val: 0.7840, Test: 0.8010\n",
      "Epoch: 062, Loss: 1.3131, Val: 0.7800, Test: 0.7990\n",
      "Epoch: 063, Loss: 1.2414, Val: 0.7860, Test: 0.8000\n",
      "Epoch: 064, Loss: 1.2593, Val: 0.7960, Test: 0.7980\n",
      "Epoch: 065, Loss: 1.2376, Val: 0.7960, Test: 0.8000\n",
      "Epoch: 066, Loss: 1.2993, Val: 0.7900, Test: 0.7980\n",
      "Epoch: 067, Loss: 1.1746, Val: 0.7880, Test: 0.8030\n",
      "Epoch: 068, Loss: 1.2543, Val: 0.7900, Test: 0.8020\n",
      "Epoch: 069, Loss: 1.2183, Val: 0.7940, Test: 0.8020\n",
      "Epoch: 070, Loss: 1.1632, Val: 0.7940, Test: 0.7990\n",
      "Epoch: 071, Loss: 1.1631, Val: 0.7980, Test: 0.8030\n",
      "Epoch: 072, Loss: 1.0818, Val: 0.7980, Test: 0.7970\n",
      "Epoch: 073, Loss: 1.1275, Val: 0.7980, Test: 0.7980\n",
      "Epoch: 074, Loss: 1.0822, Val: 0.7980, Test: 0.7990\n",
      "Epoch: 075, Loss: 1.1707, Val: 0.8000, Test: 0.8000\n",
      "Epoch: 076, Loss: 1.1509, Val: 0.8040, Test: 0.8020\n",
      "Epoch: 077, Loss: 1.0767, Val: 0.8020, Test: 0.8020\n",
      "Epoch: 078, Loss: 1.1139, Val: 0.8020, Test: 0.8010\n",
      "Epoch: 079, Loss: 1.1518, Val: 0.7980, Test: 0.8000\n",
      "Epoch: 080, Loss: 1.0266, Val: 0.7940, Test: 0.8020\n",
      "Epoch: 081, Loss: 1.0675, Val: 0.7920, Test: 0.8020\n",
      "Epoch: 082, Loss: 1.0870, Val: 0.7920, Test: 0.8000\n",
      "Epoch: 083, Loss: 1.0169, Val: 0.7900, Test: 0.8010\n",
      "Epoch: 084, Loss: 0.9710, Val: 0.7920, Test: 0.8020\n",
      "Epoch: 085, Loss: 1.1048, Val: 0.7920, Test: 0.8000\n",
      "Epoch: 086, Loss: 1.0088, Val: 0.7920, Test: 0.8020\n",
      "Epoch: 087, Loss: 0.9880, Val: 0.7940, Test: 0.8050\n",
      "Epoch: 088, Loss: 1.0503, Val: 0.7980, Test: 0.8040\n",
      "Epoch: 089, Loss: 1.0239, Val: 0.7960, Test: 0.8040\n",
      "Epoch: 090, Loss: 1.0279, Val: 0.7920, Test: 0.8070\n",
      "Epoch: 091, Loss: 1.0774, Val: 0.7900, Test: 0.8070\n",
      "Epoch: 092, Loss: 0.9331, Val: 0.7940, Test: 0.8080\n",
      "Epoch: 093, Loss: 0.9973, Val: 0.7900, Test: 0.8070\n",
      "Epoch: 094, Loss: 0.9743, Val: 0.7940, Test: 0.8070\n",
      "Epoch: 095, Loss: 0.9499, Val: 0.7940, Test: 0.8100\n",
      "Epoch: 096, Loss: 1.0062, Val: 0.7960, Test: 0.8060\n",
      "Epoch: 097, Loss: 0.9607, Val: 0.8020, Test: 0.8120\n",
      "Epoch: 098, Loss: 0.9859, Val: 0.8040, Test: 0.8130\n",
      "Epoch: 099, Loss: 0.9307, Val: 0.8060, Test: 0.8120\n",
      "Epoch: 100, Loss: 0.9841, Val: 0.8140, Test: 0.8120\n",
      "Epoch: 101, Loss: 1.0277, Val: 0.8140, Test: 0.8080\n",
      "Epoch: 102, Loss: 0.9114, Val: 0.8200, Test: 0.8090\n",
      "Epoch: 103, Loss: 0.9208, Val: 0.8160, Test: 0.8150\n",
      "Epoch: 104, Loss: 0.9161, Val: 0.8180, Test: 0.8140\n",
      "Epoch: 105, Loss: 0.8903, Val: 0.8140, Test: 0.8140\n",
      "Epoch: 106, Loss: 0.9568, Val: 0.8140, Test: 0.8160\n",
      "Epoch: 107, Loss: 0.9000, Val: 0.8060, Test: 0.8160\n",
      "Epoch: 108, Loss: 0.8524, Val: 0.8060, Test: 0.8170\n",
      "Epoch: 109, Loss: 1.0156, Val: 0.8060, Test: 0.8160\n",
      "Epoch: 110, Loss: 0.9192, Val: 0.8020, Test: 0.8120\n",
      "Epoch: 111, Loss: 0.9475, Val: 0.7980, Test: 0.8150\n",
      "Epoch: 112, Loss: 0.9696, Val: 0.8000, Test: 0.8140\n",
      "Epoch: 113, Loss: 0.8096, Val: 0.8000, Test: 0.8150\n",
      "Epoch: 114, Loss: 0.8566, Val: 0.8020, Test: 0.8130\n",
      "Epoch: 115, Loss: 0.8836, Val: 0.8040, Test: 0.8150\n",
      "Epoch: 116, Loss: 0.8872, Val: 0.8040, Test: 0.8140\n",
      "Epoch: 117, Loss: 0.8857, Val: 0.8020, Test: 0.8150\n",
      "Epoch: 118, Loss: 0.8941, Val: 0.8060, Test: 0.8190\n",
      "Epoch: 119, Loss: 0.8946, Val: 0.8080, Test: 0.8200\n",
      "Epoch: 120, Loss: 0.8932, Val: 0.8060, Test: 0.8170\n",
      "Epoch: 121, Loss: 0.8594, Val: 0.8040, Test: 0.8160\n",
      "Epoch: 122, Loss: 0.9081, Val: 0.8060, Test: 0.8160\n",
      "Epoch: 123, Loss: 0.8412, Val: 0.8060, Test: 0.8160\n",
      "Epoch: 124, Loss: 0.8700, Val: 0.8100, Test: 0.8190\n",
      "Epoch: 125, Loss: 0.7985, Val: 0.8080, Test: 0.8220\n",
      "Epoch: 126, Loss: 0.7417, Val: 0.8060, Test: 0.8230\n",
      "Epoch: 127, Loss: 0.8938, Val: 0.8080, Test: 0.8240\n",
      "Epoch: 128, Loss: 0.8232, Val: 0.8060, Test: 0.8250\n",
      "Epoch: 129, Loss: 0.9651, Val: 0.8080, Test: 0.8260\n",
      "Epoch: 130, Loss: 0.7675, Val: 0.8100, Test: 0.8240\n",
      "Epoch: 131, Loss: 0.9292, Val: 0.8100, Test: 0.8220\n",
      "Epoch: 132, Loss: 0.7900, Val: 0.8080, Test: 0.8200\n",
      "Epoch: 133, Loss: 0.7838, Val: 0.8060, Test: 0.8170\n",
      "Epoch: 134, Loss: 0.7953, Val: 0.8060, Test: 0.8140\n",
      "Epoch: 135, Loss: 0.9099, Val: 0.8060, Test: 0.8130\n",
      "Epoch: 136, Loss: 0.8378, Val: 0.8040, Test: 0.8090\n",
      "Epoch: 137, Loss: 0.8383, Val: 0.7960, Test: 0.8090\n",
      "Epoch: 138, Loss: 0.7474, Val: 0.7940, Test: 0.8110\n",
      "Epoch: 139, Loss: 0.8183, Val: 0.7920, Test: 0.8070\n",
      "Epoch: 140, Loss: 0.8193, Val: 0.7920, Test: 0.8050\n",
      "Epoch: 141, Loss: 0.8114, Val: 0.7940, Test: 0.8030\n",
      "Epoch: 142, Loss: 0.8264, Val: 0.7920, Test: 0.8030\n",
      "Epoch: 143, Loss: 0.7286, Val: 0.7960, Test: 0.8040\n",
      "Epoch: 144, Loss: 0.8243, Val: 0.7980, Test: 0.8050\n",
      "Epoch: 145, Loss: 0.8658, Val: 0.8000, Test: 0.8050\n",
      "Epoch: 146, Loss: 0.8029, Val: 0.8020, Test: 0.8070\n",
      "Epoch: 147, Loss: 0.8127, Val: 0.8000, Test: 0.8090\n",
      "Epoch: 148, Loss: 0.7576, Val: 0.8060, Test: 0.8130\n",
      "Epoch: 149, Loss: 0.6674, Val: 0.8080, Test: 0.8210\n",
      "Epoch: 150, Loss: 0.8316, Val: 0.8140, Test: 0.8260\n",
      "Epoch: 151, Loss: 0.8275, Val: 0.8180, Test: 0.8270\n",
      "Epoch: 152, Loss: 0.8434, Val: 0.8160, Test: 0.8290\n",
      "Epoch: 153, Loss: 0.9301, Val: 0.8140, Test: 0.8310\n",
      "Epoch: 154, Loss: 0.7763, Val: 0.8120, Test: 0.8310\n",
      "Epoch: 155, Loss: 0.7662, Val: 0.8100, Test: 0.8310\n",
      "Epoch: 156, Loss: 0.7997, Val: 0.8060, Test: 0.8290\n",
      "Epoch: 157, Loss: 0.7296, Val: 0.8040, Test: 0.8240\n",
      "Epoch: 158, Loss: 0.7622, Val: 0.8000, Test: 0.8220\n",
      "Epoch: 159, Loss: 0.8144, Val: 0.7940, Test: 0.8180\n",
      "Epoch: 160, Loss: 0.7343, Val: 0.7960, Test: 0.8140\n",
      "Epoch: 161, Loss: 0.7731, Val: 0.7920, Test: 0.8120\n",
      "Epoch: 162, Loss: 0.7364, Val: 0.7840, Test: 0.8080\n",
      "Epoch: 163, Loss: 0.7949, Val: 0.7900, Test: 0.8070\n",
      "Epoch: 164, Loss: 0.7287, Val: 0.7880, Test: 0.8050\n",
      "Epoch: 165, Loss: 0.7974, Val: 0.7860, Test: 0.7970\n",
      "Epoch: 166, Loss: 0.6848, Val: 0.7900, Test: 0.7970\n",
      "Epoch: 167, Loss: 0.6555, Val: 0.7900, Test: 0.8000\n",
      "Epoch: 168, Loss: 0.6958, Val: 0.7900, Test: 0.8020\n",
      "Epoch: 169, Loss: 0.8070, Val: 0.7920, Test: 0.8030\n",
      "Epoch: 170, Loss: 0.7806, Val: 0.8020, Test: 0.8050\n",
      "Epoch: 171, Loss: 0.8483, Val: 0.8020, Test: 0.8090\n",
      "Epoch: 172, Loss: 0.7004, Val: 0.8040, Test: 0.8090\n",
      "Epoch: 173, Loss: 0.7916, Val: 0.8040, Test: 0.8140\n",
      "Epoch: 174, Loss: 0.7581, Val: 0.8100, Test: 0.8130\n",
      "Epoch: 175, Loss: 0.6753, Val: 0.8080, Test: 0.8180\n",
      "Epoch: 176, Loss: 0.8322, Val: 0.8080, Test: 0.8210\n",
      "Epoch: 177, Loss: 0.6945, Val: 0.8100, Test: 0.8230\n",
      "Epoch: 178, Loss: 0.8020, Val: 0.8120, Test: 0.8280\n",
      "Epoch: 179, Loss: 0.6372, Val: 0.8140, Test: 0.8290\n",
      "Epoch: 180, Loss: 0.7657, Val: 0.8100, Test: 0.8260\n",
      "Epoch: 181, Loss: 0.8001, Val: 0.8080, Test: 0.8260\n",
      "Epoch: 182, Loss: 0.7520, Val: 0.8080, Test: 0.8290\n",
      "Epoch: 183, Loss: 0.6406, Val: 0.8040, Test: 0.8260\n",
      "Epoch: 184, Loss: 0.7105, Val: 0.8060, Test: 0.8220\n",
      "Epoch: 185, Loss: 0.8111, Val: 0.8060, Test: 0.8170\n",
      "Epoch: 186, Loss: 0.7277, Val: 0.7980, Test: 0.8170\n",
      "Epoch: 187, Loss: 0.7002, Val: 0.7980, Test: 0.8150\n",
      "Epoch: 188, Loss: 0.6906, Val: 0.7980, Test: 0.8130\n",
      "Epoch: 189, Loss: 0.7586, Val: 0.7980, Test: 0.8120\n",
      "Epoch: 190, Loss: 0.7072, Val: 0.7980, Test: 0.8140\n",
      "Epoch: 191, Loss: 0.7949, Val: 0.7980, Test: 0.8170\n",
      "Epoch: 192, Loss: 0.6978, Val: 0.7960, Test: 0.8140\n",
      "Epoch: 193, Loss: 0.7212, Val: 0.7980, Test: 0.8110\n",
      "Epoch: 194, Loss: 0.7530, Val: 0.7980, Test: 0.8110\n",
      "Epoch: 195, Loss: 0.6606, Val: 0.8020, Test: 0.8130\n",
      "Epoch: 196, Loss: 0.6922, Val: 0.7980, Test: 0.8140\n",
      "Epoch: 197, Loss: 0.6684, Val: 0.8020, Test: 0.8180\n",
      "Epoch: 198, Loss: 0.7610, Val: 0.8060, Test: 0.8230\n",
      "Epoch: 199, Loss: 0.8197, Val: 0.8060, Test: 0.8260\n",
      "Epoch: 200, Loss: 0.6495, Val: 0.8060, Test: 0.8250\n"
     ]
    }
   ],
   "source": [
    "from torch_geometric.nn import GATConv\n",
    "\n",
    "\n",
    "class GAT(torch.nn.Module):\n",
    "    def __init__(self, hidden_channels, heads):\n",
    "        super().__init__()\n",
    "        torch.manual_seed(1234567)\n",
    "        self.conv1 = GATConv(in_channels=dataset.num_features,\n",
    "                             out_channels=hidden_channels,\n",
    "                            heads=heads,\n",
    "                            dropout=0.6)  # TODO\n",
    "        self.conv2 = GATConv(in_channels=hidden_channels* heads,\n",
    "                            out_channels=dataset.num_classes,\n",
    "                            heads=1,\n",
    "                            dropout=0.6)  # TODO\n",
    "\n",
    "    def forward(self, x, edge_index):\n",
    "        x = F.dropout(x, p=0.6, training=self.training)\n",
    "        x = self.conv1(x, edge_index)\n",
    "        x = F.elu(x)\n",
    "        x = F.dropout(x, p=0.6, training=self.training)\n",
    "        x = self.conv2(x, edge_index)\n",
    "        return x\n",
    "\n",
    "model = GAT(hidden_channels=8, heads=8)\n",
    "print(model)\n",
    "\n",
    "optimizer = torch.optim.Adam(model.parameters(), lr=0.005, weight_decay=5e-4)\n",
    "criterion = torch.nn.CrossEntropyLoss()\n",
    "\n",
    "def train():\n",
    "      model.train()\n",
    "      optimizer.zero_grad()  # Clear gradients.\n",
    "      out = model(data.x, data.edge_index)  # Perform a single forward pass.\n",
    "      loss = criterion(out[data.train_mask], data.y[data.train_mask])  # Compute the loss solely based on the training nodes.\n",
    "      loss.backward()  # Derive gradients.\n",
    "      optimizer.step()  # Update parameters based on gradients.\n",
    "      return loss\n",
    "\n",
    "def test(mask):\n",
    "      model.eval()\n",
    "      out = model(data.x, data.edge_index)\n",
    "      pred = out.argmax(dim=1)  # Use the class with highest probability.\n",
    "      correct = pred[mask] == data.y[mask]  # Check against ground-truth labels.\n",
    "      acc = int(correct.sum()) / int(mask.sum())  # Derive ratio of correct predictions.\n",
    "      return acc\n",
    "\n",
    "\n",
    "for epoch in range(1, 201):\n",
    "    loss = train()\n",
    "    val_acc = test(data.val_mask)\n",
    "    test_acc = test(data.test_mask)\n",
    "    print(f'Epoch: {epoch:03d}, Loss: {loss:.4f}, Val: {val_acc:.4f}, Test: {test_acc:.4f}')"
   ]
  }
 ],
 "metadata": {
  "colab": {
   "collapsed_sections": [],
   "name": "8. Node Classification (with W&B).ipynb",
   "provenance": []
  },
  "kernelspec": {
   "display_name": "Python 3.8.13 ('rtd')",
   "language": "python",
   "name": "python3"
  },
  "language_info": {
   "codemirror_mode": {
    "name": "ipython",
    "version": 3
   },
   "file_extension": ".py",
   "mimetype": "text/x-python",
   "name": "python",
   "nbconvert_exporter": "python",
   "pygments_lexer": "ipython3",
   "version": "3.8.13"
  },
  "vscode": {
   "interpreter": {
    "hash": "bcfaf3da971f87b91721743b1e9712a94e5baf8041af4e0a049618a6443e430e"
   }
  }
 },
 "nbformat": 4,
 "nbformat_minor": 1
}
