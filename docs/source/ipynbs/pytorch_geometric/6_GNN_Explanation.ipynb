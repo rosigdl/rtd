{
 "cells": [
  {
   "cell_type": "code",
   "execution_count": 1,
   "metadata": {
    "colab": {
     "base_uri": "https://localhost:8080/"
    },
    "id": "F1op-CbyLuN4",
    "outputId": "ad391923-6515-4737-dec5-abb4b76778ea"
   },
   "outputs": [
    {
     "name": "stdout",
     "output_type": "stream",
     "text": [
      "1.11.0\n"
     ]
    }
   ],
   "source": [
    "# Install required packages.\n",
    "import os\n",
    "import torch\n",
    "os.environ['TORCH'] = torch.__version__\n",
    "print(torch.__version__)\n",
    "\n",
    "# !pip install -q torch-scatter -f https://data.pyg.org/whl/torch-${TORCH}.html\n",
    "# !pip install -q torch-sparse -f https://data.pyg.org/whl/torch-${TORCH}.html\n",
    "# !pip install -q git+https://github.com/pyg-team/pytorch_geometric.git\n",
    "# !pip install -q captum\n",
    "\n",
    "# Helper function for visualization.\n",
    "%matplotlib inline\n",
    "import matplotlib.pyplot as plt"
   ]
  },
  {
   "cell_type": "markdown",
   "metadata": {
    "id": "nMTL0kk0seBw"
   },
   "source": [
    "# 6. Explaining GNN Model Predictions using Captum\n",
    "\n",
    "In this tutorial we demonstrate how to apply feature attribution methods to graphs. Specifically, we try to find the most important edges for each instance prediction.  \n",
    "\n",
    "We use the Mutagenicity dataset from [TUDatasets](https://chrsmrrs.github.io/datasets/). This dataset consists of 4337 molecule graphs where the task is to predict the molecule mutagenicity."
   ]
  },
  {
   "cell_type": "markdown",
   "metadata": {
    "id": "mJtgD2A1uJAa"
   },
   "source": [
    "## Loading the dataset\n",
    "\n",
    "We load the dataset and use 10% of the data as the test split."
   ]
  },
  {
   "cell_type": "code",
   "execution_count": 2,
   "metadata": {
    "colab": {
     "base_uri": "https://localhost:8080/"
    },
    "id": "SE2iREv4q2dL",
    "outputId": "25b13669-9aa3-44d1-cd9a-62d357b466ee"
   },
   "outputs": [],
   "source": [
    "from torch_geometric.loader import DataLoader\n",
    "from torch_geometric.datasets import TUDataset\n",
    "\n",
    "path = '.'\n",
    "dataset = TUDataset(path, name='Mutagenicity').shuffle()\n",
    "test_dataset = dataset[:len(dataset) // 10]\n",
    "train_dataset = dataset[len(dataset) // 10:]\n",
    "test_loader = DataLoader(test_dataset, batch_size=128)\n",
    "train_loader = DataLoader(train_dataset, batch_size=128)"
   ]
  },
  {
   "cell_type": "markdown",
   "metadata": {
    "id": "g35SSQ3oukNM"
   },
   "source": [
    "## Visualizing the data\n",
    "\n",
    "We define some utility functions for visualizing the molecules and draw a random molecule."
   ]
  },
  {
   "cell_type": "code",
   "execution_count": 3,
   "metadata": {
    "id": "9Hh3YNASuYxm"
   },
   "outputs": [],
   "source": [
    "import networkx as nx\n",
    "import numpy as np\n",
    "\n",
    "from torch_geometric.utils import to_networkx\n",
    "\n",
    "\n",
    "def draw_molecule(g, edge_mask=None, draw_edge_labels=False):\n",
    "    g = g.copy().to_undirected()\n",
    "    node_labels = {}\n",
    "    for u, data in g.nodes(data=True):\n",
    "        node_labels[u] = data['name']\n",
    "    pos = nx.planar_layout(g)\n",
    "    pos = nx.spring_layout(g, pos=pos)\n",
    "    if edge_mask is None:\n",
    "        edge_color = 'black'\n",
    "        widths = None\n",
    "    else:\n",
    "        edge_color = [edge_mask[(u, v)] for u, v in g.edges()]\n",
    "        widths = [x * 10 for x in edge_color]\n",
    "    nx.draw(g, pos=pos, labels=node_labels, width=widths,\n",
    "            edge_color=edge_color, edge_cmap=plt.cm.Blues,\n",
    "            node_color='azure')\n",
    "    \n",
    "    if draw_edge_labels and edge_mask is not None:\n",
    "        edge_labels = {k: ('%.2f' % v) for k, v in edge_mask.items()}    \n",
    "        nx.draw_networkx_edge_labels(g, pos, edge_labels=edge_labels,\n",
    "                                    font_color='red')\n",
    "    plt.show()\n",
    "\n",
    "\n",
    "def to_molecule(data):\n",
    "    ATOM_MAP = ['C', 'O', 'Cl', 'H', 'N', 'F',\n",
    "                'Br', 'S', 'P', 'I', 'Na', 'K', 'Li', 'Ca']\n",
    "    g = to_networkx(data, node_attrs=['x'])\n",
    "    for u, data in g.nodes(data=True):\n",
    "        data['name'] = ATOM_MAP[data['x'].index(1.0)]\n",
    "        del data['x']\n",
    "    return g\n"
   ]
  },
  {
   "cell_type": "markdown",
   "metadata": {
    "id": "cJ3JuTH1vV1V"
   },
   "source": [
    "## Sample visualization\n",
    "\n",
    "We sample a single molecule from train_dataset and visualize it"
   ]
  },
  {
   "cell_type": "code",
   "execution_count": 4,
   "metadata": {
    "colab": {
     "base_uri": "https://localhost:8080/",
     "height": 391
    },
    "id": "4Z2uE7zVuhXU",
    "outputId": "14795a19-032e-4836-b07d-b5fe6b594e7f"
   },
   "outputs": [
    {
     "data": {
      "image/png": "[encoded data removed]",
      "text/plain": [
       "<Figure size 720x360 with 1 Axes>"
      ]
     },
     "metadata": {},
     "output_type": "display_data"
    }
   ],
   "source": [
    "import random\n",
    "\n",
    "data = random.choice([t for t in train_dataset])\n",
    "mol = to_molecule(data)\n",
    "plt.figure(figsize=(10, 5))\n",
    "draw_molecule(mol)"
   ]
  },
  {
   "cell_type": "markdown",
   "metadata": {
    "id": "6kZo9g1hwCGG"
   },
   "source": [
    "## Training the model\n",
    "\n",
    "In the next section, we train a GNN model with 5 convolution layers. We use GraphConv which supports `edge_weight` as a parameter. Many convolution layers in Pytorch Geometric supoort this argument."
   ]
  },
  {
   "cell_type": "markdown",
   "metadata": {
    "id": "GBVIOfMCCHAb"
   },
   "source": [
    "### Define the model"
   ]
  },
  {
   "cell_type": "code",
   "execution_count": 5,
   "metadata": {
    "id": "iI1qpFUhrA2p"
   },
   "outputs": [],
   "source": [
    "import torch\n",
    "from torch.nn import Linear\n",
    "import torch.nn.functional as F\n",
    "\n",
    "from torch_geometric.nn import GraphConv, global_add_pool\n",
    "\n",
    "class Net(torch.nn.Module):\n",
    "    def __init__(self, dim):\n",
    "        super(Net, self).__init__()\n",
    "\n",
    "        num_features = dataset.num_features\n",
    "        self.dim = dim\n",
    "\n",
    "        self.conv1 = GraphConv(num_features, dim)\n",
    "        self.conv2 = GraphConv(dim, dim)\n",
    "        self.conv3 = GraphConv(dim, dim)\n",
    "        self.conv4 = GraphConv(dim, dim)\n",
    "        self.conv5 = GraphConv(dim, dim)\n",
    "\n",
    "        self.lin1 = Linear(dim, dim)\n",
    "        self.lin2 = Linear(dim, dataset.num_classes)\n",
    "\n",
    "    def forward(self, x, edge_index, batch, edge_weight=None):\n",
    "        x = self.conv1(x, edge_index, edge_weight).relu()\n",
    "        x = self.conv2(x, edge_index, edge_weight).relu()\n",
    "        x = self.conv3(x, edge_index, edge_weight).relu()\n",
    "        x = self.conv4(x, edge_index, edge_weight).relu()\n",
    "        x = self.conv5(x, edge_index, edge_weight).relu()\n",
    "        x = global_add_pool(x, batch)\n",
    "        x = self.lin1(x).relu()\n",
    "        x = F.dropout(x, p=0.5, training=self.training)\n",
    "        x = self.lin2(x)\n",
    "        return F.log_softmax(x, dim=-1)\n"
   ]
  },
  {
   "cell_type": "markdown",
   "metadata": {
    "id": "L3WOZ40OCKO5"
   },
   "source": [
    "### Define train and test functions"
   ]
  },
  {
   "cell_type": "code",
   "execution_count": 6,
   "metadata": {
    "id": "ExNsODp3rKjN"
   },
   "outputs": [],
   "source": [
    "def train(epoch):\n",
    "    model.train()\n",
    "\n",
    "    if epoch == 51:\n",
    "        for param_group in optimizer.param_groups:\n",
    "            param_group['lr'] = 0.5 * param_group['lr']\n",
    "\n",
    "    loss_all = 0\n",
    "    for data in train_loader:\n",
    "        data = data.to(device)\n",
    "        optimizer.zero_grad()\n",
    "        output = model(data.x, data.edge_index, data.batch)\n",
    "        loss = F.nll_loss(output, data.y)\n",
    "        loss.backward()\n",
    "        loss_all += loss.item() * data.num_graphs\n",
    "        optimizer.step()\n",
    "    return loss_all / len(train_dataset)\n",
    "\n",
    "\n",
    "def test(loader):\n",
    "    model.eval()\n",
    "\n",
    "    correct = 0\n",
    "    for data in loader:\n",
    "        data = data.to(device)\n",
    "        output = model(data.x, data.edge_index, data.batch)\n",
    "        pred = output.max(dim=1)[1]\n",
    "        correct += pred.eq(data.y).sum().item()\n",
    "    return correct / len(loader.dataset)"
   ]
  },
  {
   "cell_type": "markdown",
   "metadata": {
    "id": "rsv9CQ6hCNMI"
   },
   "source": [
    "### Train the model for 100 epochs\n",
    "\n",
    "The accuracy should be around 80% in the end"
   ]
  },
  {
   "cell_type": "code",
   "execution_count": 7,
   "metadata": {
    "colab": {
     "base_uri": "https://localhost:8080/"
    },
    "id": "4imSoTlMrQdN",
    "outputId": "410f11c4-8fac-4086-80a1-46bd4c0a8709"
   },
   "outputs": [
    {
     "name": "stdout",
     "output_type": "stream",
     "text": [
      "Epoch: 001, Loss: 0.7109, Train Acc: 0.6539, Test Acc: 0.6651\n",
      "Epoch: 002, Loss: 0.6226, Train Acc: 0.6862, Test Acc: 0.6859\n",
      "Epoch: 003, Loss: 0.5847, Train Acc: 0.7111, Test Acc: 0.6975\n",
      "Epoch: 004, Loss: 0.5810, Train Acc: 0.7241, Test Acc: 0.7182\n",
      "Epoch: 005, Loss: 0.5675, Train Acc: 0.7364, Test Acc: 0.7206\n",
      "Epoch: 006, Loss: 0.5437, Train Acc: 0.7400, Test Acc: 0.7113\n",
      "Epoch: 007, Loss: 0.5419, Train Acc: 0.7564, Test Acc: 0.7413\n",
      "Epoch: 008, Loss: 0.5263, Train Acc: 0.7515, Test Acc: 0.7159\n",
      "Epoch: 009, Loss: 0.5201, Train Acc: 0.7731, Test Acc: 0.7344\n",
      "Epoch: 010, Loss: 0.5145, Train Acc: 0.7861, Test Acc: 0.7760\n",
      "Epoch: 011, Loss: 0.5038, Train Acc: 0.7828, Test Acc: 0.7529\n",
      "Epoch: 012, Loss: 0.4997, Train Acc: 0.7897, Test Acc: 0.7644\n",
      "Epoch: 013, Loss: 0.4861, Train Acc: 0.7951, Test Acc: 0.7598\n",
      "Epoch: 014, Loss: 0.4728, Train Acc: 0.7966, Test Acc: 0.7575\n",
      "Epoch: 015, Loss: 0.4796, Train Acc: 0.7969, Test Acc: 0.7621\n",
      "Epoch: 016, Loss: 0.4708, Train Acc: 0.8015, Test Acc: 0.7691\n",
      "Epoch: 017, Loss: 0.4733, Train Acc: 0.8058, Test Acc: 0.7760\n",
      "Epoch: 018, Loss: 0.4614, Train Acc: 0.8074, Test Acc: 0.7714\n",
      "Epoch: 019, Loss: 0.4577, Train Acc: 0.8135, Test Acc: 0.7783\n",
      "Epoch: 020, Loss: 0.4407, Train Acc: 0.8243, Test Acc: 0.7945\n",
      "Epoch: 021, Loss: 0.4447, Train Acc: 0.8215, Test Acc: 0.7760\n",
      "Epoch: 022, Loss: 0.4353, Train Acc: 0.8291, Test Acc: 0.7852\n",
      "Epoch: 023, Loss: 0.4267, Train Acc: 0.8212, Test Acc: 0.7829\n",
      "Epoch: 024, Loss: 0.4377, Train Acc: 0.8281, Test Acc: 0.7898\n",
      "Epoch: 025, Loss: 0.4326, Train Acc: 0.8320, Test Acc: 0.7875\n",
      "Epoch: 026, Loss: 0.4175, Train Acc: 0.8353, Test Acc: 0.7875\n",
      "Epoch: 027, Loss: 0.4142, Train Acc: 0.8381, Test Acc: 0.8037\n",
      "Epoch: 028, Loss: 0.4050, Train Acc: 0.8394, Test Acc: 0.7921\n",
      "Epoch: 029, Loss: 0.4101, Train Acc: 0.8394, Test Acc: 0.7875\n",
      "Epoch: 030, Loss: 0.4103, Train Acc: 0.8389, Test Acc: 0.7945\n",
      "Epoch: 031, Loss: 0.4033, Train Acc: 0.8412, Test Acc: 0.8014\n",
      "Epoch: 032, Loss: 0.3946, Train Acc: 0.8448, Test Acc: 0.7852\n",
      "Epoch: 033, Loss: 0.3957, Train Acc: 0.8502, Test Acc: 0.8083\n",
      "Epoch: 034, Loss: 0.3920, Train Acc: 0.8397, Test Acc: 0.7991\n",
      "Epoch: 035, Loss: 0.3902, Train Acc: 0.8445, Test Acc: 0.7991\n",
      "Epoch: 036, Loss: 0.3948, Train Acc: 0.8404, Test Acc: 0.7945\n",
      "Epoch: 037, Loss: 0.3874, Train Acc: 0.8550, Test Acc: 0.8014\n",
      "Epoch: 038, Loss: 0.3776, Train Acc: 0.8543, Test Acc: 0.8106\n",
      "Epoch: 039, Loss: 0.3715, Train Acc: 0.8581, Test Acc: 0.8060\n",
      "Epoch: 040, Loss: 0.3705, Train Acc: 0.8514, Test Acc: 0.8060\n",
      "Epoch: 041, Loss: 0.3660, Train Acc: 0.8589, Test Acc: 0.8106\n",
      "Epoch: 042, Loss: 0.3659, Train Acc: 0.8624, Test Acc: 0.8037\n",
      "Epoch: 043, Loss: 0.3685, Train Acc: 0.8617, Test Acc: 0.7991\n",
      "Epoch: 044, Loss: 0.3612, Train Acc: 0.8586, Test Acc: 0.7991\n",
      "Epoch: 045, Loss: 0.3624, Train Acc: 0.8624, Test Acc: 0.8245\n",
      "Epoch: 046, Loss: 0.3590, Train Acc: 0.8599, Test Acc: 0.8060\n",
      "Epoch: 047, Loss: 0.3436, Train Acc: 0.8686, Test Acc: 0.8037\n",
      "Epoch: 048, Loss: 0.3425, Train Acc: 0.8642, Test Acc: 0.8222\n",
      "Epoch: 049, Loss: 0.3469, Train Acc: 0.8665, Test Acc: 0.8176\n",
      "Epoch: 050, Loss: 0.3345, Train Acc: 0.8699, Test Acc: 0.7991\n",
      "Epoch: 051, Loss: 0.3262, Train Acc: 0.8753, Test Acc: 0.8129\n",
      "Epoch: 052, Loss: 0.3198, Train Acc: 0.8755, Test Acc: 0.8222\n",
      "Epoch: 053, Loss: 0.3167, Train Acc: 0.8735, Test Acc: 0.8245\n",
      "Epoch: 054, Loss: 0.3173, Train Acc: 0.8730, Test Acc: 0.8337\n",
      "Epoch: 055, Loss: 0.3125, Train Acc: 0.8747, Test Acc: 0.8314\n",
      "Epoch: 056, Loss: 0.3090, Train Acc: 0.8783, Test Acc: 0.8268\n",
      "Epoch: 057, Loss: 0.3097, Train Acc: 0.8837, Test Acc: 0.8360\n",
      "Epoch: 058, Loss: 0.3018, Train Acc: 0.8863, Test Acc: 0.8337\n",
      "Epoch: 059, Loss: 0.3048, Train Acc: 0.8863, Test Acc: 0.8268\n",
      "Epoch: 060, Loss: 0.3075, Train Acc: 0.8822, Test Acc: 0.8360\n",
      "Epoch: 061, Loss: 0.3042, Train Acc: 0.8860, Test Acc: 0.8360\n",
      "Epoch: 062, Loss: 0.2940, Train Acc: 0.8873, Test Acc: 0.8383\n",
      "Epoch: 063, Loss: 0.3028, Train Acc: 0.8806, Test Acc: 0.8291\n",
      "Epoch: 064, Loss: 0.2970, Train Acc: 0.8809, Test Acc: 0.8245\n",
      "Epoch: 065, Loss: 0.2973, Train Acc: 0.8904, Test Acc: 0.8199\n",
      "Epoch: 066, Loss: 0.2938, Train Acc: 0.8888, Test Acc: 0.8314\n",
      "Epoch: 067, Loss: 0.2940, Train Acc: 0.8883, Test Acc: 0.8268\n",
      "Epoch: 068, Loss: 0.2930, Train Acc: 0.8899, Test Acc: 0.8360\n",
      "Epoch: 069, Loss: 0.2825, Train Acc: 0.8911, Test Acc: 0.8337\n",
      "Epoch: 070, Loss: 0.2839, Train Acc: 0.8934, Test Acc: 0.8199\n",
      "Epoch: 071, Loss: 0.2817, Train Acc: 0.8911, Test Acc: 0.8360\n",
      "Epoch: 072, Loss: 0.2835, Train Acc: 0.8932, Test Acc: 0.8314\n",
      "Epoch: 073, Loss: 0.2915, Train Acc: 0.8927, Test Acc: 0.8222\n",
      "Epoch: 074, Loss: 0.2787, Train Acc: 0.8965, Test Acc: 0.8245\n",
      "Epoch: 075, Loss: 0.2788, Train Acc: 0.8934, Test Acc: 0.8268\n",
      "Epoch: 076, Loss: 0.2808, Train Acc: 0.8909, Test Acc: 0.8291\n",
      "Epoch: 077, Loss: 0.2809, Train Acc: 0.8832, Test Acc: 0.8222\n",
      "Epoch: 078, Loss: 0.2886, Train Acc: 0.8947, Test Acc: 0.8314\n",
      "Epoch: 079, Loss: 0.2717, Train Acc: 0.8922, Test Acc: 0.8199\n",
      "Epoch: 080, Loss: 0.2808, Train Acc: 0.8952, Test Acc: 0.8314\n",
      "Epoch: 081, Loss: 0.2700, Train Acc: 0.8888, Test Acc: 0.8360\n",
      "Epoch: 082, Loss: 0.2687, Train Acc: 0.8970, Test Acc: 0.8268\n",
      "Epoch: 083, Loss: 0.2753, Train Acc: 0.8909, Test Acc: 0.8268\n",
      "Epoch: 084, Loss: 0.2717, Train Acc: 0.8927, Test Acc: 0.8291\n",
      "Epoch: 085, Loss: 0.2644, Train Acc: 0.8991, Test Acc: 0.8337\n",
      "Epoch: 086, Loss: 0.2717, Train Acc: 0.9011, Test Acc: 0.8337\n",
      "Epoch: 087, Loss: 0.2650, Train Acc: 0.8957, Test Acc: 0.8291\n",
      "Epoch: 088, Loss: 0.2662, Train Acc: 0.8993, Test Acc: 0.8337\n",
      "Epoch: 089, Loss: 0.2629, Train Acc: 0.8942, Test Acc: 0.8291\n",
      "Epoch: 090, Loss: 0.2681, Train Acc: 0.8998, Test Acc: 0.8360\n",
      "Epoch: 091, Loss: 0.2920, Train Acc: 0.8950, Test Acc: 0.8337\n",
      "Epoch: 092, Loss: 0.2706, Train Acc: 0.8855, Test Acc: 0.8199\n",
      "Epoch: 093, Loss: 0.2753, Train Acc: 0.8916, Test Acc: 0.8245\n",
      "Epoch: 094, Loss: 0.2655, Train Acc: 0.9024, Test Acc: 0.8337\n",
      "Epoch: 095, Loss: 0.2573, Train Acc: 0.9039, Test Acc: 0.8245\n",
      "Epoch: 096, Loss: 0.2532, Train Acc: 0.9024, Test Acc: 0.8245\n",
      "Epoch: 097, Loss: 0.2481, Train Acc: 0.9022, Test Acc: 0.8337\n",
      "Epoch: 098, Loss: 0.2493, Train Acc: 0.9022, Test Acc: 0.8222\n",
      "Epoch: 099, Loss: 0.2471, Train Acc: 0.8973, Test Acc: 0.8152\n",
      "Epoch: 100, Loss: 0.2455, Train Acc: 0.9088, Test Acc: 0.8222\n"
     ]
    }
   ],
   "source": [
    "device = torch.device('cuda' if torch.cuda.is_available() else 'cpu')\n",
    "model = Net(dim=32).to(device)\n",
    "optimizer = torch.optim.Adam(model.parameters(), lr=0.001)\n",
    "\n",
    "for epoch in range(1, 101):\n",
    "    loss = train(epoch)\n",
    "    train_acc = test(train_loader)\n",
    "    test_acc = test(test_loader)\n",
    "    print(f'Epoch: {epoch:03d}, Loss: {loss:.4f}, '\n",
    "          f'Train Acc: {train_acc:.4f}, Test Acc: {test_acc:.4f}')\n"
   ]
  },
  {
   "cell_type": "markdown",
   "metadata": {
    "id": "PzX9xwFxCTff"
   },
   "source": [
    "## Explaining the predictions\n",
    "\n",
    "Now we look at two popular attribution methods. First, we calculate the gradient of the output with respect to the edge weights $w_{e_i}$. Edge weights are initially one for all edges.\n",
    "For the saliency method, we use the absolute value of the gradient as the attribution value for each edge:\n",
    "\n",
    "$$\n",
    "Attribution_{e_i} = |\\frac{\\partial F(x)}{\\partial w_{e_i}}|\n",
    "$$\n",
    "\n",
    "Where $x$ is the input and $F(x)$ is the output of the GNN model on input $x$.\n",
    "\n",
    "For Integrated Gradients method, we interpolate between the current input and a baseline input where the weight of all edges is zero and accumulate the gradient values for each edge:\n",
    "\n",
    "$$\n",
    "Attribution_{e_i} = \\int_{\\alpha =0}^1 \\frac{\\partial F(x_{\\alpha)}}{\\partial w_{e_i}} d\\alpha\n",
    "$$\n",
    "\n",
    "Where $x_{\\alpha}$ is the same as the original input graph but the weight of all edges is set to $\\alpha$. Integrated Gradients complete formulation is more complicated but since our initial edge weights are equal to one and the baseline is zero, it can be simplified to the formulation above. You can read more about this method [here](https://arxiv.org/abs/1703.01365). Of course, this can not be calculated directly and is approximated by a discrete sum.\n",
    "\n",
    "We use the [captum](https://captum.ai/) library for calculating the attribution values. We define the `model_forward` function which calculates the `batch` argument assuming that we are only explaining a single graph at a time.\n",
    "\n"
   ]
  },
  {
   "cell_type": "code",
   "execution_count": 8,
   "metadata": {
    "id": "Wz6B1NgorzAX"
   },
   "outputs": [],
   "source": [
    "from captum.attr import Saliency, IntegratedGradients\n",
    "\n",
    "def model_forward(edge_mask, data):\n",
    "    batch = torch.zeros(data.x.shape[0], dtype=int).to(device)\n",
    "    out = model(data.x, data.edge_index, batch, edge_mask)\n",
    "    return out\n",
    "\n",
    "\n",
    "def explain(method, data, target=0):\n",
    "    input_mask = torch.ones(data.edge_index.shape[1]).requires_grad_(True).to(device)\n",
    "    if method == 'ig':\n",
    "        ig = IntegratedGradients(model_forward)\n",
    "        mask = ig.attribute(input_mask, target=target,\n",
    "                            additional_forward_args=(data,),\n",
    "                            internal_batch_size=data.edge_index.shape[1])\n",
    "    elif method == 'saliency':\n",
    "        saliency = Saliency(model_forward)\n",
    "        mask = saliency.attribute(input_mask, target=target,\n",
    "                                  additional_forward_args=(data,))\n",
    "    else:\n",
    "        raise Exception('Unknown explanation method')\n",
    "\n",
    "    edge_mask = np.abs(mask.cpu().detach().numpy())\n",
    "    if edge_mask.max() > 0:  # avoid division by zero\n",
    "        edge_mask = edge_mask / edge_mask.max()\n",
    "    return edge_mask"
   ]
  },
  {
   "cell_type": "markdown",
   "metadata": {
    "id": "0FPGLRtSFacR"
   },
   "source": [
    "Finally we take a random sample from the test dataset and run the explanation methods. For a simpler visualization, we make the graph undirected and merge the explanations of each edge in both directions.\n",
    "\n",
    "It is known that NO2 substructure makes the molecules mutagenic in many cases and you can verify this by the model explanations.\n",
    "\n",
    "Mutagenic molecules have label 0 in this dataset and we only sample from those molecules but you can change the code and see the explanations for the other class as well.\n",
    "\n",
    "In this visualization, edge colors and thickness represent the importance. You can also see the numeric value by passing `draw_edge_labels` to `draw_molecule` function.\n",
    "\n",
    "As you can see Integrated Gradients tend to create more accurate explanations."
   ]
  },
  {
   "cell_type": "code",
   "execution_count": 9,
   "metadata": {
    "colab": {
     "base_uri": "https://localhost:8080/",
     "height": 621
    },
    "id": "Z1mJVbKorh5y",
    "outputId": "771555b4-e2b0-4701-984c-88537723f10c"
   },
   "outputs": [
    {
     "data": {
      "image/png": "[encoded data removed]",
      "text/plain": [
       "<Figure size 720x360 with 1 Axes>"
      ]
     },
     "metadata": {},
     "output_type": "display_data"
    },
    {
     "data": {
      "image/png": "[encoded data removed]",
      "text/plain": [
       "<Figure size 720x360 with 1 Axes>"
      ]
     },
     "metadata": {},
     "output_type": "display_data"
    }
   ],
   "source": [
    "import random\n",
    "from collections import defaultdict\n",
    "\n",
    "def aggregate_edge_directions(edge_mask, data):\n",
    "    edge_mask_dict = defaultdict(float)\n",
    "    for val, u, v in list(zip(edge_mask, *data.edge_index)):\n",
    "        u, v = u.item(), v.item()\n",
    "        if u > v:\n",
    "            u, v = v, u\n",
    "        edge_mask_dict[(u, v)] += val\n",
    "    return edge_mask_dict\n",
    "    \n",
    "\n",
    "data = random.choice([t for t in test_dataset if not t.y.item()])\n",
    "data.to(device)\n",
    "mol = to_molecule(data)\n",
    "\n",
    "for title, method in [('Integrated Gradients', 'ig'), ('Saliency', 'saliency')]:\n",
    "    edge_mask = explain(method, data, target=0)\n",
    "    edge_mask_dict = aggregate_edge_directions(edge_mask, data)\n",
    "    plt.figure(figsize=(10, 5))\n",
    "    plt.title(title)\n",
    "    draw_molecule(mol, edge_mask_dict)"
   ]
  }
 ],
 "metadata": {
  "colab": {
   "collapsed_sections": [],
   "name": "6. GNN Explanation.ipynb",
   "provenance": []
  },
  "kernelspec": {
   "display_name": "Python 3.8.13 ('rtd')",
   "language": "python",
   "name": "python3"
  },
  "language_info": {
   "codemirror_mode": {
    "name": "ipython",
    "version": 3
   },
   "file_extension": ".py",
   "mimetype": "text/x-python",
   "name": "python",
   "nbconvert_exporter": "python",
   "pygments_lexer": "ipython3",
   "version": "3.8.13"
  },
  "vscode": {
   "interpreter": {
    "hash": "bcfaf3da971f87b91721743b1e9712a94e5baf8041af4e0a049618a6443e430e"
   }
  }
 },
 "nbformat": 4,
 "nbformat_minor": 1
}
