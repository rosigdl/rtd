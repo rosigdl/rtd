{
  "cells": [
    {
      "cell_type": "markdown",
      "metadata": {
        "id": "tMDVi29A8a2e"
      },
      "source": [
        "# Tutorial 6: GAE & VGAE  \n",
        "Graph AutoEncoders GAE &  \n",
        "Variational Graph Autoencoders VGAE    \n",
        "\n",
        "[paper](https://arxiv.org/pdf/1611.07308.pdf)  \n",
        "[code](https://github.com/rusty1s/pytorch_geometric/blob/master/examples/autoencoder.py)"
      ]
    },
    {
      "cell_type": "markdown",
      "metadata": {
        "id": "0Wbz9Sbl8a2f"
      },
      "source": [
        "## Graph AutoEncoder GAE"
      ]
    },
    {
      "cell_type": "code",
      "execution_count": null,
      "metadata": {
        "colab": {
          "base_uri": "https://localhost:8080/"
        },
        "id": "JRoNqAz78a2c",
        "outputId": "859eff4c-349a-446c-b189-e4c21a941bc7"
      },
      "outputs": [
        {
          "name": "stdout",
          "output_type": "stream",
          "text": [
            "1.12.1+cu113\n",
            "\u001b[K     |████████████████████████████████| 7.9 MB 2.9 MB/s \n",
            "\u001b[K     |████████████████████████████████| 3.5 MB 2.9 MB/s \n",
            "\u001b[?25h  Building wheel for torch-geometric (setup.py) ... \u001b[?25l\u001b[?25hdone\n"
          ]
        }
      ],
      "source": [
        "import os\n",
        "import torch\n",
        "os.environ['TORCH'] = torch.__version__\n",
        "print(torch.__version__)\n",
        "\n",
        "!pip install -q torch-scatter -f https://data.pyg.org/whl/torch-${TORCH}.html\n",
        "!pip install -q torch-sparse -f https://data.pyg.org/whl/torch-${TORCH}.html\n",
        "!pip install -q git+https://github.com/pyg-team/pytorch_geometric.git"
      ]
    },
    {
      "cell_type": "code",
      "execution_count": null,
      "metadata": {
        "id": "6f9klSeY8a2e"
      },
      "outputs": [],
      "source": [
        "import torch\n",
        "from torch_geometric.datasets import Planetoid\n",
        "import torch_geometric.transforms as T\n",
        "from torch_geometric.nn import GCNConv\n",
        "from torch_geometric.utils import train_test_split_edges"
      ]
    },
    {
      "cell_type": "markdown",
      "metadata": {
        "id": "LS-UlfDn8a2f"
      },
      "source": [
        "### Load the data"
      ]
    },
    {
      "cell_type": "code",
      "execution_count": null,
      "metadata": {
        "colab": {
          "base_uri": "https://localhost:8080/"
        },
        "id": "T2nSlRSh8a2f",
        "outputId": "e5669a29-8fa4-4230-834a-76aa5b6acf94"
      },
      "outputs": [
        {
          "name": "stderr",
          "output_type": "stream",
          "text": [
            "Downloading https://github.com/kimiyoung/planetoid/raw/master/data/ind.citeseer.x\n",
            "Downloading https://github.com/kimiyoung/planetoid/raw/master/data/ind.citeseer.tx\n",
            "Downloading https://github.com/kimiyoung/planetoid/raw/master/data/ind.citeseer.allx\n",
            "Downloading https://github.com/kimiyoung/planetoid/raw/master/data/ind.citeseer.y\n",
            "Downloading https://github.com/kimiyoung/planetoid/raw/master/data/ind.citeseer.ty\n",
            "Downloading https://github.com/kimiyoung/planetoid/raw/master/data/ind.citeseer.ally\n",
            "Downloading https://github.com/kimiyoung/planetoid/raw/master/data/ind.citeseer.graph\n",
            "Downloading https://github.com/kimiyoung/planetoid/raw/master/data/ind.citeseer.test.index\n",
            "Processing...\n",
            "Done!\n"
          ]
        },
        {
          "data": {
            "text/plain": [
              "Data(x=[3327, 3703], edge_index=[2, 9104], y=[3327], train_mask=[3327], val_mask=[3327], test_mask=[3327])"
            ]
          },
          "execution_count": 3,
          "metadata": {},
          "output_type": "execute_result"
        }
      ],
      "source": [
        "dataset = Planetoid(\"\\..\", \"CiteSeer\", transform=T.NormalizeFeatures())\n",
        "dataset.data"
      ]
    },
    {
      "cell_type": "code",
      "execution_count": null,
      "metadata": {
        "colab": {
          "base_uri": "https://localhost:8080/"
        },
        "id": "wu6791N58a2g",
        "outputId": "7f1111d4-95cc-4aa2-d62a-958a4e7fa718"
      },
      "outputs": [
        {
          "data": {
            "text/plain": [
              "Data(x=[3327, 3703], edge_index=[2, 9104], y=[3327])"
            ]
          },
          "execution_count": 4,
          "metadata": {},
          "output_type": "execute_result"
        }
      ],
      "source": [
        "data = dataset[0]\n",
        "data.train_mask = data.val_mask = data.test_mask = None\n",
        "data"
      ]
    },
    {
      "cell_type": "code",
      "execution_count": null,
      "metadata": {
        "colab": {
          "base_uri": "https://localhost:8080/"
        },
        "id": "YkzhBJ7R8a2h",
        "outputId": "a6fa4bd1-8fc5-47b0-f3af-719475ca9c41"
      },
      "outputs": [
        {
          "name": "stderr",
          "output_type": "stream",
          "text": [
            "/usr/local/lib/python3.7/dist-packages/torch_geometric/deprecation.py:12: UserWarning: 'train_test_split_edges' is deprecated, use 'transforms.RandomLinkSplit' instead\n",
            "  warnings.warn(out)\n"
          ]
        }
      ],
      "source": [
        "data = train_test_split_edges(data)"
      ]
    },
    {
      "cell_type": "code",
      "execution_count": null,
      "metadata": {
        "colab": {
          "base_uri": "https://localhost:8080/"
        },
        "id": "Lsq9WuZw8a2h",
        "outputId": "3207667c-2656-4a0e-d535-20f37063e308"
      },
      "outputs": [
        {
          "data": {
            "text/plain": [
              "Data(x=[3327, 3703], y=[3327], val_pos_edge_index=[2, 227], test_pos_edge_index=[2, 455], train_pos_edge_index=[2, 7740], train_neg_adj_mask=[3327, 3327], val_neg_edge_index=[2, 227], test_neg_edge_index=[2, 455])"
            ]
          },
          "execution_count": 6,
          "metadata": {},
          "output_type": "execute_result"
        }
      ],
      "source": [
        "data"
      ]
    },
    {
      "cell_type": "markdown",
      "metadata": {
        "id": "OtbJ2wKE8a2i"
      },
      "source": [
        "### Define the Encoder"
      ]
    },
    {
      "cell_type": "code",
      "execution_count": null,
      "metadata": {
        "id": "N6XxrAYM8a2i"
      },
      "outputs": [],
      "source": [
        "class GCNEncoder(torch.nn.Module):\n",
        "    def __init__(self, in_channels, out_channels):\n",
        "        super(GCNEncoder, self).__init__()\n",
        "        self.conv1 = GCNConv(in_channels, 2 * out_channels, cached=True) # cached only for transductive learning\n",
        "        self.conv2 = GCNConv(2 * out_channels, out_channels, cached=True) # cached only for transductive learning\n",
        "\n",
        "    def forward(self, x, edge_index):\n",
        "        x = self.conv1(x, edge_index).relu()\n",
        "        return self.conv2(x, edge_index)\n",
        "    "
      ]
    },
    {
      "cell_type": "markdown",
      "metadata": {
        "id": "bCS60MNl8a2i"
      },
      "source": [
        "### Define the Autoencoder"
      ]
    },
    {
      "cell_type": "code",
      "execution_count": null,
      "metadata": {
        "id": "Uoi038yG8a2i"
      },
      "outputs": [],
      "source": [
        "from torch_geometric.nn import GAE"
      ]
    },
    {
      "cell_type": "code",
      "execution_count": null,
      "metadata": {
        "id": "HqNh25Os8a2i"
      },
      "outputs": [],
      "source": [
        "# parameters\n",
        "out_channels = 2\n",
        "num_features = dataset.num_features\n",
        "epochs = 100\n",
        "\n",
        "# model\n",
        "model = GAE(GCNEncoder(num_features, out_channels))\n",
        "\n",
        "# move to GPU (if available)\n",
        "device = torch.device('cuda' if torch.cuda.is_available() else 'cpu')\n",
        "model = model.to(device)\n",
        "x = data.x.to(device)\n",
        "train_pos_edge_index = data.train_pos_edge_index.to(device)\n",
        "\n",
        "# inizialize the optimizer\n",
        "optimizer = torch.optim.Adam(model.parameters(), lr=0.01)"
      ]
    },
    {
      "cell_type": "code",
      "execution_count": null,
      "metadata": {
        "id": "hL5YVe5N8a2j"
      },
      "outputs": [],
      "source": [
        "def train():\n",
        "    model.train()\n",
        "    optimizer.zero_grad()\n",
        "    z = model.encode(x, train_pos_edge_index)\n",
        "    loss = model.recon_loss(z, train_pos_edge_index)\n",
        "    #if args.variational:\n",
        "    #   loss = loss + (1 / data.num_nodes) * model.kl_loss()\n",
        "    loss.backward()\n",
        "    optimizer.step()\n",
        "    return float(loss)\n",
        "\n",
        "\n",
        "def test(pos_edge_index, neg_edge_index):\n",
        "    model.eval()\n",
        "    with torch.no_grad():\n",
        "        z = model.encode(x, train_pos_edge_index)\n",
        "    return model.test(z, pos_edge_index, neg_edge_index)"
      ]
    },
    {
      "cell_type": "code",
      "execution_count": null,
      "metadata": {
        "colab": {
          "base_uri": "https://localhost:8080/"
        },
        "id": "qMwjobIr8a2j",
        "outputId": "d41ef924-3253-40a3-9b21-b7865df45406",
        "scrolled": true
      },
      "outputs": [
        {
          "name": "stdout",
          "output_type": "stream",
          "text": [
            "Epoch: 001, AUC: 0.6337, AP: 0.6519\n",
            "Epoch: 002, AUC: 0.6552, AP: 0.6692\n",
            "Epoch: 003, AUC: 0.6580, AP: 0.6722\n",
            "Epoch: 004, AUC: 0.6616, AP: 0.6797\n",
            "Epoch: 005, AUC: 0.6632, AP: 0.6863\n",
            "Epoch: 006, AUC: 0.6626, AP: 0.6855\n",
            "Epoch: 007, AUC: 0.6621, AP: 0.6845\n",
            "Epoch: 008, AUC: 0.6620, AP: 0.6862\n",
            "Epoch: 009, AUC: 0.6618, AP: 0.6885\n",
            "Epoch: 010, AUC: 0.6615, AP: 0.6903\n",
            "Epoch: 011, AUC: 0.6612, AP: 0.6919\n",
            "Epoch: 012, AUC: 0.6610, AP: 0.6933\n",
            "Epoch: 013, AUC: 0.6604, AP: 0.6951\n",
            "Epoch: 014, AUC: 0.6600, AP: 0.6980\n",
            "Epoch: 015, AUC: 0.6597, AP: 0.7008\n",
            "Epoch: 016, AUC: 0.6591, AP: 0.7037\n",
            "Epoch: 017, AUC: 0.6580, AP: 0.7055\n",
            "Epoch: 018, AUC: 0.6575, AP: 0.7077\n",
            "Epoch: 019, AUC: 0.6571, AP: 0.7103\n",
            "Epoch: 020, AUC: 0.6569, AP: 0.7115\n",
            "Epoch: 021, AUC: 0.6568, AP: 0.7126\n",
            "Epoch: 022, AUC: 0.6572, AP: 0.7140\n",
            "Epoch: 023, AUC: 0.6575, AP: 0.7156\n",
            "Epoch: 024, AUC: 0.6576, AP: 0.7160\n",
            "Epoch: 025, AUC: 0.6581, AP: 0.7170\n",
            "Epoch: 026, AUC: 0.6589, AP: 0.7179\n",
            "Epoch: 027, AUC: 0.6599, AP: 0.7190\n",
            "Epoch: 028, AUC: 0.6614, AP: 0.7207\n",
            "Epoch: 029, AUC: 0.6642, AP: 0.7226\n",
            "Epoch: 030, AUC: 0.6675, AP: 0.7248\n",
            "Epoch: 031, AUC: 0.6728, AP: 0.7279\n",
            "Epoch: 032, AUC: 0.6793, AP: 0.7310\n",
            "Epoch: 033, AUC: 0.6861, AP: 0.7349\n",
            "Epoch: 034, AUC: 0.6937, AP: 0.7385\n",
            "Epoch: 035, AUC: 0.7008, AP: 0.7417\n",
            "Epoch: 036, AUC: 0.7081, AP: 0.7452\n",
            "Epoch: 037, AUC: 0.7170, AP: 0.7496\n",
            "Epoch: 038, AUC: 0.7271, AP: 0.7550\n",
            "Epoch: 039, AUC: 0.7404, AP: 0.7618\n",
            "Epoch: 040, AUC: 0.7528, AP: 0.7688\n",
            "Epoch: 041, AUC: 0.7631, AP: 0.7748\n",
            "Epoch: 042, AUC: 0.7691, AP: 0.7786\n",
            "Epoch: 043, AUC: 0.7730, AP: 0.7811\n",
            "Epoch: 044, AUC: 0.7755, AP: 0.7828\n",
            "Epoch: 045, AUC: 0.7782, AP: 0.7846\n",
            "Epoch: 046, AUC: 0.7807, AP: 0.7862\n",
            "Epoch: 047, AUC: 0.7833, AP: 0.7879\n",
            "Epoch: 048, AUC: 0.7862, AP: 0.7899\n",
            "Epoch: 049, AUC: 0.7886, AP: 0.7913\n",
            "Epoch: 050, AUC: 0.7892, AP: 0.7917\n",
            "Epoch: 051, AUC: 0.7897, AP: 0.7919\n",
            "Epoch: 052, AUC: 0.7902, AP: 0.7921\n",
            "Epoch: 053, AUC: 0.7906, AP: 0.7924\n",
            "Epoch: 054, AUC: 0.7910, AP: 0.7927\n",
            "Epoch: 055, AUC: 0.7917, AP: 0.7933\n",
            "Epoch: 056, AUC: 0.7923, AP: 0.7934\n",
            "Epoch: 057, AUC: 0.7920, AP: 0.7930\n",
            "Epoch: 058, AUC: 0.7919, AP: 0.7926\n",
            "Epoch: 059, AUC: 0.7924, AP: 0.7928\n",
            "Epoch: 060, AUC: 0.7935, AP: 0.7941\n",
            "Epoch: 061, AUC: 0.7944, AP: 0.7951\n",
            "Epoch: 062, AUC: 0.7952, AP: 0.7958\n",
            "Epoch: 063, AUC: 0.7956, AP: 0.7961\n",
            "Epoch: 064, AUC: 0.7955, AP: 0.7959\n",
            "Epoch: 065, AUC: 0.7963, AP: 0.7965\n",
            "Epoch: 066, AUC: 0.7975, AP: 0.7974\n",
            "Epoch: 067, AUC: 0.7988, AP: 0.7985\n",
            "Epoch: 068, AUC: 0.8003, AP: 0.7996\n",
            "Epoch: 069, AUC: 0.8012, AP: 0.8003\n",
            "Epoch: 070, AUC: 0.8015, AP: 0.8005\n",
            "Epoch: 071, AUC: 0.8021, AP: 0.8005\n",
            "Epoch: 072, AUC: 0.8021, AP: 0.8006\n",
            "Epoch: 073, AUC: 0.8022, AP: 0.8007\n",
            "Epoch: 074, AUC: 0.8031, AP: 0.8013\n",
            "Epoch: 075, AUC: 0.8044, AP: 0.8024\n",
            "Epoch: 076, AUC: 0.8055, AP: 0.8034\n",
            "Epoch: 077, AUC: 0.8063, AP: 0.8042\n",
            "Epoch: 078, AUC: 0.8070, AP: 0.8045\n",
            "Epoch: 079, AUC: 0.8067, AP: 0.8043\n",
            "Epoch: 080, AUC: 0.8063, AP: 0.8042\n",
            "Epoch: 081, AUC: 0.8061, AP: 0.8041\n",
            "Epoch: 082, AUC: 0.8068, AP: 0.8049\n",
            "Epoch: 083, AUC: 0.8077, AP: 0.8058\n",
            "Epoch: 084, AUC: 0.8090, AP: 0.8068\n",
            "Epoch: 085, AUC: 0.8101, AP: 0.8078\n",
            "Epoch: 086, AUC: 0.8105, AP: 0.8080\n",
            "Epoch: 087, AUC: 0.8106, AP: 0.8081\n",
            "Epoch: 088, AUC: 0.8102, AP: 0.8078\n",
            "Epoch: 089, AUC: 0.8098, AP: 0.8078\n",
            "Epoch: 090, AUC: 0.8092, AP: 0.8074\n",
            "Epoch: 091, AUC: 0.8091, AP: 0.8072\n",
            "Epoch: 092, AUC: 0.8098, AP: 0.8076\n",
            "Epoch: 093, AUC: 0.8105, AP: 0.8078\n",
            "Epoch: 094, AUC: 0.8112, AP: 0.8084\n",
            "Epoch: 095, AUC: 0.8114, AP: 0.8086\n",
            "Epoch: 096, AUC: 0.8112, AP: 0.8083\n",
            "Epoch: 097, AUC: 0.8103, AP: 0.8077\n",
            "Epoch: 098, AUC: 0.8096, AP: 0.8073\n",
            "Epoch: 099, AUC: 0.8097, AP: 0.8074\n",
            "Epoch: 100, AUC: 0.8106, AP: 0.8079\n"
          ]
        }
      ],
      "source": [
        "for epoch in range(1, epochs + 1):\n",
        "    loss = train()\n",
        "\n",
        "    auc, ap = test(data.test_pos_edge_index, data.test_neg_edge_index)\n",
        "    print('Epoch: {:03d}, AUC: {:.4f}, AP: {:.4f}'.format(epoch, auc, ap))"
      ]
    },
    {
      "cell_type": "code",
      "execution_count": null,
      "metadata": {
        "colab": {
          "base_uri": "https://localhost:8080/"
        },
        "id": "qhxSxyHN8a2j",
        "outputId": "6d973b7e-d685-49a1-8ad6-7d60bf216919"
      },
      "outputs": [
        {
          "data": {
            "text/plain": [
              "tensor([[ 0.5298, -0.5418],\n",
              "        [-1.0118,  1.0432],\n",
              "        [ 0.7511, -0.7225],\n",
              "        ...,\n",
              "        [-0.4363,  0.4364],\n",
              "        [ 0.7787, -0.7425],\n",
              "        [ 0.7711, -0.7370]], grad_fn=<AddBackward0>)"
            ]
          },
          "execution_count": 12,
          "metadata": {},
          "output_type": "execute_result"
        }
      ],
      "source": [
        "Z = model.encode(x, train_pos_edge_index)\n",
        "Z"
      ]
    },
    {
      "cell_type": "markdown",
      "metadata": {
        "id": "5vsl_-E28a2j"
      },
      "source": [
        "### Are the results (AUC) and (AP) easy to read and compare?"
      ]
    },
    {
      "cell_type": "markdown",
      "metadata": {
        "id": "qGspKDfC8a2j"
      },
      "source": [
        "## Use Tensorboard"
      ]
    },
    {
      "cell_type": "code",
      "execution_count": null,
      "metadata": {
        "id": "Lw4N027S8a2j"
      },
      "outputs": [],
      "source": [
        "from torch.utils.tensorboard import SummaryWriter"
      ]
    },
    {
      "cell_type": "code",
      "execution_count": null,
      "metadata": {
        "id": "-QJiDuBM8a2k"
      },
      "outputs": [],
      "source": [
        "# parameters\n",
        "out_channels = 2\n",
        "num_features = dataset.num_features\n",
        "epochs = 100\n",
        "\n",
        "# model\n",
        "model = GAE(GCNEncoder(num_features, out_channels))\n",
        "\n",
        "# move to GPU (if available)\n",
        "device = torch.device('cuda' if torch.cuda.is_available() else 'cpu')\n",
        "model = model.to(device)\n",
        "x = data.x.to(device)\n",
        "train_pos_edge_index = data.train_pos_edge_index.to(device)\n",
        "\n",
        "# inizialize the optimizer\n",
        "optimizer = torch.optim.Adam(model.parameters(), lr=0.01)"
      ]
    },
    {
      "cell_type": "markdown",
      "metadata": {
        "id": "aKhNT0CV8a2k"
      },
      "source": [
        "### Import tensorboard\n",
        "\n",
        "#### Installation: (if needed) \"pip install tensorboard\""
      ]
    },
    {
      "cell_type": "code",
      "execution_count": null,
      "metadata": {
        "id": "2A1SFVLk8a2l"
      },
      "outputs": [],
      "source": [
        "writer = SummaryWriter('runs/GAE1_experiment_'+'2d_100_epochs')"
      ]
    },
    {
      "cell_type": "code",
      "execution_count": null,
      "metadata": {
        "colab": {
          "base_uri": "https://localhost:8080/"
        },
        "id": "1bIr5cvt8a2l",
        "outputId": "6b1a854f-a0e0-48e4-9964-d892bc609845",
        "scrolled": true
      },
      "outputs": [
        {
          "name": "stdout",
          "output_type": "stream",
          "text": [
            "Epoch: 001, AUC: 0.6347, AP: 0.6360\n",
            "Epoch: 002, AUC: 0.6439, AP: 0.6539\n",
            "Epoch: 003, AUC: 0.6446, AP: 0.6555\n",
            "Epoch: 004, AUC: 0.6477, AP: 0.6601\n",
            "Epoch: 005, AUC: 0.6503, AP: 0.6644\n",
            "Epoch: 006, AUC: 0.6523, AP: 0.6686\n",
            "Epoch: 007, AUC: 0.6535, AP: 0.6723\n",
            "Epoch: 008, AUC: 0.6542, AP: 0.6742\n",
            "Epoch: 009, AUC: 0.6542, AP: 0.6751\n",
            "Epoch: 010, AUC: 0.6543, AP: 0.6766\n",
            "Epoch: 011, AUC: 0.6543, AP: 0.6787\n",
            "Epoch: 012, AUC: 0.6549, AP: 0.6810\n",
            "Epoch: 013, AUC: 0.6551, AP: 0.6834\n",
            "Epoch: 014, AUC: 0.6551, AP: 0.6856\n",
            "Epoch: 015, AUC: 0.6555, AP: 0.6895\n",
            "Epoch: 016, AUC: 0.6555, AP: 0.6924\n",
            "Epoch: 017, AUC: 0.6553, AP: 0.6956\n",
            "Epoch: 018, AUC: 0.6555, AP: 0.6995\n",
            "Epoch: 019, AUC: 0.6553, AP: 0.7023\n",
            "Epoch: 020, AUC: 0.6547, AP: 0.7048\n",
            "Epoch: 021, AUC: 0.6540, AP: 0.7062\n",
            "Epoch: 022, AUC: 0.6533, AP: 0.7078\n",
            "Epoch: 023, AUC: 0.6524, AP: 0.7085\n",
            "Epoch: 024, AUC: 0.6517, AP: 0.7091\n",
            "Epoch: 025, AUC: 0.6518, AP: 0.7101\n",
            "Epoch: 026, AUC: 0.6521, AP: 0.7116\n",
            "Epoch: 027, AUC: 0.6524, AP: 0.7128\n",
            "Epoch: 028, AUC: 0.6533, AP: 0.7147\n",
            "Epoch: 029, AUC: 0.6548, AP: 0.7165\n",
            "Epoch: 030, AUC: 0.6569, AP: 0.7181\n",
            "Epoch: 031, AUC: 0.6596, AP: 0.7201\n",
            "Epoch: 032, AUC: 0.6632, AP: 0.7225\n",
            "Epoch: 033, AUC: 0.6685, AP: 0.7254\n",
            "Epoch: 034, AUC: 0.6738, AP: 0.7281\n",
            "Epoch: 035, AUC: 0.6794, AP: 0.7307\n",
            "Epoch: 036, AUC: 0.6874, AP: 0.7343\n",
            "Epoch: 037, AUC: 0.6978, AP: 0.7392\n",
            "Epoch: 038, AUC: 0.7114, AP: 0.7455\n",
            "Epoch: 039, AUC: 0.7239, AP: 0.7519\n",
            "Epoch: 040, AUC: 0.7368, AP: 0.7587\n",
            "Epoch: 041, AUC: 0.7481, AP: 0.7653\n",
            "Epoch: 042, AUC: 0.7575, AP: 0.7708\n",
            "Epoch: 043, AUC: 0.7646, AP: 0.7751\n",
            "Epoch: 044, AUC: 0.7717, AP: 0.7798\n",
            "Epoch: 045, AUC: 0.7767, AP: 0.7830\n",
            "Epoch: 046, AUC: 0.7814, AP: 0.7863\n",
            "Epoch: 047, AUC: 0.7843, AP: 0.7883\n",
            "Epoch: 048, AUC: 0.7876, AP: 0.7905\n",
            "Epoch: 049, AUC: 0.7894, AP: 0.7918\n",
            "Epoch: 050, AUC: 0.7906, AP: 0.7927\n",
            "Epoch: 051, AUC: 0.7914, AP: 0.7931\n",
            "Epoch: 052, AUC: 0.7917, AP: 0.7935\n",
            "Epoch: 053, AUC: 0.7928, AP: 0.7942\n",
            "Epoch: 054, AUC: 0.7933, AP: 0.7947\n",
            "Epoch: 055, AUC: 0.7934, AP: 0.7947\n",
            "Epoch: 056, AUC: 0.7939, AP: 0.7951\n",
            "Epoch: 057, AUC: 0.7940, AP: 0.7952\n",
            "Epoch: 058, AUC: 0.7941, AP: 0.7953\n",
            "Epoch: 059, AUC: 0.7946, AP: 0.7958\n",
            "Epoch: 060, AUC: 0.7953, AP: 0.7967\n",
            "Epoch: 061, AUC: 0.7962, AP: 0.7973\n",
            "Epoch: 062, AUC: 0.7971, AP: 0.7982\n",
            "Epoch: 063, AUC: 0.7974, AP: 0.7983\n",
            "Epoch: 064, AUC: 0.7974, AP: 0.7981\n",
            "Epoch: 065, AUC: 0.7975, AP: 0.7981\n",
            "Epoch: 066, AUC: 0.7979, AP: 0.7983\n",
            "Epoch: 067, AUC: 0.7990, AP: 0.7994\n",
            "Epoch: 068, AUC: 0.8003, AP: 0.8008\n",
            "Epoch: 069, AUC: 0.8010, AP: 0.8018\n",
            "Epoch: 070, AUC: 0.8018, AP: 0.8025\n",
            "Epoch: 071, AUC: 0.8023, AP: 0.8027\n",
            "Epoch: 072, AUC: 0.8023, AP: 0.8028\n",
            "Epoch: 073, AUC: 0.8029, AP: 0.8035\n",
            "Epoch: 074, AUC: 0.8038, AP: 0.8041\n",
            "Epoch: 075, AUC: 0.8051, AP: 0.8048\n",
            "Epoch: 076, AUC: 0.8064, AP: 0.8059\n",
            "Epoch: 077, AUC: 0.8067, AP: 0.8059\n",
            "Epoch: 078, AUC: 0.8062, AP: 0.8057\n",
            "Epoch: 079, AUC: 0.8057, AP: 0.8054\n",
            "Epoch: 080, AUC: 0.8057, AP: 0.8055\n",
            "Epoch: 081, AUC: 0.8063, AP: 0.8058\n",
            "Epoch: 082, AUC: 0.8075, AP: 0.8069\n",
            "Epoch: 083, AUC: 0.8077, AP: 0.8069\n",
            "Epoch: 084, AUC: 0.8077, AP: 0.8068\n",
            "Epoch: 085, AUC: 0.8078, AP: 0.8069\n",
            "Epoch: 086, AUC: 0.8081, AP: 0.8073\n",
            "Epoch: 087, AUC: 0.8083, AP: 0.8075\n",
            "Epoch: 088, AUC: 0.8086, AP: 0.8078\n",
            "Epoch: 089, AUC: 0.8089, AP: 0.8078\n",
            "Epoch: 090, AUC: 0.8095, AP: 0.8083\n",
            "Epoch: 091, AUC: 0.8097, AP: 0.8084\n",
            "Epoch: 092, AUC: 0.8097, AP: 0.8084\n",
            "Epoch: 093, AUC: 0.8098, AP: 0.8086\n",
            "Epoch: 094, AUC: 0.8101, AP: 0.8088\n",
            "Epoch: 095, AUC: 0.8103, AP: 0.8090\n",
            "Epoch: 096, AUC: 0.8108, AP: 0.8094\n",
            "Epoch: 097, AUC: 0.8110, AP: 0.8090\n",
            "Epoch: 098, AUC: 0.8111, AP: 0.8091\n",
            "Epoch: 099, AUC: 0.8110, AP: 0.8092\n",
            "Epoch: 100, AUC: 0.8107, AP: 0.8089\n"
          ]
        }
      ],
      "source": [
        "for epoch in range(1, epochs + 1):\n",
        "    loss = train()\n",
        "    auc, ap = test(data.test_pos_edge_index, data.test_neg_edge_index)\n",
        "    print('Epoch: {:03d}, AUC: {:.4f}, AP: {:.4f}'.format(epoch, auc, ap))\n",
        "    \n",
        "    \n",
        "    writer.add_scalar('auc train',auc,epoch) # new line\n",
        "    writer.add_scalar('ap train',ap,epoch)   # new line"
      ]
    },
    {
      "cell_type": "markdown",
      "metadata": {
        "id": "28y7k0P88a2m"
      },
      "source": [
        "### Graph Variational AutoEncoder (GVAE)"
      ]
    },
    {
      "cell_type": "code",
      "execution_count": null,
      "metadata": {
        "id": "oj7LDS1m8a2m"
      },
      "outputs": [],
      "source": [
        "from torch_geometric.nn import VGAE"
      ]
    },
    {
      "cell_type": "code",
      "execution_count": null,
      "metadata": {
        "colab": {
          "base_uri": "https://localhost:8080/"
        },
        "id": "wd9t-g3s8a2m",
        "outputId": "22c5d742-0560-4875-e936-b9f514e8e143"
      },
      "outputs": [
        {
          "name": "stderr",
          "output_type": "stream",
          "text": [
            "/usr/local/lib/python3.7/dist-packages/torch_geometric/deprecation.py:12: UserWarning: 'train_test_split_edges' is deprecated, use 'transforms.RandomLinkSplit' instead\n",
            "  warnings.warn(out)\n"
          ]
        }
      ],
      "source": [
        "dataset = Planetoid(\"\\..\", \"CiteSeer\", transform=T.NormalizeFeatures())\n",
        "data = dataset[0]\n",
        "data.train_mask = data.val_mask = data.test_mask = data.y = None\n",
        "data = train_test_split_edges(data)\n",
        "\n",
        "\n",
        "class VariationalGCNEncoder(torch.nn.Module):\n",
        "    def __init__(self, in_channels, out_channels):\n",
        "        super(VariationalGCNEncoder, self).__init__()\n",
        "        self.conv1 = GCNConv(in_channels, 2 * out_channels, cached=True) # cached only for transductive learning\n",
        "        self.conv_mu = GCNConv(2 * out_channels, out_channels, cached=True)\n",
        "        self.conv_logstd = GCNConv(2 * out_channels, out_channels, cached=True)\n",
        "\n",
        "    def forward(self, x, edge_index):\n",
        "        x = self.conv1(x, edge_index).relu()\n",
        "        return self.conv_mu(x, edge_index), self.conv_logstd(x, edge_index)"
      ]
    },
    {
      "cell_type": "code",
      "execution_count": null,
      "metadata": {
        "id": "m7wryTBo8a2n"
      },
      "outputs": [],
      "source": [
        "out_channels = 2\n",
        "num_features = dataset.num_features\n",
        "epochs = 300\n",
        "\n",
        "\n",
        "model = VGAE(VariationalGCNEncoder(num_features, out_channels))  # new line\n",
        "\n",
        "device = torch.device('cuda' if torch.cuda.is_available() else 'cpu')\n",
        "model = model.to(device)\n",
        "x = data.x.to(device)\n",
        "train_pos_edge_index = data.train_pos_edge_index.to(device)\n",
        "optimizer = torch.optim.Adam(model.parameters(), lr=0.01)"
      ]
    },
    {
      "cell_type": "code",
      "execution_count": null,
      "metadata": {
        "id": "QLPJFZ9o8a2n"
      },
      "outputs": [],
      "source": [
        "def train():\n",
        "    model.train()\n",
        "    optimizer.zero_grad()\n",
        "    z = model.encode(x, train_pos_edge_index)\n",
        "    loss = model.recon_loss(z, train_pos_edge_index)\n",
        "    \n",
        "    loss = loss + (1 / data.num_nodes) * model.kl_loss()  # new line\n",
        "    loss.backward()\n",
        "    optimizer.step()\n",
        "    return float(loss)\n",
        "\n",
        "\n",
        "def test(pos_edge_index, neg_edge_index):\n",
        "    model.eval()\n",
        "    with torch.no_grad():\n",
        "        z = model.encode(x, train_pos_edge_index)\n",
        "    return model.test(z, pos_edge_index, neg_edge_index)"
      ]
    },
    {
      "cell_type": "code",
      "execution_count": null,
      "metadata": {
        "colab": {
          "base_uri": "https://localhost:8080/"
        },
        "id": "Qcg3iYN48a2n",
        "outputId": "b7f0cafe-3f83-43e3-e303-520685343332",
        "scrolled": true
      },
      "outputs": [
        {
          "name": "stdout",
          "output_type": "stream",
          "text": [
            "Epoch: 001, AUC: 0.6136, AP: 0.6422\n",
            "Epoch: 002, AUC: 0.6263, AP: 0.6626\n",
            "Epoch: 003, AUC: 0.6308, AP: 0.6676\n",
            "Epoch: 004, AUC: 0.6333, AP: 0.6699\n",
            "Epoch: 005, AUC: 0.6336, AP: 0.6702\n",
            "Epoch: 006, AUC: 0.6337, AP: 0.6702\n",
            "Epoch: 007, AUC: 0.6334, AP: 0.6699\n",
            "Epoch: 008, AUC: 0.6343, AP: 0.6703\n",
            "Epoch: 009, AUC: 0.6359, AP: 0.6710\n",
            "Epoch: 010, AUC: 0.6369, AP: 0.6710\n",
            "Epoch: 011, AUC: 0.6374, AP: 0.6703\n",
            "Epoch: 012, AUC: 0.6368, AP: 0.6687\n",
            "Epoch: 013, AUC: 0.6346, AP: 0.6665\n",
            "Epoch: 014, AUC: 0.6301, AP: 0.6624\n",
            "Epoch: 015, AUC: 0.6231, AP: 0.6573\n",
            "Epoch: 016, AUC: 0.6175, AP: 0.6534\n",
            "Epoch: 017, AUC: 0.6119, AP: 0.6499\n",
            "Epoch: 018, AUC: 0.6091, AP: 0.6483\n",
            "Epoch: 019, AUC: 0.6122, AP: 0.6520\n",
            "Epoch: 020, AUC: 0.6227, AP: 0.6605\n",
            "Epoch: 021, AUC: 0.6325, AP: 0.6692\n",
            "Epoch: 022, AUC: 0.6374, AP: 0.6754\n",
            "Epoch: 023, AUC: 0.6403, AP: 0.6805\n",
            "Epoch: 024, AUC: 0.6431, AP: 0.6848\n",
            "Epoch: 025, AUC: 0.6446, AP: 0.6874\n",
            "Epoch: 026, AUC: 0.6455, AP: 0.6884\n",
            "Epoch: 027, AUC: 0.6463, AP: 0.6892\n",
            "Epoch: 028, AUC: 0.6472, AP: 0.6900\n",
            "Epoch: 029, AUC: 0.6482, AP: 0.6903\n",
            "Epoch: 030, AUC: 0.6490, AP: 0.6908\n",
            "Epoch: 031, AUC: 0.6495, AP: 0.6910\n",
            "Epoch: 032, AUC: 0.6500, AP: 0.6913\n",
            "Epoch: 033, AUC: 0.6502, AP: 0.6916\n",
            "Epoch: 034, AUC: 0.6507, AP: 0.6920\n",
            "Epoch: 035, AUC: 0.6510, AP: 0.6925\n",
            "Epoch: 036, AUC: 0.6512, AP: 0.6930\n",
            "Epoch: 037, AUC: 0.6516, AP: 0.6939\n",
            "Epoch: 038, AUC: 0.6516, AP: 0.6946\n",
            "Epoch: 039, AUC: 0.6516, AP: 0.6951\n",
            "Epoch: 040, AUC: 0.6517, AP: 0.6958\n",
            "Epoch: 041, AUC: 0.6516, AP: 0.6967\n",
            "Epoch: 042, AUC: 0.6515, AP: 0.6978\n",
            "Epoch: 043, AUC: 0.6515, AP: 0.6989\n",
            "Epoch: 044, AUC: 0.6513, AP: 0.7002\n",
            "Epoch: 045, AUC: 0.6509, AP: 0.7016\n",
            "Epoch: 046, AUC: 0.6511, AP: 0.7034\n",
            "Epoch: 047, AUC: 0.6508, AP: 0.7049\n",
            "Epoch: 048, AUC: 0.6507, AP: 0.7065\n",
            "Epoch: 049, AUC: 0.6502, AP: 0.7080\n",
            "Epoch: 050, AUC: 0.6494, AP: 0.7092\n",
            "Epoch: 051, AUC: 0.6488, AP: 0.7104\n",
            "Epoch: 052, AUC: 0.6480, AP: 0.7111\n",
            "Epoch: 053, AUC: 0.6475, AP: 0.7119\n",
            "Epoch: 054, AUC: 0.6467, AP: 0.7127\n",
            "Epoch: 055, AUC: 0.6461, AP: 0.7135\n",
            "Epoch: 056, AUC: 0.6460, AP: 0.7140\n",
            "Epoch: 057, AUC: 0.6460, AP: 0.7149\n",
            "Epoch: 058, AUC: 0.6462, AP: 0.7160\n",
            "Epoch: 059, AUC: 0.6459, AP: 0.7162\n",
            "Epoch: 060, AUC: 0.6458, AP: 0.7167\n",
            "Epoch: 061, AUC: 0.6463, AP: 0.7176\n",
            "Epoch: 062, AUC: 0.6463, AP: 0.7182\n",
            "Epoch: 063, AUC: 0.6466, AP: 0.7190\n",
            "Epoch: 064, AUC: 0.6470, AP: 0.7198\n",
            "Epoch: 065, AUC: 0.6482, AP: 0.7208\n",
            "Epoch: 066, AUC: 0.6500, AP: 0.7223\n",
            "Epoch: 067, AUC: 0.6524, AP: 0.7237\n",
            "Epoch: 068, AUC: 0.6557, AP: 0.7258\n",
            "Epoch: 069, AUC: 0.6591, AP: 0.7274\n",
            "Epoch: 070, AUC: 0.6638, AP: 0.7295\n",
            "Epoch: 071, AUC: 0.6679, AP: 0.7312\n",
            "Epoch: 072, AUC: 0.6725, AP: 0.7333\n",
            "Epoch: 073, AUC: 0.6780, AP: 0.7355\n",
            "Epoch: 074, AUC: 0.6849, AP: 0.7386\n",
            "Epoch: 075, AUC: 0.6929, AP: 0.7423\n",
            "Epoch: 076, AUC: 0.7015, AP: 0.7464\n",
            "Epoch: 077, AUC: 0.7100, AP: 0.7507\n",
            "Epoch: 078, AUC: 0.7201, AP: 0.7562\n",
            "Epoch: 079, AUC: 0.7314, AP: 0.7628\n",
            "Epoch: 080, AUC: 0.7406, AP: 0.7689\n",
            "Epoch: 081, AUC: 0.7490, AP: 0.7745\n",
            "Epoch: 082, AUC: 0.7562, AP: 0.7794\n",
            "Epoch: 083, AUC: 0.7626, AP: 0.7841\n",
            "Epoch: 084, AUC: 0.7664, AP: 0.7873\n",
            "Epoch: 085, AUC: 0.7696, AP: 0.7898\n",
            "Epoch: 086, AUC: 0.7724, AP: 0.7920\n",
            "Epoch: 087, AUC: 0.7749, AP: 0.7939\n",
            "Epoch: 088, AUC: 0.7777, AP: 0.7959\n",
            "Epoch: 089, AUC: 0.7807, AP: 0.7983\n",
            "Epoch: 090, AUC: 0.7842, AP: 0.8014\n",
            "Epoch: 091, AUC: 0.7881, AP: 0.8049\n",
            "Epoch: 092, AUC: 0.7907, AP: 0.8075\n",
            "Epoch: 093, AUC: 0.7921, AP: 0.8091\n",
            "Epoch: 094, AUC: 0.7933, AP: 0.8105\n",
            "Epoch: 095, AUC: 0.7945, AP: 0.8115\n",
            "Epoch: 096, AUC: 0.7958, AP: 0.8124\n",
            "Epoch: 097, AUC: 0.7972, AP: 0.8133\n",
            "Epoch: 098, AUC: 0.7986, AP: 0.8143\n",
            "Epoch: 099, AUC: 0.7995, AP: 0.8151\n",
            "Epoch: 100, AUC: 0.8004, AP: 0.8158\n",
            "Epoch: 101, AUC: 0.8011, AP: 0.8166\n",
            "Epoch: 102, AUC: 0.8019, AP: 0.8176\n",
            "Epoch: 103, AUC: 0.8032, AP: 0.8187\n",
            "Epoch: 104, AUC: 0.8043, AP: 0.8195\n",
            "Epoch: 105, AUC: 0.8048, AP: 0.8200\n",
            "Epoch: 106, AUC: 0.8056, AP: 0.8204\n",
            "Epoch: 107, AUC: 0.8070, AP: 0.8215\n",
            "Epoch: 108, AUC: 0.8082, AP: 0.8224\n",
            "Epoch: 109, AUC: 0.8091, AP: 0.8230\n",
            "Epoch: 110, AUC: 0.8097, AP: 0.8234\n",
            "Epoch: 111, AUC: 0.8105, AP: 0.8238\n",
            "Epoch: 112, AUC: 0.8117, AP: 0.8247\n",
            "Epoch: 113, AUC: 0.8124, AP: 0.8251\n",
            "Epoch: 114, AUC: 0.8128, AP: 0.8254\n",
            "Epoch: 115, AUC: 0.8135, AP: 0.8257\n",
            "Epoch: 116, AUC: 0.8146, AP: 0.8263\n",
            "Epoch: 117, AUC: 0.8156, AP: 0.8269\n",
            "Epoch: 118, AUC: 0.8158, AP: 0.8271\n",
            "Epoch: 119, AUC: 0.8155, AP: 0.8267\n",
            "Epoch: 120, AUC: 0.8157, AP: 0.8268\n",
            "Epoch: 121, AUC: 0.8161, AP: 0.8270\n",
            "Epoch: 122, AUC: 0.8160, AP: 0.8267\n",
            "Epoch: 123, AUC: 0.8160, AP: 0.8267\n",
            "Epoch: 124, AUC: 0.8166, AP: 0.8272\n",
            "Epoch: 125, AUC: 0.8170, AP: 0.8273\n",
            "Epoch: 126, AUC: 0.8173, AP: 0.8273\n",
            "Epoch: 127, AUC: 0.8172, AP: 0.8270\n",
            "Epoch: 128, AUC: 0.8174, AP: 0.8268\n",
            "Epoch: 129, AUC: 0.8172, AP: 0.8263\n",
            "Epoch: 130, AUC: 0.8170, AP: 0.8260\n",
            "Epoch: 131, AUC: 0.8172, AP: 0.8259\n",
            "Epoch: 132, AUC: 0.8175, AP: 0.8258\n",
            "Epoch: 133, AUC: 0.8178, AP: 0.8259\n",
            "Epoch: 134, AUC: 0.8177, AP: 0.8257\n",
            "Epoch: 135, AUC: 0.8174, AP: 0.8254\n",
            "Epoch: 136, AUC: 0.8171, AP: 0.8248\n",
            "Epoch: 137, AUC: 0.8170, AP: 0.8246\n",
            "Epoch: 138, AUC: 0.8168, AP: 0.8242\n",
            "Epoch: 139, AUC: 0.8171, AP: 0.8242\n",
            "Epoch: 140, AUC: 0.8175, AP: 0.8243\n",
            "Epoch: 141, AUC: 0.8178, AP: 0.8243\n",
            "Epoch: 142, AUC: 0.8175, AP: 0.8239\n",
            "Epoch: 143, AUC: 0.8170, AP: 0.8234\n",
            "Epoch: 144, AUC: 0.8164, AP: 0.8227\n",
            "Epoch: 145, AUC: 0.8161, AP: 0.8223\n",
            "Epoch: 146, AUC: 0.8162, AP: 0.8223\n",
            "Epoch: 147, AUC: 0.8167, AP: 0.8228\n",
            "Epoch: 148, AUC: 0.8168, AP: 0.8229\n",
            "Epoch: 149, AUC: 0.8170, AP: 0.8228\n",
            "Epoch: 150, AUC: 0.8169, AP: 0.8227\n",
            "Epoch: 151, AUC: 0.8170, AP: 0.8229\n",
            "Epoch: 152, AUC: 0.8167, AP: 0.8226\n",
            "Epoch: 153, AUC: 0.8158, AP: 0.8218\n",
            "Epoch: 154, AUC: 0.8147, AP: 0.8209\n",
            "Epoch: 155, AUC: 0.8144, AP: 0.8206\n",
            "Epoch: 156, AUC: 0.8145, AP: 0.8207\n",
            "Epoch: 157, AUC: 0.8147, AP: 0.8207\n",
            "Epoch: 158, AUC: 0.8145, AP: 0.8204\n",
            "Epoch: 159, AUC: 0.8140, AP: 0.8201\n",
            "Epoch: 160, AUC: 0.8135, AP: 0.8196\n",
            "Epoch: 161, AUC: 0.8128, AP: 0.8191\n",
            "Epoch: 162, AUC: 0.8121, AP: 0.8185\n",
            "Epoch: 163, AUC: 0.8114, AP: 0.8178\n",
            "Epoch: 164, AUC: 0.8109, AP: 0.8173\n",
            "Epoch: 165, AUC: 0.8113, AP: 0.8178\n",
            "Epoch: 166, AUC: 0.8118, AP: 0.8181\n",
            "Epoch: 167, AUC: 0.8119, AP: 0.8182\n",
            "Epoch: 168, AUC: 0.8115, AP: 0.8178\n",
            "Epoch: 169, AUC: 0.8111, AP: 0.8175\n",
            "Epoch: 170, AUC: 0.8109, AP: 0.8171\n",
            "Epoch: 171, AUC: 0.8106, AP: 0.8168\n",
            "Epoch: 172, AUC: 0.8104, AP: 0.8166\n",
            "Epoch: 173, AUC: 0.8102, AP: 0.8165\n",
            "Epoch: 174, AUC: 0.8103, AP: 0.8168\n",
            "Epoch: 175, AUC: 0.8101, AP: 0.8166\n",
            "Epoch: 176, AUC: 0.8098, AP: 0.8161\n",
            "Epoch: 177, AUC: 0.8096, AP: 0.8160\n",
            "Epoch: 178, AUC: 0.8095, AP: 0.8159\n",
            "Epoch: 179, AUC: 0.8092, AP: 0.8156\n",
            "Epoch: 180, AUC: 0.8092, AP: 0.8157\n",
            "Epoch: 181, AUC: 0.8089, AP: 0.8154\n",
            "Epoch: 182, AUC: 0.8087, AP: 0.8152\n",
            "Epoch: 183, AUC: 0.8084, AP: 0.8150\n",
            "Epoch: 184, AUC: 0.8078, AP: 0.8145\n",
            "Epoch: 185, AUC: 0.8072, AP: 0.8140\n",
            "Epoch: 186, AUC: 0.8074, AP: 0.8143\n",
            "Epoch: 187, AUC: 0.8078, AP: 0.8146\n",
            "Epoch: 188, AUC: 0.8080, AP: 0.8147\n",
            "Epoch: 189, AUC: 0.8079, AP: 0.8146\n",
            "Epoch: 190, AUC: 0.8072, AP: 0.8141\n",
            "Epoch: 191, AUC: 0.8061, AP: 0.8134\n",
            "Epoch: 192, AUC: 0.8054, AP: 0.8128\n",
            "Epoch: 193, AUC: 0.8056, AP: 0.8129\n",
            "Epoch: 194, AUC: 0.8057, AP: 0.8128\n",
            "Epoch: 195, AUC: 0.8061, AP: 0.8132\n",
            "Epoch: 196, AUC: 0.8060, AP: 0.8132\n",
            "Epoch: 197, AUC: 0.8058, AP: 0.8130\n",
            "Epoch: 198, AUC: 0.8054, AP: 0.8127\n",
            "Epoch: 199, AUC: 0.8053, AP: 0.8127\n",
            "Epoch: 200, AUC: 0.8042, AP: 0.8117\n",
            "Epoch: 201, AUC: 0.8037, AP: 0.8113\n",
            "Epoch: 202, AUC: 0.8039, AP: 0.8114\n",
            "Epoch: 203, AUC: 0.8039, AP: 0.8115\n",
            "Epoch: 204, AUC: 0.8044, AP: 0.8118\n",
            "Epoch: 205, AUC: 0.8041, AP: 0.8115\n",
            "Epoch: 206, AUC: 0.8036, AP: 0.8112\n",
            "Epoch: 207, AUC: 0.8028, AP: 0.8106\n",
            "Epoch: 208, AUC: 0.8026, AP: 0.8103\n",
            "Epoch: 209, AUC: 0.8026, AP: 0.8104\n",
            "Epoch: 210, AUC: 0.8031, AP: 0.8109\n",
            "Epoch: 211, AUC: 0.8030, AP: 0.8107\n",
            "Epoch: 212, AUC: 0.8024, AP: 0.8102\n",
            "Epoch: 213, AUC: 0.8017, AP: 0.8096\n",
            "Epoch: 214, AUC: 0.8011, AP: 0.8091\n",
            "Epoch: 215, AUC: 0.8004, AP: 0.8085\n",
            "Epoch: 216, AUC: 0.8001, AP: 0.8082\n",
            "Epoch: 217, AUC: 0.8009, AP: 0.8090\n",
            "Epoch: 218, AUC: 0.8020, AP: 0.8098\n",
            "Epoch: 219, AUC: 0.8030, AP: 0.8103\n",
            "Epoch: 220, AUC: 0.8026, AP: 0.8100\n",
            "Epoch: 221, AUC: 0.8007, AP: 0.8086\n",
            "Epoch: 222, AUC: 0.7985, AP: 0.8066\n",
            "Epoch: 223, AUC: 0.7990, AP: 0.8072\n",
            "Epoch: 224, AUC: 0.8001, AP: 0.8081\n",
            "Epoch: 225, AUC: 0.8013, AP: 0.8089\n",
            "Epoch: 226, AUC: 0.8016, AP: 0.8090\n",
            "Epoch: 227, AUC: 0.8001, AP: 0.8080\n",
            "Epoch: 228, AUC: 0.7980, AP: 0.8065\n",
            "Epoch: 229, AUC: 0.7965, AP: 0.8050\n",
            "Epoch: 230, AUC: 0.7973, AP: 0.8058\n",
            "Epoch: 231, AUC: 0.7986, AP: 0.8066\n",
            "Epoch: 232, AUC: 0.7988, AP: 0.8068\n",
            "Epoch: 233, AUC: 0.7985, AP: 0.8065\n",
            "Epoch: 234, AUC: 0.7982, AP: 0.8061\n",
            "Epoch: 235, AUC: 0.7976, AP: 0.8056\n",
            "Epoch: 236, AUC: 0.7965, AP: 0.8048\n",
            "Epoch: 237, AUC: 0.7953, AP: 0.8037\n",
            "Epoch: 238, AUC: 0.7956, AP: 0.8039\n",
            "Epoch: 239, AUC: 0.7966, AP: 0.8046\n",
            "Epoch: 240, AUC: 0.7973, AP: 0.8051\n",
            "Epoch: 241, AUC: 0.7971, AP: 0.8049\n",
            "Epoch: 242, AUC: 0.7964, AP: 0.8043\n",
            "Epoch: 243, AUC: 0.7949, AP: 0.8030\n",
            "Epoch: 244, AUC: 0.7942, AP: 0.8023\n",
            "Epoch: 245, AUC: 0.7950, AP: 0.8030\n",
            "Epoch: 246, AUC: 0.7957, AP: 0.8036\n",
            "Epoch: 247, AUC: 0.7966, AP: 0.8042\n",
            "Epoch: 248, AUC: 0.7962, AP: 0.8038\n",
            "Epoch: 249, AUC: 0.7958, AP: 0.8034\n",
            "Epoch: 250, AUC: 0.7959, AP: 0.8035\n",
            "Epoch: 251, AUC: 0.7952, AP: 0.8028\n",
            "Epoch: 252, AUC: 0.7938, AP: 0.8016\n",
            "Epoch: 253, AUC: 0.7940, AP: 0.8018\n",
            "Epoch: 254, AUC: 0.7949, AP: 0.8025\n",
            "Epoch: 255, AUC: 0.7959, AP: 0.8033\n",
            "Epoch: 256, AUC: 0.7962, AP: 0.8034\n",
            "Epoch: 257, AUC: 0.7946, AP: 0.8020\n",
            "Epoch: 258, AUC: 0.7932, AP: 0.8008\n",
            "Epoch: 259, AUC: 0.7922, AP: 0.7999\n",
            "Epoch: 260, AUC: 0.7928, AP: 0.8003\n",
            "Epoch: 261, AUC: 0.7948, AP: 0.8019\n",
            "Epoch: 262, AUC: 0.7956, AP: 0.8025\n",
            "Epoch: 263, AUC: 0.7959, AP: 0.8026\n",
            "Epoch: 264, AUC: 0.7953, AP: 0.8023\n",
            "Epoch: 265, AUC: 0.7941, AP: 0.8013\n",
            "Epoch: 266, AUC: 0.7923, AP: 0.7999\n",
            "Epoch: 267, AUC: 0.7913, AP: 0.7991\n",
            "Epoch: 268, AUC: 0.7910, AP: 0.7988\n",
            "Epoch: 269, AUC: 0.7931, AP: 0.8008\n",
            "Epoch: 270, AUC: 0.7943, AP: 0.8019\n",
            "Epoch: 271, AUC: 0.7938, AP: 0.8016\n",
            "Epoch: 272, AUC: 0.7936, AP: 0.8014\n",
            "Epoch: 273, AUC: 0.7924, AP: 0.8005\n",
            "Epoch: 274, AUC: 0.7914, AP: 0.7997\n",
            "Epoch: 275, AUC: 0.7911, AP: 0.7995\n",
            "Epoch: 276, AUC: 0.7916, AP: 0.8000\n",
            "Epoch: 277, AUC: 0.7922, AP: 0.8007\n",
            "Epoch: 278, AUC: 0.7927, AP: 0.8012\n",
            "Epoch: 279, AUC: 0.7924, AP: 0.8010\n",
            "Epoch: 280, AUC: 0.7917, AP: 0.8004\n",
            "Epoch: 281, AUC: 0.7909, AP: 0.7998\n",
            "Epoch: 282, AUC: 0.7905, AP: 0.7995\n",
            "Epoch: 283, AUC: 0.7912, AP: 0.8001\n",
            "Epoch: 284, AUC: 0.7913, AP: 0.8002\n",
            "Epoch: 285, AUC: 0.7910, AP: 0.7999\n",
            "Epoch: 286, AUC: 0.7905, AP: 0.7996\n",
            "Epoch: 287, AUC: 0.7901, AP: 0.7993\n",
            "Epoch: 288, AUC: 0.7902, AP: 0.7994\n",
            "Epoch: 289, AUC: 0.7905, AP: 0.7997\n",
            "Epoch: 290, AUC: 0.7911, AP: 0.8002\n",
            "Epoch: 291, AUC: 0.7906, AP: 0.7997\n",
            "Epoch: 292, AUC: 0.7897, AP: 0.7989\n",
            "Epoch: 293, AUC: 0.7888, AP: 0.7981\n",
            "Epoch: 294, AUC: 0.7887, AP: 0.7980\n",
            "Epoch: 295, AUC: 0.7898, AP: 0.7990\n",
            "Epoch: 296, AUC: 0.7915, AP: 0.8003\n",
            "Epoch: 297, AUC: 0.7925, AP: 0.8009\n",
            "Epoch: 298, AUC: 0.7917, AP: 0.8004\n",
            "Epoch: 299, AUC: 0.7903, AP: 0.7991\n",
            "Epoch: 300, AUC: 0.7891, AP: 0.7979\n"
          ]
        }
      ],
      "source": [
        "writer = SummaryWriter('runs/VGAE_experiment_'+'2d_100_epochs')\n",
        "\n",
        "for epoch in range(1, epochs + 1):\n",
        "    loss = train()\n",
        "    auc, ap = test(data.test_pos_edge_index, data.test_neg_edge_index)\n",
        "    print('Epoch: {:03d}, AUC: {:.4f}, AP: {:.4f}'.format(epoch, auc, ap))\n",
        "    \n",
        "    \n",
        "    writer.add_scalar('auc train',auc,epoch) # new line\n",
        "    writer.add_scalar('ap train',ap,epoch)   # new line"
      ]
    }
  ],
  "metadata": {
    "colab": {
      "provenance": []
    },
    "kernelspec": {
      "display_name": "Python 3.8.13 ('rtd')",
      "language": "python",
      "name": "python3"
    },
    "language_info": {
      "codemirror_mode": {
        "name": "ipython",
        "version": 3
      },
      "file_extension": ".py",
      "mimetype": "text/x-python",
      "name": "python",
      "nbconvert_exporter": "python",
      "pygments_lexer": "ipython3",
      "version": "3.8.13"
    },
    "vscode": {
      "interpreter": {
        "hash": "bcfaf3da971f87b91721743b1e9712a94e5baf8041af4e0a049618a6443e430e"
      }
    }
  },
  "nbformat": 4,
  "nbformat_minor": 0
}
