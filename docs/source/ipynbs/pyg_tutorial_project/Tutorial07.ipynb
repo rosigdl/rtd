{
  "cells": [
    {
      "cell_type": "markdown",
      "metadata": {
        "id": "ZwEr7tJH8bF4"
      },
      "source": [
        "# Tutorial 7: ARGA & ARVGA  \n",
        "\n",
        "Paper:\n",
        "* [Adversarially Regularized Graph Autoencoder for Graph Embedding](https://www.ijcai.org/Proceedings/2018/0362.pdf)  \n",
        "\n",
        "Code:\n",
        " * [ARGA & ARVGA](https://pytorch-geometric.readthedocs.io/en/latest/_modules/torch_geometric/nn/models/autoencoder.html)\n",
        " * [Example on clustering](https://github.com/rusty1s/pytorch_geometric/blob/master/examples/argva_node_clustering.py)"
      ]
    },
    {
      "cell_type": "code",
      "execution_count": null,
      "metadata": {
        "colab": {
          "base_uri": "https://localhost:8080/"
        },
        "id": "QAANWptw8bF6",
        "outputId": "5f14993e-4d99-4e96-b720-fcd8106b6f6a"
      },
      "outputs": [
        {
          "name": "stdout",
          "output_type": "stream",
          "text": [
            "1.12.1+cu113\n",
            "\u001b[K     |████████████████████████████████| 7.9 MB 9.3 MB/s \n",
            "\u001b[K     |████████████████████████████████| 3.5 MB 9.6 MB/s \n",
            "\u001b[?25h  Building wheel for torch-geometric (setup.py) ... \u001b[?25l\u001b[?25hdone\n"
          ]
        }
      ],
      "source": [
        "import os\n",
        "import torch\n",
        "os.environ['TORCH'] = torch.__version__\n",
        "print(torch.__version__)\n",
        "\n",
        "!pip install -q torch-scatter -f https://data.pyg.org/whl/torch-${TORCH}.html\n",
        "!pip install -q torch-sparse -f https://data.pyg.org/whl/torch-${TORCH}.html\n",
        "!pip install -q git+https://github.com/pyg-team/pytorch_geometric.git"
      ]
    },
    {
      "cell_type": "markdown",
      "metadata": {
        "id": "meSb8oMt8bF7"
      },
      "source": [
        "## Imports"
      ]
    },
    {
      "cell_type": "code",
      "execution_count": null,
      "metadata": {
        "id": "MqZvDr_c8bF7"
      },
      "outputs": [],
      "source": [
        "import os.path as osp\n",
        "import torch\n",
        "import torch.nn.functional as F\n",
        "from sklearn.cluster import KMeans\n",
        "from sklearn.metrics.cluster import (v_measure_score, homogeneity_score, completeness_score)\n",
        "from sklearn.manifold import TSNE\n",
        "import matplotlib.pyplot as plt\n",
        "import torch_geometric.transforms as T\n",
        "from torch_geometric.datasets import Planetoid\n",
        "from torch_geometric.nn import GCNConv\n",
        "from torch_geometric.nn.models.autoencoder import ARGVA\n",
        "from torch_geometric.utils import train_test_split_edges"
      ]
    },
    {
      "cell_type": "code",
      "execution_count": null,
      "metadata": {
        "id": "vytq705r8bF7"
      },
      "outputs": [],
      "source": [
        "use_cuda = False"
      ]
    },
    {
      "cell_type": "markdown",
      "metadata": {
        "id": "5T8q24uj8bF8"
      },
      "source": [
        "## Define the dataset"
      ]
    },
    {
      "cell_type": "markdown",
      "metadata": {
        "id": "h66Xp8w18bF8"
      },
      "source": [
        "Download the dataset"
      ]
    },
    {
      "cell_type": "code",
      "execution_count": null,
      "metadata": {
        "colab": {
          "base_uri": "https://localhost:8080/"
        },
        "id": "1pyLjaRp8bF8",
        "outputId": "98ec5592-9b2a-4221-b070-77168cadfa55"
      },
      "outputs": [
        {
          "name": "stderr",
          "output_type": "stream",
          "text": [
            "Downloading https://github.com/kimiyoung/planetoid/raw/master/data/ind.cora.x\n",
            "Downloading https://github.com/kimiyoung/planetoid/raw/master/data/ind.cora.tx\n",
            "Downloading https://github.com/kimiyoung/planetoid/raw/master/data/ind.cora.allx\n",
            "Downloading https://github.com/kimiyoung/planetoid/raw/master/data/ind.cora.y\n",
            "Downloading https://github.com/kimiyoung/planetoid/raw/master/data/ind.cora.ty\n",
            "Downloading https://github.com/kimiyoung/planetoid/raw/master/data/ind.cora.ally\n",
            "Downloading https://github.com/kimiyoung/planetoid/raw/master/data/ind.cora.graph\n",
            "Downloading https://github.com/kimiyoung/planetoid/raw/master/data/ind.cora.test.index\n",
            "Processing...\n",
            "Done!\n"
          ]
        }
      ],
      "source": [
        "dataset = 'Cora'\n",
        "path = osp.join('.', 'data', dataset)\n",
        "dataset = Planetoid(path, dataset, transform=T.NormalizeFeatures())\n",
        "data = dataset.get(0)"
      ]
    },
    {
      "cell_type": "markdown",
      "metadata": {
        "id": "e-oueybJ8bF8"
      },
      "source": [
        "Get the number of nodes"
      ]
    },
    {
      "cell_type": "code",
      "execution_count": null,
      "metadata": {
        "id": "7QV-Ctlc8bF9"
      },
      "outputs": [],
      "source": [
        "num_nodes = data.x.shape[0]"
      ]
    },
    {
      "cell_type": "markdown",
      "metadata": {
        "id": "ULY3z8HZ8bF9"
      },
      "source": [
        "Create the train/val/test data"
      ]
    },
    {
      "cell_type": "code",
      "execution_count": null,
      "metadata": {
        "colab": {
          "base_uri": "https://localhost:8080/"
        },
        "id": "ZyaOnJYV8bF9",
        "outputId": "7c54d76e-34ff-491e-8ec1-2fd3a2cea39a"
      },
      "outputs": [
        {
          "name": "stderr",
          "output_type": "stream",
          "text": [
            "/usr/local/lib/python3.7/dist-packages/torch_geometric/deprecation.py:12: UserWarning: 'train_test_split_edges' is deprecated, use 'transforms.RandomLinkSplit' instead\n",
            "  warnings.warn(out)\n"
          ]
        },
        {
          "data": {
            "text/plain": [
              "Data(x=[2708, 1433], y=[2708], val_pos_edge_index=[2, 263], test_pos_edge_index=[2, 527], train_pos_edge_index=[2, 8976], train_neg_adj_mask=[2708, 2708], val_neg_edge_index=[2, 263], test_neg_edge_index=[2, 527])"
            ]
          },
          "execution_count": 6,
          "metadata": {},
          "output_type": "execute_result"
        }
      ],
      "source": [
        "data.train_mask = data.val_mask = data.test_mask = None\n",
        "data = train_test_split_edges(data)\n",
        "data"
      ]
    },
    {
      "cell_type": "markdown",
      "metadata": {
        "id": "8kARIq3w8bF9"
      },
      "source": [
        "## Define the model"
      ]
    },
    {
      "cell_type": "markdown",
      "metadata": {
        "id": "gzst2YhK8bF9"
      },
      "source": [
        "Define the encoder classes (the same as in `Tutorial 6`)"
      ]
    },
    {
      "cell_type": "code",
      "execution_count": null,
      "metadata": {
        "id": "dLPVk3kc8bF9"
      },
      "outputs": [],
      "source": [
        "class VEncoder(torch.nn.Module):\n",
        "    def __init__(self, in_channels, out_channels):\n",
        "        super(VEncoder, self).__init__()\n",
        "        self.conv1 = GCNConv(in_channels, 2 * out_channels, cached=True)\n",
        "        self.conv_mu = GCNConv(2 * out_channels, out_channels, cached=True)\n",
        "        self.conv_logstd = GCNConv(2 * out_channels, out_channels, cached=True)\n",
        "\n",
        "    def forward(self, x, edge_index):\n",
        "        x = F.relu(self.conv1(x, edge_index))\n",
        "        return self.conv_mu(x, edge_index), self.conv_logstd(x, edge_index)"
      ]
    },
    {
      "cell_type": "markdown",
      "metadata": {
        "id": "4kk-pzYq8bF-"
      },
      "source": [
        "Define the discriminator class"
      ]
    },
    {
      "cell_type": "code",
      "execution_count": null,
      "metadata": {
        "id": "2JQC7tbq8bF-"
      },
      "outputs": [],
      "source": [
        "class Discriminator(torch.nn.Module):\n",
        "    def __init__(self, in_channels, hidden_channels, out_channels):\n",
        "        super(Discriminator, self).__init__()\n",
        "        self.lin1 = torch.nn.Linear(in_channels, hidden_channels)\n",
        "        self.lin2 = torch.nn.Linear(hidden_channels, hidden_channels)\n",
        "        self.lin3 = torch.nn.Linear(hidden_channels, out_channels)\n",
        "\n",
        "    def forward(self, x):\n",
        "        x = F.relu(self.lin1(x))\n",
        "        x = F.relu(self.lin2(x))\n",
        "        x = self.lin3(x)\n",
        "        return x"
      ]
    },
    {
      "cell_type": "markdown",
      "metadata": {
        "id": "VEeQFwQB8bF-"
      },
      "source": [
        "Define the training algorithm"
      ]
    },
    {
      "cell_type": "code",
      "execution_count": null,
      "metadata": {
        "id": "tg17JXj08bF-"
      },
      "outputs": [],
      "source": [
        "def train():\n",
        "    model.train()\n",
        "    encoder_optimizer.zero_grad()\n",
        "    \n",
        "    z = model.encode(data.x, data.train_pos_edge_index)\n",
        "\n",
        "    for i in range(5):\n",
        "        idx = range(num_nodes)  \n",
        "        discriminator.train()\n",
        "        discriminator_optimizer.zero_grad()\n",
        "        discriminator_loss = model.discriminator_loss(z[idx]) # Comment\n",
        "        discriminator_loss.backward(retain_graph=True)\n",
        "        discriminator_optimizer.step()\n",
        " \n",
        "    loss = 0\n",
        "    loss = loss + model.reg_loss(z)  # Comment\n",
        "    \n",
        "    loss = loss + model.recon_loss(z, data.train_pos_edge_index)\n",
        "    loss = loss + (1 / data.num_nodes) * model.kl_loss()\n",
        "    loss.backward()\n",
        "\n",
        "    encoder_optimizer.step()\n",
        "    \n",
        "    return loss"
      ]
    },
    {
      "cell_type": "markdown",
      "metadata": {
        "id": "Ps6HEWI28bF-"
      },
      "source": [
        "Define a training test method"
      ]
    },
    {
      "cell_type": "code",
      "execution_count": null,
      "metadata": {
        "id": "xRwcghNb8bF-"
      },
      "outputs": [],
      "source": [
        "@torch.no_grad()\n",
        "def test():\n",
        "    model.eval()\n",
        "    z = model.encode(data.x, data.train_pos_edge_index)\n",
        "\n",
        "    # Cluster embedded values using k-means.\n",
        "    kmeans_input = z.cpu().numpy()\n",
        "    kmeans = KMeans(n_clusters=7, random_state=0).fit(kmeans_input)\n",
        "    pred = kmeans.predict(kmeans_input)\n",
        "\n",
        "    labels = data.y.cpu().numpy()\n",
        "    completeness = completeness_score(labels, pred)\n",
        "    hm = homogeneity_score(labels, pred)\n",
        "    nmi = v_measure_score(labels, pred)\n",
        "\n",
        "    auc, ap = model.test(z, data.test_pos_edge_index, data.test_neg_edge_index)\n",
        "\n",
        "    return auc, ap, completeness, hm, nmi"
      ]
    },
    {
      "cell_type": "markdown",
      "metadata": {
        "id": "94aAMG8b8bF-"
      },
      "source": [
        "## Initialize the model"
      ]
    },
    {
      "cell_type": "markdown",
      "metadata": {
        "id": "JYLblTFo8bF_"
      },
      "source": [
        "Initialize an encoder and a discriminator"
      ]
    },
    {
      "cell_type": "code",
      "execution_count": null,
      "metadata": {
        "id": "4CoErdPr8bF_"
      },
      "outputs": [],
      "source": [
        "latent_size = 32\n",
        "encoder = VEncoder(data.num_features, out_channels=latent_size)\n",
        "\n",
        "discriminator = Discriminator(in_channels=latent_size, hidden_channels=64, \n",
        "                              out_channels=1) # Comment"
      ]
    },
    {
      "cell_type": "markdown",
      "metadata": {
        "id": "sh0FZ95H8bF_"
      },
      "source": [
        "Initialize the model and move everything to the GPU"
      ]
    },
    {
      "cell_type": "code",
      "execution_count": null,
      "metadata": {
        "id": "4tmUQoVA8bF_"
      },
      "outputs": [],
      "source": [
        "model = ARGVA(encoder, discriminator)\n",
        "\n",
        "device = torch.device('cuda' if torch.cuda.is_available() and use_cuda else 'cpu')\n",
        "model, data = model.to(device), data.to(device)"
      ]
    },
    {
      "cell_type": "markdown",
      "metadata": {
        "id": "NTcujc8U8bF_"
      },
      "source": [
        "Define the optimizers"
      ]
    },
    {
      "cell_type": "code",
      "execution_count": null,
      "metadata": {
        "id": "EcT-ldJq8bF_"
      },
      "outputs": [],
      "source": [
        "discriminator_optimizer = torch.optim.Adam(discriminator.parameters(), lr=0.001)\n",
        "encoder_optimizer = torch.optim.Adam(encoder.parameters(), lr=0.005)"
      ]
    },
    {
      "cell_type": "markdown",
      "metadata": {
        "id": "0SyKtth78bF_"
      },
      "source": [
        "### Train the model"
      ]
    },
    {
      "cell_type": "code",
      "execution_count": null,
      "metadata": {
        "colab": {
          "base_uri": "https://localhost:8080/"
        },
        "id": "1DpEaglY8bF_",
        "outputId": "c56bc3ec-e69e-42d1-cb39-e9da48aa2bb5"
      },
      "outputs": [
        {
          "name": "stdout",
          "output_type": "stream",
          "text": [
            "Epoch: 001, Loss: 5.541, AUC: 0.691, AP: 0.708, Completeness: 0.070, Homogeneity: 0.069, NMI: 0.069\n",
            "Epoch: 002, Loss: 4.885, AUC: 0.677, AP: 0.702, Completeness: 0.051, Homogeneity: 0.049, NMI: 0.050\n",
            "Epoch: 003, Loss: 4.419, AUC: 0.677, AP: 0.703, Completeness: 0.037, Homogeneity: 0.034, NMI: 0.036\n",
            "Epoch: 004, Loss: 4.100, AUC: 0.679, AP: 0.706, Completeness: 0.040, Homogeneity: 0.037, NMI: 0.038\n",
            "Epoch: 005, Loss: 3.796, AUC: 0.684, AP: 0.710, Completeness: 0.045, Homogeneity: 0.041, NMI: 0.043\n",
            "Epoch: 006, Loss: 3.474, AUC: 0.693, AP: 0.718, Completeness: 0.084, Homogeneity: 0.079, NMI: 0.081\n",
            "Epoch: 007, Loss: 3.168, AUC: 0.702, AP: 0.727, Completeness: 0.092, Homogeneity: 0.089, NMI: 0.091\n",
            "Epoch: 008, Loss: 2.958, AUC: 0.712, AP: 0.735, Completeness: 0.098, Homogeneity: 0.095, NMI: 0.096\n",
            "Epoch: 009, Loss: 2.735, AUC: 0.717, AP: 0.738, Completeness: 0.105, Homogeneity: 0.101, NMI: 0.103\n",
            "Epoch: 010, Loss: 2.636, AUC: 0.717, AP: 0.737, Completeness: 0.110, Homogeneity: 0.107, NMI: 0.109\n",
            "Epoch: 011, Loss: 2.548, AUC: 0.717, AP: 0.736, Completeness: 0.123, Homogeneity: 0.119, NMI: 0.121\n",
            "Epoch: 012, Loss: 2.469, AUC: 0.720, AP: 0.736, Completeness: 0.138, Homogeneity: 0.138, NMI: 0.138\n",
            "Epoch: 013, Loss: 2.399, AUC: 0.726, AP: 0.739, Completeness: 0.152, Homogeneity: 0.151, NMI: 0.151\n",
            "Epoch: 014, Loss: 2.358, AUC: 0.724, AP: 0.739, Completeness: 0.163, Homogeneity: 0.158, NMI: 0.160\n",
            "Epoch: 015, Loss: 2.334, AUC: 0.717, AP: 0.733, Completeness: 0.161, Homogeneity: 0.159, NMI: 0.160\n",
            "Epoch: 016, Loss: 2.393, AUC: 0.712, AP: 0.730, Completeness: 0.141, Homogeneity: 0.136, NMI: 0.139\n",
            "Epoch: 017, Loss: 2.529, AUC: 0.713, AP: 0.731, Completeness: 0.172, Homogeneity: 0.168, NMI: 0.170\n",
            "Epoch: 018, Loss: 2.679, AUC: 0.722, AP: 0.739, Completeness: 0.198, Homogeneity: 0.196, NMI: 0.197\n",
            "Epoch: 019, Loss: 2.736, AUC: 0.741, AP: 0.755, Completeness: 0.217, Homogeneity: 0.213, NMI: 0.215\n",
            "Epoch: 020, Loss: 2.693, AUC: 0.762, AP: 0.774, Completeness: 0.235, Homogeneity: 0.228, NMI: 0.231\n",
            "Epoch: 021, Loss: 2.660, AUC: 0.765, AP: 0.776, Completeness: 0.221, Homogeneity: 0.212, NMI: 0.216\n",
            "Epoch: 022, Loss: 2.692, AUC: 0.754, AP: 0.768, Completeness: 0.223, Homogeneity: 0.204, NMI: 0.213\n",
            "Epoch: 023, Loss: 2.868, AUC: 0.746, AP: 0.763, Completeness: 0.214, Homogeneity: 0.201, NMI: 0.207\n",
            "Epoch: 024, Loss: 3.095, AUC: 0.745, AP: 0.764, Completeness: 0.196, Homogeneity: 0.192, NMI: 0.194\n",
            "Epoch: 025, Loss: 3.238, AUC: 0.752, AP: 0.770, Completeness: 0.223, Homogeneity: 0.213, NMI: 0.218\n",
            "Epoch: 026, Loss: 3.317, AUC: 0.764, AP: 0.781, Completeness: 0.272, Homogeneity: 0.263, NMI: 0.267\n",
            "Epoch: 027, Loss: 3.291, AUC: 0.777, AP: 0.793, Completeness: 0.256, Homogeneity: 0.255, NMI: 0.256\n",
            "Epoch: 028, Loss: 3.261, AUC: 0.788, AP: 0.802, Completeness: 0.281, Homogeneity: 0.269, NMI: 0.275\n",
            "Epoch: 029, Loss: 3.257, AUC: 0.791, AP: 0.803, Completeness: 0.268, Homogeneity: 0.256, NMI: 0.262\n",
            "Epoch: 030, Loss: 3.356, AUC: 0.788, AP: 0.798, Completeness: 0.264, Homogeneity: 0.257, NMI: 0.260\n",
            "Epoch: 031, Loss: 3.461, AUC: 0.786, AP: 0.793, Completeness: 0.277, Homogeneity: 0.255, NMI: 0.265\n",
            "Epoch: 032, Loss: 3.513, AUC: 0.789, AP: 0.791, Completeness: 0.260, Homogeneity: 0.240, NMI: 0.250\n",
            "Epoch: 033, Loss: 3.582, AUC: 0.795, AP: 0.791, Completeness: 0.268, Homogeneity: 0.246, NMI: 0.257\n",
            "Epoch: 034, Loss: 3.648, AUC: 0.798, AP: 0.789, Completeness: 0.268, Homogeneity: 0.246, NMI: 0.256\n",
            "Epoch: 035, Loss: 3.760, AUC: 0.795, AP: 0.787, Completeness: 0.268, Homogeneity: 0.242, NMI: 0.254\n",
            "Epoch: 036, Loss: 3.879, AUC: 0.789, AP: 0.785, Completeness: 0.287, Homogeneity: 0.258, NMI: 0.272\n",
            "Epoch: 037, Loss: 3.949, AUC: 0.786, AP: 0.787, Completeness: 0.299, Homogeneity: 0.268, NMI: 0.282\n",
            "Epoch: 038, Loss: 3.989, AUC: 0.787, AP: 0.790, Completeness: 0.305, Homogeneity: 0.272, NMI: 0.287\n",
            "Epoch: 039, Loss: 4.134, AUC: 0.792, AP: 0.796, Completeness: 0.313, Homogeneity: 0.275, NMI: 0.293\n",
            "Epoch: 040, Loss: 4.237, AUC: 0.798, AP: 0.803, Completeness: 0.315, Homogeneity: 0.286, NMI: 0.300\n",
            "Epoch: 041, Loss: 4.137, AUC: 0.804, AP: 0.809, Completeness: 0.332, Homogeneity: 0.291, NMI: 0.310\n",
            "Epoch: 042, Loss: 4.156, AUC: 0.808, AP: 0.812, Completeness: 0.341, Homogeneity: 0.303, NMI: 0.321\n",
            "Epoch: 043, Loss: 4.106, AUC: 0.809, AP: 0.812, Completeness: 0.343, Homogeneity: 0.324, NMI: 0.333\n",
            "Epoch: 044, Loss: 4.102, AUC: 0.808, AP: 0.810, Completeness: 0.351, Homogeneity: 0.333, NMI: 0.342\n",
            "Epoch: 045, Loss: 4.084, AUC: 0.806, AP: 0.807, Completeness: 0.359, Homogeneity: 0.344, NMI: 0.351\n",
            "Epoch: 046, Loss: 4.026, AUC: 0.805, AP: 0.805, Completeness: 0.362, Homogeneity: 0.347, NMI: 0.354\n",
            "Epoch: 047, Loss: 4.030, AUC: 0.805, AP: 0.805, Completeness: 0.365, Homogeneity: 0.351, NMI: 0.358\n",
            "Epoch: 048, Loss: 4.008, AUC: 0.808, AP: 0.807, Completeness: 0.372, Homogeneity: 0.360, NMI: 0.366\n",
            "Epoch: 049, Loss: 3.979, AUC: 0.812, AP: 0.810, Completeness: 0.373, Homogeneity: 0.360, NMI: 0.367\n",
            "Epoch: 050, Loss: 3.998, AUC: 0.817, AP: 0.814, Completeness: 0.375, Homogeneity: 0.362, NMI: 0.368\n",
            "Epoch: 051, Loss: 4.072, AUC: 0.822, AP: 0.816, Completeness: 0.377, Homogeneity: 0.364, NMI: 0.370\n",
            "Epoch: 052, Loss: 4.046, AUC: 0.825, AP: 0.818, Completeness: 0.379, Homogeneity: 0.364, NMI: 0.372\n",
            "Epoch: 053, Loss: 4.086, AUC: 0.828, AP: 0.819, Completeness: 0.382, Homogeneity: 0.366, NMI: 0.374\n",
            "Epoch: 054, Loss: 4.046, AUC: 0.829, AP: 0.819, Completeness: 0.390, Homogeneity: 0.374, NMI: 0.382\n",
            "Epoch: 055, Loss: 4.131, AUC: 0.829, AP: 0.819, Completeness: 0.385, Homogeneity: 0.348, NMI: 0.366\n",
            "Epoch: 056, Loss: 4.190, AUC: 0.828, AP: 0.817, Completeness: 0.391, Homogeneity: 0.351, NMI: 0.370\n",
            "Epoch: 057, Loss: 4.164, AUC: 0.828, AP: 0.817, Completeness: 0.381, Homogeneity: 0.342, NMI: 0.360\n",
            "Epoch: 058, Loss: 4.181, AUC: 0.827, AP: 0.815, Completeness: 0.350, Homogeneity: 0.343, NMI: 0.346\n",
            "Epoch: 059, Loss: 4.249, AUC: 0.826, AP: 0.815, Completeness: 0.355, Homogeneity: 0.347, NMI: 0.351\n",
            "Epoch: 060, Loss: 4.240, AUC: 0.824, AP: 0.813, Completeness: 0.381, Homogeneity: 0.345, NMI: 0.362\n",
            "Epoch: 061, Loss: 4.244, AUC: 0.823, AP: 0.812, Completeness: 0.357, Homogeneity: 0.348, NMI: 0.352\n",
            "Epoch: 062, Loss: 4.212, AUC: 0.822, AP: 0.812, Completeness: 0.355, Homogeneity: 0.347, NMI: 0.351\n",
            "Epoch: 063, Loss: 4.203, AUC: 0.823, AP: 0.812, Completeness: 0.370, Homogeneity: 0.346, NMI: 0.358\n",
            "Epoch: 064, Loss: 4.215, AUC: 0.823, AP: 0.813, Completeness: 0.372, Homogeneity: 0.352, NMI: 0.362\n",
            "Epoch: 065, Loss: 4.099, AUC: 0.824, AP: 0.814, Completeness: 0.382, Homogeneity: 0.358, NMI: 0.370\n",
            "Epoch: 066, Loss: 4.164, AUC: 0.825, AP: 0.815, Completeness: 0.380, Homogeneity: 0.360, NMI: 0.370\n",
            "Epoch: 067, Loss: 4.110, AUC: 0.826, AP: 0.816, Completeness: 0.387, Homogeneity: 0.365, NMI: 0.376\n",
            "Epoch: 068, Loss: 4.083, AUC: 0.827, AP: 0.817, Completeness: 0.392, Homogeneity: 0.370, NMI: 0.381\n",
            "Epoch: 069, Loss: 4.102, AUC: 0.828, AP: 0.819, Completeness: 0.398, Homogeneity: 0.383, NMI: 0.390\n",
            "Epoch: 070, Loss: 4.081, AUC: 0.830, AP: 0.821, Completeness: 0.404, Homogeneity: 0.390, NMI: 0.396\n",
            "Epoch: 071, Loss: 4.066, AUC: 0.832, AP: 0.823, Completeness: 0.406, Homogeneity: 0.392, NMI: 0.399\n",
            "Epoch: 072, Loss: 4.122, AUC: 0.834, AP: 0.826, Completeness: 0.406, Homogeneity: 0.391, NMI: 0.398\n",
            "Epoch: 073, Loss: 4.030, AUC: 0.837, AP: 0.829, Completeness: 0.383, Homogeneity: 0.391, NMI: 0.387\n",
            "Epoch: 074, Loss: 4.069, AUC: 0.840, AP: 0.832, Completeness: 0.415, Homogeneity: 0.400, NMI: 0.407\n",
            "Epoch: 075, Loss: 4.204, AUC: 0.843, AP: 0.835, Completeness: 0.415, Homogeneity: 0.403, NMI: 0.409\n",
            "Epoch: 076, Loss: 4.044, AUC: 0.846, AP: 0.837, Completeness: 0.429, Homogeneity: 0.408, NMI: 0.418\n",
            "Epoch: 077, Loss: 4.168, AUC: 0.848, AP: 0.840, Completeness: 0.418, Homogeneity: 0.406, NMI: 0.412\n",
            "Epoch: 078, Loss: 4.217, AUC: 0.851, AP: 0.842, Completeness: 0.418, Homogeneity: 0.414, NMI: 0.416\n",
            "Epoch: 079, Loss: 4.152, AUC: 0.854, AP: 0.845, Completeness: 0.433, Homogeneity: 0.418, NMI: 0.426\n",
            "Epoch: 080, Loss: 4.171, AUC: 0.857, AP: 0.848, Completeness: 0.434, Homogeneity: 0.419, NMI: 0.426\n",
            "Epoch: 081, Loss: 4.152, AUC: 0.859, AP: 0.851, Completeness: 0.421, Homogeneity: 0.416, NMI: 0.418\n",
            "Epoch: 082, Loss: 4.172, AUC: 0.862, AP: 0.853, Completeness: 0.425, Homogeneity: 0.425, NMI: 0.425\n",
            "Epoch: 083, Loss: 4.107, AUC: 0.864, AP: 0.856, Completeness: 0.434, Homogeneity: 0.422, NMI: 0.428\n",
            "Epoch: 084, Loss: 4.242, AUC: 0.866, AP: 0.859, Completeness: 0.436, Homogeneity: 0.424, NMI: 0.430\n",
            "Epoch: 085, Loss: 4.062, AUC: 0.869, AP: 0.862, Completeness: 0.429, Homogeneity: 0.429, NMI: 0.429\n",
            "Epoch: 086, Loss: 4.057, AUC: 0.871, AP: 0.864, Completeness: 0.432, Homogeneity: 0.424, NMI: 0.428\n",
            "Epoch: 087, Loss: 4.028, AUC: 0.872, AP: 0.866, Completeness: 0.432, Homogeneity: 0.433, NMI: 0.432\n",
            "Epoch: 088, Loss: 4.047, AUC: 0.874, AP: 0.868, Completeness: 0.436, Homogeneity: 0.429, NMI: 0.432\n",
            "Epoch: 089, Loss: 4.004, AUC: 0.874, AP: 0.869, Completeness: 0.439, Homogeneity: 0.433, NMI: 0.436\n",
            "Epoch: 090, Loss: 3.814, AUC: 0.875, AP: 0.870, Completeness: 0.441, Homogeneity: 0.435, NMI: 0.438\n",
            "Epoch: 091, Loss: 3.919, AUC: 0.875, AP: 0.870, Completeness: 0.442, Homogeneity: 0.437, NMI: 0.440\n",
            "Epoch: 092, Loss: 3.919, AUC: 0.876, AP: 0.871, Completeness: 0.442, Homogeneity: 0.437, NMI: 0.440\n",
            "Epoch: 093, Loss: 3.943, AUC: 0.876, AP: 0.871, Completeness: 0.443, Homogeneity: 0.439, NMI: 0.441\n",
            "Epoch: 094, Loss: 3.920, AUC: 0.875, AP: 0.871, Completeness: 0.444, Homogeneity: 0.439, NMI: 0.442\n",
            "Epoch: 095, Loss: 3.912, AUC: 0.876, AP: 0.872, Completeness: 0.444, Homogeneity: 0.440, NMI: 0.442\n",
            "Epoch: 096, Loss: 3.902, AUC: 0.877, AP: 0.874, Completeness: 0.446, Homogeneity: 0.441, NMI: 0.443\n",
            "Epoch: 097, Loss: 3.894, AUC: 0.877, AP: 0.875, Completeness: 0.491, Homogeneity: 0.462, NMI: 0.476\n",
            "Epoch: 098, Loss: 3.931, AUC: 0.879, AP: 0.876, Completeness: 0.492, Homogeneity: 0.463, NMI: 0.477\n",
            "Epoch: 099, Loss: 3.890, AUC: 0.880, AP: 0.878, Completeness: 0.490, Homogeneity: 0.462, NMI: 0.476\n",
            "Epoch: 100, Loss: 3.883, AUC: 0.880, AP: 0.879, Completeness: 0.492, Homogeneity: 0.464, NMI: 0.478\n",
            "Epoch: 101, Loss: 3.873, AUC: 0.881, AP: 0.881, Completeness: 0.489, Homogeneity: 0.462, NMI: 0.475\n",
            "Epoch: 102, Loss: 3.824, AUC: 0.881, AP: 0.882, Completeness: 0.490, Homogeneity: 0.465, NMI: 0.477\n",
            "Epoch: 103, Loss: 3.846, AUC: 0.882, AP: 0.882, Completeness: 0.491, Homogeneity: 0.466, NMI: 0.478\n",
            "Epoch: 104, Loss: 3.797, AUC: 0.882, AP: 0.883, Completeness: 0.492, Homogeneity: 0.466, NMI: 0.479\n",
            "Epoch: 105, Loss: 3.863, AUC: 0.881, AP: 0.882, Completeness: 0.436, Homogeneity: 0.438, NMI: 0.437\n",
            "Epoch: 106, Loss: 3.805, AUC: 0.881, AP: 0.882, Completeness: 0.493, Homogeneity: 0.469, NMI: 0.481\n",
            "Epoch: 107, Loss: 3.804, AUC: 0.881, AP: 0.882, Completeness: 0.481, Homogeneity: 0.459, NMI: 0.470\n",
            "Epoch: 108, Loss: 3.855, AUC: 0.881, AP: 0.883, Completeness: 0.497, Homogeneity: 0.472, NMI: 0.484\n",
            "Epoch: 109, Loss: 3.757, AUC: 0.881, AP: 0.883, Completeness: 0.480, Homogeneity: 0.458, NMI: 0.468\n",
            "Epoch: 110, Loss: 3.787, AUC: 0.882, AP: 0.884, Completeness: 0.497, Homogeneity: 0.472, NMI: 0.484\n",
            "Epoch: 111, Loss: 3.785, AUC: 0.883, AP: 0.885, Completeness: 0.478, Homogeneity: 0.457, NMI: 0.467\n",
            "Epoch: 112, Loss: 3.768, AUC: 0.883, AP: 0.886, Completeness: 0.479, Homogeneity: 0.458, NMI: 0.468\n",
            "Epoch: 113, Loss: 3.861, AUC: 0.884, AP: 0.887, Completeness: 0.470, Homogeneity: 0.450, NMI: 0.460\n",
            "Epoch: 114, Loss: 3.844, AUC: 0.883, AP: 0.887, Completeness: 0.440, Homogeneity: 0.433, NMI: 0.437\n",
            "Epoch: 115, Loss: 3.839, AUC: 0.884, AP: 0.887, Completeness: 0.461, Homogeneity: 0.442, NMI: 0.452\n",
            "Epoch: 116, Loss: 3.826, AUC: 0.883, AP: 0.887, Completeness: 0.430, Homogeneity: 0.424, NMI: 0.427\n",
            "Epoch: 117, Loss: 3.865, AUC: 0.883, AP: 0.887, Completeness: 0.453, Homogeneity: 0.437, NMI: 0.445\n",
            "Epoch: 118, Loss: 3.852, AUC: 0.883, AP: 0.887, Completeness: 0.466, Homogeneity: 0.447, NMI: 0.456\n",
            "Epoch: 119, Loss: 3.867, AUC: 0.884, AP: 0.887, Completeness: 0.442, Homogeneity: 0.426, NMI: 0.434\n",
            "Epoch: 120, Loss: 3.817, AUC: 0.884, AP: 0.888, Completeness: 0.463, Homogeneity: 0.444, NMI: 0.453\n",
            "Epoch: 121, Loss: 3.834, AUC: 0.884, AP: 0.888, Completeness: 0.441, Homogeneity: 0.426, NMI: 0.434\n",
            "Epoch: 122, Loss: 3.874, AUC: 0.885, AP: 0.889, Completeness: 0.463, Homogeneity: 0.445, NMI: 0.454\n",
            "Epoch: 123, Loss: 3.886, AUC: 0.886, AP: 0.890, Completeness: 0.465, Homogeneity: 0.448, NMI: 0.456\n",
            "Epoch: 124, Loss: 3.813, AUC: 0.887, AP: 0.891, Completeness: 0.462, Homogeneity: 0.445, NMI: 0.454\n",
            "Epoch: 125, Loss: 3.849, AUC: 0.888, AP: 0.892, Completeness: 0.421, Homogeneity: 0.418, NMI: 0.420\n",
            "Epoch: 126, Loss: 3.838, AUC: 0.888, AP: 0.893, Completeness: 0.424, Homogeneity: 0.422, NMI: 0.423\n",
            "Epoch: 127, Loss: 3.773, AUC: 0.889, AP: 0.893, Completeness: 0.422, Homogeneity: 0.420, NMI: 0.421\n",
            "Epoch: 128, Loss: 3.822, AUC: 0.889, AP: 0.894, Completeness: 0.420, Homogeneity: 0.418, NMI: 0.419\n",
            "Epoch: 129, Loss: 3.843, AUC: 0.890, AP: 0.894, Completeness: 0.432, Homogeneity: 0.430, NMI: 0.431\n",
            "Epoch: 130, Loss: 3.772, AUC: 0.890, AP: 0.895, Completeness: 0.432, Homogeneity: 0.430, NMI: 0.431\n",
            "Epoch: 131, Loss: 3.748, AUC: 0.891, AP: 0.895, Completeness: 0.419, Homogeneity: 0.418, NMI: 0.418\n",
            "Epoch: 132, Loss: 3.762, AUC: 0.891, AP: 0.896, Completeness: 0.428, Homogeneity: 0.427, NMI: 0.428\n",
            "Epoch: 133, Loss: 3.855, AUC: 0.892, AP: 0.897, Completeness: 0.431, Homogeneity: 0.430, NMI: 0.431\n",
            "Epoch: 134, Loss: 3.768, AUC: 0.893, AP: 0.898, Completeness: 0.434, Homogeneity: 0.434, NMI: 0.434\n",
            "Epoch: 135, Loss: 3.712, AUC: 0.893, AP: 0.898, Completeness: 0.433, Homogeneity: 0.432, NMI: 0.432\n",
            "Epoch: 136, Loss: 3.742, AUC: 0.893, AP: 0.898, Completeness: 0.434, Homogeneity: 0.434, NMI: 0.434\n",
            "Epoch: 137, Loss: 3.752, AUC: 0.893, AP: 0.898, Completeness: 0.431, Homogeneity: 0.431, NMI: 0.431\n",
            "Epoch: 138, Loss: 3.747, AUC: 0.893, AP: 0.898, Completeness: 0.428, Homogeneity: 0.430, NMI: 0.429\n",
            "Epoch: 139, Loss: 3.709, AUC: 0.893, AP: 0.898, Completeness: 0.413, Homogeneity: 0.418, NMI: 0.415\n",
            "Epoch: 140, Loss: 3.766, AUC: 0.892, AP: 0.897, Completeness: 0.425, Homogeneity: 0.427, NMI: 0.426\n",
            "Epoch: 141, Loss: 3.757, AUC: 0.892, AP: 0.896, Completeness: 0.405, Homogeneity: 0.412, NMI: 0.408\n",
            "Epoch: 142, Loss: 3.652, AUC: 0.892, AP: 0.896, Completeness: 0.429, Homogeneity: 0.434, NMI: 0.431\n",
            "Epoch: 143, Loss: 3.719, AUC: 0.892, AP: 0.897, Completeness: 0.403, Homogeneity: 0.411, NMI: 0.407\n",
            "Epoch: 144, Loss: 3.801, AUC: 0.894, AP: 0.899, Completeness: 0.437, Homogeneity: 0.439, NMI: 0.438\n",
            "Epoch: 145, Loss: 3.719, AUC: 0.894, AP: 0.900, Completeness: 0.401, Homogeneity: 0.409, NMI: 0.405\n",
            "Epoch: 146, Loss: 3.731, AUC: 0.895, AP: 0.901, Completeness: 0.399, Homogeneity: 0.407, NMI: 0.403\n",
            "Epoch: 147, Loss: 3.626, AUC: 0.895, AP: 0.902, Completeness: 0.408, Homogeneity: 0.414, NMI: 0.411\n",
            "Epoch: 148, Loss: 3.660, AUC: 0.895, AP: 0.902, Completeness: 0.382, Homogeneity: 0.387, NMI: 0.385\n",
            "Epoch: 149, Loss: 3.626, AUC: 0.895, AP: 0.903, Completeness: 0.396, Homogeneity: 0.409, NMI: 0.402\n",
            "Epoch: 150, Loss: 3.638, AUC: 0.895, AP: 0.902, Completeness: 0.351, Homogeneity: 0.357, NMI: 0.354\n",
            "Epoch: 151, Loss: 3.667, AUC: 0.895, AP: 0.902, Completeness: 0.391, Homogeneity: 0.406, NMI: 0.399\n",
            "Epoch: 152, Loss: 3.661, AUC: 0.895, AP: 0.902, Completeness: 0.371, Homogeneity: 0.387, NMI: 0.379\n",
            "Epoch: 153, Loss: 3.656, AUC: 0.895, AP: 0.901, Completeness: 0.404, Homogeneity: 0.415, NMI: 0.409\n",
            "Epoch: 154, Loss: 3.664, AUC: 0.895, AP: 0.901, Completeness: 0.390, Homogeneity: 0.407, NMI: 0.398\n",
            "Epoch: 155, Loss: 3.614, AUC: 0.896, AP: 0.902, Completeness: 0.391, Homogeneity: 0.406, NMI: 0.398\n",
            "Epoch: 156, Loss: 3.656, AUC: 0.897, AP: 0.903, Completeness: 0.402, Homogeneity: 0.417, NMI: 0.410\n",
            "Epoch: 157, Loss: 3.554, AUC: 0.898, AP: 0.905, Completeness: 0.400, Homogeneity: 0.414, NMI: 0.407\n",
            "Epoch: 158, Loss: 3.628, AUC: 0.899, AP: 0.906, Completeness: 0.404, Homogeneity: 0.417, NMI: 0.411\n",
            "Epoch: 159, Loss: 3.538, AUC: 0.899, AP: 0.907, Completeness: 0.404, Homogeneity: 0.421, NMI: 0.412\n",
            "Epoch: 160, Loss: 3.566, AUC: 0.899, AP: 0.907, Completeness: 0.413, Homogeneity: 0.424, NMI: 0.419\n",
            "Epoch: 161, Loss: 3.491, AUC: 0.899, AP: 0.907, Completeness: 0.399, Homogeneity: 0.415, NMI: 0.407\n",
            "Epoch: 162, Loss: 3.574, AUC: 0.898, AP: 0.907, Completeness: 0.370, Homogeneity: 0.380, NMI: 0.375\n",
            "Epoch: 163, Loss: 3.555, AUC: 0.898, AP: 0.907, Completeness: 0.403, Homogeneity: 0.418, NMI: 0.410\n",
            "Epoch: 164, Loss: 3.581, AUC: 0.898, AP: 0.907, Completeness: 0.387, Homogeneity: 0.393, NMI: 0.390\n",
            "Epoch: 165, Loss: 3.543, AUC: 0.898, AP: 0.907, Completeness: 0.455, Homogeneity: 0.472, NMI: 0.463\n",
            "Epoch: 166, Loss: 3.576, AUC: 0.899, AP: 0.907, Completeness: 0.445, Homogeneity: 0.448, NMI: 0.446\n",
            "Epoch: 167, Loss: 3.483, AUC: 0.900, AP: 0.908, Completeness: 0.404, Homogeneity: 0.418, NMI: 0.411\n",
            "Epoch: 168, Loss: 3.598, AUC: 0.901, AP: 0.908, Completeness: 0.403, Homogeneity: 0.424, NMI: 0.413\n",
            "Epoch: 169, Loss: 3.535, AUC: 0.901, AP: 0.909, Completeness: 0.450, Homogeneity: 0.456, NMI: 0.453\n",
            "Epoch: 170, Loss: 3.513, AUC: 0.901, AP: 0.910, Completeness: 0.437, Homogeneity: 0.428, NMI: 0.432\n",
            "Epoch: 171, Loss: 3.537, AUC: 0.902, AP: 0.910, Completeness: 0.367, Homogeneity: 0.376, NMI: 0.372\n",
            "Epoch: 172, Loss: 3.514, AUC: 0.902, AP: 0.910, Completeness: 0.400, Homogeneity: 0.420, NMI: 0.410\n",
            "Epoch: 173, Loss: 3.512, AUC: 0.902, AP: 0.910, Completeness: 0.365, Homogeneity: 0.375, NMI: 0.370\n",
            "Epoch: 174, Loss: 3.500, AUC: 0.902, AP: 0.910, Completeness: 0.441, Homogeneity: 0.435, NMI: 0.438\n",
            "Epoch: 175, Loss: 3.518, AUC: 0.903, AP: 0.910, Completeness: 0.394, Homogeneity: 0.390, NMI: 0.392\n",
            "Epoch: 176, Loss: 3.515, AUC: 0.904, AP: 0.911, Completeness: 0.375, Homogeneity: 0.383, NMI: 0.379\n",
            "Epoch: 177, Loss: 3.495, AUC: 0.905, AP: 0.911, Completeness: 0.387, Homogeneity: 0.395, NMI: 0.391\n",
            "Epoch: 178, Loss: 3.581, AUC: 0.904, AP: 0.911, Completeness: 0.388, Homogeneity: 0.396, NMI: 0.392\n",
            "Epoch: 179, Loss: 3.491, AUC: 0.903, AP: 0.910, Completeness: 0.388, Homogeneity: 0.396, NMI: 0.392\n",
            "Epoch: 180, Loss: 3.589, AUC: 0.902, AP: 0.909, Completeness: 0.381, Homogeneity: 0.387, NMI: 0.384\n",
            "Epoch: 181, Loss: 3.486, AUC: 0.900, AP: 0.907, Completeness: 0.385, Homogeneity: 0.394, NMI: 0.389\n",
            "Epoch: 182, Loss: 3.592, AUC: 0.899, AP: 0.905, Completeness: 0.379, Homogeneity: 0.393, NMI: 0.386\n",
            "Epoch: 183, Loss: 3.544, AUC: 0.897, AP: 0.903, Completeness: 0.406, Homogeneity: 0.423, NMI: 0.414\n",
            "Epoch: 184, Loss: 3.511, AUC: 0.896, AP: 0.902, Completeness: 0.371, Homogeneity: 0.383, NMI: 0.377\n",
            "Epoch: 185, Loss: 3.443, AUC: 0.896, AP: 0.901, Completeness: 0.390, Homogeneity: 0.391, NMI: 0.390\n",
            "Epoch: 186, Loss: 3.470, AUC: 0.896, AP: 0.902, Completeness: 0.349, Homogeneity: 0.359, NMI: 0.354\n",
            "Epoch: 187, Loss: 3.488, AUC: 0.896, AP: 0.902, Completeness: 0.386, Homogeneity: 0.387, NMI: 0.387\n",
            "Epoch: 188, Loss: 3.486, AUC: 0.896, AP: 0.902, Completeness: 0.348, Homogeneity: 0.358, NMI: 0.353\n",
            "Epoch: 189, Loss: 3.424, AUC: 0.896, AP: 0.902, Completeness: 0.361, Homogeneity: 0.362, NMI: 0.361\n",
            "Epoch: 190, Loss: 3.471, AUC: 0.896, AP: 0.901, Completeness: 0.370, Homogeneity: 0.373, NMI: 0.371\n",
            "Epoch: 191, Loss: 3.397, AUC: 0.895, AP: 0.900, Completeness: 0.341, Homogeneity: 0.353, NMI: 0.347\n",
            "Epoch: 192, Loss: 3.355, AUC: 0.895, AP: 0.901, Completeness: 0.385, Homogeneity: 0.389, NMI: 0.387\n",
            "Epoch: 193, Loss: 3.484, AUC: 0.896, AP: 0.902, Completeness: 0.337, Homogeneity: 0.348, NMI: 0.342\n",
            "Epoch: 194, Loss: 3.314, AUC: 0.896, AP: 0.903, Completeness: 0.354, Homogeneity: 0.364, NMI: 0.359\n",
            "Epoch: 195, Loss: 3.459, AUC: 0.895, AP: 0.904, Completeness: 0.338, Homogeneity: 0.349, NMI: 0.343\n",
            "Epoch: 196, Loss: 3.409, AUC: 0.895, AP: 0.904, Completeness: 0.355, Homogeneity: 0.374, NMI: 0.364\n",
            "Epoch: 197, Loss: 3.446, AUC: 0.894, AP: 0.904, Completeness: 0.361, Homogeneity: 0.381, NMI: 0.371\n",
            "Epoch: 198, Loss: 3.322, AUC: 0.893, AP: 0.903, Completeness: 0.292, Homogeneity: 0.300, NMI: 0.296\n",
            "Epoch: 199, Loss: 3.569, AUC: 0.893, AP: 0.904, Completeness: 0.290, Homogeneity: 0.300, NMI: 0.295\n",
            "Epoch: 200, Loss: 3.459, AUC: 0.893, AP: 0.904, Completeness: 0.326, Homogeneity: 0.334, NMI: 0.330\n"
          ]
        }
      ],
      "source": [
        "for epoch in range(1, 201):\n",
        "    loss = train()\n",
        "    auc, ap, completeness, hm, nmi = test()\n",
        "    print((f'Epoch: {epoch:03d}, Loss: {loss:.3f}, AUC: {auc:.3f}, '\n",
        "           f'AP: {ap:.3f}, Completeness: {completeness:.3f}, '\n",
        "           f'Homogeneity: {hm:.3f}, NMI: {nmi:.3f}'))"
      ]
    },
    {
      "cell_type": "code",
      "execution_count": null,
      "metadata": {
        "id": "okXxWc0Q8bF_"
      },
      "outputs": [],
      "source": [
        "@torch.no_grad()\n",
        "def plot_points(colors):\n",
        "    model.eval()\n",
        "    z = model.encode(data.x, data.train_pos_edge_index)\n",
        "    z = TSNE(n_components=2).fit_transform(z.cpu().numpy())\n",
        "    y = data.y.cpu().numpy()\n",
        "\n",
        "    fig = plt.figure(1, figsize=(8, 8))\n",
        "    fig.clf()\n",
        "    for i in range(dataset.num_classes):\n",
        "        plt.scatter(z[y == i, 0], z[y == i, 1], s=20, color=colors[i])\n",
        "    plt.axis('off')\n",
        "    plt.show()"
      ]
    },
    {
      "cell_type": "code",
      "execution_count": null,
      "metadata": {
        "colab": {
          "base_uri": "https://localhost:8080/",
          "height": 555
        },
        "id": "_9ZDZTml8bF_",
        "outputId": "da28af68-f69c-4dbf-be1d-07119bd4a505"
      },
      "outputs": [
        {
          "name": "stderr",
          "output_type": "stream",
          "text": [
            "/usr/local/lib/python3.7/dist-packages/sklearn/manifold/_t_sne.py:783: FutureWarning: The default initialization in TSNE will change from 'random' to 'pca' in 1.2.\n",
            "  FutureWarning,\n",
            "/usr/local/lib/python3.7/dist-packages/sklearn/manifold/_t_sne.py:793: FutureWarning: The default learning rate in TSNE will change from 200.0 to 'auto' in 1.2.\n",
            "  FutureWarning,\n"
          ]
        },
        {
          "data": {
            "image/png": "[encoded data removed]",
            "text/plain": [
              "<Figure size 576x576 with 1 Axes>"
            ]
          },
          "metadata": {
            "needs_background": "light"
          },
          "output_type": "display_data"
        }
      ],
      "source": [
        "#%%\n",
        "colors = [\n",
        "    '#ffc0cb', '#bada55', '#008080', '#420420', '#7fe5f0', '#065535', '#ffd700'\n",
        "]\n",
        "plot_points(colors)"
      ]
    }
  ],
  "metadata": {
    "colab": {
      "provenance": []
    },
    "kernelspec": {
      "display_name": "Python 3.8.13 ('rtd')",
      "language": "python",
      "name": "python3"
    },
    "language_info": {
      "codemirror_mode": {
        "name": "ipython",
        "version": 3
      },
      "file_extension": ".py",
      "mimetype": "text/x-python",
      "name": "python",
      "nbconvert_exporter": "python",
      "pygments_lexer": "ipython3",
      "version": "3.8.13"
    },
    "vscode": {
      "interpreter": {
        "hash": "bcfaf3da971f87b91721743b1e9712a94e5baf8041af4e0a049618a6443e430e"
      }
    }
  },
  "nbformat": 4,
  "nbformat_minor": 0
}
