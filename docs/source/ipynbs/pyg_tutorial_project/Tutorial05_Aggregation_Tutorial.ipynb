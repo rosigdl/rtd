{
  "cells": [
    {
      "cell_type": "markdown",
      "metadata": {
        "id": "MIYMmxc_8axr"
      },
      "source": [
        "# Tutorial 5: Aggregation"
      ]
    },
    {
      "cell_type": "markdown",
      "metadata": {
        "id": "PmY9Nien8axs"
      },
      "source": [
        "In this tutorial we will override the aggregation method of the GIN convolution module of Pytorch Geometric implementing the following methods:\n",
        "\n",
        "- Principal Neighborhood Aggregation (PNA)\n",
        "- Learning Aggregation Functions (LAF)"
      ]
    },
    {
      "cell_type": "code",
      "execution_count": null,
      "metadata": {
        "colab": {
          "base_uri": "https://localhost:8080/"
        },
        "id": "QizhNiVl8axt",
        "outputId": "379a452d-aa27-421f-e7b6-dec7c1e6567d"
      },
      "outputs": [
        {
          "name": "stdout",
          "output_type": "stream",
          "text": [
            "1.12.1+cu113\n",
            "\u001b[K     |████████████████████████████████| 7.9 MB 5.0 MB/s \n",
            "\u001b[K     |████████████████████████████████| 3.5 MB 4.9 MB/s \n",
            "\u001b[?25h  Building wheel for torch-geometric (setup.py) ... \u001b[?25l\u001b[?25hdone\n"
          ]
        }
      ],
      "source": [
        "import os\n",
        "import torch\n",
        "os.environ['TORCH'] = torch.__version__\n",
        "print(torch.__version__)\n",
        "\n",
        "!pip install -q torch-scatter -f https://data.pyg.org/whl/torch-${TORCH}.html\n",
        "!pip install -q torch-sparse -f https://data.pyg.org/whl/torch-${TORCH}.html\n",
        "!pip install -q git+https://github.com/pyg-team/pytorch_geometric.git"
      ]
    },
    {
      "cell_type": "code",
      "execution_count": null,
      "metadata": {
        "colab": {
          "base_uri": "https://localhost:8080/"
        },
        "id": "wUKeHM218axu",
        "outputId": "a8944f56-8b8b-498e-ad48-32b7d2923c7a"
      },
      "outputs": [
        {
          "data": {
            "text/plain": [
              "<torch._C.Generator at 0x7f1e2cb8ca30>"
            ]
          },
          "execution_count": 2,
          "metadata": {},
          "output_type": "execute_result"
        }
      ],
      "source": [
        "import torch\n",
        "torch.manual_seed(42)"
      ]
    },
    {
      "cell_type": "markdown",
      "metadata": {
        "id": "T30rk9HR8axu"
      },
      "source": [
        "## Message Passing Class"
      ]
    },
    {
      "cell_type": "code",
      "execution_count": null,
      "metadata": {
        "id": "m4yQLufl8axu"
      },
      "outputs": [],
      "source": [
        "from torch_geometric.nn import MessagePassing"
      ]
    },
    {
      "cell_type": "code",
      "execution_count": null,
      "metadata": {
        "colab": {
          "base_uri": "https://localhost:8080/"
        },
        "id": "ss6c1nyB8axv",
        "outputId": "81bdb1ff-01fe-4f37-b2d5-2c4524c686c8"
      },
      "outputs": [
        {
          "data": {
            "text/plain": [
              "['T_destination',\n",
              " '__annotations__',\n",
              " '__call__',\n",
              " '__check_input__',\n",
              " '__class__',\n",
              " '__collect__',\n",
              " '__delattr__',\n",
              " '__dict__',\n",
              " '__dir__',\n",
              " '__doc__',\n",
              " '__eq__',\n",
              " '__format__',\n",
              " '__ge__',\n",
              " '__getattr__',\n",
              " '__getattribute__',\n",
              " '__gt__',\n",
              " '__hash__',\n",
              " '__init__',\n",
              " '__init_subclass__',\n",
              " '__le__',\n",
              " '__lift__',\n",
              " '__lt__',\n",
              " '__module__',\n",
              " '__ne__',\n",
              " '__new__',\n",
              " '__reduce__',\n",
              " '__reduce_ex__',\n",
              " '__repr__',\n",
              " '__set_size__',\n",
              " '__setattr__',\n",
              " '__setstate__',\n",
              " '__sizeof__',\n",
              " '__str__',\n",
              " '__subclasshook__',\n",
              " '__weakref__',\n",
              " '_apply',\n",
              " '_call_impl',\n",
              " '_get_backward_hooks',\n",
              " '_get_name',\n",
              " '_load_from_state_dict',\n",
              " '_maybe_warn_non_full_backward_hook',\n",
              " '_named_members',\n",
              " '_register_load_state_dict_pre_hook',\n",
              " '_register_state_dict_hook',\n",
              " '_replicate_for_data_parallel',\n",
              " '_save_to_state_dict',\n",
              " '_slow_forward',\n",
              " '_version',\n",
              " 'add_module',\n",
              " 'aggregate',\n",
              " 'apply',\n",
              " 'bfloat16',\n",
              " 'buffers',\n",
              " 'children',\n",
              " 'cpu',\n",
              " 'cuda',\n",
              " 'double',\n",
              " 'dump_patches',\n",
              " 'edge_update',\n",
              " 'edge_updater',\n",
              " 'eval',\n",
              " 'explain',\n",
              " 'explain_message',\n",
              " 'extra_repr',\n",
              " 'float',\n",
              " 'forward',\n",
              " 'get_buffer',\n",
              " 'get_extra_state',\n",
              " 'get_parameter',\n",
              " 'get_submodule',\n",
              " 'half',\n",
              " 'ipu',\n",
              " 'jittable',\n",
              " 'load_state_dict',\n",
              " 'message',\n",
              " 'message_and_aggregate',\n",
              " 'modules',\n",
              " 'named_buffers',\n",
              " 'named_children',\n",
              " 'named_modules',\n",
              " 'named_parameters',\n",
              " 'parameters',\n",
              " 'propagate',\n",
              " 'register_aggregate_forward_hook',\n",
              " 'register_aggregate_forward_pre_hook',\n",
              " 'register_backward_hook',\n",
              " 'register_buffer',\n",
              " 'register_edge_update_forward_hook',\n",
              " 'register_edge_update_forward_pre_hook',\n",
              " 'register_forward_hook',\n",
              " 'register_forward_pre_hook',\n",
              " 'register_full_backward_hook',\n",
              " 'register_load_state_dict_post_hook',\n",
              " 'register_message_and_aggregate_forward_hook',\n",
              " 'register_message_and_aggregate_forward_pre_hook',\n",
              " 'register_message_forward_hook',\n",
              " 'register_message_forward_pre_hook',\n",
              " 'register_module',\n",
              " 'register_parameter',\n",
              " 'register_propagate_forward_hook',\n",
              " 'register_propagate_forward_pre_hook',\n",
              " 'requires_grad_',\n",
              " 'set_extra_state',\n",
              " 'share_memory',\n",
              " 'special_args',\n",
              " 'state_dict',\n",
              " 'to',\n",
              " 'to_empty',\n",
              " 'train',\n",
              " 'type',\n",
              " 'update',\n",
              " 'xpu',\n",
              " 'zero_grad']"
            ]
          },
          "execution_count": 4,
          "metadata": {},
          "output_type": "execute_result"
        }
      ],
      "source": [
        "dir(MessagePassing)"
      ]
    },
    {
      "cell_type": "markdown",
      "metadata": {
        "id": "vY_oXPF18axw"
      },
      "source": [
        "We are interested in the <span style='color:Blue'>aggregate</span> method, or, if you are using a sparse adjacency matrix, in the <span style='color:Blue'>message_and_aggregate</span> method. Convolutional classes in PyG extend MessagePassing, we construct our custom convoutional class extending GINConv."
      ]
    },
    {
      "cell_type": "markdown",
      "metadata": {
        "id": "lrb0zN8Q8axx"
      },
      "source": [
        "Scatter operation in <span style='color:Blue'>aggregate</span>:"
      ]
    },
    {
      "cell_type": "markdown",
      "metadata": {
        "id": "l_fHG5sj8axy"
      },
      "source": [
        "<img src=\"https://raw.githubusercontent.com/rusty1s/pytorch_scatter/master/docs/source/_figures/add.svg?sanitize=true\" width=\"500\">"
      ]
    },
    {
      "cell_type": "code",
      "execution_count": null,
      "metadata": {
        "id": "42CtzVFb8axz"
      },
      "outputs": [],
      "source": [
        "from torch.nn import Parameter, Module, Sigmoid\n",
        "import torch\n",
        "import torch_scatter\n",
        "import torch.nn.functional as F\n",
        "\n",
        "class AbstractLAFLayer(Module):\n",
        "    def __init__(self, **kwargs):\n",
        "        super(AbstractLAFLayer, self).__init__()\n",
        "        assert 'units' in kwargs or 'weights' in kwargs\n",
        "        if 'device' in kwargs.keys():\n",
        "            self.device = kwargs['device']\n",
        "        else:\n",
        "            self.device = torch.device('cuda' if torch.cuda.is_available() else 'cpu')\n",
        "        self.ngpus = torch.cuda.device_count()\n",
        "        \n",
        "        if 'kernel_initializer' in kwargs.keys():\n",
        "            assert kwargs['kernel_initializer'] in [\n",
        "                'random_normal',\n",
        "                'glorot_normal',\n",
        "                'he_normal',\n",
        "                'random_uniform',\n",
        "                'glorot_uniform',\n",
        "                'he_uniform']\n",
        "            self.kernel_initializer = kwargs['kernel_initializer']\n",
        "        else:\n",
        "            self.kernel_initializer = 'random_normal'\n",
        "\n",
        "        if 'weights' in kwargs.keys():\n",
        "            self.weights = Parameter(kwargs['weights'].to(self.device), \\\n",
        "                                     requires_grad=True)\n",
        "            self.units = self.weights.shape[1]\n",
        "        else:\n",
        "            self.units = kwargs['units']\n",
        "            params = torch.empty(12, self.units, device=self.device)\n",
        "            if self.kernel_initializer == 'random_normal':\n",
        "                torch.nn.init.normal_(params)\n",
        "            elif self.kernel_initializer == 'glorot_normal':\n",
        "                torch.nn.init.xavier_normal_(params)\n",
        "            elif self.kernel_initializer == 'he_normal':\n",
        "                torch.nn.init.kaiming_normal_(params)\n",
        "            elif self.kernel_initializer == 'random_uniform':\n",
        "                torch.nn.init.uniform_(params)\n",
        "            elif self.kernel_initializer == 'glorot_uniform':\n",
        "                torch.nn.init.xavier_uniform_(params)\n",
        "            elif self.kernel_initializer == 'he_uniform':\n",
        "                torch.nn.init.kaiming_uniform_(params)\n",
        "            self.weights = Parameter(params, \\\n",
        "                                     requires_grad=True)\n",
        "        e = torch.tensor([1,-1,1,-1], dtype=torch.float32, device=self.device)\n",
        "        self.e = Parameter(e, requires_grad=False)\n",
        "        num_idx = torch.tensor([1,1,0,0], dtype=torch.float32, device=self.device).\\\n",
        "                                view(1,1,-1,1)\n",
        "        self.num_idx = Parameter(num_idx, requires_grad=False)\n",
        "        den_idx = torch.tensor([0,0,1,1], dtype=torch.float32, device=self.device).\\\n",
        "                                view(1,1,-1,1)\n",
        "        self.den_idx = Parameter(den_idx, requires_grad=False)\n",
        "        \n",
        "\n",
        "class LAFLayer(AbstractLAFLayer):\n",
        "    def __init__(self, eps=1e-7, **kwargs):\n",
        "        super(LAFLayer, self).__init__(**kwargs)\n",
        "        self.eps = eps\n",
        "    \n",
        "    def forward(self, data, index, dim=0, **kwargs):\n",
        "        eps = self.eps\n",
        "        sup = 1.0 - eps \n",
        "        e = self.e\n",
        "\n",
        "        x = torch.clamp(data, eps, sup)\n",
        "        x = torch.unsqueeze(x, -1)\n",
        "        e = e.view(1,1,-1)        \n",
        "\n",
        "        exps = (1. - e)/2. + x*e \n",
        "        exps = torch.unsqueeze(exps, -1)\n",
        "        exps = torch.pow(exps, torch.relu(self.weights[0:4]))\n",
        "\n",
        "        scatter = torch_scatter.scatter_add(exps, index.view(-1), dim=dim)\n",
        "        scatter = torch.clamp(scatter, eps)\n",
        "\n",
        "        sqrt = torch.pow(scatter, torch.relu(self.weights[4:8]))\n",
        "        alpha_beta = self.weights[8:12].view(1,1,4,-1)\n",
        "        terms = sqrt * alpha_beta\n",
        "\n",
        "        num = torch.sum(terms * self.num_idx, dim=2)\n",
        "        den = torch.sum(terms * self.den_idx, dim=2)\n",
        "        \n",
        "        multiplier = 2.0*torch.clamp(torch.sign(den), min=0.0) - 1.0\n",
        "\n",
        "        den = torch.where((den < eps) & (den > -eps), multiplier*eps, den)\n",
        "\n",
        "        res = num / den\n",
        "        return res"
      ]
    },
    {
      "cell_type": "code",
      "execution_count": null,
      "metadata": {
        "id": "7JlmOSoc8ax0"
      },
      "outputs": [],
      "source": [
        "from torch_geometric.nn import GINConv\n",
        "from torch.nn import Linear"
      ]
    },
    {
      "cell_type": "markdown",
      "metadata": {
        "id": "xej62CRz8ax0"
      },
      "source": [
        "### LAF Aggregation Module"
      ]
    },
    {
      "cell_type": "markdown",
      "metadata": {
        "id": "AkHhdBcH8ax0"
      },
      "source": [
        "<img src=\"https://github.com/AntonioLonga/PytorchGeometricTutorial/blob/main/Tutorial5/laf.png?raw=1\" width=\"500\">"
      ]
    },
    {
      "cell_type": "code",
      "execution_count": null,
      "metadata": {
        "id": "h9Z_s7xU8ax0"
      },
      "outputs": [],
      "source": [
        "class GINLAFConv(GINConv):\n",
        "    def __init__(self, nn, units=1, node_dim=32, **kwargs):\n",
        "        super(GINLAFConv, self).__init__(nn, **kwargs)\n",
        "        self.laf = LAFLayer(units=units, kernel_initializer='random_uniform')\n",
        "        self.mlp = torch.nn.Linear(node_dim*units, node_dim)\n",
        "        self.dim = node_dim\n",
        "        self.units = units\n",
        "    \n",
        "    def aggregate(self, inputs, index):\n",
        "        x = torch.sigmoid(inputs)\n",
        "        x = self.laf(x, index)\n",
        "        x = x.view((-1, self.dim * self.units))\n",
        "        x = self.mlp(x)\n",
        "        return x\n",
        "    "
      ]
    },
    {
      "cell_type": "markdown",
      "metadata": {
        "id": "bmqW8iyq8ax0"
      },
      "source": [
        "### PNA Aggregation"
      ]
    },
    {
      "cell_type": "markdown",
      "metadata": {
        "id": "QZT4FM3k8ax0"
      },
      "source": [
        "<img src=\"https://github.com/AntonioLonga/PytorchGeometricTutorial/blob/main/Tutorial5/pna.png?raw=1\" width=\"800\">"
      ]
    },
    {
      "cell_type": "code",
      "execution_count": null,
      "metadata": {
        "id": "3swJzuJj8ax1"
      },
      "outputs": [],
      "source": [
        "class GINPNAConv(GINConv):\n",
        "    def __init__(self, nn, node_dim=32, **kwargs):\n",
        "        super(GINPNAConv, self).__init__(nn, **kwargs)\n",
        "        self.mlp = torch.nn.Linear(node_dim*12, node_dim)\n",
        "        self.delta = 2.5749\n",
        "    \n",
        "    def aggregate(self, inputs, index):\n",
        "        sums = torch_scatter.scatter_add(inputs, index, dim=0)\n",
        "        maxs = torch_scatter.scatter_max(inputs, index, dim=0)[0]\n",
        "        means = torch_scatter.scatter_mean(inputs, index, dim=0)\n",
        "        var = torch.relu(torch_scatter.scatter_mean(inputs ** 2, index, dim=0) - means ** 2)\n",
        "        \n",
        "        aggrs = [sums, maxs, means, var]\n",
        "        c_idx = index.bincount().float().view(-1, 1)\n",
        "        l_idx = torch.log(c_idx + 1.)\n",
        "        \n",
        "        amplification_scaler = [c_idx / self.delta * a for a in aggrs]\n",
        "        attenuation_scaler = [self.delta / c_idx * a for a in aggrs]\n",
        "        combinations = torch.cat(aggrs+ amplification_scaler+ attenuation_scaler, dim=1)\n",
        "        x = self.mlp(combinations)\n",
        "    \n",
        "        return x\n",
        "    "
      ]
    },
    {
      "cell_type": "markdown",
      "metadata": {
        "id": "S4lPLqOO8ax4"
      },
      "source": [
        "### Test the new classes"
      ]
    },
    {
      "cell_type": "code",
      "execution_count": null,
      "metadata": {
        "id": "TpwWR5zf8ax4"
      },
      "outputs": [],
      "source": [
        "from torch_geometric.nn import MessagePassing, SAGEConv, GINConv, global_add_pool\n",
        "import torch_scatter\n",
        "import torch.nn.functional as F\n",
        "from torch.nn import Sequential, Linear, ReLU\n",
        "from torch_geometric.datasets import TUDataset\n",
        "from torch_geometric.data import DataLoader\n",
        "import os.path as osp\n"
      ]
    },
    {
      "cell_type": "code",
      "execution_count": null,
      "metadata": {
        "colab": {
          "base_uri": "https://localhost:8080/"
        },
        "id": "l_4seyNw8ax5",
        "outputId": "0dba0d00-8278-4b1a-a382-89406322d094"
      },
      "outputs": [
        {
          "name": "stderr",
          "output_type": "stream",
          "text": [
            "Downloading https://www.chrsmrrs.com/graphkerneldatasets/MUTAG.zip\n",
            "Extracting data/TU/MUTAG/MUTAG.zip\n",
            "Processing...\n",
            "Done!\n",
            "/usr/local/lib/python3.7/dist-packages/torch_geometric/deprecation.py:12: UserWarning: 'data.DataLoader' is deprecated, use 'loader.DataLoader' instead\n",
            "  warnings.warn(out)\n"
          ]
        }
      ],
      "source": [
        "path = osp.join('./', 'data', 'TU')\n",
        "dataset = TUDataset(path, name='MUTAG').shuffle()\n",
        "test_dataset = dataset[:len(dataset) // 10]\n",
        "train_dataset = dataset[len(dataset) // 10:]\n",
        "test_loader = DataLoader(test_dataset, batch_size=128)\n",
        "train_loader = DataLoader(train_dataset, batch_size=128)"
      ]
    },
    {
      "cell_type": "code",
      "execution_count": null,
      "metadata": {
        "id": "JQJtjFaH8ax7"
      },
      "outputs": [],
      "source": [
        "class LAFNet(torch.nn.Module):\n",
        "    def __init__(self):\n",
        "        super(LAFNet, self).__init__()\n",
        "\n",
        "        num_features = dataset.num_features\n",
        "        dim = 32\n",
        "        units = 3\n",
        "        \n",
        "        nn1 = Sequential(Linear(num_features, dim), ReLU(), Linear(dim, dim))\n",
        "        self.conv1 = GINLAFConv(nn1, units=units, node_dim=num_features)\n",
        "        self.bn1 = torch.nn.BatchNorm1d(dim)\n",
        "\n",
        "        nn2 = Sequential(Linear(dim, dim), ReLU(), Linear(dim, dim))\n",
        "        self.conv2 = GINLAFConv(nn2, units=units, node_dim=dim)\n",
        "        self.bn2 = torch.nn.BatchNorm1d(dim)\n",
        "\n",
        "        nn3 = Sequential(Linear(dim, dim), ReLU(), Linear(dim, dim))\n",
        "        self.conv3 = GINLAFConv(nn3, units=units, node_dim=dim)\n",
        "        self.bn3 = torch.nn.BatchNorm1d(dim)\n",
        "\n",
        "        nn4 = Sequential(Linear(dim, dim), ReLU(), Linear(dim, dim))\n",
        "        self.conv4 = GINLAFConv(nn4, units=units, node_dim=dim)\n",
        "        self.bn4 = torch.nn.BatchNorm1d(dim)\n",
        "\n",
        "        nn5 = Sequential(Linear(dim, dim), ReLU(), Linear(dim, dim))\n",
        "        self.conv5 = GINLAFConv(nn5, units=units, node_dim=dim)\n",
        "        self.bn5 = torch.nn.BatchNorm1d(dim)\n",
        "\n",
        "        self.fc1 = Linear(dim, dim)\n",
        "        self.fc2 = Linear(dim, dataset.num_classes)\n",
        "\n",
        "    def forward(self, x, edge_index, batch):\n",
        "        x = F.relu(self.conv1(x, edge_index))\n",
        "        x = self.bn1(x)\n",
        "        x = F.relu(self.conv2(x, edge_index))\n",
        "        x = self.bn2(x)\n",
        "        x = F.relu(self.conv3(x, edge_index))\n",
        "        x = self.bn3(x)\n",
        "        x = F.relu(self.conv4(x, edge_index))\n",
        "        x = self.bn4(x)\n",
        "        x = F.relu(self.conv5(x, edge_index))\n",
        "        x = self.bn5(x)\n",
        "        x = global_add_pool(x, batch)\n",
        "        x = F.relu(self.fc1(x))\n",
        "        x = F.dropout(x, p=0.5, training=self.training)\n",
        "        x = self.fc2(x)\n",
        "        return F.log_softmax(x, dim=-1)\n"
      ]
    },
    {
      "cell_type": "code",
      "execution_count": null,
      "metadata": {
        "id": "FQ3K0_WE8ax8"
      },
      "outputs": [],
      "source": [
        "class PNANet(torch.nn.Module):\n",
        "    def __init__(self):\n",
        "        super(PNANet, self).__init__()\n",
        "\n",
        "        num_features = dataset.num_features\n",
        "        dim = 32\n",
        "\n",
        "        nn1 = Sequential(Linear(num_features, dim), ReLU(), Linear(dim, dim))\n",
        "        self.conv1 = GINPNAConv(nn1, node_dim=num_features)\n",
        "        self.bn1 = torch.nn.BatchNorm1d(dim)\n",
        "\n",
        "        nn2 = Sequential(Linear(dim, dim), ReLU(), Linear(dim, dim))\n",
        "        self.conv2 = GINPNAConv(nn2, node_dim=dim)\n",
        "        self.bn2 = torch.nn.BatchNorm1d(dim)\n",
        "\n",
        "        nn3 = Sequential(Linear(dim, dim), ReLU(), Linear(dim, dim))\n",
        "        self.conv3 = GINPNAConv(nn3, node_dim=dim)\n",
        "        self.bn3 = torch.nn.BatchNorm1d(dim)\n",
        "\n",
        "        nn4 = Sequential(Linear(dim, dim), ReLU(), Linear(dim, dim))\n",
        "        self.conv4 = GINPNAConv(nn4, node_dim=dim)\n",
        "        self.bn4 = torch.nn.BatchNorm1d(dim)\n",
        "\n",
        "        nn5 = Sequential(Linear(dim, dim), ReLU(), Linear(dim, dim))\n",
        "        self.conv5 = GINPNAConv(nn5, node_dim=dim)\n",
        "        self.bn5 = torch.nn.BatchNorm1d(dim)\n",
        "\n",
        "        self.fc1 = Linear(dim, dim)\n",
        "        self.fc2 = Linear(dim, dataset.num_classes)\n",
        "\n",
        "    def forward(self, x, edge_index, batch):\n",
        "        x = F.relu(self.conv1(x, edge_index))\n",
        "        x = self.bn1(x)\n",
        "        x = F.relu(self.conv2(x, edge_index))\n",
        "        x = self.bn2(x)\n",
        "        x = F.relu(self.conv3(x, edge_index))\n",
        "        x = self.bn3(x)\n",
        "        x = F.relu(self.conv4(x, edge_index))\n",
        "        x = self.bn4(x)\n",
        "        x = F.relu(self.conv5(x, edge_index))\n",
        "        x = self.bn5(x)\n",
        "        x = global_add_pool(x, batch)\n",
        "        x = F.relu(self.fc1(x))\n",
        "        x = F.dropout(x, p=0.5, training=self.training)\n",
        "        x = self.fc2(x)\n",
        "        return F.log_softmax(x, dim=-1)"
      ]
    },
    {
      "cell_type": "code",
      "execution_count": null,
      "metadata": {
        "id": "v5qQCBE18ax-"
      },
      "outputs": [],
      "source": [
        "class GINNet(torch.nn.Module):\n",
        "    def __init__(self):\n",
        "        super(GINNet, self).__init__()\n",
        "\n",
        "        num_features = dataset.num_features\n",
        "        dim = 32\n",
        "\n",
        "        nn1 = Sequential(Linear(num_features, dim), ReLU(), Linear(dim, dim))\n",
        "        self.conv1 = GINConv(nn1)\n",
        "        self.bn1 = torch.nn.BatchNorm1d(dim)\n",
        "\n",
        "        nn2 = Sequential(Linear(dim, dim), ReLU(), Linear(dim, dim))\n",
        "        self.conv2 = GINConv(nn2)\n",
        "        self.bn2 = torch.nn.BatchNorm1d(dim)\n",
        "\n",
        "        nn3 = Sequential(Linear(dim, dim), ReLU(), Linear(dim, dim))\n",
        "        self.conv3 = GINConv(nn3)\n",
        "        self.bn3 = torch.nn.BatchNorm1d(dim)\n",
        "\n",
        "        nn4 = Sequential(Linear(dim, dim), ReLU(), Linear(dim, dim))\n",
        "        self.conv4 = GINConv(nn4)\n",
        "        self.bn4 = torch.nn.BatchNorm1d(dim)\n",
        "\n",
        "        nn5 = Sequential(Linear(dim, dim), ReLU(), Linear(dim, dim))\n",
        "        self.conv5 = GINConv(nn5)\n",
        "        self.bn5 = torch.nn.BatchNorm1d(dim)\n",
        "\n",
        "        self.fc1 = Linear(dim, dim)\n",
        "        self.fc2 = Linear(dim, dataset.num_classes)\n",
        "\n",
        "    def forward(self, x, edge_index, batch):\n",
        "        x = F.relu(self.conv1(x, edge_index))\n",
        "        x = self.bn1(x)\n",
        "        x = F.relu(self.conv2(x, edge_index))\n",
        "        x = self.bn2(x)\n",
        "        x = F.relu(self.conv3(x, edge_index))\n",
        "        x = self.bn3(x)\n",
        "        x = F.relu(self.conv4(x, edge_index))\n",
        "        x = self.bn4(x)\n",
        "        x = F.relu(self.conv5(x, edge_index))\n",
        "        x = self.bn5(x)\n",
        "        x = global_add_pool(x, batch)\n",
        "        x = F.relu(self.fc1(x))\n",
        "        x = F.dropout(x, p=0.5, training=self.training)\n",
        "        x = self.fc2(x)\n",
        "        return F.log_softmax(x, dim=-1)"
      ]
    },
    {
      "cell_type": "code",
      "execution_count": null,
      "metadata": {
        "colab": {
          "base_uri": "https://localhost:8080/"
        },
        "id": "E-oeeChu8ax_",
        "outputId": "20d8189c-c832-4b4f-d882-1e013a426c75",
        "scrolled": false
      },
      "outputs": [
        {
          "name": "stdout",
          "output_type": "stream",
          "text": [
            "Epoch: 001, Train Loss: 0.8650472, Train Acc: 0.6705882, Test Acc: 0.6111111\n",
            "Epoch: 002, Train Loss: 0.7599028, Train Acc: 0.6705882, Test Acc: 0.6111111\n",
            "Epoch: 003, Train Loss: 0.8972220, Train Acc: 0.6705882, Test Acc: 0.6111111\n",
            "Epoch: 004, Train Loss: 0.6185434, Train Acc: 0.6705882, Test Acc: 0.6111111\n",
            "Epoch: 005, Train Loss: 0.6005230, Train Acc: 0.6705882, Test Acc: 0.6111111\n",
            "Epoch: 006, Train Loss: 0.5512175, Train Acc: 0.6705882, Test Acc: 0.6111111\n",
            "Epoch: 007, Train Loss: 0.5332195, Train Acc: 0.6705882, Test Acc: 0.6111111\n",
            "Epoch: 008, Train Loss: 0.5134736, Train Acc: 0.6705882, Test Acc: 0.6111111\n",
            "Epoch: 009, Train Loss: 0.4718563, Train Acc: 0.6705882, Test Acc: 0.6111111\n",
            "Epoch: 010, Train Loss: 0.4698687, Train Acc: 0.6705882, Test Acc: 0.6111111\n",
            "Epoch: 011, Train Loss: 0.4464772, Train Acc: 0.6705882, Test Acc: 0.6111111\n",
            "Epoch: 012, Train Loss: 0.4414581, Train Acc: 0.6705882, Test Acc: 0.6111111\n",
            "Epoch: 013, Train Loss: 0.4507246, Train Acc: 0.6705882, Test Acc: 0.6111111\n",
            "Epoch: 014, Train Loss: 0.4593955, Train Acc: 0.6705882, Test Acc: 0.6111111\n",
            "Epoch: 015, Train Loss: 0.4188018, Train Acc: 0.6705882, Test Acc: 0.6111111\n",
            "Epoch: 016, Train Loss: 0.3976869, Train Acc: 0.6705882, Test Acc: 0.6111111\n",
            "Epoch: 017, Train Loss: 0.4080824, Train Acc: 0.6705882, Test Acc: 0.6111111\n",
            "Epoch: 018, Train Loss: 0.4642429, Train Acc: 0.6705882, Test Acc: 0.6111111\n",
            "Epoch: 019, Train Loss: 0.3612275, Train Acc: 0.6705882, Test Acc: 0.6111111\n",
            "Epoch: 020, Train Loss: 0.3702769, Train Acc: 0.6705882, Test Acc: 0.6111111\n",
            "Epoch: 021, Train Loss: 0.3751319, Train Acc: 0.6705882, Test Acc: 0.6111111\n",
            "Epoch: 022, Train Loss: 0.3421200, Train Acc: 0.6705882, Test Acc: 0.6111111\n",
            "Epoch: 023, Train Loss: 0.3866120, Train Acc: 0.6705882, Test Acc: 0.6111111\n",
            "Epoch: 024, Train Loss: 0.3492658, Train Acc: 0.6705882, Test Acc: 0.6111111\n",
            "Epoch: 025, Train Loss: 0.3558516, Train Acc: 0.6705882, Test Acc: 0.6111111\n",
            "Epoch: 026, Train Loss: 0.3727173, Train Acc: 0.6705882, Test Acc: 0.6111111\n",
            "Epoch: 027, Train Loss: 0.3154053, Train Acc: 0.6705882, Test Acc: 0.6111111\n",
            "Epoch: 028, Train Loss: 0.3201577, Train Acc: 0.6705882, Test Acc: 0.6111111\n",
            "Epoch: 029, Train Loss: 0.3272583, Train Acc: 0.6705882, Test Acc: 0.6111111\n",
            "Epoch: 030, Train Loss: 0.3112883, Train Acc: 0.6705882, Test Acc: 0.6111111\n",
            "Epoch: 031, Train Loss: 0.3407421, Train Acc: 0.6705882, Test Acc: 0.6111111\n",
            "Epoch: 032, Train Loss: 0.2899052, Train Acc: 0.6705882, Test Acc: 0.6111111\n",
            "Epoch: 033, Train Loss: 0.3580514, Train Acc: 0.6705882, Test Acc: 0.6111111\n",
            "Epoch: 034, Train Loss: 0.2954516, Train Acc: 0.6764706, Test Acc: 0.6666667\n",
            "Epoch: 035, Train Loss: 0.2975145, Train Acc: 0.6941176, Test Acc: 0.7777778\n",
            "Epoch: 036, Train Loss: 0.3173143, Train Acc: 0.7235294, Test Acc: 0.8333333\n",
            "Epoch: 037, Train Loss: 0.2602276, Train Acc: 0.7000000, Test Acc: 0.7777778\n",
            "Epoch: 038, Train Loss: 0.2713226, Train Acc: 0.7117647, Test Acc: 0.8333333\n",
            "Epoch: 039, Train Loss: 0.2706065, Train Acc: 0.6941176, Test Acc: 0.7777778\n",
            "Epoch: 040, Train Loss: 0.2786444, Train Acc: 0.6941176, Test Acc: 0.6666667\n",
            "Epoch: 041, Train Loss: 0.2833781, Train Acc: 0.7117647, Test Acc: 0.7777778\n",
            "Epoch: 042, Train Loss: 0.2924134, Train Acc: 0.7117647, Test Acc: 0.7777778\n",
            "Epoch: 043, Train Loss: 0.2812036, Train Acc: 0.8235294, Test Acc: 0.9444444\n",
            "Epoch: 044, Train Loss: 0.2887369, Train Acc: 0.7941176, Test Acc: 0.8888889\n",
            "Epoch: 045, Train Loss: 0.2367283, Train Acc: 0.7529412, Test Acc: 0.7777778\n",
            "Epoch: 046, Train Loss: 0.2811927, Train Acc: 0.7941176, Test Acc: 0.8888889\n",
            "Epoch: 047, Train Loss: 0.2571158, Train Acc: 0.7588235, Test Acc: 0.7777778\n",
            "Epoch: 048, Train Loss: 0.2812370, Train Acc: 0.5588235, Test Acc: 0.6111111\n",
            "Epoch: 049, Train Loss: 0.2664493, Train Acc: 0.8294118, Test Acc: 0.7222222\n",
            "Epoch: 050, Train Loss: 0.2698024, Train Acc: 0.8117647, Test Acc: 0.8333333\n",
            "Epoch: 051, Train Loss: 0.2950443, Train Acc: 0.7647059, Test Acc: 0.6666667\n",
            "Epoch: 052, Train Loss: 0.2750369, Train Acc: 0.7352941, Test Acc: 0.6666667\n",
            "Epoch: 053, Train Loss: 0.2846459, Train Acc: 0.7882353, Test Acc: 0.7777778\n",
            "Epoch: 054, Train Loss: 0.2428172, Train Acc: 0.7588235, Test Acc: 0.8888889\n",
            "Epoch: 055, Train Loss: 0.2569554, Train Acc: 0.7647059, Test Acc: 0.8888889\n",
            "Epoch: 056, Train Loss: 0.2893244, Train Acc: 0.7647059, Test Acc: 0.8888889\n",
            "Epoch: 057, Train Loss: 0.2695741, Train Acc: 0.8058824, Test Acc: 0.8333333\n",
            "Epoch: 058, Train Loss: 0.2683432, Train Acc: 0.8235294, Test Acc: 0.8333333\n",
            "Epoch: 059, Train Loss: 0.2483253, Train Acc: 0.8294118, Test Acc: 0.8333333\n",
            "Epoch: 060, Train Loss: 0.2359067, Train Acc: 0.8117647, Test Acc: 0.8333333\n",
            "Epoch: 061, Train Loss: 0.2581255, Train Acc: 0.8235294, Test Acc: 0.8333333\n",
            "Epoch: 062, Train Loss: 0.2320385, Train Acc: 0.8882353, Test Acc: 0.8333333\n",
            "Epoch: 063, Train Loss: 0.2304887, Train Acc: 0.8647059, Test Acc: 0.8333333\n",
            "Epoch: 064, Train Loss: 0.2351827, Train Acc: 0.8176471, Test Acc: 0.8333333\n",
            "Epoch: 065, Train Loss: 0.2371133, Train Acc: 0.7647059, Test Acc: 0.7777778\n",
            "Epoch: 066, Train Loss: 0.2476480, Train Acc: 0.7705882, Test Acc: 0.7777778\n",
            "Epoch: 067, Train Loss: 0.2557588, Train Acc: 0.9176471, Test Acc: 0.7777778\n",
            "Epoch: 068, Train Loss: 0.2158999, Train Acc: 0.8352941, Test Acc: 0.7222222\n",
            "Epoch: 069, Train Loss: 0.2353542, Train Acc: 0.7882353, Test Acc: 0.6111111\n",
            "Epoch: 070, Train Loss: 0.2403484, Train Acc: 0.7705882, Test Acc: 0.5555556\n",
            "Epoch: 071, Train Loss: 0.2292482, Train Acc: 0.7764706, Test Acc: 0.7222222\n",
            "Epoch: 072, Train Loss: 0.2588242, Train Acc: 0.8000000, Test Acc: 0.7222222\n",
            "Epoch: 073, Train Loss: 0.2330211, Train Acc: 0.8882353, Test Acc: 0.6666667\n",
            "Epoch: 074, Train Loss: 0.2573530, Train Acc: 0.8235294, Test Acc: 0.7777778\n",
            "Epoch: 075, Train Loss: 0.2250361, Train Acc: 0.8941176, Test Acc: 0.7777778\n",
            "Epoch: 076, Train Loss: 0.2089147, Train Acc: 0.9058824, Test Acc: 0.7222222\n",
            "Epoch: 077, Train Loss: 0.2145577, Train Acc: 0.9117647, Test Acc: 0.7777778\n",
            "Epoch: 078, Train Loss: 0.2313216, Train Acc: 0.8705882, Test Acc: 0.7222222\n",
            "Epoch: 079, Train Loss: 0.2348573, Train Acc: 0.8470588, Test Acc: 0.6666667\n",
            "Epoch: 080, Train Loss: 0.2337190, Train Acc: 0.8176471, Test Acc: 0.6666667\n",
            "Epoch: 081, Train Loss: 0.2247560, Train Acc: 0.7352941, Test Acc: 0.6111111\n",
            "Epoch: 082, Train Loss: 0.2352007, Train Acc: 0.6352941, Test Acc: 0.5000000\n",
            "Epoch: 083, Train Loss: 0.2404233, Train Acc: 0.7411765, Test Acc: 0.6111111\n",
            "Epoch: 084, Train Loss: 0.2203369, Train Acc: 0.8000000, Test Acc: 0.6666667\n",
            "Epoch: 085, Train Loss: 0.2096777, Train Acc: 0.8647059, Test Acc: 0.7777778\n",
            "Epoch: 086, Train Loss: 0.2133037, Train Acc: 0.8411765, Test Acc: 0.8333333\n",
            "Epoch: 087, Train Loss: 0.1921520, Train Acc: 0.8411765, Test Acc: 0.8333333\n",
            "Epoch: 088, Train Loss: 0.2259413, Train Acc: 0.9117647, Test Acc: 0.7777778\n",
            "Epoch: 089, Train Loss: 0.2021636, Train Acc: 0.9176471, Test Acc: 0.7777778\n",
            "Epoch: 090, Train Loss: 0.1980333, Train Acc: 0.9294118, Test Acc: 0.7777778\n",
            "Epoch: 091, Train Loss: 0.2226479, Train Acc: 0.8882353, Test Acc: 0.7222222\n",
            "Epoch: 092, Train Loss: 0.2319808, Train Acc: 0.8294118, Test Acc: 0.6666667\n",
            "Epoch: 093, Train Loss: 0.2365441, Train Acc: 0.8117647, Test Acc: 0.6666667\n",
            "Epoch: 094, Train Loss: 0.2389078, Train Acc: 0.8764706, Test Acc: 0.6666667\n",
            "Epoch: 095, Train Loss: 0.1904467, Train Acc: 0.9000000, Test Acc: 0.7777778\n",
            "Epoch: 096, Train Loss: 0.2198207, Train Acc: 0.9235294, Test Acc: 0.7777778\n",
            "Epoch: 097, Train Loss: 0.2253925, Train Acc: 0.9235294, Test Acc: 0.7777778\n",
            "Epoch: 098, Train Loss: 0.1958107, Train Acc: 0.8352941, Test Acc: 0.7777778\n",
            "Epoch: 099, Train Loss: 0.2277206, Train Acc: 0.8294118, Test Acc: 0.7777778\n",
            "Epoch: 100, Train Loss: 0.2341601, Train Acc: 0.7058824, Test Acc: 0.7222222\n"
          ]
        }
      ],
      "source": [
        "device = torch.device('cuda' if torch.cuda.is_available() else 'cpu')\n",
        "net = \"LAF\"\n",
        "if net == \"LAF\":\n",
        "    model = LAFNet().to(device)\n",
        "elif net == \"PNA\":\n",
        "    model = PNANet().to(device)\n",
        "elif net == \"GIN\":\n",
        "    GINNet().to(device)\n",
        "\n",
        "optimizer = torch.optim.Adam(model.parameters(), lr=0.001)\n",
        "\n",
        "\n",
        "def train(epoch):\n",
        "    model.train()\n",
        "\n",
        "    if epoch == 51:\n",
        "        for param_group in optimizer.param_groups:\n",
        "            param_group['lr'] = 0.5 * param_group['lr']\n",
        "\n",
        "    loss_all = 0\n",
        "    for data in train_loader:\n",
        "        data = data.to(device)\n",
        "        optimizer.zero_grad()\n",
        "        output = model(data.x, data.edge_index, data.batch)\n",
        "        loss = F.nll_loss(output, data.y)\n",
        "        loss.backward()\n",
        "        loss_all += loss.item() * data.num_graphs\n",
        "        optimizer.step()\n",
        "    return loss_all / len(train_dataset)\n",
        "\n",
        "\n",
        "def test(loader):\n",
        "    model.eval()\n",
        "\n",
        "    correct = 0\n",
        "    for data in loader:\n",
        "        data = data.to(device)\n",
        "        output = model(data.x, data.edge_index, data.batch)\n",
        "        pred = output.max(dim=1)[1]\n",
        "        correct += pred.eq(data.y).sum().item()\n",
        "    return correct / len(loader.dataset)\n",
        "\n",
        "\n",
        "for epoch in range(1, 101):\n",
        "    train_loss = train(epoch)\n",
        "    train_acc = test(train_loader)\n",
        "    test_acc = test(test_loader)\n",
        "    print('Epoch: {:03d}, Train Loss: {:.7f}, '\n",
        "          'Train Acc: {:.7f}, Test Acc: {:.7f}'.format(epoch, train_loss,\n",
        "                                                       train_acc, test_acc))"
      ]
    },
    {
      "cell_type": "code",
      "execution_count": null,
      "metadata": {
        "colab": {
          "base_uri": "https://localhost:8080/"
        },
        "id": "HuGIPCbrOdiJ",
        "outputId": "02346aaa-8057-4c4b-8567-7884259825fe"
      },
      "outputs": [
        {
          "name": "stdout",
          "output_type": "stream",
          "text": [
            "Epoch: 001, Train Loss: 1.3497391, Train Acc: 0.3294118, Test Acc: 0.3888889\n",
            "Epoch: 002, Train Loss: 0.8684199, Train Acc: 0.3294118, Test Acc: 0.3888889\n",
            "Epoch: 003, Train Loss: 0.7279473, Train Acc: 0.3294118, Test Acc: 0.3888889\n",
            "Epoch: 004, Train Loss: 0.7402998, Train Acc: 0.3294118, Test Acc: 0.3888889\n",
            "Epoch: 005, Train Loss: 0.7657306, Train Acc: 0.3294118, Test Acc: 0.3888889\n",
            "Epoch: 006, Train Loss: 0.7453549, Train Acc: 0.6705882, Test Acc: 0.6111111\n",
            "Epoch: 007, Train Loss: 0.5307669, Train Acc: 0.6705882, Test Acc: 0.6111111\n",
            "Epoch: 008, Train Loss: 0.4403997, Train Acc: 0.6705882, Test Acc: 0.6111111\n",
            "Epoch: 009, Train Loss: 0.4544508, Train Acc: 0.6705882, Test Acc: 0.6111111\n",
            "Epoch: 010, Train Loss: 0.4488042, Train Acc: 0.6705882, Test Acc: 0.6111111\n",
            "Epoch: 011, Train Loss: 0.4297011, Train Acc: 0.6705882, Test Acc: 0.6111111\n",
            "Epoch: 012, Train Loss: 0.3781979, Train Acc: 0.6705882, Test Acc: 0.6111111\n",
            "Epoch: 013, Train Loss: 0.4004532, Train Acc: 0.6705882, Test Acc: 0.6111111\n",
            "Epoch: 014, Train Loss: 0.3619624, Train Acc: 0.6705882, Test Acc: 0.6111111\n",
            "Epoch: 015, Train Loss: 0.3303704, Train Acc: 0.6705882, Test Acc: 0.6111111\n",
            "Epoch: 016, Train Loss: 0.3489703, Train Acc: 0.6705882, Test Acc: 0.6111111\n",
            "Epoch: 017, Train Loss: 0.2879844, Train Acc: 0.6705882, Test Acc: 0.6111111\n",
            "Epoch: 018, Train Loss: 0.2992957, Train Acc: 0.6705882, Test Acc: 0.6111111\n",
            "Epoch: 019, Train Loss: 0.2941008, Train Acc: 0.6705882, Test Acc: 0.6111111\n",
            "Epoch: 020, Train Loss: 0.2742822, Train Acc: 0.6705882, Test Acc: 0.6111111\n",
            "Epoch: 021, Train Loss: 0.2828649, Train Acc: 0.6705882, Test Acc: 0.6111111\n",
            "Epoch: 022, Train Loss: 0.2448842, Train Acc: 0.6705882, Test Acc: 0.6111111\n",
            "Epoch: 023, Train Loss: 0.2426275, Train Acc: 0.6705882, Test Acc: 0.6111111\n",
            "Epoch: 024, Train Loss: 0.2311836, Train Acc: 0.6705882, Test Acc: 0.6111111\n",
            "Epoch: 025, Train Loss: 0.1974013, Train Acc: 0.6705882, Test Acc: 0.6111111\n",
            "Epoch: 026, Train Loss: 0.1801775, Train Acc: 0.6647059, Test Acc: 0.6111111\n",
            "Epoch: 027, Train Loss: 0.2027490, Train Acc: 0.6705882, Test Acc: 0.6111111\n",
            "Epoch: 028, Train Loss: 0.1469845, Train Acc: 0.6705882, Test Acc: 0.6111111\n",
            "Epoch: 029, Train Loss: 0.1597498, Train Acc: 0.6705882, Test Acc: 0.6111111\n",
            "Epoch: 030, Train Loss: 0.1537053, Train Acc: 0.6823529, Test Acc: 0.6666667\n",
            "Epoch: 031, Train Loss: 0.1487810, Train Acc: 0.7117647, Test Acc: 0.6666667\n",
            "Epoch: 032, Train Loss: 0.1435155, Train Acc: 0.7176471, Test Acc: 0.7222222\n",
            "Epoch: 033, Train Loss: 0.1291888, Train Acc: 0.7176471, Test Acc: 0.7222222\n",
            "Epoch: 034, Train Loss: 0.1226045, Train Acc: 0.7470588, Test Acc: 0.7222222\n",
            "Epoch: 035, Train Loss: 0.1137753, Train Acc: 0.7588235, Test Acc: 0.6666667\n",
            "Epoch: 036, Train Loss: 0.1119650, Train Acc: 0.8058824, Test Acc: 0.7222222\n",
            "Epoch: 037, Train Loss: 0.1085063, Train Acc: 0.8235294, Test Acc: 0.7222222\n",
            "Epoch: 038, Train Loss: 0.1228803, Train Acc: 0.8352941, Test Acc: 0.7222222\n",
            "Epoch: 039, Train Loss: 0.0784458, Train Acc: 0.8411765, Test Acc: 0.7777778\n",
            "Epoch: 040, Train Loss: 0.0854303, Train Acc: 0.8764706, Test Acc: 0.8333333\n",
            "Epoch: 041, Train Loss: 0.1073735, Train Acc: 0.9176471, Test Acc: 0.8333333\n",
            "Epoch: 042, Train Loss: 0.0834263, Train Acc: 0.9176471, Test Acc: 0.8333333\n",
            "Epoch: 043, Train Loss: 0.0607265, Train Acc: 0.9294118, Test Acc: 0.8333333\n",
            "Epoch: 044, Train Loss: 0.0718378, Train Acc: 0.9352941, Test Acc: 0.8333333\n",
            "Epoch: 045, Train Loss: 0.0689468, Train Acc: 0.9411765, Test Acc: 0.8333333\n",
            "Epoch: 046, Train Loss: 0.0382091, Train Acc: 0.9529412, Test Acc: 0.7777778\n",
            "Epoch: 047, Train Loss: 0.0879735, Train Acc: 0.9352941, Test Acc: 0.7777778\n",
            "Epoch: 048, Train Loss: 0.0623109, Train Acc: 0.9470588, Test Acc: 0.8333333\n",
            "Epoch: 049, Train Loss: 0.0908670, Train Acc: 0.9058824, Test Acc: 0.7777778\n",
            "Epoch: 050, Train Loss: 0.0681597, Train Acc: 0.9000000, Test Acc: 0.8333333\n",
            "Epoch: 051, Train Loss: 0.0693567, Train Acc: 0.9176471, Test Acc: 0.8333333\n",
            "Epoch: 052, Train Loss: 0.0478872, Train Acc: 0.9352941, Test Acc: 0.8333333\n",
            "Epoch: 053, Train Loss: 0.0506401, Train Acc: 0.9352941, Test Acc: 0.8333333\n",
            "Epoch: 054, Train Loss: 0.0308294, Train Acc: 0.9294118, Test Acc: 0.8333333\n",
            "Epoch: 055, Train Loss: 0.0326454, Train Acc: 0.9470588, Test Acc: 0.8333333\n",
            "Epoch: 056, Train Loss: 0.0250327, Train Acc: 0.9411765, Test Acc: 0.8333333\n",
            "Epoch: 057, Train Loss: 0.0349234, Train Acc: 0.9470588, Test Acc: 0.8333333\n",
            "Epoch: 058, Train Loss: 0.0380354, Train Acc: 0.9588235, Test Acc: 0.8333333\n",
            "Epoch: 059, Train Loss: 0.0238508, Train Acc: 0.9705882, Test Acc: 0.8333333\n",
            "Epoch: 060, Train Loss: 0.0260360, Train Acc: 0.9705882, Test Acc: 0.8333333\n",
            "Epoch: 061, Train Loss: 0.0156592, Train Acc: 0.9647059, Test Acc: 0.8333333\n",
            "Epoch: 062, Train Loss: 0.0397532, Train Acc: 0.9647059, Test Acc: 0.8333333\n",
            "Epoch: 063, Train Loss: 0.0147181, Train Acc: 0.9588235, Test Acc: 0.8333333\n",
            "Epoch: 064, Train Loss: 0.0263763, Train Acc: 0.9588235, Test Acc: 0.8333333\n",
            "Epoch: 065, Train Loss: 0.0219646, Train Acc: 0.9588235, Test Acc: 0.8333333\n",
            "Epoch: 066, Train Loss: 0.0174770, Train Acc: 0.9588235, Test Acc: 0.8333333\n",
            "Epoch: 067, Train Loss: 0.0233532, Train Acc: 0.9529412, Test Acc: 0.8333333\n",
            "Epoch: 068, Train Loss: 0.0329869, Train Acc: 0.9470588, Test Acc: 0.8333333\n",
            "Epoch: 069, Train Loss: 0.0267206, Train Acc: 0.9470588, Test Acc: 0.8333333\n",
            "Epoch: 070, Train Loss: 0.0195115, Train Acc: 0.9529412, Test Acc: 0.8333333\n",
            "Epoch: 071, Train Loss: 0.0263306, Train Acc: 0.9529412, Test Acc: 0.8333333\n",
            "Epoch: 072, Train Loss: 0.0161402, Train Acc: 0.9470588, Test Acc: 0.8333333\n",
            "Epoch: 073, Train Loss: 0.0138596, Train Acc: 0.9470588, Test Acc: 0.8333333\n",
            "Epoch: 074, Train Loss: 0.0176732, Train Acc: 0.9470588, Test Acc: 0.8333333\n",
            "Epoch: 075, Train Loss: 0.0140430, Train Acc: 0.9529412, Test Acc: 0.8333333\n",
            "Epoch: 076, Train Loss: 0.0223834, Train Acc: 0.9529412, Test Acc: 0.8333333\n",
            "Epoch: 077, Train Loss: 0.0151263, Train Acc: 0.9470588, Test Acc: 0.8333333\n",
            "Epoch: 078, Train Loss: 0.0113194, Train Acc: 0.9470588, Test Acc: 0.8333333\n",
            "Epoch: 079, Train Loss: 0.0178343, Train Acc: 0.9470588, Test Acc: 0.8333333\n",
            "Epoch: 080, Train Loss: 0.0132977, Train Acc: 0.9470588, Test Acc: 0.8333333\n",
            "Epoch: 081, Train Loss: 0.0099823, Train Acc: 0.9470588, Test Acc: 0.8333333\n",
            "Epoch: 082, Train Loss: 0.0103535, Train Acc: 0.9470588, Test Acc: 0.8333333\n",
            "Epoch: 083, Train Loss: 0.0049559, Train Acc: 0.9470588, Test Acc: 0.8333333\n",
            "Epoch: 084, Train Loss: 0.0115411, Train Acc: 0.9470588, Test Acc: 0.8333333\n",
            "Epoch: 085, Train Loss: 0.0132454, Train Acc: 0.9529412, Test Acc: 0.8333333\n",
            "Epoch: 086, Train Loss: 0.0139688, Train Acc: 0.9529412, Test Acc: 0.8333333\n",
            "Epoch: 087, Train Loss: 0.0082945, Train Acc: 0.9588235, Test Acc: 0.8333333\n",
            "Epoch: 088, Train Loss: 0.0144088, Train Acc: 0.9588235, Test Acc: 0.8333333\n",
            "Epoch: 089, Train Loss: 0.0116169, Train Acc: 0.9588235, Test Acc: 0.8333333\n",
            "Epoch: 090, Train Loss: 0.0115055, Train Acc: 0.9529412, Test Acc: 0.8333333\n",
            "Epoch: 091, Train Loss: 0.0044924, Train Acc: 0.9529412, Test Acc: 0.8333333\n",
            "Epoch: 092, Train Loss: 0.0073951, Train Acc: 0.9470588, Test Acc: 0.8333333\n",
            "Epoch: 093, Train Loss: 0.0098597, Train Acc: 0.9470588, Test Acc: 0.8333333\n",
            "Epoch: 094, Train Loss: 0.0071243, Train Acc: 0.9470588, Test Acc: 0.8333333\n",
            "Epoch: 095, Train Loss: 0.0084314, Train Acc: 0.9470588, Test Acc: 0.8333333\n",
            "Epoch: 096, Train Loss: 0.0116200, Train Acc: 0.9470588, Test Acc: 0.8333333\n",
            "Epoch: 097, Train Loss: 0.0109158, Train Acc: 0.9529412, Test Acc: 0.8333333\n",
            "Epoch: 098, Train Loss: 0.0088956, Train Acc: 0.9529412, Test Acc: 0.8333333\n",
            "Epoch: 099, Train Loss: 0.0098493, Train Acc: 0.9529412, Test Acc: 0.8333333\n",
            "Epoch: 100, Train Loss: 0.0082795, Train Acc: 0.9529412, Test Acc: 0.8333333\n"
          ]
        }
      ],
      "source": [
        "device = torch.device('cuda' if torch.cuda.is_available() else 'cpu')\n",
        "net = \"PNA\"\n",
        "if net == \"LAF\":\n",
        "    model = LAFNet().to(device)\n",
        "elif net == \"PNA\":\n",
        "    model = PNANet().to(device)\n",
        "elif net == \"GIN\":\n",
        "    GINNet().to(device)\n",
        "\n",
        "optimizer = torch.optim.Adam(model.parameters(), lr=0.001)\n",
        "\n",
        "\n",
        "for epoch in range(1, 101):\n",
        "    train_loss = train(epoch)\n",
        "    train_acc = test(train_loader)\n",
        "    test_acc = test(test_loader)\n",
        "    print('Epoch: {:03d}, Train Loss: {:.7f}, '\n",
        "          'Train Acc: {:.7f}, Test Acc: {:.7f}'.format(epoch, train_loss,\n",
        "                                                       train_acc, test_acc))"
      ]
    },
    {
      "cell_type": "code",
      "execution_count": null,
      "metadata": {
        "colab": {
          "base_uri": "https://localhost:8080/"
        },
        "id": "JMFvs1tLOjBm",
        "outputId": "4daf5018-a830-4298-f33b-17eb5481f176"
      },
      "outputs": [
        {
          "name": "stdout",
          "output_type": "stream",
          "text": [
            "Epoch: 001, Train Loss: 0.1006957, Train Acc: 0.8705882, Test Acc: 0.8888889\n",
            "Epoch: 002, Train Loss: 0.5604971, Train Acc: 0.9235294, Test Acc: 0.7222222\n",
            "Epoch: 003, Train Loss: 0.4205183, Train Acc: 0.8588235, Test Acc: 0.6111111\n",
            "Epoch: 004, Train Loss: 0.1701126, Train Acc: 0.8176471, Test Acc: 0.6111111\n",
            "Epoch: 005, Train Loss: 0.1697284, Train Acc: 0.8411765, Test Acc: 0.7777778\n",
            "Epoch: 006, Train Loss: 0.1547725, Train Acc: 0.8176471, Test Acc: 0.7222222\n",
            "Epoch: 007, Train Loss: 0.1122712, Train Acc: 0.7529412, Test Acc: 0.7777778\n",
            "Epoch: 008, Train Loss: 0.1182288, Train Acc: 0.7470588, Test Acc: 0.7222222\n",
            "Epoch: 009, Train Loss: 0.1329069, Train Acc: 0.9117647, Test Acc: 0.8333333\n",
            "Epoch: 010, Train Loss: 0.1019645, Train Acc: 0.9411765, Test Acc: 0.8333333\n",
            "Epoch: 011, Train Loss: 0.0771604, Train Acc: 0.9529412, Test Acc: 0.7777778\n",
            "Epoch: 012, Train Loss: 0.0847688, Train Acc: 0.9176471, Test Acc: 0.7777778\n",
            "Epoch: 013, Train Loss: 0.0684039, Train Acc: 0.9235294, Test Acc: 0.7777778\n",
            "Epoch: 014, Train Loss: 0.0651711, Train Acc: 0.9470588, Test Acc: 0.7777778\n",
            "Epoch: 015, Train Loss: 0.0518811, Train Acc: 0.9588235, Test Acc: 0.7777778\n",
            "Epoch: 016, Train Loss: 0.0677568, Train Acc: 0.9705882, Test Acc: 0.7777778\n",
            "Epoch: 017, Train Loss: 0.0393111, Train Acc: 0.9764706, Test Acc: 0.8333333\n",
            "Epoch: 018, Train Loss: 0.0367973, Train Acc: 0.9823529, Test Acc: 0.8333333\n",
            "Epoch: 019, Train Loss: 0.0366539, Train Acc: 0.9764706, Test Acc: 0.8333333\n",
            "Epoch: 020, Train Loss: 0.0568547, Train Acc: 0.9705882, Test Acc: 0.8333333\n",
            "Epoch: 021, Train Loss: 0.0447065, Train Acc: 0.9529412, Test Acc: 0.8333333\n",
            "Epoch: 022, Train Loss: 0.0352459, Train Acc: 0.9529412, Test Acc: 0.8333333\n",
            "Epoch: 023, Train Loss: 0.0249647, Train Acc: 0.9647059, Test Acc: 0.8333333\n",
            "Epoch: 024, Train Loss: 0.0145648, Train Acc: 0.9764706, Test Acc: 0.8333333\n",
            "Epoch: 025, Train Loss: 0.0205373, Train Acc: 0.9823529, Test Acc: 0.7777778\n",
            "Epoch: 026, Train Loss: 0.0161799, Train Acc: 0.9647059, Test Acc: 0.7777778\n",
            "Epoch: 027, Train Loss: 0.0125704, Train Acc: 0.9588235, Test Acc: 0.7777778\n",
            "Epoch: 028, Train Loss: 0.0112206, Train Acc: 0.9411765, Test Acc: 0.8333333\n",
            "Epoch: 029, Train Loss: 0.0095180, Train Acc: 0.9411765, Test Acc: 0.8333333\n",
            "Epoch: 030, Train Loss: 0.0139799, Train Acc: 0.9470588, Test Acc: 0.8333333\n",
            "Epoch: 031, Train Loss: 0.0133235, Train Acc: 0.9647059, Test Acc: 0.8333333\n",
            "Epoch: 032, Train Loss: 0.0116212, Train Acc: 0.9588235, Test Acc: 0.8333333\n",
            "Epoch: 033, Train Loss: 0.0074385, Train Acc: 0.9647059, Test Acc: 0.8333333\n",
            "Epoch: 034, Train Loss: 0.0063465, Train Acc: 0.9764706, Test Acc: 0.8333333\n",
            "Epoch: 035, Train Loss: 0.0093689, Train Acc: 0.9823529, Test Acc: 0.8333333\n",
            "Epoch: 036, Train Loss: 0.0118155, Train Acc: 0.9705882, Test Acc: 0.8333333\n",
            "Epoch: 037, Train Loss: 0.0166583, Train Acc: 0.9705882, Test Acc: 0.8333333\n",
            "Epoch: 038, Train Loss: 0.0108432, Train Acc: 0.9647059, Test Acc: 0.8333333\n",
            "Epoch: 039, Train Loss: 0.0092749, Train Acc: 0.9529412, Test Acc: 0.7777778\n",
            "Epoch: 040, Train Loss: 0.0081560, Train Acc: 0.9588235, Test Acc: 0.7222222\n",
            "Epoch: 041, Train Loss: 0.0145553, Train Acc: 0.9588235, Test Acc: 0.7222222\n",
            "Epoch: 042, Train Loss: 0.0051442, Train Acc: 0.9764706, Test Acc: 0.7222222\n",
            "Epoch: 043, Train Loss: 0.0128016, Train Acc: 0.9823529, Test Acc: 0.7222222\n",
            "Epoch: 044, Train Loss: 0.0083365, Train Acc: 0.9823529, Test Acc: 0.6666667\n",
            "Epoch: 045, Train Loss: 0.0449262, Train Acc: 0.9470588, Test Acc: 0.7222222\n",
            "Epoch: 046, Train Loss: 0.1241174, Train Acc: 0.9352941, Test Acc: 0.7222222\n",
            "Epoch: 047, Train Loss: 0.0577372, Train Acc: 0.9588235, Test Acc: 0.7222222\n",
            "Epoch: 048, Train Loss: 0.0158565, Train Acc: 0.9588235, Test Acc: 0.7222222\n",
            "Epoch: 049, Train Loss: 0.0264535, Train Acc: 0.9647059, Test Acc: 0.7222222\n",
            "Epoch: 050, Train Loss: 0.0493911, Train Acc: 0.9470588, Test Acc: 0.7777778\n",
            "Epoch: 051, Train Loss: 0.0307947, Train Acc: 0.9647059, Test Acc: 0.7777778\n",
            "Epoch: 052, Train Loss: 0.0502689, Train Acc: 0.9705882, Test Acc: 0.7777778\n",
            "Epoch: 053, Train Loss: 0.0220471, Train Acc: 0.9411765, Test Acc: 0.7777778\n",
            "Epoch: 054, Train Loss: 0.0271277, Train Acc: 0.9294118, Test Acc: 0.8333333\n",
            "Epoch: 055, Train Loss: 0.0193326, Train Acc: 0.9529412, Test Acc: 0.8888889\n",
            "Epoch: 056, Train Loss: 0.0085988, Train Acc: 0.9647059, Test Acc: 0.8333333\n",
            "Epoch: 057, Train Loss: 0.0200223, Train Acc: 0.9470588, Test Acc: 0.8333333\n",
            "Epoch: 058, Train Loss: 0.0065113, Train Acc: 0.9588235, Test Acc: 0.8888889\n",
            "Epoch: 059, Train Loss: 0.0118877, Train Acc: 0.9588235, Test Acc: 0.8888889\n",
            "Epoch: 060, Train Loss: 0.0138910, Train Acc: 0.9470588, Test Acc: 0.8888889\n",
            "Epoch: 061, Train Loss: 0.0099632, Train Acc: 0.9411765, Test Acc: 0.8888889\n",
            "Epoch: 062, Train Loss: 0.0104697, Train Acc: 0.9411765, Test Acc: 0.8888889\n",
            "Epoch: 063, Train Loss: 0.0117506, Train Acc: 0.9411765, Test Acc: 0.8888889\n",
            "Epoch: 064, Train Loss: 0.0129451, Train Acc: 0.9470588, Test Acc: 0.8888889\n",
            "Epoch: 065, Train Loss: 0.0049019, Train Acc: 0.9529412, Test Acc: 0.8888889\n",
            "Epoch: 066, Train Loss: 0.0059774, Train Acc: 0.9529412, Test Acc: 0.8888889\n",
            "Epoch: 067, Train Loss: 0.0029972, Train Acc: 0.9529412, Test Acc: 0.8333333\n",
            "Epoch: 068, Train Loss: 0.0070204, Train Acc: 0.9588235, Test Acc: 0.8888889\n",
            "Epoch: 069, Train Loss: 0.0058905, Train Acc: 0.9588235, Test Acc: 0.8888889\n",
            "Epoch: 070, Train Loss: 0.0122656, Train Acc: 0.9588235, Test Acc: 0.8888889\n",
            "Epoch: 071, Train Loss: 0.0080602, Train Acc: 0.9588235, Test Acc: 0.8888889\n",
            "Epoch: 072, Train Loss: 0.0048456, Train Acc: 0.9588235, Test Acc: 0.8888889\n",
            "Epoch: 073, Train Loss: 0.0024820, Train Acc: 0.9647059, Test Acc: 0.8888889\n",
            "Epoch: 074, Train Loss: 0.0066221, Train Acc: 0.9647059, Test Acc: 0.8888889\n",
            "Epoch: 075, Train Loss: 0.0054791, Train Acc: 0.9705882, Test Acc: 0.8333333\n",
            "Epoch: 076, Train Loss: 0.0041069, Train Acc: 0.9705882, Test Acc: 0.8333333\n",
            "Epoch: 077, Train Loss: 0.0039224, Train Acc: 0.9705882, Test Acc: 0.8333333\n",
            "Epoch: 078, Train Loss: 0.0038528, Train Acc: 0.9705882, Test Acc: 0.8333333\n",
            "Epoch: 079, Train Loss: 0.0026217, Train Acc: 0.9764706, Test Acc: 0.8333333\n",
            "Epoch: 080, Train Loss: 0.0029335, Train Acc: 0.9764706, Test Acc: 0.8333333\n",
            "Epoch: 081, Train Loss: 0.0046612, Train Acc: 0.9823529, Test Acc: 0.8333333\n",
            "Epoch: 082, Train Loss: 0.0039182, Train Acc: 0.9823529, Test Acc: 0.8333333\n",
            "Epoch: 083, Train Loss: 0.0048634, Train Acc: 0.9823529, Test Acc: 0.8333333\n",
            "Epoch: 084, Train Loss: 0.0021048, Train Acc: 0.9823529, Test Acc: 0.8333333\n",
            "Epoch: 085, Train Loss: 0.0055200, Train Acc: 0.9823529, Test Acc: 0.8333333\n",
            "Epoch: 086, Train Loss: 0.0030238, Train Acc: 0.9647059, Test Acc: 0.8333333\n",
            "Epoch: 087, Train Loss: 0.0048484, Train Acc: 0.9647059, Test Acc: 0.8333333\n",
            "Epoch: 088, Train Loss: 0.0029367, Train Acc: 0.9647059, Test Acc: 0.8333333\n",
            "Epoch: 089, Train Loss: 0.0014313, Train Acc: 0.9647059, Test Acc: 0.8333333\n",
            "Epoch: 090, Train Loss: 0.0061374, Train Acc: 0.9764706, Test Acc: 0.8333333\n",
            "Epoch: 091, Train Loss: 0.0055641, Train Acc: 0.9764706, Test Acc: 0.8333333\n",
            "Epoch: 092, Train Loss: 0.0049570, Train Acc: 0.9764706, Test Acc: 0.8333333\n",
            "Epoch: 093, Train Loss: 0.0008855, Train Acc: 0.9764706, Test Acc: 0.8333333\n",
            "Epoch: 094, Train Loss: 0.0033897, Train Acc: 0.9764706, Test Acc: 0.8333333\n",
            "Epoch: 095, Train Loss: 0.0020113, Train Acc: 0.9764706, Test Acc: 0.8333333\n",
            "Epoch: 096, Train Loss: 0.0019971, Train Acc: 0.9764706, Test Acc: 0.8333333\n",
            "Epoch: 097, Train Loss: 0.0073497, Train Acc: 0.9705882, Test Acc: 0.8333333\n",
            "Epoch: 098, Train Loss: 0.0037542, Train Acc: 0.9647059, Test Acc: 0.8333333\n",
            "Epoch: 099, Train Loss: 0.0011019, Train Acc: 0.9647059, Test Acc: 0.8333333\n",
            "Epoch: 100, Train Loss: 0.0037228, Train Acc: 0.9647059, Test Acc: 0.8888889\n"
          ]
        }
      ],
      "source": [
        "device = torch.device('cuda' if torch.cuda.is_available() else 'cpu')\n",
        "net = \"GIN\"\n",
        "if net == \"LAF\":\n",
        "    model = LAFNet().to(device)\n",
        "elif net == \"PNA\":\n",
        "    model = PNANet().to(device)\n",
        "elif net == \"GIN\":\n",
        "    GINNet().to(device)\n",
        "\n",
        "optimizer = torch.optim.Adam(model.parameters(), lr=0.001)\n",
        "\n",
        "\n",
        "for epoch in range(1, 101):\n",
        "    train_loss = train(epoch)\n",
        "    train_acc = test(train_loader)\n",
        "    test_acc = test(test_loader)\n",
        "    print('Epoch: {:03d}, Train Loss: {:.7f}, '\n",
        "          'Train Acc: {:.7f}, Test Acc: {:.7f}'.format(epoch, train_loss,\n",
        "                                                       train_acc, test_acc))"
      ]
    }
  ],
  "metadata": {
    "colab": {
      "provenance": []
    },
    "kernelspec": {
      "display_name": "Python 3.8.13 ('rtd')",
      "language": "python",
      "name": "python3"
    },
    "language_info": {
      "codemirror_mode": {
        "name": "ipython",
        "version": 3
      },
      "file_extension": ".py",
      "mimetype": "text/x-python",
      "name": "python",
      "nbconvert_exporter": "python",
      "pygments_lexer": "ipython3",
      "version": "3.8.13"
    },
    "vscode": {
      "interpreter": {
        "hash": "bcfaf3da971f87b91721743b1e9712a94e5baf8041af4e0a049618a6443e430e"
      }
    }
  },
  "nbformat": 4,
  "nbformat_minor": 0
}
