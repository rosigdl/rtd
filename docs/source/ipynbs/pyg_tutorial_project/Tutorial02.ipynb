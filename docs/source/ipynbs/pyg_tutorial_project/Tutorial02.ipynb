{
  "cells": [
    {
      "cell_type": "markdown",
      "metadata": {
        "id": "DGTdLlo-8axy"
      },
      "source": [
        "# Tutorial 2: PyTorch basics"
      ]
    },
    {
      "cell_type": "markdown",
      "metadata": {
        "id": "O967c2Z_8ayK"
      },
      "source": [
        "## Outline"
      ]
    },
    {
      "cell_type": "markdown",
      "metadata": {
        "id": "TSA4gQDH8ayK"
      },
      "source": [
        "- Datasets\n",
        "- Models\n",
        "- Losses\n",
        "- Optimizers"
      ]
    },
    {
      "cell_type": "markdown",
      "metadata": {
        "id": "q4qsjd4y8ayK"
      },
      "source": [
        "Official resources:\n",
        "* [Deep Learning with PyTorch: a 60 Minute Blitz](https://pytorch.org/tutorials/beginner/deep_learning_60min_blitz.html)\n",
        "* [PyTorch documentation](https://pytorch.org/docs/stable/index.html)"
      ]
    },
    {
      "cell_type": "markdown",
      "metadata": {
        "id": "css2s5Xs8ayL"
      },
      "source": [
        "Here no details, mostly visualization, with linear regression."
      ]
    },
    {
      "cell_type": "markdown",
      "metadata": {
        "id": "XjCGTpgy8ayL"
      },
      "source": [
        "### Imports"
      ]
    },
    {
      "cell_type": "code",
      "execution_count": null,
      "metadata": {
        "id": "-yPd_jhx8ayM"
      },
      "outputs": [],
      "source": [
        "import numpy as np\n",
        "import torch\n",
        "import matplotlib.pyplot as plt\n",
        "from matplotlib import colors\n",
        "plt.rcParams.update({'font.size': 16})"
      ]
    },
    {
      "cell_type": "code",
      "execution_count": null,
      "metadata": {
        "colab": {
          "base_uri": "https://localhost:8080/"
        },
        "id": "Yt7PSrWn8ayN",
        "outputId": "c708eed6-2b28-4371-ff45-edadaf79e6e0"
      },
      "outputs": [
        {
          "data": {
            "text/plain": [
              "tensor([0., 0., 0., 0., 0., 0., 0., 0., 0., 0., 0., 0., 0., 0., 0., 0., 0., 0., 0., 0.])"
            ]
          },
          "execution_count": 2,
          "metadata": {},
          "output_type": "execute_result"
        }
      ],
      "source": [
        "x = torch.rand(20, 5)\n",
        "x\n",
        "((x.norm(dim=1) - 1).abs() < 1e-10).float()"
      ]
    },
    {
      "cell_type": "markdown",
      "metadata": {
        "id": "ttXhD2gb8ayN"
      },
      "source": [
        "## Datasets"
      ]
    },
    {
      "cell_type": "markdown",
      "metadata": {
        "id": "lfortb9u8ayO"
      },
      "source": [
        "### A raw dataset"
      ]
    },
    {
      "cell_type": "markdown",
      "metadata": {
        "id": "4IFBjXTJ8ayO"
      },
      "source": [
        "The data are obtained from the model \n",
        "$$\n",
        "x \\mapsto y:=Ax + b\n",
        "$$\n",
        "with $x\\in\\mathbb R^{input\\_dim}$ and $y\\in\\mathbb R^{output\\_dim}$."
      ]
    },
    {
      "cell_type": "code",
      "execution_count": null,
      "metadata": {
        "id": "BglTbXL58ayO"
      },
      "outputs": [],
      "source": [
        "input_dim = 1\n",
        "output_dim = 1\n",
        "\n",
        "A = 2 * np.random.rand(output_dim, input_dim) - 1\n",
        "b = 2 * np.random.rand(output_dim) - 1\n",
        "\n",
        "true_model = lambda x: A @ x + b"
      ]
    },
    {
      "cell_type": "markdown",
      "metadata": {
        "id": "ABoqPRnS8ayO"
      },
      "source": [
        "We get a training set by randomly sampling and noisy observations\n",
        "\\begin{align*}\n",
        "&x_i \\sim U([-1, 1])\\\\\n",
        "&y_i = A x_i + b + \\nu_i\n",
        "\\end{align*}"
      ]
    },
    {
      "cell_type": "code",
      "execution_count": null,
      "metadata": {
        "id": "JKBfSXBU8ayP"
      },
      "outputs": [],
      "source": [
        "n_train = 1000\n",
        "noise_level = 0.04\n",
        "\n",
        "# Generate a random set of n_train samples\n",
        "X_train = np.random.rand(n_train, input_dim)\n",
        "y_train = np.array([true_model(x) for x in X_train])\n",
        "\n",
        "# Add some noise\n",
        "y_train += noise_level * np.random.standard_normal(size=y_train.shape)"
      ]
    },
    {
      "cell_type": "code",
      "execution_count": null,
      "metadata": {
        "colab": {
          "base_uri": "https://localhost:8080/",
          "height": 291
        },
        "id": "oqcMcruN8ayP",
        "outputId": "35e5c394-f32b-469c-80d3-b4c357fbd6e6"
      },
      "outputs": [
        {
          "data": {
            "image/png": "[encoded data removed]",
            "text/plain": [
              "<Figure size 432x288 with 1 Axes>"
            ]
          },
          "metadata": {
            "needs_background": "light"
          },
          "output_type": "display_data"
        }
      ],
      "source": [
        "if input_dim == output_dim == 1:\n",
        "    fig = plt.figure()\n",
        "    fig.clf()\n",
        "    ax = fig.gca()\n",
        "    ax.plot(X_train, y_train, '.')\n",
        "    ax.grid(True)\n",
        "    ax.set_xlabel('X_train')\n",
        "    ax.set_ylabel('y_train')"
      ]
    },
    {
      "cell_type": "markdown",
      "metadata": {
        "id": "CjeW65VT8ayP"
      },
      "source": [
        "### PyTorch `Dataset`"
      ]
    },
    {
      "cell_type": "code",
      "execution_count": null,
      "metadata": {
        "id": "cWw112Gu8ayP"
      },
      "outputs": [],
      "source": [
        "#%% Dataset to manage vector to vector data\n",
        "class VectorialDataset(torch.utils.data.Dataset):\n",
        "    def __init__(self, input_data, output_data):\n",
        "        super(VectorialDataset, self).__init__()\n",
        "        self.input_data = torch.tensor(input_data.astype('f'))\n",
        "        self.output_data = torch.tensor(output_data.astype('f'))\n",
        "        \n",
        "    def __len__(self):\n",
        "        return self.input_data.shape[0]\n",
        "    \n",
        "    def __getitem__(self, idx):\n",
        "        if torch.is_tensor(idx):\n",
        "            idx = idx.tolist()\n",
        "        sample = (self.input_data[idx, :], \n",
        "                  self.output_data[idx, :])  \n",
        "        return sample "
      ]
    },
    {
      "cell_type": "code",
      "execution_count": null,
      "metadata": {
        "id": "FzWjHZ6X8ayP"
      },
      "outputs": [],
      "source": [
        "training_set = VectorialDataset(input_data=X_train, output_data=y_train)"
      ]
    },
    {
      "cell_type": "code",
      "execution_count": null,
      "metadata": {
        "colab": {
          "base_uri": "https://localhost:8080/"
        },
        "id": "7Q41_aMw8ayQ",
        "outputId": "978709ba-d2de-4d8b-a1bc-6349c97fa940"
      },
      "outputs": [
        {
          "data": {
            "text/plain": [
              "1000"
            ]
          },
          "execution_count": 8,
          "metadata": {},
          "output_type": "execute_result"
        }
      ],
      "source": [
        "len(training_set)"
      ]
    },
    {
      "cell_type": "code",
      "execution_count": null,
      "metadata": {
        "colab": {
          "base_uri": "https://localhost:8080/"
        },
        "id": "jfmgnPKi8ayQ",
        "outputId": "c1a65a18-bba7-427d-ab87-ef41192414f7"
      },
      "outputs": [
        {
          "data": {
            "text/plain": [
              "(tensor([[0.9776],\n",
              "         [0.5333]]), tensor([[0.8377],\n",
              "         [0.8677]]))"
            ]
          },
          "execution_count": 9,
          "metadata": {},
          "output_type": "execute_result"
        }
      ],
      "source": [
        "training_set[10:12]"
      ]
    },
    {
      "cell_type": "markdown",
      "metadata": {
        "id": "uRS-6xac8ayQ"
      },
      "source": [
        "Here almost useless, but think about e.g. images."
      ]
    },
    {
      "cell_type": "markdown",
      "metadata": {
        "id": "obuSnDdb8ayQ"
      },
      "source": [
        "### PyTorch `DataLoader`"
      ]
    },
    {
      "cell_type": "code",
      "execution_count": null,
      "metadata": {
        "id": "ey6MrVAR8ayQ"
      },
      "outputs": [],
      "source": [
        "batch_size = 120\n",
        "train_loader = torch.utils.data.DataLoader(training_set, \n",
        "                                           batch_size=batch_size, \n",
        "                                           shuffle=True)"
      ]
    },
    {
      "cell_type": "markdown",
      "metadata": {
        "id": "a_Lb-EHL8ayR"
      },
      "source": [
        "The role of `batch_size`:"
      ]
    },
    {
      "cell_type": "code",
      "execution_count": null,
      "metadata": {
        "colab": {
          "base_uri": "https://localhost:8080/"
        },
        "id": "wzryCx7U8ayR",
        "outputId": "2ac903d1-39ba-4b85-d5f7-c440a262f28c"
      },
      "outputs": [
        {
          "name": "stdout",
          "output_type": "stream",
          "text": [
            "Batch n.  1: input size=torch.Size([120, 1]), output size=torch.Size([120, 1])\n",
            "Batch n.  2: input size=torch.Size([120, 1]), output size=torch.Size([120, 1])\n",
            "Batch n.  3: input size=torch.Size([120, 1]), output size=torch.Size([120, 1])\n",
            "Batch n.  4: input size=torch.Size([120, 1]), output size=torch.Size([120, 1])\n",
            "Batch n.  5: input size=torch.Size([120, 1]), output size=torch.Size([120, 1])\n",
            "Batch n.  6: input size=torch.Size([120, 1]), output size=torch.Size([120, 1])\n",
            "Batch n.  7: input size=torch.Size([120, 1]), output size=torch.Size([120, 1])\n",
            "Batch n.  8: input size=torch.Size([120, 1]), output size=torch.Size([120, 1])\n",
            "Batch n.  9: input size=torch.Size([40, 1]), output size=torch.Size([40, 1])\n"
          ]
        }
      ],
      "source": [
        "for idx, batch in enumerate(train_loader):\n",
        "    print('Batch n. %2d: input size=%s, output size=%s' % (idx+1, batch[0].shape, batch[1].shape))"
      ]
    },
    {
      "cell_type": "code",
      "execution_count": null,
      "metadata": {
        "colab": {
          "base_uri": "https://localhost:8080/"
        },
        "id": "0vxEqrxI8ayR",
        "outputId": "fc3c3cc2-d1ed-41a7-d6f5-6b6633c14c52"
      },
      "outputs": [
        {
          "data": {
            "text/plain": [
              "960"
            ]
          },
          "execution_count": 12,
          "metadata": {},
          "output_type": "execute_result"
        }
      ],
      "source": [
        "8 * 120"
      ]
    },
    {
      "cell_type": "markdown",
      "metadata": {
        "id": "flftoIDK8ayR"
      },
      "source": [
        "The role of `shuffle`:"
      ]
    },
    {
      "cell_type": "code",
      "execution_count": null,
      "metadata": {
        "colab": {
          "base_uri": "https://localhost:8080/"
        },
        "id": "QzsdDma28ayS",
        "outputId": "10978bed-b081-4ff3-c09a-5e5612fe66b5"
      },
      "outputs": [
        {
          "data": {
            "text/plain": [
              "array([[0.974855  , 0.97102839, 0.88224959],\n",
              "       [0.20088936, 0.50331622, 0.82345295],\n",
              "       [0.3588191 , 0.93372488, 0.82671511],\n",
              "       [0.31635773, 0.1723303 , 0.21061797],\n",
              "       [0.26437699, 0.83520246, 0.54161078],\n",
              "       [0.26334294, 0.94008124, 0.98018283],\n",
              "       [0.70451306, 0.19887626, 0.96016997],\n",
              "       [0.62485536, 0.42722419, 0.33184233],\n",
              "       [0.81680064, 0.3787725 , 0.34424016],\n",
              "       [0.26399209, 0.74914658, 0.96811068],\n",
              "       [0.97757121, 0.67563111, 0.33945435],\n",
              "       [0.533324  , 0.76730102, 0.5155586 ],\n",
              "       [0.43001335, 0.45874023, 0.45199746],\n",
              "       [0.24557755, 0.99072611, 0.59223241],\n",
              "       [0.0575559 , 0.51748616, 0.08978312],\n",
              "       [0.14739718, 0.8914445 , 0.81213194],\n",
              "       [0.41385026, 0.93936813, 0.25697485],\n",
              "       [0.1030207 , 0.54127955, 0.38445267],\n",
              "       [0.02066877, 0.44041118, 0.93936813],\n",
              "       [0.58362063, 0.99943674, 0.43276   ],\n",
              "       [0.06981526, 0.66758424, 0.32515258],\n",
              "       [0.14331137, 0.05650147, 0.42637974],\n",
              "       [0.42193655, 0.83311635, 0.74914658],\n",
              "       [0.84811793, 0.33808348, 0.35586321],\n",
              "       [0.0189641 , 0.90636659, 0.52024269],\n",
              "       [0.73704536, 0.29632658, 0.26971427],\n",
              "       [0.27161635, 0.69540745, 0.03069129],\n",
              "       [0.48832314, 0.77608848, 0.40542439],\n",
              "       [0.51526818, 0.4440622 , 0.88237053],\n",
              "       [0.16132186, 0.62918919, 0.19699152],\n",
              "       [0.5155586 , 0.34730271, 0.14666671],\n",
              "       [0.58478156, 0.23124492, 0.43424493],\n",
              "       [0.98785734, 0.73400754, 0.76431674],\n",
              "       [0.82934937, 0.28136384, 0.54069471],\n",
              "       [0.78133812, 0.49659568, 0.20088936],\n",
              "       [0.63356466, 0.95077932, 0.19162408],\n",
              "       [0.41486208, 0.92843264, 0.91998875],\n",
              "       [0.16991878, 0.2285466 , 0.14739718],\n",
              "       [0.79862486, 0.19108887, 0.54440981],\n",
              "       [0.11348485, 0.27566925, 0.02066877],\n",
              "       [0.53058885, 0.81712794, 0.13077131],\n",
              "       [0.46555561, 0.71535236, 0.73704535],\n",
              "       [0.90537262, 0.63851529, 0.09674653],\n",
              "       [0.07209757, 0.35959649, 0.86732358],\n",
              "       [0.4429715 , 0.48319075, 0.35832527],\n",
              "       [0.84571465, 0.53246367, 0.16232426],\n",
              "       [0.30218019, 0.65447605, 0.73164684],\n",
              "       [0.19282706, 0.42574444, 0.76095849],\n",
              "       [0.64629518, 0.19162408, 0.62918919],\n",
              "       [0.48141778, 0.67841244, 0.12691697],\n",
              "       [0.48284637, 0.38445267, 0.90531546],\n",
              "       [0.10448172, 0.17072287, 0.44554165],\n",
              "       [0.68613395, 0.45841208, 0.54127955],\n",
              "       [0.23854881, 0.77972329, 0.48141778],\n",
              "       [0.98891487, 0.3227919 , 0.15311468],\n",
              "       [0.10262068, 0.08978312, 0.80341679],\n",
              "       [0.66323465, 0.32799962, 0.4803564 ],\n",
              "       [0.43883588, 0.98925787, 0.0189641 ],\n",
              "       [0.71445548, 0.94664162, 0.27177146],\n",
              "       [0.41307755, 0.81503284, 0.79137987],\n",
              "       [0.45199746, 0.05631886, 0.49857965],\n",
              "       [0.332212  , 0.06867729, 0.92075837],\n",
              "       [0.87890637, 0.22722761, 0.88264573],\n",
              "       [0.67880036, 0.11701425, 0.5830515 ],\n",
              "       [0.39524466, 0.51557332, 0.18987247],\n",
              "       [0.65663108, 0.42868343, 0.51748616],\n",
              "       [0.81712795, 0.70451307, 0.16033462],\n",
              "       [0.99243442, 0.62319732, 0.35287657],\n",
              "       [0.70124457, 0.51199895, 0.26517075],\n",
              "       [0.49627951, 0.38222787, 0.75223863],\n",
              "       [0.09674652, 0.65588737, 0.51843774],\n",
              "       [0.51244907, 0.51188725, 0.93014342],\n",
              "       [0.04139904, 0.41324618, 0.3827664 ],\n",
              "       [0.83661566, 0.73678124, 0.67634982],\n",
              "       [0.0897793 , 0.332212  , 0.70207703],\n",
              "       [0.57658073, 0.40861318, 0.70911026],\n",
              "       [0.41032992, 0.93449783, 0.88450426],\n",
              "       [0.35357984, 0.56973714, 0.34730271],\n",
              "       [0.13408873, 0.23664314, 0.84811795],\n",
              "       [0.59377689, 0.06405374, 0.4395273 ],\n",
              "       [0.7760885 , 0.18300015, 0.04894073],\n",
              "       [0.78109434, 0.93848354, 0.71502668],\n",
              "       [0.65355077, 0.85074848, 0.7340827 ],\n",
              "       [0.99585638, 0.42193654, 0.66309381],\n",
              "       [0.48319076, 0.76793796, 0.56760997],\n",
              "       [0.35287656, 0.68209291, 0.28590071],\n",
              "       [0.88385744, 0.2764878 , 0.64954144],\n",
              "       [0.06001577, 0.22370355, 0.71445549],\n",
              "       [0.11574473, 0.66783738, 0.48827842],\n",
              "       [0.54127957, 0.18701187, 0.61755055],\n",
              "       [0.94209682, 0.67117596, 0.75304455],\n",
              "       [0.78124028, 0.47662666, 0.41636717],\n",
              "       [0.17324309, 0.99298179, 0.07569684],\n",
              "       [0.47196952, 0.03098176, 0.06405374],\n",
              "       [0.8122213 , 0.76838279, 0.43839231],\n",
              "       [0.23124491, 0.28843415, 0.87987804],\n",
              "       [0.79924142, 0.7632069 , 0.88009071],\n",
              "       [0.51787832, 0.35483232, 0.80817389],\n",
              "       [0.40861316, 0.84813797, 0.24848798],\n",
              "       [0.03098176, 0.15202665, 0.64543229],\n",
              "       [0.62636482, 0.55481392, 0.06780223],\n",
              "       [0.76686785, 0.88124359, 0.78733301],\n",
              "       [0.43031192, 0.66070163, 0.56004781],\n",
              "       [0.27619917, 0.5830515 , 0.49622932],\n",
              "       [0.48364738, 0.005606  , 0.49360588],\n",
              "       [0.16253059, 0.36158645, 0.49659568],\n",
              "       [0.36552527, 0.40570346, 0.28195608],\n",
              "       [0.42530521, 0.35403642, 0.11147705],\n",
              "       [0.63091337, 0.56905544, 0.27202424],\n",
              "       [0.21403415, 0.78509218, 0.19753647],\n",
              "       [0.54069473, 0.26046693, 0.88385743],\n",
              "       [0.10491601, 0.36747354, 0.35959649],\n",
              "       [0.97806818, 0.83590823, 0.74486321],\n",
              "       [0.17453117, 0.80944741, 0.98761004],\n",
              "       [0.38019614, 0.39897215, 0.530092  ],\n",
              "       [0.13077131, 0.30865127, 0.13302526],\n",
              "       [0.40778304, 0.22105536, 0.65663105],\n",
              "       [0.83590825, 0.29269406, 0.94683015],\n",
              "       [0.43338311, 0.68397522, 0.97806817],\n",
              "       [0.19753647, 0.79862487, 0.61909825]])"
            ]
          },
          "execution_count": 13,
          "metadata": {},
          "output_type": "execute_result"
        }
      ],
      "source": [
        "first_batch = []\n",
        "\n",
        "for epoch in range(2):\n",
        "    for idx, batch in enumerate(train_loader):\n",
        "        if idx == 0:\n",
        "            first_batch.append(batch)\n",
        "        \n",
        "np.c_[X_train[:batch_size], first_batch[0][0].numpy(), first_batch[1][0].numpy()]"
      ]
    },
    {
      "cell_type": "markdown",
      "metadata": {
        "id": "BPjhlMWU8ayS"
      },
      "source": [
        "## Models"
      ]
    },
    {
      "cell_type": "markdown",
      "metadata": {
        "id": "95m4k-fF8ayS"
      },
      "source": [
        "We implement a linear model $$x \\mapsto model(x):=A x + b$$ \n",
        "\n",
        "with $A\\in \\mathbb{R}^{input\\_dim\\times output\\_dim}$, $b\\in\\mathbb{R}^{output\\_dim}$."
      ]
    },
    {
      "cell_type": "code",
      "execution_count": null,
      "metadata": {
        "id": "zNfygW3v8ayS"
      },
      "outputs": [],
      "source": [
        "import torch.nn as nn\n",
        "import torch\n",
        "\n",
        "#%% Linear layer\n",
        "class LinearModel(nn.Module):\n",
        "    def __init__(self, input_dim, output_dim):\n",
        "        super(LinearModel, self).__init__()\n",
        "\n",
        "        self.input_dim = input_dim\n",
        "        self.output_dim = output_dim\n",
        "\n",
        "        self.linear = nn.Linear(self.input_dim, self.output_dim, bias=True)\n",
        "\n",
        "    def forward(self, x):\n",
        "        out = self.linear(x)\n",
        "        return out\n",
        "    \n",
        "    def reset(self):\n",
        "        self.linear.reset_parameters()"
      ]
    },
    {
      "cell_type": "code",
      "execution_count": null,
      "metadata": {
        "id": "JjeRI3P28ayS"
      },
      "outputs": [],
      "source": [
        "model = LinearModel(input_dim, output_dim)"
      ]
    },
    {
      "cell_type": "markdown",
      "metadata": {
        "id": "k94nJsq18ayS"
      },
      "source": [
        "### Model inspection"
      ]
    },
    {
      "cell_type": "code",
      "execution_count": null,
      "metadata": {
        "colab": {
          "base_uri": "https://localhost:8080/"
        },
        "id": "BPwywpXW8ayS",
        "outputId": "e950db58-c7e2-44a6-e368-83692eb8cafe"
      },
      "outputs": [
        {
          "name": "stdout",
          "output_type": "stream",
          "text": [
            "LinearModel(\n",
            "  (linear): Linear(in_features=1, out_features=1, bias=True)\n",
            ")\n"
          ]
        }
      ],
      "source": [
        "print(model)"
      ]
    },
    {
      "cell_type": "markdown",
      "metadata": {
        "id": "51n0hGhd8ayT"
      },
      "source": [
        "See [pytorch.org/docs/stable/nn.html](https://pytorch.org/docs/stable/nn.html) for many other layers."
      ]
    },
    {
      "cell_type": "code",
      "execution_count": null,
      "metadata": {
        "colab": {
          "base_uri": "https://localhost:8080/"
        },
        "id": "wrlDKqfL8ayT",
        "outputId": "c07f2903-dc75-45ee-89db-75eb32fb3365"
      },
      "outputs": [
        {
          "data": {
            "text/plain": [
              "[Parameter containing:\n",
              " tensor([[-0.2594]], requires_grad=True), Parameter containing:\n",
              " tensor([0.2894], requires_grad=True)]"
            ]
          },
          "execution_count": 17,
          "metadata": {},
          "output_type": "execute_result"
        }
      ],
      "source": [
        "list(model.parameters())"
      ]
    },
    {
      "cell_type": "code",
      "execution_count": null,
      "metadata": {
        "colab": {
          "base_uri": "https://localhost:8080/"
        },
        "id": "GB7s1qP18ayT",
        "outputId": "c977756e-9fb8-426d-f8f3-fbde32b62ee0"
      },
      "outputs": [
        {
          "data": {
            "text/plain": [
              "Parameter containing:\n",
              "tensor([[-0.2594]], requires_grad=True)"
            ]
          },
          "execution_count": 18,
          "metadata": {},
          "output_type": "execute_result"
        }
      ],
      "source": [
        "model.linear.weight"
      ]
    },
    {
      "cell_type": "code",
      "execution_count": null,
      "metadata": {
        "colab": {
          "base_uri": "https://localhost:8080/"
        },
        "id": "wBGddN_88ayT",
        "outputId": "b91439e9-9db6-46e3-a418-3b1d9959beb3"
      },
      "outputs": [
        {
          "data": {
            "text/plain": [
              "Parameter containing:\n",
              "tensor([0.2894], requires_grad=True)"
            ]
          },
          "execution_count": 19,
          "metadata": {},
          "output_type": "execute_result"
        }
      ],
      "source": [
        "model.linear.bias"
      ]
    },
    {
      "cell_type": "markdown",
      "metadata": {
        "id": "uvxczATy8ayT"
      },
      "source": [
        "### The `forward` method"
      ]
    },
    {
      "cell_type": "code",
      "execution_count": null,
      "metadata": {
        "colab": {
          "base_uri": "https://localhost:8080/"
        },
        "id": "zq3QrEiJ8ayT",
        "outputId": "a812deea-6ce4-41c5-a3fb-8cc044e85dc5"
      },
      "outputs": [
        {
          "data": {
            "text/plain": [
              "tensor([[-0.0766],\n",
              "        [ 0.5903],\n",
              "        [ 0.3571],\n",
              "        [ 0.4407],\n",
              "        [ 0.2370]], grad_fn=<AddmmBackward0>)"
            ]
          },
          "execution_count": 20,
          "metadata": {},
          "output_type": "execute_result"
        }
      ],
      "source": [
        "x = torch.randn(5, input_dim)\n",
        "model.forward(x)"
      ]
    },
    {
      "cell_type": "code",
      "execution_count": null,
      "metadata": {
        "colab": {
          "base_uri": "https://localhost:8080/"
        },
        "id": "fQzYbk-18ayT",
        "outputId": "2ceeefdc-ef60-4a2b-ab29-734933dfad1a"
      },
      "outputs": [
        {
          "data": {
            "text/plain": [
              "[tensor([-0.0766], grad_fn=<AddBackward0>),\n",
              " tensor([0.5903], grad_fn=<AddBackward0>),\n",
              " tensor([0.3571], grad_fn=<AddBackward0>),\n",
              " tensor([0.4407], grad_fn=<AddBackward0>),\n",
              " tensor([0.2370], grad_fn=<AddBackward0>)]"
            ]
          },
          "execution_count": 21,
          "metadata": {},
          "output_type": "execute_result"
        }
      ],
      "source": [
        "[model.linear.weight @ xx + model.linear.bias for xx in x]"
      ]
    },
    {
      "cell_type": "code",
      "execution_count": null,
      "metadata": {
        "colab": {
          "base_uri": "https://localhost:8080/",
          "height": 291
        },
        "id": "2Bw42NH88ayT",
        "outputId": "8b89b47b-5309-4f59-acbf-f641d4010f80"
      },
      "outputs": [
        {
          "data": {
            "image/png": "[encoded data removed]",
            "text/plain": [
              "<Figure size 432x288 with 1 Axes>"
            ]
          },
          "metadata": {
            "needs_background": "light"
          },
          "output_type": "display_data"
        }
      ],
      "source": [
        "if input_dim == output_dim == 1:\n",
        "    fig = plt.figure()\n",
        "    fig.clf()\n",
        "    ax = fig.gca()\n",
        "    ax.plot(training_set.input_data, training_set.output_data, '.')\n",
        "    ax.plot(training_set.input_data, model.forward(training_set.input_data).detach().numpy(), '.')\n",
        "    ax.grid(True)\n",
        "    ax.set_xlabel('X_train')\n",
        "    ax.legend(['y_train', 'model(X_train)'])    "
      ]
    },
    {
      "cell_type": "markdown",
      "metadata": {
        "id": "cGlgbSXg8ayT"
      },
      "source": [
        "## Losses"
      ]
    },
    {
      "cell_type": "markdown",
      "metadata": {
        "id": "iLLevoTQ8ayT"
      },
      "source": [
        "### The MSE loss"
      ]
    },
    {
      "cell_type": "markdown",
      "metadata": {
        "id": "7qhkCpTP8ayU"
      },
      "source": [
        "The MSE loss is\n",
        "$$\n",
        "L(y, y') = \\|y-y'\\|_2^2\n",
        "$$"
      ]
    },
    {
      "cell_type": "code",
      "execution_count": null,
      "metadata": {
        "id": "KU2fu8ZI8ayU"
      },
      "outputs": [],
      "source": [
        "import torch.nn as nn\n",
        "loss_fun = nn.MSELoss(reduction='mean')"
      ]
    },
    {
      "cell_type": "markdown",
      "metadata": {
        "id": "Q31vLMeu8ayU"
      },
      "source": [
        "More at [pytorch.org/docs/stable/nn.html#loss-functions](https://pytorch.org/docs/stable/nn.html#loss-functions)"
      ]
    },
    {
      "cell_type": "code",
      "execution_count": null,
      "metadata": {
        "colab": {
          "base_uri": "https://localhost:8080/"
        },
        "id": "Q6KiF3Sw8ayU",
        "outputId": "ca535f8b-d8e5-4810-ee58-08c36b10c060"
      },
      "outputs": [
        {
          "data": {
            "text/plain": [
              "tensor(2.)"
            ]
          },
          "execution_count": 24,
          "metadata": {},
          "output_type": "execute_result"
        }
      ],
      "source": [
        "x = torch.tensor(np.array([1, 2, 1]).astype('f'))\n",
        "z = torch.tensor(np.array([0, 0, 0]).astype('f'))\n",
        "loss_fun(x, z)"
      ]
    },
    {
      "cell_type": "markdown",
      "metadata": {
        "id": "xqOXgpOJ8ayU"
      },
      "source": [
        "### Giving a score to the model (parameters) given the training set"
      ]
    },
    {
      "cell_type": "markdown",
      "metadata": {
        "id": "sb8_lMD58ayU"
      },
      "source": [
        "The loss for one data pair $(x_i, y_i)$ is \n",
        "$$\n",
        "L(model(x_i), y_i)\n",
        "$$\n",
        "\n",
        "The cumulative (average) loss on the training set is \n",
        "$$\n",
        "L(X_{train}, y_{train}):=\\frac{1}{n_{train}} \\sum_{i=1}^{n_{train}} L(model(x_i), y_i)\n",
        "$$"
      ]
    },
    {
      "cell_type": "code",
      "execution_count": null,
      "metadata": {
        "colab": {
          "base_uri": "https://localhost:8080/",
          "height": 513
        },
        "id": "g_ZD4Za_8ayU",
        "outputId": "ec61ed73-1f14-4edb-f5ef-d65292726955"
      },
      "outputs": [
        {
          "data": {
            "image/png": "[encoded data removed]",
            "text/plain": [
              "<Figure size 720x576 with 2 Axes>"
            ]
          },
          "metadata": {
            "needs_background": "light"
          },
          "output_type": "display_data"
        }
      ],
      "source": [
        "if input_dim == output_dim == 1:\n",
        "\n",
        "    state_dict = model.state_dict()\n",
        "\n",
        "    ww, bb = np.meshgrid(np.linspace(-2, 2, 30), np.linspace(-2, 2, 30))\n",
        "\n",
        "    loss_values = 0 * ww\n",
        "    for i in range(ww.shape[0]):\n",
        "        for j in range(ww.shape[1]):\n",
        "            state_dict['linear.weight'] = torch.tensor([[ww[i, j]]])\n",
        "            state_dict['linear.bias'] = torch.tensor([bb[i, j]])\n",
        "            model.load_state_dict(state_dict)\n",
        "            loss_values[i, j] = loss_fun(model.forward(training_set.input_data),  training_set.output_data)\n",
        "\n",
        "    fig = plt.figure(figsize=(10, 8))\n",
        "    fig.clf()\n",
        "    ax = fig.gca()\n",
        "    levels = np.logspace(np.log(np.min(loss_values)), np.log(np.max(loss_values)), 20)\n",
        "    c=ax.contourf(ww, bb, loss_values, levels=levels, norm=colors.LogNorm())\n",
        "    plt.colorbar(c)\n",
        "    ax.plot(A[0], b, 'r*', markersize=10)\n",
        "    ax.set_ylabel('bias')\n",
        "    ax.set_xlabel('weight')\n",
        "    ax.legend(['(A, b)'])\n",
        "    \n",
        "    ax.grid(True)    "
      ]
    },
    {
      "cell_type": "markdown",
      "metadata": {
        "id": "lb1r54pw8ayU"
      },
      "source": [
        "## Optimization"
      ]
    },
    {
      "cell_type": "markdown",
      "metadata": {
        "id": "aP0Gcsru8ayU"
      },
      "source": [
        "Goal: minimize the loss given the data:\n",
        "$$\n",
        "\\min\\limits_{par \\in model} L(X_{train}, y_{train})\n",
        "=\\min\\limits_{par \\in model} \\frac{1}{n_{train}} \\sum_{i=1}^{n_{train}} L(x_i, model(x_i))\n",
        "$$\n",
        "\n",
        "In this case $par =\\{A, b\\}$."
      ]
    },
    {
      "cell_type": "markdown",
      "metadata": {
        "id": "dhEeeC5t8ayU"
      },
      "source": [
        "Iterative gradient based optimization:\n",
        "\\begin{align*}\n",
        "par^{(0)} &= par_0\\\\\n",
        "par^{(k+1)} &=  par^{(k)} - \\eta^{(k)} \\nabla_{par} L(X_{train}, y_{train})\n",
        "\\end{align*}    \n",
        "with learning rate $\\eta^{(k)}$."
      ]
    },
    {
      "cell_type": "markdown",
      "metadata": {
        "id": "s1AyZ1HY8ayU"
      },
      "source": [
        "### Gradients"
      ]
    },
    {
      "cell_type": "markdown",
      "metadata": {
        "id": "L9Yo-LCt8ayU"
      },
      "source": [
        "The model is \n",
        "$$\n",
        "model(x) = A x + b\n",
        "$$\n",
        "\n",
        "With $input\\_dim = output\\_dim = 1$ we have $A:=a\\in\\mathbb{R},\\ b\\in\\mathbb{R}$. \n",
        "\n",
        "For a data pair $(x, y)$ the loss is\n",
        "\\begin{align*}\n",
        "L(x, y) \n",
        "&= \\|model(x)-y\\|_2^2\\\\ \n",
        "&= (model(x)-y)^2\\\\\n",
        "&= (a x + b - y)^2\\\\\n",
        "&= a^2 x^2 + 2 a b x - 2 a xy + b^2 -2 b y + y^2.\n",
        "\\end{align*}\n",
        "\n",
        "We can compute\n",
        "\\begin{align*}\n",
        "\\nabla_a L(x, y) \n",
        "&= 2 a x^2 + 2 b x - 2 xy\n",
        "=2 x (a x + b - y)\\\\\n",
        "\\nabla_b L(x, y)\n",
        "&= 2 a x + 2 b - 2 y\n",
        "= 2 (ax + b - y).\n",
        "\\end{align*}\n"
      ]
    },
    {
      "cell_type": "code",
      "execution_count": null,
      "metadata": {
        "id": "-DirpMso8ayU"
      },
      "outputs": [],
      "source": [
        "x = torch.randn(1, input_dim)\n",
        "y =  torch.randn(1, output_dim)\n",
        "\n",
        "model.zero_grad()\n",
        "loss = loss_fun(model.forward(x),  y)\n",
        "loss.backward()"
      ]
    },
    {
      "cell_type": "code",
      "execution_count": null,
      "metadata": {
        "colab": {
          "base_uri": "https://localhost:8080/"
        },
        "id": "ZDAgku2E8ayV",
        "outputId": "fefbca2a-2c8c-4578-9891-d45e2b711c01"
      },
      "outputs": [
        {
          "name": "stdout",
          "output_type": "stream",
          "text": [
            "tensor([[-1.3322]])\n",
            "tensor([[-1.3322]], grad_fn=<MulBackward0>)\n",
            "tensor([5.2172])\n",
            "tensor([[5.2172]], grad_fn=<MulBackward0>)\n"
          ]
        }
      ],
      "source": [
        "if input_dim == output_dim == 1:\n",
        "    print(model.linear.weight.grad)\n",
        "    print(2 * x * (model.linear.weight * x + model.linear.bias - y))\n",
        "    \n",
        "    print(model.linear.bias.grad)\n",
        "    print(2 * (model.linear.weight * x + model.linear.bias - y))"
      ]
    },
    {
      "cell_type": "markdown",
      "metadata": {
        "id": "ZwgezNSY8ayV"
      },
      "source": [
        "### Handmade optimization"
      ]
    },
    {
      "cell_type": "code",
      "execution_count": null,
      "metadata": {
        "id": "qqP2KIXj8ayV"
      },
      "outputs": [],
      "source": [
        "if input_dim == output_dim == 1:\n",
        "\n",
        "    num_iter = 200\n",
        "    lr = 0.5 # 0.01\n",
        "\n",
        "    train_hist = {}\n",
        "    train_hist['weight'] = []\n",
        "    train_hist['bias'] = []\n",
        "\n",
        "    model.reset()\n",
        "    state_dict = model.state_dict()\n",
        "\n",
        "    for _ in range(num_iter):\n",
        "\n",
        "        model.zero_grad()\n",
        "        loss = loss_fun(model.forward(training_set.input_data), training_set.output_data)\n",
        "        loss.backward()\n",
        "\n",
        "        w = model.linear.weight.item()\n",
        "        b = model.linear.bias.item()\n",
        "\n",
        "        dw = model.linear.weight.grad.item()\n",
        "        db = model.linear.bias.grad.item()\n",
        "\n",
        "        state_dict['linear.weight'] += torch.tensor([-lr * dw])\n",
        "        state_dict['linear.bias'] += torch.tensor([-lr * db])\n",
        "        model.load_state_dict(state_dict)\n",
        "\n",
        "        train_hist['weight'].append(w)\n",
        "        train_hist['bias'].append(b)\n",
        "\n",
        "    for label in train_hist:\n",
        "        train_hist[label] = np.array(train_hist[label])"
      ]
    },
    {
      "cell_type": "code",
      "execution_count": null,
      "metadata": {
        "colab": {
          "base_uri": "https://localhost:8080/",
          "height": 513
        },
        "id": "RCouVuqV8ayV",
        "outputId": "2249c133-a629-4d42-833d-3cf7edcfce4e"
      },
      "outputs": [
        {
          "data": {
            "image/png": "[encoded data removed]",
            "text/plain": [
              "<Figure size 576x576 with 1 Axes>"
            ]
          },
          "metadata": {
            "needs_background": "light"
          },
          "output_type": "display_data"
        }
      ],
      "source": [
        "if input_dim == output_dim == 1:\n",
        "    fig = plt.figure(figsize=(8, 8))\n",
        "    fig.clf()\n",
        "    ax = fig.gca()\n",
        "    levels = np.logspace(np.log(np.min(loss_values)), np.log(np.max(loss_values)), 20)\n",
        "    ax.contourf(ww, bb, loss_values, levels=levels, norm=colors.LogNorm())\n",
        "    ax.set_xlabel('weight')\n",
        "    ax.set_ylabel('bias')\n",
        "    ax.grid(True)\n",
        "    ax.set_xlim(-2, 2) \n",
        "    ax.set_ylim(-2, 2) \n",
        "    \n",
        "    ax.plot(train_hist['weight'], train_hist['bias'], '.-b')\n",
        "    ax.plot(A[0], b, 'r*', markersize=10)\n",
        "\n",
        "    #ax.legend(['optim', '(A, b)'])"
      ]
    },
    {
      "cell_type": "markdown",
      "metadata": {
        "id": "gWctGczV8ayV"
      },
      "source": [
        "### Stochastic GD"
      ]
    },
    {
      "cell_type": "markdown",
      "metadata": {
        "id": "WhIAHe4c8ayV"
      },
      "source": [
        "* Avoid loading the full training set\n",
        "* Avoid evaluating the model on the full training set"
      ]
    },
    {
      "cell_type": "markdown",
      "metadata": {
        "id": "F1MP41pd8ayV"
      },
      "source": [
        "At every step, compute the loss on a batch of data $(X^{(k)}, y^{(k)})\\sim (X_{train}, y_{train})$: \n",
        "\n",
        "\\begin{align*}\n",
        "L(X^{(k)}, y^{(k)}) := \\sum_{(x, y) \\in (X^{(k)}, y^{(k)})} L(x, model(x)).\n",
        "\\end{align*}    \n",
        "\n",
        "and then update with this approximated gradient:\n",
        "\\begin{align*}\n",
        "par^{(k+1)} &=  par^{(k)} - \\eta^{(k)} \\nabla_{par} L(X^{(k)}, y^{(k)}). \n",
        "\\end{align*}    "
      ]
    },
    {
      "cell_type": "markdown",
      "metadata": {
        "id": "559SfCNB8ayW"
      },
      "source": [
        "### PyTorch `optim`"
      ]
    },
    {
      "cell_type": "code",
      "execution_count": null,
      "metadata": {
        "id": "3SWLQX_t8ayW"
      },
      "outputs": [],
      "source": [
        "lr = 0.1\n",
        "weight_decay = 5e-4\n",
        "optimizer = torch.optim.Adam(model.parameters(), lr=lr, weight_decay=weight_decay)"
      ]
    },
    {
      "cell_type": "markdown",
      "metadata": {
        "id": "tdm3jzCH8ayW"
      },
      "source": [
        "More at [pytorch.org/docs/stable/optim.html](https://pytorch.org/docs/stable/optim.html)."
      ]
    },
    {
      "cell_type": "code",
      "execution_count": null,
      "metadata": {
        "id": "SZy-8pOn8ayW"
      },
      "outputs": [],
      "source": [
        "n_epochs = 100"
      ]
    },
    {
      "cell_type": "code",
      "execution_count": null,
      "metadata": {
        "colab": {
          "base_uri": "https://localhost:8080/"
        },
        "id": "EnMILoDx8ayW",
        "outputId": "fa878923-d6b4-4b3f-92fa-f66919402361"
      },
      "outputs": [
        {
          "name": "stdout",
          "output_type": "stream",
          "text": [
            "[Epoch    1/ 100] [Batch    1/   9] Loss:  4.36e+00\n",
            "[Epoch    1/ 100] [Batch    2/   9] Loss:  3.77e+00\n",
            "[Epoch    1/ 100] [Batch    3/   9] Loss:  3.12e+00\n",
            "[Epoch    1/ 100] [Batch    4/   9] Loss:  2.61e+00\n",
            "[Epoch    1/ 100] [Batch    5/   9] Loss:  2.13e+00\n",
            "[Epoch    1/ 100] [Batch    6/   9] Loss:  1.77e+00\n",
            "[Epoch    1/ 100] [Batch    7/   9] Loss:  1.39e+00\n",
            "[Epoch    1/ 100] [Batch    8/   9] Loss:  1.06e+00\n",
            "[Epoch    1/ 100] [Batch    9/   9] Loss:  8.17e-01\n",
            "[Epoch    2/ 100] [Batch    1/   9] Loss:  5.72e-01\n",
            "[Epoch    2/ 100] [Batch    2/   9] Loss:  4.09e-01\n",
            "[Epoch    2/ 100] [Batch    3/   9] Loss:  2.64e-01\n",
            "[Epoch    2/ 100] [Batch    4/   9] Loss:  1.70e-01\n",
            "[Epoch    2/ 100] [Batch    5/   9] Loss:  7.79e-02\n",
            "[Epoch    2/ 100] [Batch    6/   9] Loss:  4.52e-02\n",
            "[Epoch    2/ 100] [Batch    7/   9] Loss:  3.23e-02\n",
            "[Epoch    2/ 100] [Batch    8/   9] Loss:  2.99e-02\n",
            "[Epoch    2/ 100] [Batch    9/   9] Loss:  4.17e-02\n",
            "[Epoch    3/ 100] [Batch    1/   9] Loss:  5.58e-02\n",
            "[Epoch    3/ 100] [Batch    2/   9] Loss:  9.14e-02\n",
            "[Epoch    3/ 100] [Batch    3/   9] Loss:  1.20e-01\n",
            "[Epoch    3/ 100] [Batch    4/   9] Loss:  1.77e-01\n",
            "[Epoch    3/ 100] [Batch    5/   9] Loss:  1.93e-01\n",
            "[Epoch    3/ 100] [Batch    6/   9] Loss:  2.05e-01\n",
            "[Epoch    3/ 100] [Batch    7/   9] Loss:  2.15e-01\n",
            "[Epoch    3/ 100] [Batch    8/   9] Loss:  1.98e-01\n",
            "[Epoch    3/ 100] [Batch    9/   9] Loss:  2.22e-01\n",
            "[Epoch    4/ 100] [Batch    1/   9] Loss:  2.24e-01\n",
            "[Epoch    4/ 100] [Batch    2/   9] Loss:  1.84e-01\n",
            "[Epoch    4/ 100] [Batch    3/   9] Loss:  1.38e-01\n",
            "[Epoch    4/ 100] [Batch    4/   9] Loss:  1.46e-01\n",
            "[Epoch    4/ 100] [Batch    5/   9] Loss:  1.18e-01\n",
            "[Epoch    4/ 100] [Batch    6/   9] Loss:  1.01e-01\n",
            "[Epoch    4/ 100] [Batch    7/   9] Loss:  6.84e-02\n",
            "[Epoch    4/ 100] [Batch    8/   9] Loss:  6.57e-02\n",
            "[Epoch    4/ 100] [Batch    9/   9] Loss:  5.43e-02\n",
            "[Epoch    5/ 100] [Batch    1/   9] Loss:  3.76e-02\n",
            "[Epoch    5/ 100] [Batch    2/   9] Loss:  2.32e-02\n",
            "[Epoch    5/ 100] [Batch    3/   9] Loss:  1.82e-02\n",
            "[Epoch    5/ 100] [Batch    4/   9] Loss:  1.70e-02\n",
            "[Epoch    5/ 100] [Batch    5/   9] Loss:  1.38e-02\n",
            "[Epoch    5/ 100] [Batch    6/   9] Loss:  1.66e-02\n",
            "[Epoch    5/ 100] [Batch    7/   9] Loss:  1.87e-02\n",
            "[Epoch    5/ 100] [Batch    8/   9] Loss:  2.39e-02\n",
            "[Epoch    5/ 100] [Batch    9/   9] Loss:  2.11e-02\n",
            "[Epoch    6/ 100] [Batch    1/   9] Loss:  2.29e-02\n",
            "[Epoch    6/ 100] [Batch    2/   9] Loss:  2.94e-02\n",
            "[Epoch    6/ 100] [Batch    3/   9] Loss:  2.93e-02\n",
            "[Epoch    6/ 100] [Batch    4/   9] Loss:  3.26e-02\n",
            "[Epoch    6/ 100] [Batch    5/   9] Loss:  3.15e-02\n",
            "[Epoch    6/ 100] [Batch    6/   9] Loss:  3.25e-02\n",
            "[Epoch    6/ 100] [Batch    7/   9] Loss:  2.89e-02\n",
            "[Epoch    6/ 100] [Batch    8/   9] Loss:  2.36e-02\n",
            "[Epoch    6/ 100] [Batch    9/   9] Loss:  2.61e-02\n",
            "[Epoch    7/ 100] [Batch    1/   9] Loss:  2.02e-02\n",
            "[Epoch    7/ 100] [Batch    2/   9] Loss:  1.84e-02\n",
            "[Epoch    7/ 100] [Batch    3/   9] Loss:  1.67e-02\n",
            "[Epoch    7/ 100] [Batch    4/   9] Loss:  1.19e-02\n",
            "[Epoch    7/ 100] [Batch    5/   9] Loss:  1.22e-02\n",
            "[Epoch    7/ 100] [Batch    6/   9] Loss:  1.00e-02\n",
            "[Epoch    7/ 100] [Batch    7/   9] Loss:  9.60e-03\n",
            "[Epoch    7/ 100] [Batch    8/   9] Loss:  8.42e-03\n",
            "[Epoch    7/ 100] [Batch    9/   9] Loss:  8.33e-03\n",
            "[Epoch    8/ 100] [Batch    1/   9] Loss:  8.87e-03\n",
            "[Epoch    8/ 100] [Batch    2/   9] Loss:  9.08e-03\n",
            "[Epoch    8/ 100] [Batch    3/   9] Loss:  8.53e-03\n",
            "[Epoch    8/ 100] [Batch    4/   9] Loss:  7.64e-03\n",
            "[Epoch    8/ 100] [Batch    5/   9] Loss:  1.00e-02\n",
            "[Epoch    8/ 100] [Batch    6/   9] Loss:  7.82e-03\n",
            "[Epoch    8/ 100] [Batch    7/   9] Loss:  9.74e-03\n",
            "[Epoch    8/ 100] [Batch    8/   9] Loss:  7.11e-03\n",
            "[Epoch    8/ 100] [Batch    9/   9] Loss:  8.81e-03\n",
            "[Epoch    9/ 100] [Batch    1/   9] Loss:  7.99e-03\n",
            "[Epoch    9/ 100] [Batch    2/   9] Loss:  6.81e-03\n",
            "[Epoch    9/ 100] [Batch    3/   9] Loss:  7.64e-03\n",
            "[Epoch    9/ 100] [Batch    4/   9] Loss:  5.91e-03\n",
            "[Epoch    9/ 100] [Batch    5/   9] Loss:  6.59e-03\n",
            "[Epoch    9/ 100] [Batch    6/   9] Loss:  5.74e-03\n",
            "[Epoch    9/ 100] [Batch    7/   9] Loss:  5.04e-03\n",
            "[Epoch    9/ 100] [Batch    8/   9] Loss:  5.53e-03\n",
            "[Epoch    9/ 100] [Batch    9/   9] Loss:  2.84e-03\n",
            "[Epoch   10/ 100] [Batch    1/   9] Loss:  3.95e-03\n",
            "[Epoch   10/ 100] [Batch    2/   9] Loss:  4.69e-03\n",
            "[Epoch   10/ 100] [Batch    3/   9] Loss:  4.29e-03\n",
            "[Epoch   10/ 100] [Batch    4/   9] Loss:  4.70e-03\n",
            "[Epoch   10/ 100] [Batch    5/   9] Loss:  4.75e-03\n",
            "[Epoch   10/ 100] [Batch    6/   9] Loss:  3.88e-03\n",
            "[Epoch   10/ 100] [Batch    7/   9] Loss:  4.09e-03\n",
            "[Epoch   10/ 100] [Batch    8/   9] Loss:  4.17e-03\n",
            "[Epoch   10/ 100] [Batch    9/   9] Loss:  4.34e-03\n",
            "[Epoch   11/ 100] [Batch    1/   9] Loss:  3.10e-03\n",
            "[Epoch   11/ 100] [Batch    2/   9] Loss:  4.02e-03\n",
            "[Epoch   11/ 100] [Batch    3/   9] Loss:  3.82e-03\n",
            "[Epoch   11/ 100] [Batch    4/   9] Loss:  3.14e-03\n",
            "[Epoch   11/ 100] [Batch    5/   9] Loss:  3.04e-03\n",
            "[Epoch   11/ 100] [Batch    6/   9] Loss:  3.75e-03\n",
            "[Epoch   11/ 100] [Batch    7/   9] Loss:  3.40e-03\n",
            "[Epoch   11/ 100] [Batch    8/   9] Loss:  3.04e-03\n",
            "[Epoch   11/ 100] [Batch    9/   9] Loss:  2.07e-03\n",
            "[Epoch   12/ 100] [Batch    1/   9] Loss:  2.87e-03\n",
            "[Epoch   12/ 100] [Batch    2/   9] Loss:  3.41e-03\n",
            "[Epoch   12/ 100] [Batch    3/   9] Loss:  2.66e-03\n",
            "[Epoch   12/ 100] [Batch    4/   9] Loss:  2.34e-03\n",
            "[Epoch   12/ 100] [Batch    5/   9] Loss:  2.19e-03\n",
            "[Epoch   12/ 100] [Batch    6/   9] Loss:  2.70e-03\n",
            "[Epoch   12/ 100] [Batch    7/   9] Loss:  2.31e-03\n",
            "[Epoch   12/ 100] [Batch    8/   9] Loss:  2.30e-03\n",
            "[Epoch   12/ 100] [Batch    9/   9] Loss:  2.55e-03\n",
            "[Epoch   13/ 100] [Batch    1/   9] Loss:  2.30e-03\n",
            "[Epoch   13/ 100] [Batch    2/   9] Loss:  2.16e-03\n",
            "[Epoch   13/ 100] [Batch    3/   9] Loss:  1.48e-03\n",
            "[Epoch   13/ 100] [Batch    4/   9] Loss:  2.16e-03\n",
            "[Epoch   13/ 100] [Batch    5/   9] Loss:  2.47e-03\n",
            "[Epoch   13/ 100] [Batch    6/   9] Loss:  2.45e-03\n",
            "[Epoch   13/ 100] [Batch    7/   9] Loss:  2.23e-03\n",
            "[Epoch   13/ 100] [Batch    8/   9] Loss:  2.49e-03\n",
            "[Epoch   13/ 100] [Batch    9/   9] Loss:  1.93e-03\n",
            "[Epoch   14/ 100] [Batch    1/   9] Loss:  2.30e-03\n",
            "[Epoch   14/ 100] [Batch    2/   9] Loss:  1.79e-03\n",
            "[Epoch   14/ 100] [Batch    3/   9] Loss:  1.86e-03\n",
            "[Epoch   14/ 100] [Batch    4/   9] Loss:  1.75e-03\n",
            "[Epoch   14/ 100] [Batch    5/   9] Loss:  2.04e-03\n",
            "[Epoch   14/ 100] [Batch    6/   9] Loss:  1.65e-03\n",
            "[Epoch   14/ 100] [Batch    7/   9] Loss:  1.63e-03\n",
            "[Epoch   14/ 100] [Batch    8/   9] Loss:  2.14e-03\n",
            "[Epoch   14/ 100] [Batch    9/   9] Loss:  2.73e-03\n",
            "[Epoch   15/ 100] [Batch    1/   9] Loss:  1.77e-03\n",
            "[Epoch   15/ 100] [Batch    2/   9] Loss:  1.96e-03\n",
            "[Epoch   15/ 100] [Batch    3/   9] Loss:  1.96e-03\n",
            "[Epoch   15/ 100] [Batch    4/   9] Loss:  1.94e-03\n",
            "[Epoch   15/ 100] [Batch    5/   9] Loss:  2.00e-03\n",
            "[Epoch   15/ 100] [Batch    6/   9] Loss:  1.52e-03\n",
            "[Epoch   15/ 100] [Batch    7/   9] Loss:  1.70e-03\n",
            "[Epoch   15/ 100] [Batch    8/   9] Loss:  1.56e-03\n",
            "[Epoch   15/ 100] [Batch    9/   9] Loss:  1.12e-03\n",
            "[Epoch   16/ 100] [Batch    1/   9] Loss:  2.10e-03\n",
            "[Epoch   16/ 100] [Batch    2/   9] Loss:  1.43e-03\n",
            "[Epoch   16/ 100] [Batch    3/   9] Loss:  1.95e-03\n",
            "[Epoch   16/ 100] [Batch    4/   9] Loss:  1.79e-03\n",
            "[Epoch   16/ 100] [Batch    5/   9] Loss:  1.60e-03\n",
            "[Epoch   16/ 100] [Batch    6/   9] Loss:  1.80e-03\n",
            "[Epoch   16/ 100] [Batch    7/   9] Loss:  1.43e-03\n",
            "[Epoch   16/ 100] [Batch    8/   9] Loss:  1.43e-03\n",
            "[Epoch   16/ 100] [Batch    9/   9] Loss:  1.30e-03\n",
            "[Epoch   17/ 100] [Batch    1/   9] Loss:  1.38e-03\n",
            "[Epoch   17/ 100] [Batch    2/   9] Loss:  1.83e-03\n",
            "[Epoch   17/ 100] [Batch    3/   9] Loss:  1.72e-03\n",
            "[Epoch   17/ 100] [Batch    4/   9] Loss:  1.82e-03\n",
            "[Epoch   17/ 100] [Batch    5/   9] Loss:  1.95e-03\n",
            "[Epoch   17/ 100] [Batch    6/   9] Loss:  1.47e-03\n",
            "[Epoch   17/ 100] [Batch    7/   9] Loss:  1.39e-03\n",
            "[Epoch   17/ 100] [Batch    8/   9] Loss:  1.49e-03\n",
            "[Epoch   17/ 100] [Batch    9/   9] Loss:  1.29e-03\n",
            "[Epoch   18/ 100] [Batch    1/   9] Loss:  1.53e-03\n",
            "[Epoch   18/ 100] [Batch    2/   9] Loss:  2.22e-03\n",
            "[Epoch   18/ 100] [Batch    3/   9] Loss:  1.67e-03\n",
            "[Epoch   18/ 100] [Batch    4/   9] Loss:  1.16e-03\n",
            "[Epoch   18/ 100] [Batch    5/   9] Loss:  1.73e-03\n",
            "[Epoch   18/ 100] [Batch    6/   9] Loss:  1.35e-03\n",
            "[Epoch   18/ 100] [Batch    7/   9] Loss:  1.44e-03\n",
            "[Epoch   18/ 100] [Batch    8/   9] Loss:  1.62e-03\n",
            "[Epoch   18/ 100] [Batch    9/   9] Loss:  1.65e-03\n",
            "[Epoch   19/ 100] [Batch    1/   9] Loss:  1.74e-03\n",
            "[Epoch   19/ 100] [Batch    2/   9] Loss:  1.66e-03\n",
            "[Epoch   19/ 100] [Batch    3/   9] Loss:  1.89e-03\n",
            "[Epoch   19/ 100] [Batch    4/   9] Loss:  1.28e-03\n",
            "[Epoch   19/ 100] [Batch    5/   9] Loss:  1.58e-03\n",
            "[Epoch   19/ 100] [Batch    6/   9] Loss:  1.21e-03\n",
            "[Epoch   19/ 100] [Batch    7/   9] Loss:  1.83e-03\n",
            "[Epoch   19/ 100] [Batch    8/   9] Loss:  1.46e-03\n",
            "[Epoch   19/ 100] [Batch    9/   9] Loss:  1.43e-03\n",
            "[Epoch   20/ 100] [Batch    1/   9] Loss:  1.63e-03\n",
            "[Epoch   20/ 100] [Batch    2/   9] Loss:  1.61e-03\n",
            "[Epoch   20/ 100] [Batch    3/   9] Loss:  1.55e-03\n",
            "[Epoch   20/ 100] [Batch    4/   9] Loss:  1.43e-03\n",
            "[Epoch   20/ 100] [Batch    5/   9] Loss:  1.38e-03\n",
            "[Epoch   20/ 100] [Batch    6/   9] Loss:  1.75e-03\n",
            "[Epoch   20/ 100] [Batch    7/   9] Loss:  1.64e-03\n",
            "[Epoch   20/ 100] [Batch    8/   9] Loss:  1.54e-03\n",
            "[Epoch   20/ 100] [Batch    9/   9] Loss:  1.62e-03\n",
            "[Epoch   21/ 100] [Batch    1/   9] Loss:  1.45e-03\n",
            "[Epoch   21/ 100] [Batch    2/   9] Loss:  1.75e-03\n",
            "[Epoch   21/ 100] [Batch    3/   9] Loss:  1.14e-03\n",
            "[Epoch   21/ 100] [Batch    4/   9] Loss:  1.67e-03\n",
            "[Epoch   21/ 100] [Batch    5/   9] Loss:  1.66e-03\n",
            "[Epoch   21/ 100] [Batch    6/   9] Loss:  1.75e-03\n",
            "[Epoch   21/ 100] [Batch    7/   9] Loss:  1.37e-03\n",
            "[Epoch   21/ 100] [Batch    8/   9] Loss:  1.69e-03\n",
            "[Epoch   21/ 100] [Batch    9/   9] Loss:  1.56e-03\n",
            "[Epoch   22/ 100] [Batch    1/   9] Loss:  1.40e-03\n",
            "[Epoch   22/ 100] [Batch    2/   9] Loss:  1.38e-03\n",
            "[Epoch   22/ 100] [Batch    3/   9] Loss:  1.46e-03\n",
            "[Epoch   22/ 100] [Batch    4/   9] Loss:  1.85e-03\n",
            "[Epoch   22/ 100] [Batch    5/   9] Loss:  1.52e-03\n",
            "[Epoch   22/ 100] [Batch    6/   9] Loss:  1.44e-03\n",
            "[Epoch   22/ 100] [Batch    7/   9] Loss:  1.83e-03\n",
            "[Epoch   22/ 100] [Batch    8/   9] Loss:  1.61e-03\n",
            "[Epoch   22/ 100] [Batch    9/   9] Loss:  1.47e-03\n",
            "[Epoch   23/ 100] [Batch    1/   9] Loss:  1.78e-03\n",
            "[Epoch   23/ 100] [Batch    2/   9] Loss:  1.49e-03\n",
            "[Epoch   23/ 100] [Batch    3/   9] Loss:  1.47e-03\n",
            "[Epoch   23/ 100] [Batch    4/   9] Loss:  1.82e-03\n",
            "[Epoch   23/ 100] [Batch    5/   9] Loss:  1.59e-03\n",
            "[Epoch   23/ 100] [Batch    6/   9] Loss:  1.61e-03\n",
            "[Epoch   23/ 100] [Batch    7/   9] Loss:  1.53e-03\n",
            "[Epoch   23/ 100] [Batch    8/   9] Loss:  1.33e-03\n",
            "[Epoch   23/ 100] [Batch    9/   9] Loss:  1.15e-03\n",
            "[Epoch   24/ 100] [Batch    1/   9] Loss:  1.51e-03\n",
            "[Epoch   24/ 100] [Batch    2/   9] Loss:  1.24e-03\n",
            "[Epoch   24/ 100] [Batch    3/   9] Loss:  1.74e-03\n",
            "[Epoch   24/ 100] [Batch    4/   9] Loss:  1.56e-03\n",
            "[Epoch   24/ 100] [Batch    5/   9] Loss:  1.55e-03\n",
            "[Epoch   24/ 100] [Batch    6/   9] Loss:  1.72e-03\n",
            "[Epoch   24/ 100] [Batch    7/   9] Loss:  1.72e-03\n",
            "[Epoch   24/ 100] [Batch    8/   9] Loss:  1.43e-03\n",
            "[Epoch   24/ 100] [Batch    9/   9] Loss:  1.50e-03\n",
            "[Epoch   25/ 100] [Batch    1/   9] Loss:  1.44e-03\n",
            "[Epoch   25/ 100] [Batch    2/   9] Loss:  1.66e-03\n",
            "[Epoch   25/ 100] [Batch    3/   9] Loss:  1.90e-03\n",
            "[Epoch   25/ 100] [Batch    4/   9] Loss:  1.53e-03\n",
            "[Epoch   25/ 100] [Batch    5/   9] Loss:  1.44e-03\n",
            "[Epoch   25/ 100] [Batch    6/   9] Loss:  1.28e-03\n",
            "[Epoch   25/ 100] [Batch    7/   9] Loss:  1.36e-03\n",
            "[Epoch   25/ 100] [Batch    8/   9] Loss:  1.84e-03\n",
            "[Epoch   25/ 100] [Batch    9/   9] Loss:  1.69e-03\n",
            "[Epoch   26/ 100] [Batch    1/   9] Loss:  1.66e-03\n",
            "[Epoch   26/ 100] [Batch    2/   9] Loss:  1.39e-03\n",
            "[Epoch   26/ 100] [Batch    3/   9] Loss:  1.60e-03\n",
            "[Epoch   26/ 100] [Batch    4/   9] Loss:  1.26e-03\n",
            "[Epoch   26/ 100] [Batch    5/   9] Loss:  1.88e-03\n",
            "[Epoch   26/ 100] [Batch    6/   9] Loss:  1.44e-03\n",
            "[Epoch   26/ 100] [Batch    7/   9] Loss:  1.72e-03\n",
            "[Epoch   26/ 100] [Batch    8/   9] Loss:  1.53e-03\n",
            "[Epoch   26/ 100] [Batch    9/   9] Loss:  1.48e-03\n",
            "[Epoch   27/ 100] [Batch    1/   9] Loss:  1.46e-03\n",
            "[Epoch   27/ 100] [Batch    2/   9] Loss:  1.64e-03\n",
            "[Epoch   27/ 100] [Batch    3/   9] Loss:  1.37e-03\n",
            "[Epoch   27/ 100] [Batch    4/   9] Loss:  1.56e-03\n",
            "[Epoch   27/ 100] [Batch    5/   9] Loss:  1.82e-03\n",
            "[Epoch   27/ 100] [Batch    6/   9] Loss:  1.45e-03\n",
            "[Epoch   27/ 100] [Batch    7/   9] Loss:  1.49e-03\n",
            "[Epoch   27/ 100] [Batch    8/   9] Loss:  1.75e-03\n",
            "[Epoch   27/ 100] [Batch    9/   9] Loss:  1.33e-03\n",
            "[Epoch   28/ 100] [Batch    1/   9] Loss:  1.52e-03\n",
            "[Epoch   28/ 100] [Batch    2/   9] Loss:  1.83e-03\n",
            "[Epoch   28/ 100] [Batch    3/   9] Loss:  1.40e-03\n",
            "[Epoch   28/ 100] [Batch    4/   9] Loss:  1.46e-03\n",
            "[Epoch   28/ 100] [Batch    5/   9] Loss:  1.66e-03\n",
            "[Epoch   28/ 100] [Batch    6/   9] Loss:  1.63e-03\n",
            "[Epoch   28/ 100] [Batch    7/   9] Loss:  1.40e-03\n",
            "[Epoch   28/ 100] [Batch    8/   9] Loss:  1.63e-03\n",
            "[Epoch   28/ 100] [Batch    9/   9] Loss:  1.53e-03\n",
            "[Epoch   29/ 100] [Batch    1/   9] Loss:  1.53e-03\n",
            "[Epoch   29/ 100] [Batch    2/   9] Loss:  1.60e-03\n",
            "[Epoch   29/ 100] [Batch    3/   9] Loss:  1.24e-03\n",
            "[Epoch   29/ 100] [Batch    4/   9] Loss:  1.81e-03\n",
            "[Epoch   29/ 100] [Batch    5/   9] Loss:  1.74e-03\n",
            "[Epoch   29/ 100] [Batch    6/   9] Loss:  1.55e-03\n",
            "[Epoch   29/ 100] [Batch    7/   9] Loss:  1.56e-03\n",
            "[Epoch   29/ 100] [Batch    8/   9] Loss:  1.41e-03\n",
            "[Epoch   29/ 100] [Batch    9/   9] Loss:  1.81e-03\n",
            "[Epoch   30/ 100] [Batch    1/   9] Loss:  1.25e-03\n",
            "[Epoch   30/ 100] [Batch    2/   9] Loss:  1.33e-03\n",
            "[Epoch   30/ 100] [Batch    3/   9] Loss:  1.57e-03\n",
            "[Epoch   30/ 100] [Batch    4/   9] Loss:  1.76e-03\n",
            "[Epoch   30/ 100] [Batch    5/   9] Loss:  1.65e-03\n",
            "[Epoch   30/ 100] [Batch    6/   9] Loss:  1.60e-03\n",
            "[Epoch   30/ 100] [Batch    7/   9] Loss:  1.52e-03\n",
            "[Epoch   30/ 100] [Batch    8/   9] Loss:  1.70e-03\n",
            "[Epoch   30/ 100] [Batch    9/   9] Loss:  1.85e-03\n",
            "[Epoch   31/ 100] [Batch    1/   9] Loss:  1.50e-03\n",
            "[Epoch   31/ 100] [Batch    2/   9] Loss:  1.36e-03\n",
            "[Epoch   31/ 100] [Batch    3/   9] Loss:  1.55e-03\n",
            "[Epoch   31/ 100] [Batch    4/   9] Loss:  1.98e-03\n",
            "[Epoch   31/ 100] [Batch    5/   9] Loss:  1.51e-03\n",
            "[Epoch   31/ 100] [Batch    6/   9] Loss:  1.43e-03\n",
            "[Epoch   31/ 100] [Batch    7/   9] Loss:  1.30e-03\n",
            "[Epoch   31/ 100] [Batch    8/   9] Loss:  1.80e-03\n",
            "[Epoch   31/ 100] [Batch    9/   9] Loss:  1.69e-03\n",
            "[Epoch   32/ 100] [Batch    1/   9] Loss:  1.38e-03\n",
            "[Epoch   32/ 100] [Batch    2/   9] Loss:  1.83e-03\n",
            "[Epoch   32/ 100] [Batch    3/   9] Loss:  1.30e-03\n",
            "[Epoch   32/ 100] [Batch    4/   9] Loss:  1.84e-03\n",
            "[Epoch   32/ 100] [Batch    5/   9] Loss:  1.34e-03\n",
            "[Epoch   32/ 100] [Batch    6/   9] Loss:  1.61e-03\n",
            "[Epoch   32/ 100] [Batch    7/   9] Loss:  1.70e-03\n",
            "[Epoch   32/ 100] [Batch    8/   9] Loss:  1.54e-03\n",
            "[Epoch   32/ 100] [Batch    9/   9] Loss:  1.44e-03\n",
            "[Epoch   33/ 100] [Batch    1/   9] Loss:  1.35e-03\n",
            "[Epoch   33/ 100] [Batch    2/   9] Loss:  1.88e-03\n",
            "[Epoch   33/ 100] [Batch    3/   9] Loss:  1.45e-03\n",
            "[Epoch   33/ 100] [Batch    4/   9] Loss:  1.81e-03\n",
            "[Epoch   33/ 100] [Batch    5/   9] Loss:  1.47e-03\n",
            "[Epoch   33/ 100] [Batch    6/   9] Loss:  1.40e-03\n",
            "[Epoch   33/ 100] [Batch    7/   9] Loss:  1.44e-03\n",
            "[Epoch   33/ 100] [Batch    8/   9] Loss:  1.78e-03\n",
            "[Epoch   33/ 100] [Batch    9/   9] Loss:  1.27e-03\n",
            "[Epoch   34/ 100] [Batch    1/   9] Loss:  1.50e-03\n",
            "[Epoch   34/ 100] [Batch    2/   9] Loss:  1.60e-03\n",
            "[Epoch   34/ 100] [Batch    3/   9] Loss:  1.63e-03\n",
            "[Epoch   34/ 100] [Batch    4/   9] Loss:  1.41e-03\n",
            "[Epoch   34/ 100] [Batch    5/   9] Loss:  1.51e-03\n",
            "[Epoch   34/ 100] [Batch    6/   9] Loss:  1.77e-03\n",
            "[Epoch   34/ 100] [Batch    7/   9] Loss:  1.51e-03\n",
            "[Epoch   34/ 100] [Batch    8/   9] Loss:  1.69e-03\n",
            "[Epoch   34/ 100] [Batch    9/   9] Loss:  1.13e-03\n",
            "[Epoch   35/ 100] [Batch    1/   9] Loss:  1.41e-03\n",
            "[Epoch   35/ 100] [Batch    2/   9] Loss:  1.75e-03\n",
            "[Epoch   35/ 100] [Batch    3/   9] Loss:  1.37e-03\n",
            "[Epoch   35/ 100] [Batch    4/   9] Loss:  1.35e-03\n",
            "[Epoch   35/ 100] [Batch    5/   9] Loss:  1.37e-03\n",
            "[Epoch   35/ 100] [Batch    6/   9] Loss:  2.06e-03\n",
            "[Epoch   35/ 100] [Batch    7/   9] Loss:  1.75e-03\n",
            "[Epoch   35/ 100] [Batch    8/   9] Loss:  1.42e-03\n",
            "[Epoch   35/ 100] [Batch    9/   9] Loss:  1.58e-03\n",
            "[Epoch   36/ 100] [Batch    1/   9] Loss:  1.77e-03\n",
            "[Epoch   36/ 100] [Batch    2/   9] Loss:  1.13e-03\n",
            "[Epoch   36/ 100] [Batch    3/   9] Loss:  1.85e-03\n",
            "[Epoch   36/ 100] [Batch    4/   9] Loss:  1.77e-03\n",
            "[Epoch   36/ 100] [Batch    5/   9] Loss:  1.40e-03\n",
            "[Epoch   36/ 100] [Batch    6/   9] Loss:  1.57e-03\n",
            "[Epoch   36/ 100] [Batch    7/   9] Loss:  1.56e-03\n",
            "[Epoch   36/ 100] [Batch    8/   9] Loss:  1.51e-03\n",
            "[Epoch   36/ 100] [Batch    9/   9] Loss:  1.32e-03\n",
            "[Epoch   37/ 100] [Batch    1/   9] Loss:  1.31e-03\n",
            "[Epoch   37/ 100] [Batch    2/   9] Loss:  1.58e-03\n",
            "[Epoch   37/ 100] [Batch    3/   9] Loss:  1.51e-03\n",
            "[Epoch   37/ 100] [Batch    4/   9] Loss:  1.68e-03\n",
            "[Epoch   37/ 100] [Batch    5/   9] Loss:  1.71e-03\n",
            "[Epoch   37/ 100] [Batch    6/   9] Loss:  1.29e-03\n",
            "[Epoch   37/ 100] [Batch    7/   9] Loss:  1.80e-03\n",
            "[Epoch   37/ 100] [Batch    8/   9] Loss:  1.52e-03\n",
            "[Epoch   37/ 100] [Batch    9/   9] Loss:  1.74e-03\n",
            "[Epoch   38/ 100] [Batch    1/   9] Loss:  1.50e-03\n",
            "[Epoch   38/ 100] [Batch    2/   9] Loss:  1.65e-03\n",
            "[Epoch   38/ 100] [Batch    3/   9] Loss:  1.42e-03\n",
            "[Epoch   38/ 100] [Batch    4/   9] Loss:  1.90e-03\n",
            "[Epoch   38/ 100] [Batch    5/   9] Loss:  1.37e-03\n",
            "[Epoch   38/ 100] [Batch    6/   9] Loss:  1.65e-03\n",
            "[Epoch   38/ 100] [Batch    7/   9] Loss:  1.41e-03\n",
            "[Epoch   38/ 100] [Batch    8/   9] Loss:  1.38e-03\n",
            "[Epoch   38/ 100] [Batch    9/   9] Loss:  2.07e-03\n",
            "[Epoch   39/ 100] [Batch    1/   9] Loss:  1.69e-03\n",
            "[Epoch   39/ 100] [Batch    2/   9] Loss:  1.50e-03\n",
            "[Epoch   39/ 100] [Batch    3/   9] Loss:  1.66e-03\n",
            "[Epoch   39/ 100] [Batch    4/   9] Loss:  1.72e-03\n",
            "[Epoch   39/ 100] [Batch    5/   9] Loss:  1.24e-03\n",
            "[Epoch   39/ 100] [Batch    6/   9] Loss:  1.64e-03\n",
            "[Epoch   39/ 100] [Batch    7/   9] Loss:  1.33e-03\n",
            "[Epoch   39/ 100] [Batch    8/   9] Loss:  1.77e-03\n",
            "[Epoch   39/ 100] [Batch    9/   9] Loss:  1.32e-03\n",
            "[Epoch   40/ 100] [Batch    1/   9] Loss:  1.30e-03\n",
            "[Epoch   40/ 100] [Batch    2/   9] Loss:  1.58e-03\n",
            "[Epoch   40/ 100] [Batch    3/   9] Loss:  1.46e-03\n",
            "[Epoch   40/ 100] [Batch    4/   9] Loss:  1.39e-03\n",
            "[Epoch   40/ 100] [Batch    5/   9] Loss:  1.92e-03\n",
            "[Epoch   40/ 100] [Batch    6/   9] Loss:  1.67e-03\n",
            "[Epoch   40/ 100] [Batch    7/   9] Loss:  1.81e-03\n",
            "[Epoch   40/ 100] [Batch    8/   9] Loss:  1.41e-03\n",
            "[Epoch   40/ 100] [Batch    9/   9] Loss:  1.41e-03\n",
            "[Epoch   41/ 100] [Batch    1/   9] Loss:  1.49e-03\n",
            "[Epoch   41/ 100] [Batch    2/   9] Loss:  1.63e-03\n",
            "[Epoch   41/ 100] [Batch    3/   9] Loss:  1.25e-03\n",
            "[Epoch   41/ 100] [Batch    4/   9] Loss:  1.58e-03\n",
            "[Epoch   41/ 100] [Batch    5/   9] Loss:  1.65e-03\n",
            "[Epoch   41/ 100] [Batch    6/   9] Loss:  1.70e-03\n",
            "[Epoch   41/ 100] [Batch    7/   9] Loss:  1.38e-03\n",
            "[Epoch   41/ 100] [Batch    8/   9] Loss:  1.76e-03\n",
            "[Epoch   41/ 100] [Batch    9/   9] Loss:  1.63e-03\n",
            "[Epoch   42/ 100] [Batch    1/   9] Loss:  1.67e-03\n",
            "[Epoch   42/ 100] [Batch    2/   9] Loss:  1.35e-03\n",
            "[Epoch   42/ 100] [Batch    3/   9] Loss:  1.66e-03\n",
            "[Epoch   42/ 100] [Batch    4/   9] Loss:  1.60e-03\n",
            "[Epoch   42/ 100] [Batch    5/   9] Loss:  1.25e-03\n",
            "[Epoch   42/ 100] [Batch    6/   9] Loss:  1.93e-03\n",
            "[Epoch   42/ 100] [Batch    7/   9] Loss:  1.27e-03\n",
            "[Epoch   42/ 100] [Batch    8/   9] Loss:  1.81e-03\n",
            "[Epoch   42/ 100] [Batch    9/   9] Loss:  1.35e-03\n",
            "[Epoch   43/ 100] [Batch    1/   9] Loss:  1.50e-03\n",
            "[Epoch   43/ 100] [Batch    2/   9] Loss:  1.20e-03\n",
            "[Epoch   43/ 100] [Batch    3/   9] Loss:  1.42e-03\n",
            "[Epoch   43/ 100] [Batch    4/   9] Loss:  1.78e-03\n",
            "[Epoch   43/ 100] [Batch    5/   9] Loss:  1.57e-03\n",
            "[Epoch   43/ 100] [Batch    6/   9] Loss:  2.03e-03\n",
            "[Epoch   43/ 100] [Batch    7/   9] Loss:  1.35e-03\n",
            "[Epoch   43/ 100] [Batch    8/   9] Loss:  1.76e-03\n",
            "[Epoch   43/ 100] [Batch    9/   9] Loss:  1.12e-03\n",
            "[Epoch   44/ 100] [Batch    1/   9] Loss:  1.39e-03\n",
            "[Epoch   44/ 100] [Batch    2/   9] Loss:  1.49e-03\n",
            "[Epoch   44/ 100] [Batch    3/   9] Loss:  1.84e-03\n",
            "[Epoch   44/ 100] [Batch    4/   9] Loss:  1.60e-03\n",
            "[Epoch   44/ 100] [Batch    5/   9] Loss:  1.51e-03\n",
            "[Epoch   44/ 100] [Batch    6/   9] Loss:  1.60e-03\n",
            "[Epoch   44/ 100] [Batch    7/   9] Loss:  1.63e-03\n",
            "[Epoch   44/ 100] [Batch    8/   9] Loss:  1.42e-03\n",
            "[Epoch   44/ 100] [Batch    9/   9] Loss:  1.59e-03\n",
            "[Epoch   45/ 100] [Batch    1/   9] Loss:  1.88e-03\n",
            "[Epoch   45/ 100] [Batch    2/   9] Loss:  1.29e-03\n",
            "[Epoch   45/ 100] [Batch    3/   9] Loss:  1.49e-03\n",
            "[Epoch   45/ 100] [Batch    4/   9] Loss:  1.18e-03\n",
            "[Epoch   45/ 100] [Batch    5/   9] Loss:  1.90e-03\n",
            "[Epoch   45/ 100] [Batch    6/   9] Loss:  1.53e-03\n",
            "[Epoch   45/ 100] [Batch    7/   9] Loss:  1.68e-03\n",
            "[Epoch   45/ 100] [Batch    8/   9] Loss:  1.70e-03\n",
            "[Epoch   45/ 100] [Batch    9/   9] Loss:  1.01e-03\n",
            "[Epoch   46/ 100] [Batch    1/   9] Loss:  1.63e-03\n",
            "[Epoch   46/ 100] [Batch    2/   9] Loss:  1.41e-03\n",
            "[Epoch   46/ 100] [Batch    3/   9] Loss:  1.57e-03\n",
            "[Epoch   46/ 100] [Batch    4/   9] Loss:  1.56e-03\n",
            "[Epoch   46/ 100] [Batch    5/   9] Loss:  1.48e-03\n",
            "[Epoch   46/ 100] [Batch    6/   9] Loss:  1.43e-03\n",
            "[Epoch   46/ 100] [Batch    7/   9] Loss:  1.57e-03\n",
            "[Epoch   46/ 100] [Batch    8/   9] Loss:  1.72e-03\n",
            "[Epoch   46/ 100] [Batch    9/   9] Loss:  1.79e-03\n",
            "[Epoch   47/ 100] [Batch    1/   9] Loss:  1.75e-03\n",
            "[Epoch   47/ 100] [Batch    2/   9] Loss:  1.43e-03\n",
            "[Epoch   47/ 100] [Batch    3/   9] Loss:  1.63e-03\n",
            "[Epoch   47/ 100] [Batch    4/   9] Loss:  1.47e-03\n",
            "[Epoch   47/ 100] [Batch    5/   9] Loss:  1.63e-03\n",
            "[Epoch   47/ 100] [Batch    6/   9] Loss:  1.72e-03\n",
            "[Epoch   47/ 100] [Batch    7/   9] Loss:  1.61e-03\n",
            "[Epoch   47/ 100] [Batch    8/   9] Loss:  1.41e-03\n",
            "[Epoch   47/ 100] [Batch    9/   9] Loss:  1.01e-03\n",
            "[Epoch   48/ 100] [Batch    1/   9] Loss:  1.39e-03\n",
            "[Epoch   48/ 100] [Batch    2/   9] Loss:  1.89e-03\n",
            "[Epoch   48/ 100] [Batch    3/   9] Loss:  1.47e-03\n",
            "[Epoch   48/ 100] [Batch    4/   9] Loss:  1.69e-03\n",
            "[Epoch   48/ 100] [Batch    5/   9] Loss:  1.67e-03\n",
            "[Epoch   48/ 100] [Batch    6/   9] Loss:  1.38e-03\n",
            "[Epoch   48/ 100] [Batch    7/   9] Loss:  1.49e-03\n",
            "[Epoch   48/ 100] [Batch    8/   9] Loss:  1.63e-03\n",
            "[Epoch   48/ 100] [Batch    9/   9] Loss:  1.38e-03\n",
            "[Epoch   49/ 100] [Batch    1/   9] Loss:  1.79e-03\n",
            "[Epoch   49/ 100] [Batch    2/   9] Loss:  1.69e-03\n",
            "[Epoch   49/ 100] [Batch    3/   9] Loss:  1.46e-03\n",
            "[Epoch   49/ 100] [Batch    4/   9] Loss:  1.91e-03\n",
            "[Epoch   49/ 100] [Batch    5/   9] Loss:  1.69e-03\n",
            "[Epoch   49/ 100] [Batch    6/   9] Loss:  1.28e-03\n",
            "[Epoch   49/ 100] [Batch    7/   9] Loss:  1.37e-03\n",
            "[Epoch   49/ 100] [Batch    8/   9] Loss:  1.50e-03\n",
            "[Epoch   49/ 100] [Batch    9/   9] Loss:  1.12e-03\n",
            "[Epoch   50/ 100] [Batch    1/   9] Loss:  1.58e-03\n",
            "[Epoch   50/ 100] [Batch    2/   9] Loss:  1.47e-03\n",
            "[Epoch   50/ 100] [Batch    3/   9] Loss:  1.21e-03\n",
            "[Epoch   50/ 100] [Batch    4/   9] Loss:  1.83e-03\n",
            "[Epoch   50/ 100] [Batch    5/   9] Loss:  1.72e-03\n",
            "[Epoch   50/ 100] [Batch    6/   9] Loss:  1.56e-03\n",
            "[Epoch   50/ 100] [Batch    7/   9] Loss:  1.48e-03\n",
            "[Epoch   50/ 100] [Batch    8/   9] Loss:  1.71e-03\n",
            "[Epoch   50/ 100] [Batch    9/   9] Loss:  1.25e-03\n",
            "[Epoch   51/ 100] [Batch    1/   9] Loss:  1.69e-03\n",
            "[Epoch   51/ 100] [Batch    2/   9] Loss:  1.81e-03\n",
            "[Epoch   51/ 100] [Batch    3/   9] Loss:  1.55e-03\n",
            "[Epoch   51/ 100] [Batch    4/   9] Loss:  1.77e-03\n",
            "[Epoch   51/ 100] [Batch    5/   9] Loss:  1.61e-03\n",
            "[Epoch   51/ 100] [Batch    6/   9] Loss:  1.15e-03\n",
            "[Epoch   51/ 100] [Batch    7/   9] Loss:  1.62e-03\n",
            "[Epoch   51/ 100] [Batch    8/   9] Loss:  1.37e-03\n",
            "[Epoch   51/ 100] [Batch    9/   9] Loss:  1.66e-03\n",
            "[Epoch   52/ 100] [Batch    1/   9] Loss:  1.62e-03\n",
            "[Epoch   52/ 100] [Batch    2/   9] Loss:  1.49e-03\n",
            "[Epoch   52/ 100] [Batch    3/   9] Loss:  1.59e-03\n",
            "[Epoch   52/ 100] [Batch    4/   9] Loss:  1.62e-03\n",
            "[Epoch   52/ 100] [Batch    5/   9] Loss:  1.28e-03\n",
            "[Epoch   52/ 100] [Batch    6/   9] Loss:  1.59e-03\n",
            "[Epoch   52/ 100] [Batch    7/   9] Loss:  1.69e-03\n",
            "[Epoch   52/ 100] [Batch    8/   9] Loss:  1.73e-03\n",
            "[Epoch   52/ 100] [Batch    9/   9] Loss:  1.32e-03\n",
            "[Epoch   53/ 100] [Batch    1/   9] Loss:  1.86e-03\n",
            "[Epoch   53/ 100] [Batch    2/   9] Loss:  1.62e-03\n",
            "[Epoch   53/ 100] [Batch    3/   9] Loss:  1.34e-03\n",
            "[Epoch   53/ 100] [Batch    4/   9] Loss:  1.45e-03\n",
            "[Epoch   53/ 100] [Batch    5/   9] Loss:  1.92e-03\n",
            "[Epoch   53/ 100] [Batch    6/   9] Loss:  1.33e-03\n",
            "[Epoch   53/ 100] [Batch    7/   9] Loss:  1.40e-03\n",
            "[Epoch   53/ 100] [Batch    8/   9] Loss:  1.62e-03\n",
            "[Epoch   53/ 100] [Batch    9/   9] Loss:  1.55e-03\n",
            "[Epoch   54/ 100] [Batch    1/   9] Loss:  1.46e-03\n",
            "[Epoch   54/ 100] [Batch    2/   9] Loss:  1.57e-03\n",
            "[Epoch   54/ 100] [Batch    3/   9] Loss:  1.76e-03\n",
            "[Epoch   54/ 100] [Batch    4/   9] Loss:  1.60e-03\n",
            "[Epoch   54/ 100] [Batch    5/   9] Loss:  1.07e-03\n",
            "[Epoch   54/ 100] [Batch    6/   9] Loss:  1.59e-03\n",
            "[Epoch   54/ 100] [Batch    7/   9] Loss:  1.72e-03\n",
            "[Epoch   54/ 100] [Batch    8/   9] Loss:  1.54e-03\n",
            "[Epoch   54/ 100] [Batch    9/   9] Loss:  2.13e-03\n",
            "[Epoch   55/ 100] [Batch    1/   9] Loss:  1.80e-03\n",
            "[Epoch   55/ 100] [Batch    2/   9] Loss:  1.18e-03\n",
            "[Epoch   55/ 100] [Batch    3/   9] Loss:  1.59e-03\n",
            "[Epoch   55/ 100] [Batch    4/   9] Loss:  1.38e-03\n",
            "[Epoch   55/ 100] [Batch    5/   9] Loss:  1.60e-03\n",
            "[Epoch   55/ 100] [Batch    6/   9] Loss:  1.83e-03\n",
            "[Epoch   55/ 100] [Batch    7/   9] Loss:  1.62e-03\n",
            "[Epoch   55/ 100] [Batch    8/   9] Loss:  1.45e-03\n",
            "[Epoch   55/ 100] [Batch    9/   9] Loss:  1.67e-03\n",
            "[Epoch   56/ 100] [Batch    1/   9] Loss:  1.66e-03\n",
            "[Epoch   56/ 100] [Batch    2/   9] Loss:  1.42e-03\n",
            "[Epoch   56/ 100] [Batch    3/   9] Loss:  1.42e-03\n",
            "[Epoch   56/ 100] [Batch    4/   9] Loss:  1.82e-03\n",
            "[Epoch   56/ 100] [Batch    5/   9] Loss:  1.43e-03\n",
            "[Epoch   56/ 100] [Batch    6/   9] Loss:  1.40e-03\n",
            "[Epoch   56/ 100] [Batch    7/   9] Loss:  1.68e-03\n",
            "[Epoch   56/ 100] [Batch    8/   9] Loss:  1.79e-03\n",
            "[Epoch   56/ 100] [Batch    9/   9] Loss:  1.23e-03\n",
            "[Epoch   57/ 100] [Batch    1/   9] Loss:  1.37e-03\n",
            "[Epoch   57/ 100] [Batch    2/   9] Loss:  1.67e-03\n",
            "[Epoch   57/ 100] [Batch    3/   9] Loss:  1.80e-03\n",
            "[Epoch   57/ 100] [Batch    4/   9] Loss:  1.63e-03\n",
            "[Epoch   57/ 100] [Batch    5/   9] Loss:  1.42e-03\n",
            "[Epoch   57/ 100] [Batch    6/   9] Loss:  1.33e-03\n",
            "[Epoch   57/ 100] [Batch    7/   9] Loss:  1.71e-03\n",
            "[Epoch   57/ 100] [Batch    8/   9] Loss:  1.28e-03\n",
            "[Epoch   57/ 100] [Batch    9/   9] Loss:  2.89e-03\n",
            "[Epoch   58/ 100] [Batch    1/   9] Loss:  1.53e-03\n",
            "[Epoch   58/ 100] [Batch    2/   9] Loss:  1.34e-03\n",
            "[Epoch   58/ 100] [Batch    3/   9] Loss:  1.68e-03\n",
            "[Epoch   58/ 100] [Batch    4/   9] Loss:  1.45e-03\n",
            "[Epoch   58/ 100] [Batch    5/   9] Loss:  1.52e-03\n",
            "[Epoch   58/ 100] [Batch    6/   9] Loss:  1.60e-03\n",
            "[Epoch   58/ 100] [Batch    7/   9] Loss:  1.70e-03\n",
            "[Epoch   58/ 100] [Batch    8/   9] Loss:  1.45e-03\n",
            "[Epoch   58/ 100] [Batch    9/   9] Loss:  2.61e-03\n",
            "[Epoch   59/ 100] [Batch    1/   9] Loss:  1.45e-03\n",
            "[Epoch   59/ 100] [Batch    2/   9] Loss:  1.14e-03\n",
            "[Epoch   59/ 100] [Batch    3/   9] Loss:  1.58e-03\n",
            "[Epoch   59/ 100] [Batch    4/   9] Loss:  2.05e-03\n",
            "[Epoch   59/ 100] [Batch    5/   9] Loss:  1.44e-03\n",
            "[Epoch   59/ 100] [Batch    6/   9] Loss:  1.46e-03\n",
            "[Epoch   59/ 100] [Batch    7/   9] Loss:  1.99e-03\n",
            "[Epoch   59/ 100] [Batch    8/   9] Loss:  1.55e-03\n",
            "[Epoch   59/ 100] [Batch    9/   9] Loss:  1.49e-03\n",
            "[Epoch   60/ 100] [Batch    1/   9] Loss:  1.28e-03\n",
            "[Epoch   60/ 100] [Batch    2/   9] Loss:  1.63e-03\n",
            "[Epoch   60/ 100] [Batch    3/   9] Loss:  1.51e-03\n",
            "[Epoch   60/ 100] [Batch    4/   9] Loss:  1.62e-03\n",
            "[Epoch   60/ 100] [Batch    5/   9] Loss:  1.99e-03\n",
            "[Epoch   60/ 100] [Batch    6/   9] Loss:  1.75e-03\n",
            "[Epoch   60/ 100] [Batch    7/   9] Loss:  1.34e-03\n",
            "[Epoch   60/ 100] [Batch    8/   9] Loss:  1.37e-03\n",
            "[Epoch   60/ 100] [Batch    9/   9] Loss:  1.70e-03\n",
            "[Epoch   61/ 100] [Batch    1/   9] Loss:  1.42e-03\n",
            "[Epoch   61/ 100] [Batch    2/   9] Loss:  1.68e-03\n",
            "[Epoch   61/ 100] [Batch    3/   9] Loss:  1.46e-03\n",
            "[Epoch   61/ 100] [Batch    4/   9] Loss:  1.76e-03\n",
            "[Epoch   61/ 100] [Batch    5/   9] Loss:  1.64e-03\n",
            "[Epoch   61/ 100] [Batch    6/   9] Loss:  1.44e-03\n",
            "[Epoch   61/ 100] [Batch    7/   9] Loss:  1.62e-03\n",
            "[Epoch   61/ 100] [Batch    8/   9] Loss:  1.59e-03\n",
            "[Epoch   61/ 100] [Batch    9/   9] Loss:  1.19e-03\n",
            "[Epoch   62/ 100] [Batch    1/   9] Loss:  1.71e-03\n",
            "[Epoch   62/ 100] [Batch    2/   9] Loss:  1.38e-03\n",
            "[Epoch   62/ 100] [Batch    3/   9] Loss:  1.58e-03\n",
            "[Epoch   62/ 100] [Batch    4/   9] Loss:  1.40e-03\n",
            "[Epoch   62/ 100] [Batch    5/   9] Loss:  1.76e-03\n",
            "[Epoch   62/ 100] [Batch    6/   9] Loss:  1.63e-03\n",
            "[Epoch   62/ 100] [Batch    7/   9] Loss:  1.51e-03\n",
            "[Epoch   62/ 100] [Batch    8/   9] Loss:  1.53e-03\n",
            "[Epoch   62/ 100] [Batch    9/   9] Loss:  1.54e-03\n",
            "[Epoch   63/ 100] [Batch    1/   9] Loss:  1.47e-03\n",
            "[Epoch   63/ 100] [Batch    2/   9] Loss:  1.33e-03\n",
            "[Epoch   63/ 100] [Batch    3/   9] Loss:  1.57e-03\n",
            "[Epoch   63/ 100] [Batch    4/   9] Loss:  1.49e-03\n",
            "[Epoch   63/ 100] [Batch    5/   9] Loss:  1.66e-03\n",
            "[Epoch   63/ 100] [Batch    6/   9] Loss:  1.65e-03\n",
            "[Epoch   63/ 100] [Batch    7/   9] Loss:  1.87e-03\n",
            "[Epoch   63/ 100] [Batch    8/   9] Loss:  1.57e-03\n",
            "[Epoch   63/ 100] [Batch    9/   9] Loss:  1.23e-03\n",
            "[Epoch   64/ 100] [Batch    1/   9] Loss:  1.51e-03\n",
            "[Epoch   64/ 100] [Batch    2/   9] Loss:  1.46e-03\n",
            "[Epoch   64/ 100] [Batch    3/   9] Loss:  1.51e-03\n",
            "[Epoch   64/ 100] [Batch    4/   9] Loss:  1.56e-03\n",
            "[Epoch   64/ 100] [Batch    5/   9] Loss:  1.40e-03\n",
            "[Epoch   64/ 100] [Batch    6/   9] Loss:  1.87e-03\n",
            "[Epoch   64/ 100] [Batch    7/   9] Loss:  1.59e-03\n",
            "[Epoch   64/ 100] [Batch    8/   9] Loss:  1.62e-03\n",
            "[Epoch   64/ 100] [Batch    9/   9] Loss:  1.46e-03\n",
            "[Epoch   65/ 100] [Batch    1/   9] Loss:  1.54e-03\n",
            "[Epoch   65/ 100] [Batch    2/   9] Loss:  1.85e-03\n",
            "[Epoch   65/ 100] [Batch    3/   9] Loss:  1.66e-03\n",
            "[Epoch   65/ 100] [Batch    4/   9] Loss:  1.58e-03\n",
            "[Epoch   65/ 100] [Batch    5/   9] Loss:  1.20e-03\n",
            "[Epoch   65/ 100] [Batch    6/   9] Loss:  1.41e-03\n",
            "[Epoch   65/ 100] [Batch    7/   9] Loss:  1.54e-03\n",
            "[Epoch   65/ 100] [Batch    8/   9] Loss:  1.61e-03\n",
            "[Epoch   65/ 100] [Batch    9/   9] Loss:  1.96e-03\n",
            "[Epoch   66/ 100] [Batch    1/   9] Loss:  1.59e-03\n",
            "[Epoch   66/ 100] [Batch    2/   9] Loss:  1.51e-03\n",
            "[Epoch   66/ 100] [Batch    3/   9] Loss:  1.85e-03\n",
            "[Epoch   66/ 100] [Batch    4/   9] Loss:  1.87e-03\n",
            "[Epoch   66/ 100] [Batch    5/   9] Loss:  1.38e-03\n",
            "[Epoch   66/ 100] [Batch    6/   9] Loss:  1.83e-03\n",
            "[Epoch   66/ 100] [Batch    7/   9] Loss:  1.13e-03\n",
            "[Epoch   66/ 100] [Batch    8/   9] Loss:  1.53e-03\n",
            "[Epoch   66/ 100] [Batch    9/   9] Loss:  1.08e-03\n",
            "[Epoch   67/ 100] [Batch    1/   9] Loss:  1.58e-03\n",
            "[Epoch   67/ 100] [Batch    2/   9] Loss:  1.63e-03\n",
            "[Epoch   67/ 100] [Batch    3/   9] Loss:  1.48e-03\n",
            "[Epoch   67/ 100] [Batch    4/   9] Loss:  1.70e-03\n",
            "[Epoch   67/ 100] [Batch    5/   9] Loss:  1.42e-03\n",
            "[Epoch   67/ 100] [Batch    6/   9] Loss:  1.64e-03\n",
            "[Epoch   67/ 100] [Batch    7/   9] Loss:  1.30e-03\n",
            "[Epoch   67/ 100] [Batch    8/   9] Loss:  1.84e-03\n",
            "[Epoch   67/ 100] [Batch    9/   9] Loss:  1.35e-03\n",
            "[Epoch   68/ 100] [Batch    1/   9] Loss:  1.20e-03\n",
            "[Epoch   68/ 100] [Batch    2/   9] Loss:  1.39e-03\n",
            "[Epoch   68/ 100] [Batch    3/   9] Loss:  1.68e-03\n",
            "[Epoch   68/ 100] [Batch    4/   9] Loss:  1.62e-03\n",
            "[Epoch   68/ 100] [Batch    5/   9] Loss:  1.66e-03\n",
            "[Epoch   68/ 100] [Batch    6/   9] Loss:  2.08e-03\n",
            "[Epoch   68/ 100] [Batch    7/   9] Loss:  1.69e-03\n",
            "[Epoch   68/ 100] [Batch    8/   9] Loss:  1.50e-03\n",
            "[Epoch   68/ 100] [Batch    9/   9] Loss:  7.45e-04\n",
            "[Epoch   69/ 100] [Batch    1/   9] Loss:  1.44e-03\n",
            "[Epoch   69/ 100] [Batch    2/   9] Loss:  1.59e-03\n",
            "[Epoch   69/ 100] [Batch    3/   9] Loss:  1.40e-03\n",
            "[Epoch   69/ 100] [Batch    4/   9] Loss:  1.82e-03\n",
            "[Epoch   69/ 100] [Batch    5/   9] Loss:  1.41e-03\n",
            "[Epoch   69/ 100] [Batch    6/   9] Loss:  1.64e-03\n",
            "[Epoch   69/ 100] [Batch    7/   9] Loss:  1.86e-03\n",
            "[Epoch   69/ 100] [Batch    8/   9] Loss:  1.44e-03\n",
            "[Epoch   69/ 100] [Batch    9/   9] Loss:  1.15e-03\n",
            "[Epoch   70/ 100] [Batch    1/   9] Loss:  1.51e-03\n",
            "[Epoch   70/ 100] [Batch    2/   9] Loss:  1.37e-03\n",
            "[Epoch   70/ 100] [Batch    3/   9] Loss:  1.53e-03\n",
            "[Epoch   70/ 100] [Batch    4/   9] Loss:  1.69e-03\n",
            "[Epoch   70/ 100] [Batch    5/   9] Loss:  1.94e-03\n",
            "[Epoch   70/ 100] [Batch    6/   9] Loss:  1.69e-03\n",
            "[Epoch   70/ 100] [Batch    7/   9] Loss:  1.51e-03\n",
            "[Epoch   70/ 100] [Batch    8/   9] Loss:  1.47e-03\n",
            "[Epoch   70/ 100] [Batch    9/   9] Loss:  8.61e-04\n",
            "[Epoch   71/ 100] [Batch    1/   9] Loss:  1.63e-03\n",
            "[Epoch   71/ 100] [Batch    2/   9] Loss:  1.59e-03\n",
            "[Epoch   71/ 100] [Batch    3/   9] Loss:  1.65e-03\n",
            "[Epoch   71/ 100] [Batch    4/   9] Loss:  1.85e-03\n",
            "[Epoch   71/ 100] [Batch    5/   9] Loss:  1.30e-03\n",
            "[Epoch   71/ 100] [Batch    6/   9] Loss:  1.44e-03\n",
            "[Epoch   71/ 100] [Batch    7/   9] Loss:  1.57e-03\n",
            "[Epoch   71/ 100] [Batch    8/   9] Loss:  1.63e-03\n",
            "[Epoch   71/ 100] [Batch    9/   9] Loss:  1.42e-03\n",
            "[Epoch   72/ 100] [Batch    1/   9] Loss:  1.77e-03\n",
            "[Epoch   72/ 100] [Batch    2/   9] Loss:  1.47e-03\n",
            "[Epoch   72/ 100] [Batch    3/   9] Loss:  1.65e-03\n",
            "[Epoch   72/ 100] [Batch    4/   9] Loss:  1.58e-03\n",
            "[Epoch   72/ 100] [Batch    5/   9] Loss:  1.90e-03\n",
            "[Epoch   72/ 100] [Batch    6/   9] Loss:  1.38e-03\n",
            "[Epoch   72/ 100] [Batch    7/   9] Loss:  1.31e-03\n",
            "[Epoch   72/ 100] [Batch    8/   9] Loss:  1.70e-03\n",
            "[Epoch   72/ 100] [Batch    9/   9] Loss:  1.25e-03\n",
            "[Epoch   73/ 100] [Batch    1/   9] Loss:  1.54e-03\n",
            "[Epoch   73/ 100] [Batch    2/   9] Loss:  1.43e-03\n",
            "[Epoch   73/ 100] [Batch    3/   9] Loss:  1.25e-03\n",
            "[Epoch   73/ 100] [Batch    4/   9] Loss:  1.71e-03\n",
            "[Epoch   73/ 100] [Batch    5/   9] Loss:  1.61e-03\n",
            "[Epoch   73/ 100] [Batch    6/   9] Loss:  1.47e-03\n",
            "[Epoch   73/ 100] [Batch    7/   9] Loss:  1.49e-03\n",
            "[Epoch   73/ 100] [Batch    8/   9] Loss:  2.03e-03\n",
            "[Epoch   73/ 100] [Batch    9/   9] Loss:  1.44e-03\n",
            "[Epoch   74/ 100] [Batch    1/   9] Loss:  2.06e-03\n",
            "[Epoch   74/ 100] [Batch    2/   9] Loss:  1.47e-03\n",
            "[Epoch   74/ 100] [Batch    3/   9] Loss:  1.68e-03\n",
            "[Epoch   74/ 100] [Batch    4/   9] Loss:  1.45e-03\n",
            "[Epoch   74/ 100] [Batch    5/   9] Loss:  1.62e-03\n",
            "[Epoch   74/ 100] [Batch    6/   9] Loss:  1.57e-03\n",
            "[Epoch   74/ 100] [Batch    7/   9] Loss:  1.50e-03\n",
            "[Epoch   74/ 100] [Batch    8/   9] Loss:  1.21e-03\n",
            "[Epoch   74/ 100] [Batch    9/   9] Loss:  1.35e-03\n",
            "[Epoch   75/ 100] [Batch    1/   9] Loss:  1.54e-03\n",
            "[Epoch   75/ 100] [Batch    2/   9] Loss:  1.56e-03\n",
            "[Epoch   75/ 100] [Batch    3/   9] Loss:  1.86e-03\n",
            "[Epoch   75/ 100] [Batch    4/   9] Loss:  1.27e-03\n",
            "[Epoch   75/ 100] [Batch    5/   9] Loss:  1.64e-03\n",
            "[Epoch   75/ 100] [Batch    6/   9] Loss:  1.88e-03\n",
            "[Epoch   75/ 100] [Batch    7/   9] Loss:  1.30e-03\n",
            "[Epoch   75/ 100] [Batch    8/   9] Loss:  1.43e-03\n",
            "[Epoch   75/ 100] [Batch    9/   9] Loss:  1.57e-03\n",
            "[Epoch   76/ 100] [Batch    1/   9] Loss:  1.25e-03\n",
            "[Epoch   76/ 100] [Batch    2/   9] Loss:  1.68e-03\n",
            "[Epoch   76/ 100] [Batch    3/   9] Loss:  1.29e-03\n",
            "[Epoch   76/ 100] [Batch    4/   9] Loss:  1.85e-03\n",
            "[Epoch   76/ 100] [Batch    5/   9] Loss:  1.74e-03\n",
            "[Epoch   76/ 100] [Batch    6/   9] Loss:  1.29e-03\n",
            "[Epoch   76/ 100] [Batch    7/   9] Loss:  1.70e-03\n",
            "[Epoch   76/ 100] [Batch    8/   9] Loss:  1.67e-03\n",
            "[Epoch   76/ 100] [Batch    9/   9] Loss:  1.61e-03\n",
            "[Epoch   77/ 100] [Batch    1/   9] Loss:  1.87e-03\n",
            "[Epoch   77/ 100] [Batch    2/   9] Loss:  1.55e-03\n",
            "[Epoch   77/ 100] [Batch    3/   9] Loss:  1.40e-03\n",
            "[Epoch   77/ 100] [Batch    4/   9] Loss:  1.61e-03\n",
            "[Epoch   77/ 100] [Batch    5/   9] Loss:  1.26e-03\n",
            "[Epoch   77/ 100] [Batch    6/   9] Loss:  1.43e-03\n",
            "[Epoch   77/ 100] [Batch    7/   9] Loss:  1.56e-03\n",
            "[Epoch   77/ 100] [Batch    8/   9] Loss:  1.47e-03\n",
            "[Epoch   77/ 100] [Batch    9/   9] Loss:  2.52e-03\n",
            "[Epoch   78/ 100] [Batch    1/   9] Loss:  1.59e-03\n",
            "[Epoch   78/ 100] [Batch    2/   9] Loss:  1.20e-03\n",
            "[Epoch   78/ 100] [Batch    3/   9] Loss:  1.74e-03\n",
            "[Epoch   78/ 100] [Batch    4/   9] Loss:  1.60e-03\n",
            "[Epoch   78/ 100] [Batch    5/   9] Loss:  1.87e-03\n",
            "[Epoch   78/ 100] [Batch    6/   9] Loss:  1.83e-03\n",
            "[Epoch   78/ 100] [Batch    7/   9] Loss:  1.54e-03\n",
            "[Epoch   78/ 100] [Batch    8/   9] Loss:  1.07e-03\n",
            "[Epoch   78/ 100] [Batch    9/   9] Loss:  1.79e-03\n",
            "[Epoch   79/ 100] [Batch    1/   9] Loss:  1.47e-03\n",
            "[Epoch   79/ 100] [Batch    2/   9] Loss:  1.44e-03\n",
            "[Epoch   79/ 100] [Batch    3/   9] Loss:  1.24e-03\n",
            "[Epoch   79/ 100] [Batch    4/   9] Loss:  1.95e-03\n",
            "[Epoch   79/ 100] [Batch    5/   9] Loss:  1.43e-03\n",
            "[Epoch   79/ 100] [Batch    6/   9] Loss:  1.47e-03\n",
            "[Epoch   79/ 100] [Batch    7/   9] Loss:  1.63e-03\n",
            "[Epoch   79/ 100] [Batch    8/   9] Loss:  1.85e-03\n",
            "[Epoch   79/ 100] [Batch    9/   9] Loss:  1.70e-03\n",
            "[Epoch   80/ 100] [Batch    1/   9] Loss:  1.44e-03\n",
            "[Epoch   80/ 100] [Batch    2/   9] Loss:  1.66e-03\n",
            "[Epoch   80/ 100] [Batch    3/   9] Loss:  1.14e-03\n",
            "[Epoch   80/ 100] [Batch    4/   9] Loss:  1.44e-03\n",
            "[Epoch   80/ 100] [Batch    5/   9] Loss:  1.49e-03\n",
            "[Epoch   80/ 100] [Batch    6/   9] Loss:  1.70e-03\n",
            "[Epoch   80/ 100] [Batch    7/   9] Loss:  1.62e-03\n",
            "[Epoch   80/ 100] [Batch    8/   9] Loss:  1.91e-03\n",
            "[Epoch   80/ 100] [Batch    9/   9] Loss:  1.78e-03\n",
            "[Epoch   81/ 100] [Batch    1/   9] Loss:  1.41e-03\n",
            "[Epoch   81/ 100] [Batch    2/   9] Loss:  1.74e-03\n",
            "[Epoch   81/ 100] [Batch    3/   9] Loss:  1.51e-03\n",
            "[Epoch   81/ 100] [Batch    4/   9] Loss:  1.58e-03\n",
            "[Epoch   81/ 100] [Batch    5/   9] Loss:  1.94e-03\n",
            "[Epoch   81/ 100] [Batch    6/   9] Loss:  1.57e-03\n",
            "[Epoch   81/ 100] [Batch    7/   9] Loss:  1.54e-03\n",
            "[Epoch   81/ 100] [Batch    8/   9] Loss:  1.26e-03\n",
            "[Epoch   81/ 100] [Batch    9/   9] Loss:  1.47e-03\n",
            "[Epoch   82/ 100] [Batch    1/   9] Loss:  1.97e-03\n",
            "[Epoch   82/ 100] [Batch    2/   9] Loss:  1.89e-03\n",
            "[Epoch   82/ 100] [Batch    3/   9] Loss:  1.63e-03\n",
            "[Epoch   82/ 100] [Batch    4/   9] Loss:  1.15e-03\n",
            "[Epoch   82/ 100] [Batch    5/   9] Loss:  1.58e-03\n",
            "[Epoch   82/ 100] [Batch    6/   9] Loss:  1.66e-03\n",
            "[Epoch   82/ 100] [Batch    7/   9] Loss:  1.34e-03\n",
            "[Epoch   82/ 100] [Batch    8/   9] Loss:  1.40e-03\n",
            "[Epoch   82/ 100] [Batch    9/   9] Loss:  1.29e-03\n",
            "[Epoch   83/ 100] [Batch    1/   9] Loss:  1.37e-03\n",
            "[Epoch   83/ 100] [Batch    2/   9] Loss:  1.67e-03\n",
            "[Epoch   83/ 100] [Batch    3/   9] Loss:  1.66e-03\n",
            "[Epoch   83/ 100] [Batch    4/   9] Loss:  1.86e-03\n",
            "[Epoch   83/ 100] [Batch    5/   9] Loss:  1.49e-03\n",
            "[Epoch   83/ 100] [Batch    6/   9] Loss:  1.33e-03\n",
            "[Epoch   83/ 100] [Batch    7/   9] Loss:  1.57e-03\n",
            "[Epoch   83/ 100] [Batch    8/   9] Loss:  1.68e-03\n",
            "[Epoch   83/ 100] [Batch    9/   9] Loss:  1.23e-03\n",
            "[Epoch   84/ 100] [Batch    1/   9] Loss:  1.42e-03\n",
            "[Epoch   84/ 100] [Batch    2/   9] Loss:  1.43e-03\n",
            "[Epoch   84/ 100] [Batch    3/   9] Loss:  1.45e-03\n",
            "[Epoch   84/ 100] [Batch    4/   9] Loss:  1.52e-03\n",
            "[Epoch   84/ 100] [Batch    5/   9] Loss:  1.74e-03\n",
            "[Epoch   84/ 100] [Batch    6/   9] Loss:  1.88e-03\n",
            "[Epoch   84/ 100] [Batch    7/   9] Loss:  1.41e-03\n",
            "[Epoch   84/ 100] [Batch    8/   9] Loss:  1.78e-03\n",
            "[Epoch   84/ 100] [Batch    9/   9] Loss:  1.31e-03\n",
            "[Epoch   85/ 100] [Batch    1/   9] Loss:  1.40e-03\n",
            "[Epoch   85/ 100] [Batch    2/   9] Loss:  1.78e-03\n",
            "[Epoch   85/ 100] [Batch    3/   9] Loss:  1.49e-03\n",
            "[Epoch   85/ 100] [Batch    4/   9] Loss:  1.90e-03\n",
            "[Epoch   85/ 100] [Batch    5/   9] Loss:  1.28e-03\n",
            "[Epoch   85/ 100] [Batch    6/   9] Loss:  1.82e-03\n",
            "[Epoch   85/ 100] [Batch    7/   9] Loss:  1.59e-03\n",
            "[Epoch   85/ 100] [Batch    8/   9] Loss:  1.52e-03\n",
            "[Epoch   85/ 100] [Batch    9/   9] Loss:  1.35e-03\n",
            "[Epoch   86/ 100] [Batch    1/   9] Loss:  1.42e-03\n",
            "[Epoch   86/ 100] [Batch    2/   9] Loss:  1.56e-03\n",
            "[Epoch   86/ 100] [Batch    3/   9] Loss:  1.45e-03\n",
            "[Epoch   86/ 100] [Batch    4/   9] Loss:  1.31e-03\n",
            "[Epoch   86/ 100] [Batch    5/   9] Loss:  1.41e-03\n",
            "[Epoch   86/ 100] [Batch    6/   9] Loss:  1.53e-03\n",
            "[Epoch   86/ 100] [Batch    7/   9] Loss:  1.72e-03\n",
            "[Epoch   86/ 100] [Batch    8/   9] Loss:  1.78e-03\n",
            "[Epoch   86/ 100] [Batch    9/   9] Loss:  2.50e-03\n",
            "[Epoch   87/ 100] [Batch    1/   9] Loss:  1.65e-03\n",
            "[Epoch   87/ 100] [Batch    2/   9] Loss:  1.44e-03\n",
            "[Epoch   87/ 100] [Batch    3/   9] Loss:  1.99e-03\n",
            "[Epoch   87/ 100] [Batch    4/   9] Loss:  1.74e-03\n",
            "[Epoch   87/ 100] [Batch    5/   9] Loss:  1.42e-03\n",
            "[Epoch   87/ 100] [Batch    6/   9] Loss:  1.45e-03\n",
            "[Epoch   87/ 100] [Batch    7/   9] Loss:  1.63e-03\n",
            "[Epoch   87/ 100] [Batch    8/   9] Loss:  1.40e-03\n",
            "[Epoch   87/ 100] [Batch    9/   9] Loss:  1.77e-03\n",
            "[Epoch   88/ 100] [Batch    1/   9] Loss:  1.40e-03\n",
            "[Epoch   88/ 100] [Batch    2/   9] Loss:  1.56e-03\n",
            "[Epoch   88/ 100] [Batch    3/   9] Loss:  1.64e-03\n",
            "[Epoch   88/ 100] [Batch    4/   9] Loss:  1.70e-03\n",
            "[Epoch   88/ 100] [Batch    5/   9] Loss:  1.36e-03\n",
            "[Epoch   88/ 100] [Batch    6/   9] Loss:  1.61e-03\n",
            "[Epoch   88/ 100] [Batch    7/   9] Loss:  1.76e-03\n",
            "[Epoch   88/ 100] [Batch    8/   9] Loss:  1.57e-03\n",
            "[Epoch   88/ 100] [Batch    9/   9] Loss:  1.46e-03\n",
            "[Epoch   89/ 100] [Batch    1/   9] Loss:  1.43e-03\n",
            "[Epoch   89/ 100] [Batch    2/   9] Loss:  1.83e-03\n",
            "[Epoch   89/ 100] [Batch    3/   9] Loss:  1.32e-03\n",
            "[Epoch   89/ 100] [Batch    4/   9] Loss:  1.63e-03\n",
            "[Epoch   89/ 100] [Batch    5/   9] Loss:  1.46e-03\n",
            "[Epoch   89/ 100] [Batch    6/   9] Loss:  1.80e-03\n",
            "[Epoch   89/ 100] [Batch    7/   9] Loss:  1.63e-03\n",
            "[Epoch   89/ 100] [Batch    8/   9] Loss:  1.56e-03\n",
            "[Epoch   89/ 100] [Batch    9/   9] Loss:  1.18e-03\n",
            "[Epoch   90/ 100] [Batch    1/   9] Loss:  1.57e-03\n",
            "[Epoch   90/ 100] [Batch    2/   9] Loss:  1.55e-03\n",
            "[Epoch   90/ 100] [Batch    3/   9] Loss:  1.62e-03\n",
            "[Epoch   90/ 100] [Batch    4/   9] Loss:  1.85e-03\n",
            "[Epoch   90/ 100] [Batch    5/   9] Loss:  1.37e-03\n",
            "[Epoch   90/ 100] [Batch    6/   9] Loss:  1.74e-03\n",
            "[Epoch   90/ 100] [Batch    7/   9] Loss:  1.34e-03\n",
            "[Epoch   90/ 100] [Batch    8/   9] Loss:  1.40e-03\n",
            "[Epoch   90/ 100] [Batch    9/   9] Loss:  1.70e-03\n",
            "[Epoch   91/ 100] [Batch    1/   9] Loss:  1.50e-03\n",
            "[Epoch   91/ 100] [Batch    2/   9] Loss:  1.47e-03\n",
            "[Epoch   91/ 100] [Batch    3/   9] Loss:  1.76e-03\n",
            "[Epoch   91/ 100] [Batch    4/   9] Loss:  1.54e-03\n",
            "[Epoch   91/ 100] [Batch    5/   9] Loss:  1.26e-03\n",
            "[Epoch   91/ 100] [Batch    6/   9] Loss:  1.38e-03\n",
            "[Epoch   91/ 100] [Batch    7/   9] Loss:  1.78e-03\n",
            "[Epoch   91/ 100] [Batch    8/   9] Loss:  1.89e-03\n",
            "[Epoch   91/ 100] [Batch    9/   9] Loss:  1.27e-03\n",
            "[Epoch   92/ 100] [Batch    1/   9] Loss:  1.71e-03\n",
            "[Epoch   92/ 100] [Batch    2/   9] Loss:  1.41e-03\n",
            "[Epoch   92/ 100] [Batch    3/   9] Loss:  1.84e-03\n",
            "[Epoch   92/ 100] [Batch    4/   9] Loss:  1.56e-03\n",
            "[Epoch   92/ 100] [Batch    5/   9] Loss:  1.37e-03\n",
            "[Epoch   92/ 100] [Batch    6/   9] Loss:  1.52e-03\n",
            "[Epoch   92/ 100] [Batch    7/   9] Loss:  1.46e-03\n",
            "[Epoch   92/ 100] [Batch    8/   9] Loss:  1.63e-03\n",
            "[Epoch   92/ 100] [Batch    9/   9] Loss:  1.52e-03\n",
            "[Epoch   93/ 100] [Batch    1/   9] Loss:  1.43e-03\n",
            "[Epoch   93/ 100] [Batch    2/   9] Loss:  1.62e-03\n",
            "[Epoch   93/ 100] [Batch    3/   9] Loss:  1.35e-03\n",
            "[Epoch   93/ 100] [Batch    4/   9] Loss:  1.77e-03\n",
            "[Epoch   93/ 100] [Batch    5/   9] Loss:  1.86e-03\n",
            "[Epoch   93/ 100] [Batch    6/   9] Loss:  1.59e-03\n",
            "[Epoch   93/ 100] [Batch    7/   9] Loss:  1.43e-03\n",
            "[Epoch   93/ 100] [Batch    8/   9] Loss:  1.30e-03\n",
            "[Epoch   93/ 100] [Batch    9/   9] Loss:  1.97e-03\n",
            "[Epoch   94/ 100] [Batch    1/   9] Loss:  1.64e-03\n",
            "[Epoch   94/ 100] [Batch    2/   9] Loss:  1.67e-03\n",
            "[Epoch   94/ 100] [Batch    3/   9] Loss:  1.33e-03\n",
            "[Epoch   94/ 100] [Batch    4/   9] Loss:  1.35e-03\n",
            "[Epoch   94/ 100] [Batch    5/   9] Loss:  1.22e-03\n",
            "[Epoch   94/ 100] [Batch    6/   9] Loss:  1.67e-03\n",
            "[Epoch   94/ 100] [Batch    7/   9] Loss:  1.32e-03\n",
            "[Epoch   94/ 100] [Batch    8/   9] Loss:  2.25e-03\n",
            "[Epoch   94/ 100] [Batch    9/   9] Loss:  1.63e-03\n",
            "[Epoch   95/ 100] [Batch    1/   9] Loss:  1.45e-03\n",
            "[Epoch   95/ 100] [Batch    2/   9] Loss:  1.61e-03\n",
            "[Epoch   95/ 100] [Batch    3/   9] Loss:  1.42e-03\n",
            "[Epoch   95/ 100] [Batch    4/   9] Loss:  1.63e-03\n",
            "[Epoch   95/ 100] [Batch    5/   9] Loss:  1.46e-03\n",
            "[Epoch   95/ 100] [Batch    6/   9] Loss:  1.63e-03\n",
            "[Epoch   95/ 100] [Batch    7/   9] Loss:  1.50e-03\n",
            "[Epoch   95/ 100] [Batch    8/   9] Loss:  1.82e-03\n",
            "[Epoch   95/ 100] [Batch    9/   9] Loss:  1.63e-03\n",
            "[Epoch   96/ 100] [Batch    1/   9] Loss:  2.01e-03\n",
            "[Epoch   96/ 100] [Batch    2/   9] Loss:  1.58e-03\n",
            "[Epoch   96/ 100] [Batch    3/   9] Loss:  1.28e-03\n",
            "[Epoch   96/ 100] [Batch    4/   9] Loss:  1.30e-03\n",
            "[Epoch   96/ 100] [Batch    5/   9] Loss:  1.47e-03\n",
            "[Epoch   96/ 100] [Batch    6/   9] Loss:  1.91e-03\n",
            "[Epoch   96/ 100] [Batch    7/   9] Loss:  1.39e-03\n",
            "[Epoch   96/ 100] [Batch    8/   9] Loss:  1.63e-03\n",
            "[Epoch   96/ 100] [Batch    9/   9] Loss:  1.54e-03\n",
            "[Epoch   97/ 100] [Batch    1/   9] Loss:  1.69e-03\n",
            "[Epoch   97/ 100] [Batch    2/   9] Loss:  1.39e-03\n",
            "[Epoch   97/ 100] [Batch    3/   9] Loss:  1.66e-03\n",
            "[Epoch   97/ 100] [Batch    4/   9] Loss:  1.57e-03\n",
            "[Epoch   97/ 100] [Batch    5/   9] Loss:  1.53e-03\n",
            "[Epoch   97/ 100] [Batch    6/   9] Loss:  1.78e-03\n",
            "[Epoch   97/ 100] [Batch    7/   9] Loss:  1.51e-03\n",
            "[Epoch   97/ 100] [Batch    8/   9] Loss:  1.56e-03\n",
            "[Epoch   97/ 100] [Batch    9/   9] Loss:  1.04e-03\n",
            "[Epoch   98/ 100] [Batch    1/   9] Loss:  1.97e-03\n",
            "[Epoch   98/ 100] [Batch    2/   9] Loss:  1.26e-03\n",
            "[Epoch   98/ 100] [Batch    3/   9] Loss:  1.59e-03\n",
            "[Epoch   98/ 100] [Batch    4/   9] Loss:  1.48e-03\n",
            "[Epoch   98/ 100] [Batch    5/   9] Loss:  1.69e-03\n",
            "[Epoch   98/ 100] [Batch    6/   9] Loss:  1.55e-03\n",
            "[Epoch   98/ 100] [Batch    7/   9] Loss:  1.50e-03\n",
            "[Epoch   98/ 100] [Batch    8/   9] Loss:  1.57e-03\n",
            "[Epoch   98/ 100] [Batch    9/   9] Loss:  1.51e-03\n",
            "[Epoch   99/ 100] [Batch    1/   9] Loss:  1.41e-03\n",
            "[Epoch   99/ 100] [Batch    2/   9] Loss:  1.47e-03\n",
            "[Epoch   99/ 100] [Batch    3/   9] Loss:  1.79e-03\n",
            "[Epoch   99/ 100] [Batch    4/   9] Loss:  1.81e-03\n",
            "[Epoch   99/ 100] [Batch    5/   9] Loss:  1.28e-03\n",
            "[Epoch   99/ 100] [Batch    6/   9] Loss:  1.95e-03\n",
            "[Epoch   99/ 100] [Batch    7/   9] Loss:  1.60e-03\n",
            "[Epoch   99/ 100] [Batch    8/   9] Loss:  1.27e-03\n",
            "[Epoch   99/ 100] [Batch    9/   9] Loss:  1.40e-03\n",
            "[Epoch  100/ 100] [Batch    1/   9] Loss:  1.79e-03\n",
            "[Epoch  100/ 100] [Batch    2/   9] Loss:  1.91e-03\n",
            "[Epoch  100/ 100] [Batch    3/   9] Loss:  1.53e-03\n",
            "[Epoch  100/ 100] [Batch    4/   9] Loss:  1.64e-03\n",
            "[Epoch  100/ 100] [Batch    5/   9] Loss:  1.82e-03\n",
            "[Epoch  100/ 100] [Batch    6/   9] Loss:  1.38e-03\n",
            "[Epoch  100/ 100] [Batch    7/   9] Loss:  1.26e-03\n",
            "[Epoch  100/ 100] [Batch    8/   9] Loss:  1.38e-03\n",
            "[Epoch  100/ 100] [Batch    9/   9] Loss:  1.28e-03\n"
          ]
        },
        {
          "data": {
            "text/plain": [
              "LinearModel(\n",
              "  (linear): Linear(in_features=1, out_features=1, bias=True)\n",
              ")"
            ]
          },
          "execution_count": 32,
          "metadata": {},
          "output_type": "execute_result"
        }
      ],
      "source": [
        "train_hist = {}\n",
        "train_hist['loss'] = []\n",
        "\n",
        "if input_dim == output_dim == 1:\n",
        "    train_hist['weight'] = []\n",
        "    train_hist['bias'] = []\n",
        "\n",
        "# Initialize training\n",
        "model.reset()\n",
        "model.train()\n",
        "\n",
        "for epoch in range(n_epochs):\n",
        "    for idx, batch in enumerate(train_loader):\n",
        "        optimizer.zero_grad()\n",
        "        loss = loss_fun(model.forward(batch[0]),  batch[1])\n",
        "        loss.backward()\n",
        "        optimizer.step()\n",
        "\n",
        "        train_hist['loss'].append(loss.item())\n",
        "        if input_dim == output_dim == 1:\n",
        "            train_hist['weight'].append(model.linear.weight.item())\n",
        "            train_hist['bias'].append(model.linear.bias.item())\n",
        "        \n",
        "        print('[Epoch %4d/%4d] [Batch %4d/%4d] Loss: % 2.2e' % (epoch + 1, n_epochs, \n",
        "                                                                idx + 1, len(train_loader), \n",
        "                                                                loss.item()))\n",
        "        \n",
        "model.eval()"
      ]
    },
    {
      "cell_type": "code",
      "execution_count": null,
      "metadata": {
        "id": "kLM09pB18ayW"
      },
      "outputs": [],
      "source": [
        "if input_dim == output_dim == 1:\n",
        "    n_test = 500\n",
        "    X_test = np.random.rand(n_test, input_dim)\n",
        "    y_pred = []\n",
        "\n",
        "    state_dict = model.state_dict()\n",
        "\n",
        "    for idx in range(len(train_hist['weight'])):\n",
        "        state_dict['linear.weight'] = torch.tensor([[train_hist['weight'][idx]]])\n",
        "        state_dict['linear.bias'] = torch.tensor([train_hist['bias'][idx]])\n",
        "        model.load_state_dict(state_dict)\n",
        "\n",
        "        y_pred.append(model.forward(torch.tensor(X_test.astype('f'))).detach().numpy())    "
      ]
    },
    {
      "cell_type": "code",
      "execution_count": null,
      "metadata": {
        "colab": {
          "base_uri": "https://localhost:8080/",
          "height": 286
        },
        "id": "Y9MjCeU38ayW",
        "outputId": "cc927988-5bff-4299-a06e-29fadc88f0b4"
      },
      "outputs": [
        {
          "data": {
            "image/png": "[encoded data removed]",
            "text/plain": [
              "<Figure size 1080x360 with 3 Axes>"
            ]
          },
          "metadata": {
            "needs_background": "light"
          },
          "output_type": "display_data"
        }
      ],
      "source": [
        "if input_dim == output_dim == 1:\n",
        "    fig = plt.figure(figsize=(15, 5))\n",
        "    fig.clf()\n",
        "    \n",
        "    ax = fig.add_subplot(1, 3, 1)\n",
        "    levels = np.logspace(np.log(np.min(loss_values)), np.log(np.max(loss_values)), 20)\n",
        "    ax.contourf(ww, bb, loss_values, levels=levels, norm=colors.LogNorm())\n",
        "    ax.plot(train_hist['weight'], train_hist['bias'], '.-b')\n",
        "    ax.plot(A[0], b, 'r*', markersize=10)\n",
        "    ax.set_xlabel('weight')\n",
        "    ax.set_ylabel('bias')\n",
        "    #ax.legend(['optim', '(A, b)'])\n",
        "    ax.grid(True)\n",
        "    ax.set_xlim(-2, 2) \n",
        "    ax.set_ylim(-2, 2) \n",
        "    \n",
        "    ax = fig.add_subplot(1, 3, 2)\n",
        "    ax.loglog(np.abs(train_hist['loss']))\n",
        "    ax.set_xlabel('Iter')\n",
        "    ax.set_ylabel('Loss')\n",
        "    ax.grid(True)\n",
        "    \n",
        "    ax = fig.add_subplot(1, 3, 3)\n",
        "    ax.plot(X_train, y_train, '.')\n",
        "    a=ax.plot(X_test, y_pred[0], '-', alpha=0.1)\n",
        "    for y in y_pred[1:]:\n",
        "        ax.plot(X_test, y, '-', alpha=0.1, color=a[0].get_color())\n",
        "    ax.plot(X_test, y_pred[-1], 'k')\n",
        "    ax.grid(True)   \n",
        "\n",
        "    fig.tight_layout()\n",
        "\n",
        "else:\n",
        "    fig = plt.figure()\n",
        "    fig.clf()\n",
        "    ax = fig.gca()\n",
        "    ax.loglog(np.abs(train_hist['loss']))\n",
        "    ax.set_xlabel('Iter')\n",
        "    ax.set_ylabel('Loss')\n",
        "    ax.grid(True)"
      ]
    }
  ],
  "metadata": {
    "colab": {
      "provenance": []
    },
    "kernelspec": {
      "display_name": "Python 3.8.13 ('rtd')",
      "language": "python",
      "name": "python3"
    },
    "language_info": {
      "codemirror_mode": {
        "name": "ipython",
        "version": 3
      },
      "file_extension": ".py",
      "mimetype": "text/x-python",
      "name": "python",
      "nbconvert_exporter": "python",
      "pygments_lexer": "ipython3",
      "version": "3.8.13"
    },
    "vscode": {
      "interpreter": {
        "hash": "bcfaf3da971f87b91721743b1e9712a94e5baf8041af4e0a049618a6443e430e"
      }
    }
  },
  "nbformat": 4,
  "nbformat_minor": 0
}
