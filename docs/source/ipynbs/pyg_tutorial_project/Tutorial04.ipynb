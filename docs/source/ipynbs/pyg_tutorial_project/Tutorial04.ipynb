{
  "cells": [
    {
      "cell_type": "markdown",
      "metadata": {
        "id": "NIWYDjc_8axi"
      },
      "source": [
        "# Tutorial 4: Convolutional Layers - Spectral methods"
      ]
    },
    {
      "cell_type": "markdown",
      "metadata": {
        "id": "5u3o0GJV8axk"
      },
      "source": [
        "## Outline"
      ]
    },
    {
      "cell_type": "markdown",
      "metadata": {
        "id": "-2OZTems8axk"
      },
      "source": [
        "- Why convolution in ML\n",
        "- Some theory on convolution\n",
        "- Convolution on graphs\n",
        "- Spectral-convolutional layers in PyTorch Geometric"
      ]
    },
    {
      "cell_type": "code",
      "execution_count": null,
      "metadata": {
        "colab": {
          "base_uri": "https://localhost:8080/"
        },
        "id": "X6tK6a828axk",
        "outputId": "a8ce5292-edb3-409b-a969-1022cb63b926"
      },
      "outputs": [
        {
          "name": "stdout",
          "output_type": "stream",
          "text": [
            "1.12.1+cu113\n",
            "\u001b[K     |████████████████████████████████| 7.9 MB 5.5 MB/s \n",
            "\u001b[K     |████████████████████████████████| 3.5 MB 5.7 MB/s \n",
            "\u001b[?25h  Building wheel for torch-geometric (setup.py) ... \u001b[?25l\u001b[?25hdone\n"
          ]
        }
      ],
      "source": [
        "import os\n",
        "import torch\n",
        "os.environ['TORCH'] = torch.__version__\n",
        "print(torch.__version__)\n",
        "\n",
        "!pip install -q torch-scatter -f https://data.pyg.org/whl/torch-${TORCH}.html\n",
        "!pip install -q torch-sparse -f https://data.pyg.org/whl/torch-${TORCH}.html\n",
        "!pip install -q git+https://github.com/pyg-team/pytorch_geometric.git"
      ]
    },
    {
      "cell_type": "markdown",
      "metadata": {
        "id": "Uij06Tnh8axl"
      },
      "source": [
        "## Imports"
      ]
    },
    {
      "cell_type": "code",
      "execution_count": null,
      "metadata": {
        "id": "uEY6TQ1r8axl"
      },
      "outputs": [],
      "source": [
        "import numpy as np\n",
        "import matplotlib.pyplot as plt\n",
        "plt.rcParams.update({'font.size': 16})"
      ]
    },
    {
      "cell_type": "markdown",
      "metadata": {
        "id": "CCYocuBD8axl"
      },
      "source": [
        "## Why convolution in ML"
      ]
    },
    {
      "cell_type": "markdown",
      "metadata": {
        "id": "RS4mumjs8axo"
      },
      "source": [
        "- Weight sharing\n",
        "- Detection of translational invariant and local features"
      ]
    },
    {
      "cell_type": "markdown",
      "metadata": {
        "id": "7Deek8Oi8axo"
      },
      "source": [
        "![fully_connected](https://github.com/AntonioLonga/PytorchGeometricTutorial/blob/main/Tutorial4/fig/fully_connected.png?raw=1)\n",
        "[Source](https://missinglink.ai/guides/convolutional-neural-networks/fully-connected-layers-convolutional-neural-networks-complete-guide/)"
      ]
    },
    {
      "cell_type": "markdown",
      "metadata": {
        "id": "TOnF2htA8axp"
      },
      "source": [
        "![cnn.gif](https://github.com/AntonioLonga/PytorchGeometricTutorial/blob/main/Tutorial4/fig/cnn.gif?raw=1)\n",
        "[Source](https://commons.wikimedia.org/wiki/File:Convolutional_Neural_Network.gif)"
      ]
    },
    {
      "cell_type": "markdown",
      "metadata": {
        "id": "9IM4PRpl8axp"
      },
      "source": [
        "![Convolution.png](https://github.com/AntonioLonga/PytorchGeometricTutorial/blob/main/Tutorial4/fig/Convolution.png?raw=1)\n",
        "[Source](https://commons.wikimedia.org/wiki/File:Convolution.PNG)"
      ]
    },
    {
      "cell_type": "markdown",
      "metadata": {
        "id": "BWEdLIN38axp"
      },
      "source": [
        "## Some theory on convolution"
      ]
    },
    {
      "cell_type": "markdown",
      "metadata": {
        "id": "ftMUCchA8axp"
      },
      "source": [
        "![Convolution_of_box_signal_with_itself2.gif](https://github.com/AntonioLonga/PytorchGeometricTutorial/blob/main/Tutorial4/fig/Convolution_of_box_signal_with_itself2.gif?raw=1)\n",
        "[Source](https://en.wikipedia.org/wiki/File:Convolution_of_box_signal_with_itself2.gif)"
      ]
    },
    {
      "cell_type": "markdown",
      "metadata": {
        "id": "JT5fuDC58axp"
      },
      "source": [
        "### Definition"
      ]
    },
    {
      "cell_type": "markdown",
      "metadata": {
        "id": "V-NMRH2H8axp"
      },
      "source": [
        "\\begin{align*}\n",
        "c[n] = (v * w)[n] = \\sum_{m=0}^{N-1} v[m] \\cdot w[n-m]\n",
        "\\end{align*}"
      ]
    },
    {
      "cell_type": "code",
      "execution_count": null,
      "metadata": {
        "id": "YF7Dcnk38axp"
      },
      "outputs": [],
      "source": [
        "def conv(v, w):\n",
        "    c = np.zeros(v.shape)\n",
        "    for n in range(len(v)):\n",
        "        c[n] = 0\n",
        "        for m in range(len(v)):\n",
        "            c[n] += v[m] * w[n - m]  \n",
        "    return c"
      ]
    },
    {
      "cell_type": "code",
      "execution_count": null,
      "metadata": {
        "colab": {
          "base_uri": "https://localhost:8080/",
          "height": 270
        },
        "id": "2sWqH9ig8axq",
        "outputId": "9217488e-5a00-4ccb-cf52-5fe408b781ef"
      },
      "outputs": [
        {
          "data": {
            "image/png": "[encoded data removed]",
            "text/plain": [
              "<Figure size 432x288 with 1 Axes>"
            ]
          },
          "metadata": {
            "needs_background": "light"
          },
          "output_type": "display_data"
        }
      ],
      "source": [
        "N = 20\n",
        "v = np.zeros(N)\n",
        "v[8:12] = 1\n",
        "w = np.zeros(N)\n",
        "w[1:5] = 1\n",
        "c = conv(v, w)\n",
        "\n",
        "fig = plt.figure()\n",
        "ax = fig.gca()\n",
        "ax.plot(v, '.-')\n",
        "ax.plot(w, '.-')\n",
        "ax.plot(c, '.-')\n",
        "ax.legend(['v', 'w', 'c'])\n",
        "ax.grid(True)"
      ]
    },
    {
      "cell_type": "markdown",
      "metadata": {
        "id": "yu6Jv4bs8axq"
      },
      "source": [
        "### Fourier transform"
      ]
    },
    {
      "cell_type": "markdown",
      "metadata": {
        "id": "eHbgk6rG8axq"
      },
      "source": [
        "Transformation $\\mathcal F: \\mathbb{R}^N \\to \\mathbb{R}^N$ with\n",
        "\n",
        "\\begin{align*}\n",
        "\\mathcal F^{-1}(\\mathcal F (v)) &= v\\\\\n",
        "\\mathcal F(v * w) &= \\mathcal F(v) \\cdot \\mathcal F(w).\n",
        "\\end{align*}"
      ]
    },
    {
      "cell_type": "markdown",
      "metadata": {
        "id": "ofeepyWq8axq"
      },
      "source": [
        "This implies\n",
        "\\begin{align*}\n",
        "v * w &= \\mathcal F^{-1}(\\mathcal F (v * w))\\\\\n",
        "&= \\mathcal F^{-1}(\\mathcal F(v) \\cdot \\mathcal F(w))\n",
        "\\end{align*}"
      ]
    },
    {
      "cell_type": "code",
      "execution_count": null,
      "metadata": {
        "colab": {
          "base_uri": "https://localhost:8080/"
        },
        "id": "CnxRxAvz8axq",
        "outputId": "b2241255-da16-4ac9-c470-e8808d6caac5"
      },
      "outputs": [
        {
          "data": {
            "text/plain": [
              "array([3.71066741, 2.82560427, 3.60638731, 3.31932246, 3.04970839,\n",
              "       3.02831807, 3.39914657, 3.41759529, 4.00571303, 3.43251439,\n",
              "       3.76970824, 3.84467728, 3.81935431, 3.73835745, 3.81441997,\n",
              "       4.22630189, 3.84332602, 3.45189449, 3.26571067, 3.43742144])"
            ]
          },
          "execution_count": 5,
          "metadata": {},
          "output_type": "execute_result"
        }
      ],
      "source": [
        "v, w = np.random.rand(N), np.random.rand(N)\n",
        "conv(v, w)"
      ]
    },
    {
      "cell_type": "code",
      "execution_count": null,
      "metadata": {
        "colab": {
          "base_uri": "https://localhost:8080/"
        },
        "id": "KzFEhT9x8axq",
        "outputId": "16ba7385-d0e9-4b45-a70a-4e6876bdb9e9"
      },
      "outputs": [
        {
          "data": {
            "text/plain": [
              "array([3.71066741, 2.82560427, 3.60638731, 3.31932246, 3.04970839,\n",
              "       3.02831807, 3.39914657, 3.41759529, 4.00571303, 3.43251439,\n",
              "       3.76970824, 3.84467728, 3.81935431, 3.73835745, 3.81441997,\n",
              "       4.22630189, 3.84332602, 3.45189449, 3.26571067, 3.43742144])"
            ]
          },
          "execution_count": 6,
          "metadata": {},
          "output_type": "execute_result"
        }
      ],
      "source": [
        "from scipy.fft import fft, ifft # Fast Fourier Transform / Inverse FFT\n",
        "np.abs(ifft(fft(v) * fft(w)))"
      ]
    },
    {
      "cell_type": "markdown",
      "metadata": {
        "id": "v0HEe8Ns8axq"
      },
      "source": [
        "### Definition of the Fourier transform"
      ]
    },
    {
      "cell_type": "markdown",
      "metadata": {
        "id": "ym5yIay18axr"
      },
      "source": [
        "The Fourier transform can be computed as\n",
        "\n",
        "\\begin{align*}\n",
        "\\mathcal F(v) = U\\cdot v, \\;\\;\\mathcal F^{-1}(v) = \\frac{1}{N}\\ U^H \\cdot v\n",
        "\\end{align*}\n",
        "\n",
        "where the $N\\times N$ matrix $U$ is defined as\n",
        "\\begin{align*}\n",
        "\\\\\n",
        "U = \n",
        "\\begin{bmatrix}\n",
        "u_0(0) & u_1(0) & \\dots & u_{N-1}(0)\\\\\n",
        "u_0(1) & u_1(1) & \\dots & u_{N-1}(1)\\\\\n",
        "\\vdots & \\vdots& & \\vdots\\\\\n",
        "u_0(N-1) & u_1(N-1) & \\dots & u_{N-1}(N-1)\\\\\n",
        "\\end{bmatrix} \n",
        "\\end{align*}\n",
        "\n",
        "and $u_0, \\dots, u_{N-1}$ are functions defined as\n",
        "\n",
        "\\begin{align*}\n",
        "u_n(x)&:= \\cos\\left(2 \\pi \\frac{n}{N} x\\right) - i \\sin\\left(2 \\pi \\frac{n}{N} x\\right).\n",
        "\\end{align*}"
      ]
    },
    {
      "cell_type": "code",
      "execution_count": null,
      "metadata": {
        "id": "XOKCzPCc8axr"
      },
      "outputs": [],
      "source": [
        "def matrix_U(N):\n",
        "    u = lambda n, N: np.cos(2 * np.pi / N * n * np.arange(N)) - 1j * np.sin(2 * np.pi / N * n * np.arange(N))\n",
        "    U = np.empty((N, 0))\n",
        "    for n in range(N):\n",
        "        U = np.c_[U, u(n, N)]\n",
        "    return U\n",
        "\n",
        "\n",
        "def fourier_transform(v):\n",
        "    N = v.shape[0]\n",
        "    U = matrix_U(N)\n",
        "    return U @ v\n",
        "\n",
        "\n",
        "def inverse_fourier_transform(v):\n",
        "    N = v.shape[0]\n",
        "    U = matrix_U(N)\n",
        "    return (U.conj().transpose() @ v) / N"
      ]
    },
    {
      "cell_type": "code",
      "execution_count": null,
      "metadata": {
        "colab": {
          "base_uri": "https://localhost:8080/"
        },
        "id": "dT-ndV3G8axr",
        "outputId": "c49768de-f1ab-4e07-9965-5efdea716deb"
      },
      "outputs": [
        {
          "data": {
            "text/plain": [
              "array([-1.77635684e-15-0.00000000e+00j,  0.00000000e+00+2.77555756e-16j,\n",
              "        4.44089210e-16-3.33066907e-16j,  1.11022302e-16+6.66133815e-16j,\n",
              "        3.88578059e-16-3.33066907e-16j,  5.55111512e-15+1.22124533e-15j,\n",
              "       -2.10942375e-15-9.99200722e-16j, -3.55271368e-15+2.22044605e-15j,\n",
              "        4.44089210e-16+1.55431223e-15j, -4.10782519e-15+2.77555756e-15j,\n",
              "       -8.88178420e-16+3.00350636e-15j,  1.44328993e-15+1.22124533e-15j,\n",
              "        1.33226763e-15-1.33226763e-15j, -5.99520433e-15-4.21884749e-15j,\n",
              "       -1.27675648e-15+1.05471187e-15j,  0.00000000e+00+4.88498131e-15j,\n",
              "       -1.38777878e-15+1.11022302e-16j, -5.88418203e-15-1.31006317e-14j,\n",
              "        3.83026943e-15+3.83026943e-15j, -5.77315973e-15-7.21644966e-16j])"
            ]
          },
          "execution_count": 8,
          "metadata": {},
          "output_type": "execute_result"
        }
      ],
      "source": [
        "fft(v) - fourier_transform(v)"
      ]
    },
    {
      "cell_type": "code",
      "execution_count": null,
      "metadata": {
        "colab": {
          "base_uri": "https://localhost:8080/"
        },
        "id": "uUJtjncZ8axr",
        "outputId": "e3da4cf6-93fb-4e4e-d9d3-4c13d97f6b6b"
      },
      "outputs": [
        {
          "data": {
            "text/plain": [
              "array([ 0.00000000e+00-0.00000000e+00j,  2.77555756e-17-5.20417043e-18j,\n",
              "        2.90566182e-17+2.25514052e-17j, -3.46944695e-18-4.16333634e-17j,\n",
              "        2.08166817e-17+2.77555756e-17j,  2.77555756e-16-5.55111512e-17j,\n",
              "       -1.04083409e-16+4.51028104e-17j, -1.80411242e-16-1.00613962e-16j,\n",
              "        2.08166817e-17-7.63278329e-17j, -1.90819582e-16-1.52655666e-16j,\n",
              "       -4.16333634e-17-1.50175318e-16j,  5.20417043e-17-4.85722573e-17j,\n",
              "        6.24500451e-17+6.24500451e-17j, -2.91433544e-16+2.04697370e-16j,\n",
              "       -6.41847686e-17-5.55111512e-17j,  0.00000000e+00-2.42861287e-16j,\n",
              "       -6.93889390e-17+6.93889390e-18j, -2.81025203e-16+6.66133815e-16j,\n",
              "        1.98408998e-16-1.89084859e-16j, -2.91433544e-16+5.03069808e-17j])"
            ]
          },
          "execution_count": 9,
          "metadata": {},
          "output_type": "execute_result"
        }
      ],
      "source": [
        "ifft(v) - inverse_fourier_transform(v)"
      ]
    },
    {
      "cell_type": "markdown",
      "metadata": {
        "id": "0UKHMdPO8axr"
      },
      "source": [
        "### Connection with the Laplacian"
      ]
    },
    {
      "cell_type": "markdown",
      "metadata": {
        "id": "ac8Vjjlt8axr"
      },
      "source": [
        "The functions $u_n$ (the columns of the Fourier transform matrix) are eigenvectors of the Laplacian:\n",
        "\n",
        "\\begin{align*}\n",
        "u_n(x)&:= \\cos\\left(2 \\pi \\frac{n}{N} x\\right) - i \\sin\\left(2 \\pi \\frac{n}{N} x\\right)\\\\\n",
        "\\Delta u_n(x)&:= \\left(-4 \\pi ^ 2\\frac{n^2}{N^2}\\right) u_n(x)\n",
        "\\end{align*}"
      ]
    },
    {
      "cell_type": "markdown",
      "metadata": {
        "id": "pcZ6wUNA8axr"
      },
      "source": [
        "### Summary"
      ]
    },
    {
      "cell_type": "markdown",
      "metadata": {
        "id": "3VCvqZXq8axr"
      },
      "source": [
        "\\begin{align*}\n",
        "v * w \n",
        "= U^H ((U  w) \\odot (U  v))\n",
        "\\end{align*}\n",
        "\n",
        "or if $g_w=\\mbox{diag}(U w)$ is  filter\n",
        "\\begin{align*}\n",
        "v * w \n",
        "= U^H g_w U  w\n",
        "\\end{align*}"
      ]
    },
    {
      "cell_type": "code",
      "execution_count": null,
      "metadata": {
        "colab": {
          "base_uri": "https://localhost:8080/"
        },
        "id": "Y8ajzvwd8axr",
        "outputId": "ac50872f-62aa-4b96-e805-02a7a0f5070e"
      },
      "outputs": [
        {
          "data": {
            "text/plain": [
              "array([3.71066741, 2.82560427, 3.60638731, 3.31932246, 3.04970839,\n",
              "       3.02831807, 3.39914657, 3.41759529, 4.00571303, 3.43251439,\n",
              "       3.76970824, 3.84467728, 3.81935431, 3.73835745, 3.81441997,\n",
              "       4.22630189, 3.84332602, 3.45189449, 3.26571067, 3.43742144])"
            ]
          },
          "execution_count": 10,
          "metadata": {},
          "output_type": "execute_result"
        }
      ],
      "source": [
        "U = matrix_U(N)\n",
        "np.abs((U.conj().transpose() / N) @ ((U @ v) * (U @ w)))"
      ]
    },
    {
      "cell_type": "code",
      "execution_count": null,
      "metadata": {
        "colab": {
          "base_uri": "https://localhost:8080/"
        },
        "id": "EgKXilu08axr",
        "outputId": "dea26404-c11e-4684-fac3-4e67ac3c1c49"
      },
      "outputs": [
        {
          "data": {
            "text/plain": [
              "array([3.71066741, 2.82560427, 3.60638731, 3.31932246, 3.04970839,\n",
              "       3.02831807, 3.39914657, 3.41759529, 4.00571303, 3.43251439,\n",
              "       3.76970824, 3.84467728, 3.81935431, 3.73835745, 3.81441997,\n",
              "       4.22630189, 3.84332602, 3.45189449, 3.26571067, 3.43742144])"
            ]
          },
          "execution_count": 11,
          "metadata": {},
          "output_type": "execute_result"
        }
      ],
      "source": [
        "conv(v, w)"
      ]
    },
    {
      "cell_type": "markdown",
      "metadata": {
        "id": "xbSx8kBT8axr"
      },
      "source": [
        "## Convolution on graphs"
      ]
    },
    {
      "cell_type": "markdown",
      "metadata": {
        "id": "U3W6fgWX8axs"
      },
      "source": [
        "**Plan**:\n",
        "    - Define the graph Laplacian\n",
        "    - Compute the spectrum\n",
        "    - Define a Fourier transform\n",
        "    - Define convolution on a graph"
      ]
    },
    {
      "cell_type": "markdown",
      "metadata": {
        "id": "LE2OveUa8axs"
      },
      "source": [
        "**Note:** From now on $G = (V, E)$ is an undirected, unweighted, simple graph."
      ]
    },
    {
      "cell_type": "markdown",
      "metadata": {
        "id": "_AlfTJRX8axt"
      },
      "source": [
        "### Graph Laplacian"
      ]
    },
    {
      "cell_type": "markdown",
      "metadata": {
        "id": "Vsi1Mfrd8axt"
      },
      "source": [
        "Adjacency matrix\n",
        "\\begin{align*}\n",
        "A_{ij} = \\left\\{\n",
        "\\begin{array}{ll}\n",
        "1 &\\text{ if } e_{ij}\\in E\\\\\n",
        "0 &\\text{ if } e_{ij}\\notin E\n",
        "\\end{array}\n",
        "\\right.\n",
        "\\end{align*}\n",
        "\n",
        "Degree matrix\n",
        "\\begin{align*}\n",
        "D_{ij} = \\left\\{\n",
        "\\begin{array}{ll}\n",
        "\\mbox{deg}(v_i) &\\text{ if } i=j\\\\\n",
        "0 &\\text{ if } i\\neq j\n",
        "\\end{array}\n",
        "\\right.\n",
        "\\end{align*}\n",
        "\n",
        "Laplacian\n",
        "\\begin{align*}\n",
        "L &= D - A.\n",
        "\\end{align*}\n",
        "\n",
        "Normalized Laplacian\n",
        "\\begin{align*}\n",
        "L &= I - D^{-1/2} A D^{-1/2}.\n",
        "\\end{align*}"
      ]
    },
    {
      "cell_type": "markdown",
      "metadata": {
        "id": "hHCeEj4p8axu"
      },
      "source": [
        "### Graph spectrum, Fourier transform, and convolution"
      ]
    },
    {
      "cell_type": "markdown",
      "metadata": {
        "id": "7kWkfega8axu"
      },
      "source": [
        "1. Spectral decomposition of the Laplacian:\n",
        "\\begin{align*}\n",
        "L = U \\Lambda U^T\\\\\n",
        "\\end{align*}\n",
        "\n",
        "\n",
        "2. Fourier transform: if $v$ is a vector of features on the graph, then\n",
        "\\begin{align*}\n",
        "\\mathcal F (v) = U \\cdot v, \\;\\;\\mathcal F^{-1} (v) = U^T \\cdot v\\\\\n",
        "\\end{align*}\n",
        "\n",
        "\n",
        "3. Convolution with a filter $U \\cdot w$\n",
        "\\begin{align*}\n",
        "v * w = U ((U^T  w) \\odot (U^T  v) )\n",
        "\\end{align*}\n",
        "\n",
        "\n",
        "Or $g_w = \\mbox{diag}(U^T w)$ is a filter, then\n",
        "\\begin{align*}\n",
        "v * w = U g_w U^T  v\n",
        "\\end{align*}\n"
      ]
    },
    {
      "cell_type": "markdown",
      "metadata": {
        "id": "WYI4FZwb8axu"
      },
      "source": [
        "## Spectral-convolutional layers in PyTorch Geometric"
      ]
    },
    {
      "cell_type": "markdown",
      "metadata": {
        "id": "eb2yw-y88axu"
      },
      "source": [
        "**Problem:** Computing the spectrum is a global and very expensive property.\n",
        "\n",
        "**Goal:** Implementation as message passing."
      ]
    },
    {
      "cell_type": "markdown",
      "metadata": {
        "id": "OtBpXEG58axu"
      },
      "source": [
        "### ChebConv"
      ]
    },
    {
      "cell_type": "markdown",
      "metadata": {
        "id": "Zu56UDeI8axv"
      },
      "source": [
        "- Original [paper](https://arxiv.org/pdf/1606.09375.pdf)\n",
        "- PyTorch [doc](https://pytorch-geometric.readthedocs.io/en/latest/modules/nn.html#torch_geometric.nn.conv.ChebConv)"
      ]
    },
    {
      "cell_type": "markdown",
      "metadata": {
        "id": "uLXt5loD8axv"
      },
      "source": [
        "#### Goal: \n",
        "Compute $U g_w U^T x$ with $g_w = g_w(\\Lambda)$ a filter."
      ]
    },
    {
      "cell_type": "markdown",
      "metadata": {
        "id": "lbzajFvn8axv"
      },
      "source": [
        "#### Chebyshev approximation\n",
        "\n",
        "Chebyshev polynomials $T_k$:\n",
        "\\begin{align*}\n",
        "T_{k}(x) = 2 x T_{k-1}(x) - T_{k-2}(x), \\;\\; T_0(x) = 1, T_1(x) = x\n",
        "\\end{align*}\n",
        "\n",
        "#### Chebyshev approximation of the filter\n",
        "Aproximation of the filter:\n",
        "\\begin{align*}\n",
        "g_w(\\Lambda) = \\sum_{k=0}^K \\theta_k T_k(\\tilde \\Lambda),\\;\\;\\;\\;\\tilde \\Lambda = \\frac{2}{\\lambda_\\max} \\Lambda - I\n",
        "\\end{align*}\n",
        "\n",
        "\n",
        "#### Property\n",
        "If $L = U \\Lambda U^T$ then $T_k(L) = U T_k(\\Lambda) U^T$.\n"
      ]
    },
    {
      "cell_type": "markdown",
      "metadata": {
        "id": "1IlrOYf28axv"
      },
      "source": [
        "#### Fast approximated convolution \n",
        "\\begin{align*}\n",
        "v * w &= U g_w U^T x\n",
        "= U \\left(\\sum_{k=0}^K \\theta_k T_k(\\tilde \\Lambda) \\right)U^T x\n",
        "=\\sum_{k=0}^K  \\theta_k U  T_k(\\tilde \\Lambda) U^T x\\\\ \n",
        "&=\\sum_{k=0}^K  \\theta_k T_k(\\tilde L) x \n",
        "\\end{align*}\n",
        "\n",
        "\\begin{align*}\n",
        "\\tilde L = \\frac{2}{\\lambda_\\max} L - I\n",
        "\\end{align*}"
      ]
    },
    {
      "cell_type": "markdown",
      "metadata": {
        "id": "G4NdHSAs8axv"
      },
      "source": [
        "#### Properties:\n",
        "- Depends on $L$ and $\\lambda_\\max$, not on $U, \\Sigma$\n",
        "- Uses only $K$-powers $\\Rightarrow$ only the $K$-th neighborhood of each node, localized filter"
      ]
    },
    {
      "cell_type": "markdown",
      "metadata": {
        "id": "8Wi-y6Iq8axv"
      },
      "source": [
        "**As message passing:**\n",
        "![cheb_init.png](https://github.com/AntonioLonga/PytorchGeometricTutorial/blob/main/Tutorial4/fig/cheb_init.png?raw=1)\n",
        "\n",
        "![cheb_norm.png](https://github.com/AntonioLonga/PytorchGeometricTutorial/blob/main/Tutorial4/fig/cheb_norm.png?raw=1)\n",
        "\n",
        "![cheb_forward.png](https://github.com/AntonioLonga/PytorchGeometricTutorial/blob/main/Tutorial4/fig/cheb_forward.png?raw=1)\n",
        "\n",
        "![cheb_message.png](https://github.com/AntonioLonga/PytorchGeometricTutorial/blob/main/Tutorial4/fig/cheb_message.png?raw=1)"
      ]
    },
    {
      "cell_type": "markdown",
      "metadata": {
        "id": "HO9fcJ1N8axv"
      },
      "source": [
        "### GCNConv"
      ]
    },
    {
      "cell_type": "markdown",
      "metadata": {
        "id": "b1KDf_zw8axv"
      },
      "source": [
        "- Original [paper](https://arxiv.org/pdf/1609.02907.pdf)\n",
        "- PyTorch [doc](https://pytorch-geometric.readthedocs.io/en/latest/modules/nn.html#torch_geometric.nn.conv.GCNConv)"
      ]
    },
    {
      "cell_type": "markdown",
      "metadata": {
        "id": "lDrJuJid8axv"
      },
      "source": [
        "Start from `ChebConv` and assume \n",
        "1. $K=1$ (linear approximation) so\n",
        "\\begin{align*}\n",
        "v * w \n",
        "&=\\sum_{k=0}^1  \\theta_k T_k(\\tilde L) x\n",
        "= \\theta_0 x + \\theta_1 \\tilde L x\\\\\n",
        "\\end{align*}\n",
        "\n",
        "2. $\\lambda_\\max =2$ so\n",
        "\\begin{align*}\n",
        "v * w \n",
        "&= \\theta_0 x + \\theta_1 (L - I) x\\\\\n",
        "&= \\theta_0 x - \\theta_1 D^{-1/2} A D^{1/2} x\\\\\n",
        "\\end{align*}\n",
        "\n",
        "\n",
        "3. $\\theta_0=-\\theta_1= \\theta$ so \n",
        "\\begin{align*}\n",
        "v * w = \\left(I + D^{-1/2} A D^{1/2}\\right) x \\theta\n",
        "\\end{align*}\n",
        "\n",
        "4. Renormalization of $\\theta$ by using \n",
        "\\begin{align*}\n",
        "\\tilde A&:= I + A\\\\\n",
        "\\tilde D_{ii}&:= \\sum_j \\tilde A_{ij}\n",
        "\\end{align*}\n",
        "so \n",
        "\\begin{align*}\n",
        "v * w = \\left(D^{-1/2} A D^{1/2}\\right) x \\theta\n",
        "\\end{align*}\n",
        "\n",
        "If $x$ is a $F$-dimensional feature vector, and we want an $F'$-dimensional feature vector as output:\n",
        "use $W'\\in \\mathbb{R}^{F\\times F'}$\n",
        "\\begin{align*}\n",
        "v * w = \\left(D^{-1/2} A D^{1/2}\\right) x \\Theta\n",
        "\\end{align*}\n"
      ]
    },
    {
      "cell_type": "markdown",
      "metadata": {
        "id": "SK0M1Q1U8axv"
      },
      "source": [
        "Nodewise:\n",
        "    ![image.png](https://github.com/AntonioLonga/PytorchGeometricTutorial/blob/main/Tutorial4/fig/gcn_nodewise.png?raw=1)"
      ]
    },
    {
      "cell_type": "markdown",
      "metadata": {
        "id": "6mQ0Oxuc8axv"
      },
      "source": [
        "#### As message passing\n",
        "See Tutorial3"
      ]
    }
  ],
  "metadata": {
    "colab": {
      "provenance": []
    },
    "kernelspec": {
      "display_name": "Python 3.8.13 ('rtd')",
      "language": "python",
      "name": "python3"
    },
    "language_info": {
      "codemirror_mode": {
        "name": "ipython",
        "version": 3
      },
      "file_extension": ".py",
      "mimetype": "text/x-python",
      "name": "python",
      "nbconvert_exporter": "python",
      "pygments_lexer": "ipython3",
      "version": "3.8.13"
    },
    "vscode": {
      "interpreter": {
        "hash": "bcfaf3da971f87b91721743b1e9712a94e5baf8041af4e0a049618a6443e430e"
      }
    }
  },
  "nbformat": 4,
  "nbformat_minor": 0
}
